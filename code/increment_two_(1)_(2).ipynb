{
  "nbformat": 4,
  "nbformat_minor": 0,
  "metadata": {
    "colab": {
      "provenance": [],
      "collapsed_sections": [
        "3pFo2tAH4d86",
        "HssS-rm3DXtb"
      ]
    },
    "kernelspec": {
      "name": "python3",
      "display_name": "Python 3"
    },
    "language_info": {
      "name": "python"
    }
  },
  "cells": [
    {
      "cell_type": "markdown",
      "source": [
        "#Libraries"
      ],
      "metadata": {
        "id": "YIBlMs204yE1"
      }
    },
    {
      "cell_type": "code",
      "execution_count": null,
      "metadata": {
        "id": "XqCqALz_Qhsd"
      },
      "outputs": [],
      "source": [
        "import pandas as pd\n",
        "import matplotlib.pyplot as plt\n",
        "import seaborn as sns\n",
        "import plotly.express as px\n",
        "import statistics as st \n",
        "import math as m\n",
        "from scipy.stats import sem\n",
        "from plotly.subplots import make_subplots\n",
        "import plotly.graph_objects as go\n",
        "from statsmodels.tsa.seasonal import DecomposeResult, seasonal_decompose\n"
      ]
    },
    {
      "cell_type": "markdown",
      "source": [
        "#Importing the Data "
      ],
      "metadata": {
        "id": "BP7bnFXO406u"
      }
    },
    {
      "cell_type": "code",
      "source": [
        "from google.colab import drive\n",
        "drive.mount('/content/drive')"
      ],
      "metadata": {
        "id": "GjWz_2f-jPze",
        "colab": {
          "base_uri": "https://localhost:8080/"
        },
        "outputId": "da91e123-3888-4edd-8dc5-0d8ff8d27cff"
      },
      "execution_count": null,
      "outputs": [
        {
          "output_type": "stream",
          "name": "stdout",
          "text": [
            "Mounted at /content/drive\n"
          ]
        }
      ]
    },
    {
      "cell_type": "code",
      "source": [
        "df=pd.read_csv(\"/content/drive/MyDrive/Graduation Project/Reema/Datasets/UC5 /cancer-death-rates-by-type.csv\")\n",
        "df"
      ],
      "metadata": {
        "id": "oVROSb5yRL4x",
        "colab": {
          "base_uri": "https://localhost:8080/",
          "height": 574
        },
        "outputId": "deae01a2-5eef-4f18-fa55-87cd99e6e8cf"
      },
      "execution_count": null,
      "outputs": [
        {
          "output_type": "execute_result",
          "data": {
            "text/plain": [
              "           Entity Code  Year   Prostate cancer    Breast cancer   \\\n",
              "0     Afghanistan  AFG  1990               6.49             7.31   \n",
              "1     Afghanistan  AFG  1991               6.47             7.29   \n",
              "2     Afghanistan  AFG  1992               6.47             7.30   \n",
              "3     Afghanistan  AFG  1993               6.48             7.38   \n",
              "4     Afghanistan  AFG  1994               6.48             7.47   \n",
              "...           ...  ...   ...                ...              ...   \n",
              "6835     Zimbabwe  ZWE  2015              22.83            15.88   \n",
              "6836     Zimbabwe  ZWE  2016              22.87            15.92   \n",
              "6837     Zimbabwe  ZWE  2017              22.87            15.90   \n",
              "6838     Zimbabwe  ZWE  2018              22.94            15.87   \n",
              "6839     Zimbabwe  ZWE  2019              22.94            15.84   \n",
              "\n",
              "      Uterine cancer    Bladder cancer   Cervical cancer    Kidney cancer   \\\n",
              "0                0.84             4.29               4.48             0.83   \n",
              "1                0.83             4.23               4.47             0.80   \n",
              "2                0.82             4.19               4.47             0.79   \n",
              "3                0.82             4.17               4.52             0.78   \n",
              "4                0.83             4.14               4.60             0.77   \n",
              "...               ...              ...                ...              ...   \n",
              "6835             3.30             8.83              19.38             0.90   \n",
              "6836             3.31             8.79              19.08             0.91   \n",
              "6837             3.30             8.76              18.71             0.92   \n",
              "6838             3.28             8.74              18.35             0.93   \n",
              "6839             3.28             8.73              18.09             0.93   \n",
              "\n",
              "      Stomach cancer  ...  Pancreatic cancer  \\\n",
              "0              31.99  ...               2.00   \n",
              "1              31.85  ...               1.95   \n",
              "2              31.79  ...               1.91   \n",
              "3              32.06  ...               1.89   \n",
              "4              32.50  ...               1.88   \n",
              "...              ...  ...                ...   \n",
              "6835           14.42  ...               7.41   \n",
              "6836           14.26  ...               7.60   \n",
              "6837           14.07  ...               7.76   \n",
              "6838           13.87  ...               7.93   \n",
              "6839           13.73  ...               8.06   \n",
              "\n",
              "      Tracheal, bronchus, and lung cancer   Lip and oral cavity cancer  \\\n",
              "0                                   14.07                         1.27   \n",
              "1                                   13.81                         1.26   \n",
              "2                                   13.59                         1.24   \n",
              "3                                   13.42                         1.24   \n",
              "4                                   13.25                         1.24   \n",
              "...                                   ...                          ...   \n",
              "6835                                14.84                         2.25   \n",
              "6836                                14.91                         2.26   \n",
              "6837                                14.95                         2.26   \n",
              "6838                                15.01                         2.27   \n",
              "6839                                15.06                         2.27   \n",
              "\n",
              "      Colon and rectum cancer   Gallbladder and biliary tract cancer   \\\n",
              "0                        7.87                                    2.61   \n",
              "1                        7.75                                    2.59   \n",
              "2                        7.65                                    2.57   \n",
              "3                        7.56                                    2.58   \n",
              "4                        7.43                                    2.59   \n",
              "...                       ...                                     ...   \n",
              "6835                    12.66                                    1.55   \n",
              "6836                    12.76                                    1.54   \n",
              "6837                    12.82                                    1.53   \n",
              "6838                    12.88                                    1.52   \n",
              "6839                    12.93                                    1.51   \n",
              "\n",
              "       Liver cancer   Larynx cancer   Ovarian cancer  Thyroid cancer  \\\n",
              "0              11.97            3.62            1.05            0.80   \n",
              "1              11.90            3.59            1.04            0.79   \n",
              "2              11.84            3.57            1.03            0.78   \n",
              "3              11.87            3.59            1.02            0.79   \n",
              "4              11.92            3.63            1.03            0.80   \n",
              "...              ...             ...             ...             ...   \n",
              "6835           14.72            2.29            4.04            1.06   \n",
              "6836           14.57            2.28            4.13            1.05   \n",
              "6837           14.38            2.27            4.23            1.05   \n",
              "6838           14.20            2.26            4.31            1.04   \n",
              "6839           14.03            2.25            4.36            1.03   \n",
              "\n",
              "      Brain and central nervous system cancer   \n",
              "0                                         4.51  \n",
              "1                                         4.45  \n",
              "2                                         4.41  \n",
              "3                                         4.44  \n",
              "4                                         4.47  \n",
              "...                                        ...  \n",
              "6835                                      1.14  \n",
              "6836                                      1.15  \n",
              "6837                                      1.16  \n",
              "6838                                      1.16  \n",
              "6839                                      1.16  \n",
              "\n",
              "[6840 rows x 25 columns]"
            ],
            "text/html": [
              "\n",
              "  <div id=\"df-d163d469-afc8-4d19-8498-287b4d984d32\">\n",
              "    <div class=\"colab-df-container\">\n",
              "      <div>\n",
              "<style scoped>\n",
              "    .dataframe tbody tr th:only-of-type {\n",
              "        vertical-align: middle;\n",
              "    }\n",
              "\n",
              "    .dataframe tbody tr th {\n",
              "        vertical-align: top;\n",
              "    }\n",
              "\n",
              "    .dataframe thead th {\n",
              "        text-align: right;\n",
              "    }\n",
              "</style>\n",
              "<table border=\"1\" class=\"dataframe\">\n",
              "  <thead>\n",
              "    <tr style=\"text-align: right;\">\n",
              "      <th></th>\n",
              "      <th>Entity</th>\n",
              "      <th>Code</th>\n",
              "      <th>Year</th>\n",
              "      <th>Prostate cancer</th>\n",
              "      <th>Breast cancer</th>\n",
              "      <th>Uterine cancer</th>\n",
              "      <th>Bladder cancer</th>\n",
              "      <th>Cervical cancer</th>\n",
              "      <th>Kidney cancer</th>\n",
              "      <th>Stomach cancer</th>\n",
              "      <th>...</th>\n",
              "      <th>Pancreatic cancer</th>\n",
              "      <th>Tracheal, bronchus, and lung cancer</th>\n",
              "      <th>Lip and oral cavity cancer</th>\n",
              "      <th>Colon and rectum cancer</th>\n",
              "      <th>Gallbladder and biliary tract cancer</th>\n",
              "      <th>Liver cancer</th>\n",
              "      <th>Larynx cancer</th>\n",
              "      <th>Ovarian cancer</th>\n",
              "      <th>Thyroid cancer</th>\n",
              "      <th>Brain and central nervous system cancer</th>\n",
              "    </tr>\n",
              "  </thead>\n",
              "  <tbody>\n",
              "    <tr>\n",
              "      <th>0</th>\n",
              "      <td>Afghanistan</td>\n",
              "      <td>AFG</td>\n",
              "      <td>1990</td>\n",
              "      <td>6.49</td>\n",
              "      <td>7.31</td>\n",
              "      <td>0.84</td>\n",
              "      <td>4.29</td>\n",
              "      <td>4.48</td>\n",
              "      <td>0.83</td>\n",
              "      <td>31.99</td>\n",
              "      <td>...</td>\n",
              "      <td>2.00</td>\n",
              "      <td>14.07</td>\n",
              "      <td>1.27</td>\n",
              "      <td>7.87</td>\n",
              "      <td>2.61</td>\n",
              "      <td>11.97</td>\n",
              "      <td>3.62</td>\n",
              "      <td>1.05</td>\n",
              "      <td>0.80</td>\n",
              "      <td>4.51</td>\n",
              "    </tr>\n",
              "    <tr>\n",
              "      <th>1</th>\n",
              "      <td>Afghanistan</td>\n",
              "      <td>AFG</td>\n",
              "      <td>1991</td>\n",
              "      <td>6.47</td>\n",
              "      <td>7.29</td>\n",
              "      <td>0.83</td>\n",
              "      <td>4.23</td>\n",
              "      <td>4.47</td>\n",
              "      <td>0.80</td>\n",
              "      <td>31.85</td>\n",
              "      <td>...</td>\n",
              "      <td>1.95</td>\n",
              "      <td>13.81</td>\n",
              "      <td>1.26</td>\n",
              "      <td>7.75</td>\n",
              "      <td>2.59</td>\n",
              "      <td>11.90</td>\n",
              "      <td>3.59</td>\n",
              "      <td>1.04</td>\n",
              "      <td>0.79</td>\n",
              "      <td>4.45</td>\n",
              "    </tr>\n",
              "    <tr>\n",
              "      <th>2</th>\n",
              "      <td>Afghanistan</td>\n",
              "      <td>AFG</td>\n",
              "      <td>1992</td>\n",
              "      <td>6.47</td>\n",
              "      <td>7.30</td>\n",
              "      <td>0.82</td>\n",
              "      <td>4.19</td>\n",
              "      <td>4.47</td>\n",
              "      <td>0.79</td>\n",
              "      <td>31.79</td>\n",
              "      <td>...</td>\n",
              "      <td>1.91</td>\n",
              "      <td>13.59</td>\n",
              "      <td>1.24</td>\n",
              "      <td>7.65</td>\n",
              "      <td>2.57</td>\n",
              "      <td>11.84</td>\n",
              "      <td>3.57</td>\n",
              "      <td>1.03</td>\n",
              "      <td>0.78</td>\n",
              "      <td>4.41</td>\n",
              "    </tr>\n",
              "    <tr>\n",
              "      <th>3</th>\n",
              "      <td>Afghanistan</td>\n",
              "      <td>AFG</td>\n",
              "      <td>1993</td>\n",
              "      <td>6.48</td>\n",
              "      <td>7.38</td>\n",
              "      <td>0.82</td>\n",
              "      <td>4.17</td>\n",
              "      <td>4.52</td>\n",
              "      <td>0.78</td>\n",
              "      <td>32.06</td>\n",
              "      <td>...</td>\n",
              "      <td>1.89</td>\n",
              "      <td>13.42</td>\n",
              "      <td>1.24</td>\n",
              "      <td>7.56</td>\n",
              "      <td>2.58</td>\n",
              "      <td>11.87</td>\n",
              "      <td>3.59</td>\n",
              "      <td>1.02</td>\n",
              "      <td>0.79</td>\n",
              "      <td>4.44</td>\n",
              "    </tr>\n",
              "    <tr>\n",
              "      <th>4</th>\n",
              "      <td>Afghanistan</td>\n",
              "      <td>AFG</td>\n",
              "      <td>1994</td>\n",
              "      <td>6.48</td>\n",
              "      <td>7.47</td>\n",
              "      <td>0.83</td>\n",
              "      <td>4.14</td>\n",
              "      <td>4.60</td>\n",
              "      <td>0.77</td>\n",
              "      <td>32.50</td>\n",
              "      <td>...</td>\n",
              "      <td>1.88</td>\n",
              "      <td>13.25</td>\n",
              "      <td>1.24</td>\n",
              "      <td>7.43</td>\n",
              "      <td>2.59</td>\n",
              "      <td>11.92</td>\n",
              "      <td>3.63</td>\n",
              "      <td>1.03</td>\n",
              "      <td>0.80</td>\n",
              "      <td>4.47</td>\n",
              "    </tr>\n",
              "    <tr>\n",
              "      <th>...</th>\n",
              "      <td>...</td>\n",
              "      <td>...</td>\n",
              "      <td>...</td>\n",
              "      <td>...</td>\n",
              "      <td>...</td>\n",
              "      <td>...</td>\n",
              "      <td>...</td>\n",
              "      <td>...</td>\n",
              "      <td>...</td>\n",
              "      <td>...</td>\n",
              "      <td>...</td>\n",
              "      <td>...</td>\n",
              "      <td>...</td>\n",
              "      <td>...</td>\n",
              "      <td>...</td>\n",
              "      <td>...</td>\n",
              "      <td>...</td>\n",
              "      <td>...</td>\n",
              "      <td>...</td>\n",
              "      <td>...</td>\n",
              "      <td>...</td>\n",
              "    </tr>\n",
              "    <tr>\n",
              "      <th>6835</th>\n",
              "      <td>Zimbabwe</td>\n",
              "      <td>ZWE</td>\n",
              "      <td>2015</td>\n",
              "      <td>22.83</td>\n",
              "      <td>15.88</td>\n",
              "      <td>3.30</td>\n",
              "      <td>8.83</td>\n",
              "      <td>19.38</td>\n",
              "      <td>0.90</td>\n",
              "      <td>14.42</td>\n",
              "      <td>...</td>\n",
              "      <td>7.41</td>\n",
              "      <td>14.84</td>\n",
              "      <td>2.25</td>\n",
              "      <td>12.66</td>\n",
              "      <td>1.55</td>\n",
              "      <td>14.72</td>\n",
              "      <td>2.29</td>\n",
              "      <td>4.04</td>\n",
              "      <td>1.06</td>\n",
              "      <td>1.14</td>\n",
              "    </tr>\n",
              "    <tr>\n",
              "      <th>6836</th>\n",
              "      <td>Zimbabwe</td>\n",
              "      <td>ZWE</td>\n",
              "      <td>2016</td>\n",
              "      <td>22.87</td>\n",
              "      <td>15.92</td>\n",
              "      <td>3.31</td>\n",
              "      <td>8.79</td>\n",
              "      <td>19.08</td>\n",
              "      <td>0.91</td>\n",
              "      <td>14.26</td>\n",
              "      <td>...</td>\n",
              "      <td>7.60</td>\n",
              "      <td>14.91</td>\n",
              "      <td>2.26</td>\n",
              "      <td>12.76</td>\n",
              "      <td>1.54</td>\n",
              "      <td>14.57</td>\n",
              "      <td>2.28</td>\n",
              "      <td>4.13</td>\n",
              "      <td>1.05</td>\n",
              "      <td>1.15</td>\n",
              "    </tr>\n",
              "    <tr>\n",
              "      <th>6837</th>\n",
              "      <td>Zimbabwe</td>\n",
              "      <td>ZWE</td>\n",
              "      <td>2017</td>\n",
              "      <td>22.87</td>\n",
              "      <td>15.90</td>\n",
              "      <td>3.30</td>\n",
              "      <td>8.76</td>\n",
              "      <td>18.71</td>\n",
              "      <td>0.92</td>\n",
              "      <td>14.07</td>\n",
              "      <td>...</td>\n",
              "      <td>7.76</td>\n",
              "      <td>14.95</td>\n",
              "      <td>2.26</td>\n",
              "      <td>12.82</td>\n",
              "      <td>1.53</td>\n",
              "      <td>14.38</td>\n",
              "      <td>2.27</td>\n",
              "      <td>4.23</td>\n",
              "      <td>1.05</td>\n",
              "      <td>1.16</td>\n",
              "    </tr>\n",
              "    <tr>\n",
              "      <th>6838</th>\n",
              "      <td>Zimbabwe</td>\n",
              "      <td>ZWE</td>\n",
              "      <td>2018</td>\n",
              "      <td>22.94</td>\n",
              "      <td>15.87</td>\n",
              "      <td>3.28</td>\n",
              "      <td>8.74</td>\n",
              "      <td>18.35</td>\n",
              "      <td>0.93</td>\n",
              "      <td>13.87</td>\n",
              "      <td>...</td>\n",
              "      <td>7.93</td>\n",
              "      <td>15.01</td>\n",
              "      <td>2.27</td>\n",
              "      <td>12.88</td>\n",
              "      <td>1.52</td>\n",
              "      <td>14.20</td>\n",
              "      <td>2.26</td>\n",
              "      <td>4.31</td>\n",
              "      <td>1.04</td>\n",
              "      <td>1.16</td>\n",
              "    </tr>\n",
              "    <tr>\n",
              "      <th>6839</th>\n",
              "      <td>Zimbabwe</td>\n",
              "      <td>ZWE</td>\n",
              "      <td>2019</td>\n",
              "      <td>22.94</td>\n",
              "      <td>15.84</td>\n",
              "      <td>3.28</td>\n",
              "      <td>8.73</td>\n",
              "      <td>18.09</td>\n",
              "      <td>0.93</td>\n",
              "      <td>13.73</td>\n",
              "      <td>...</td>\n",
              "      <td>8.06</td>\n",
              "      <td>15.06</td>\n",
              "      <td>2.27</td>\n",
              "      <td>12.93</td>\n",
              "      <td>1.51</td>\n",
              "      <td>14.03</td>\n",
              "      <td>2.25</td>\n",
              "      <td>4.36</td>\n",
              "      <td>1.03</td>\n",
              "      <td>1.16</td>\n",
              "    </tr>\n",
              "  </tbody>\n",
              "</table>\n",
              "<p>6840 rows × 25 columns</p>\n",
              "</div>\n",
              "      <button class=\"colab-df-convert\" onclick=\"convertToInteractive('df-d163d469-afc8-4d19-8498-287b4d984d32')\"\n",
              "              title=\"Convert this dataframe to an interactive table.\"\n",
              "              style=\"display:none;\">\n",
              "        \n",
              "  <svg xmlns=\"http://www.w3.org/2000/svg\" height=\"24px\"viewBox=\"0 0 24 24\"\n",
              "       width=\"24px\">\n",
              "    <path d=\"M0 0h24v24H0V0z\" fill=\"none\"/>\n",
              "    <path d=\"M18.56 5.44l.94 2.06.94-2.06 2.06-.94-2.06-.94-.94-2.06-.94 2.06-2.06.94zm-11 1L8.5 8.5l.94-2.06 2.06-.94-2.06-.94L8.5 2.5l-.94 2.06-2.06.94zm10 10l.94 2.06.94-2.06 2.06-.94-2.06-.94-.94-2.06-.94 2.06-2.06.94z\"/><path d=\"M17.41 7.96l-1.37-1.37c-.4-.4-.92-.59-1.43-.59-.52 0-1.04.2-1.43.59L10.3 9.45l-7.72 7.72c-.78.78-.78 2.05 0 2.83L4 21.41c.39.39.9.59 1.41.59.51 0 1.02-.2 1.41-.59l7.78-7.78 2.81-2.81c.8-.78.8-2.07 0-2.86zM5.41 20L4 18.59l7.72-7.72 1.47 1.35L5.41 20z\"/>\n",
              "  </svg>\n",
              "      </button>\n",
              "      \n",
              "  <style>\n",
              "    .colab-df-container {\n",
              "      display:flex;\n",
              "      flex-wrap:wrap;\n",
              "      gap: 12px;\n",
              "    }\n",
              "\n",
              "    .colab-df-convert {\n",
              "      background-color: #E8F0FE;\n",
              "      border: none;\n",
              "      border-radius: 50%;\n",
              "      cursor: pointer;\n",
              "      display: none;\n",
              "      fill: #1967D2;\n",
              "      height: 32px;\n",
              "      padding: 0 0 0 0;\n",
              "      width: 32px;\n",
              "    }\n",
              "\n",
              "    .colab-df-convert:hover {\n",
              "      background-color: #E2EBFA;\n",
              "      box-shadow: 0px 1px 2px rgba(60, 64, 67, 0.3), 0px 1px 3px 1px rgba(60, 64, 67, 0.15);\n",
              "      fill: #174EA6;\n",
              "    }\n",
              "\n",
              "    [theme=dark] .colab-df-convert {\n",
              "      background-color: #3B4455;\n",
              "      fill: #D2E3FC;\n",
              "    }\n",
              "\n",
              "    [theme=dark] .colab-df-convert:hover {\n",
              "      background-color: #434B5C;\n",
              "      box-shadow: 0px 1px 3px 1px rgba(0, 0, 0, 0.15);\n",
              "      filter: drop-shadow(0px 1px 2px rgba(0, 0, 0, 0.3));\n",
              "      fill: #FFFFFF;\n",
              "    }\n",
              "  </style>\n",
              "\n",
              "      <script>\n",
              "        const buttonEl =\n",
              "          document.querySelector('#df-d163d469-afc8-4d19-8498-287b4d984d32 button.colab-df-convert');\n",
              "        buttonEl.style.display =\n",
              "          google.colab.kernel.accessAllowed ? 'block' : 'none';\n",
              "\n",
              "        async function convertToInteractive(key) {\n",
              "          const element = document.querySelector('#df-d163d469-afc8-4d19-8498-287b4d984d32');\n",
              "          const dataTable =\n",
              "            await google.colab.kernel.invokeFunction('convertToInteractive',\n",
              "                                                     [key], {});\n",
              "          if (!dataTable) return;\n",
              "\n",
              "          const docLinkHtml = 'Like what you see? Visit the ' +\n",
              "            '<a target=\"_blank\" href=https://colab.research.google.com/notebooks/data_table.ipynb>data table notebook</a>'\n",
              "            + ' to learn more about interactive tables.';\n",
              "          element.innerHTML = '';\n",
              "          dataTable['output_type'] = 'display_data';\n",
              "          await google.colab.output.renderOutput(dataTable, element);\n",
              "          const docLink = document.createElement('div');\n",
              "          docLink.innerHTML = docLinkHtml;\n",
              "          element.appendChild(docLink);\n",
              "        }\n",
              "      </script>\n",
              "    </div>\n",
              "  </div>\n",
              "  "
            ]
          },
          "metadata": {},
          "execution_count": 3
        }
      ]
    },
    {
      "cell_type": "markdown",
      "source": [
        "# Data Exploration"
      ],
      "metadata": {
        "id": "hff5cLkLqdjm"
      }
    },
    {
      "cell_type": "code",
      "source": [
        "df.info()"
      ],
      "metadata": {
        "id": "djyJiQo3RL2Z",
        "colab": {
          "base_uri": "https://localhost:8080/"
        },
        "outputId": "5be48050-4765-4af9-af31-62d1d7929c08"
      },
      "execution_count": null,
      "outputs": [
        {
          "output_type": "stream",
          "name": "stdout",
          "text": [
            "<class 'pandas.core.frame.DataFrame'>\n",
            "RangeIndex: 6840 entries, 0 to 6839\n",
            "Data columns (total 25 columns):\n",
            " #   Column                                    Non-Null Count  Dtype  \n",
            "---  ------                                    --------------  -----  \n",
            " 0   Entity                                    6840 non-null   object \n",
            " 1   Code                                      6150 non-null   object \n",
            " 2   Year                                      6840 non-null   int64  \n",
            " 3    Prostate cancer                          6840 non-null   float64\n",
            " 4    Breast cancer                            6840 non-null   float64\n",
            " 5   Uterine cancer                            6840 non-null   float64\n",
            " 6    Bladder cancer                           6840 non-null   float64\n",
            " 7    Cervical cancer                          6840 non-null   float64\n",
            " 8    Kidney cancer                            6840 non-null   float64\n",
            " 9   Stomach cancer                            6840 non-null   float64\n",
            " 10   Nasopharynx cancer                       6840 non-null   float64\n",
            " 11  Testicular cancer                         6840 non-null   float64\n",
            " 12   Other pharynx cancer                     6840 non-null   float64\n",
            " 13   Esophageal cancer                        6840 non-null   float64\n",
            " 14  Non-melanoma skin cancer                  6840 non-null   float64\n",
            " 15  Pancreatic cancer                         6840 non-null   float64\n",
            " 16  Tracheal, bronchus, and lung cancer       6840 non-null   float64\n",
            " 17   Lip and oral cavity cancer               6840 non-null   float64\n",
            " 18  Colon and rectum cancer                   6840 non-null   float64\n",
            " 19   Gallbladder and biliary tract cancer     6840 non-null   float64\n",
            " 20   Liver cancer                             6840 non-null   float64\n",
            " 21  Larynx cancer                             6840 non-null   float64\n",
            " 22  Ovarian cancer                            6840 non-null   float64\n",
            " 23  Thyroid cancer                            6840 non-null   float64\n",
            " 24  Brain and central nervous system cancer   6840 non-null   float64\n",
            "dtypes: float64(22), int64(1), object(2)\n",
            "memory usage: 1.3+ MB\n"
          ]
        }
      ]
    },
    {
      "cell_type": "code",
      "source": [
        "df['Year']=df.Year.astype('object')"
      ],
      "metadata": {
        "id": "NN8GpMwr6xiv"
      },
      "execution_count": null,
      "outputs": []
    },
    {
      "cell_type": "code",
      "source": [
        "df.columns=df.columns.str.replace(r'cancer','')\n",
        "df.columns=df.columns.str.strip()"
      ],
      "metadata": {
        "id": "rkKzBNxUUbbw"
      },
      "execution_count": null,
      "outputs": []
    },
    {
      "cell_type": "code",
      "source": [
        "df.describe()"
      ],
      "metadata": {
        "colab": {
          "base_uri": "https://localhost:8080/",
          "height": 445
        },
        "id": "4rgP8Xd9RLz6",
        "outputId": "53e1749f-b8bc-4092-e104-5e8033855f1c"
      },
      "execution_count": null,
      "outputs": [
        {
          "output_type": "execute_result",
          "data": {
            "text/plain": [
              "          Prostate       Breast      Uterine      Bladder     Cervical  \\\n",
              "count  6840.000000  6840.000000  6840.000000  6840.000000  6840.000000   \n",
              "mean     10.971228    11.143382     1.644254     3.409523     6.709173   \n",
              "std       7.014029     4.088074     0.839115     1.744023     5.349787   \n",
              "min       2.380000     3.540000     0.250000     0.960000     0.700000   \n",
              "25%       6.147500     8.030000     1.080000     2.140000     2.390000   \n",
              "50%       9.720000    10.580000     1.490000     3.010000     5.070000   \n",
              "75%      13.120000    13.720000     2.020000     4.372500    10.210000   \n",
              "max      54.150000    39.240000     6.630000    12.240000    46.160000   \n",
              "\n",
              "            Kidney      Stomach  Nasopharynx   Testicular  Other pharynx  ...  \\\n",
              "count  6840.000000  6840.000000  6840.000000  6840.000000    6840.000000  ...   \n",
              "mean      1.995730    13.280687     0.787004     0.182776       0.934186  ...   \n",
              "std       1.352506     7.512902     0.849601     0.471503       0.837695  ...   \n",
              "min       0.390000     3.370000     0.100000     0.000000       0.180000  ...   \n",
              "25%       0.910000     8.340000     0.280000     0.070000       0.410000  ...   \n",
              "50%       1.520000    11.570000     0.460000     0.110000       0.640000  ...   \n",
              "75%       2.880000    16.270000     1.020000     0.190000       1.150000  ...   \n",
              "max       8.000000    75.410000     9.630000     7.270000       5.820000  ...   \n",
              "\n",
              "        Pancreatic  Tracheal, bronchus, and lung  Lip and oral cavity  \\\n",
              "count  6840.000000                   6840.000000          6840.000000   \n",
              "mean      5.608491                     22.173512             2.298102   \n",
              "std       3.126252                     12.761140             1.748592   \n",
              "min       1.130000                      4.990000             0.560000   \n",
              "25%       3.010000                     11.437500             1.360000   \n",
              "50%       4.900000                     19.915000             1.890000   \n",
              "75%       8.060000                     30.650000             2.620000   \n",
              "max      21.360000                    106.270000            15.480000   \n",
              "\n",
              "       Colon and rectum  Gallbladder and biliary tract        Liver  \\\n",
              "count       6840.000000                    6840.000000  6840.000000   \n",
              "mean          13.299971                       2.005994     6.068855   \n",
              "std            6.221991                       1.465444     8.166812   \n",
              "min            3.620000                       0.470000     0.650000   \n",
              "25%            8.170000                       1.190000     2.800000   \n",
              "50%           12.020000                       1.520000     3.890000   \n",
              "75%           17.192500                       2.390000     6.612500   \n",
              "max           38.510000                      18.760000   130.680000   \n",
              "\n",
              "            Larynx      Ovarian      Thyroid  Brain and central nervous system  \n",
              "count  6840.000000  6840.000000  6840.000000                       6840.000000  \n",
              "mean      1.794126     2.546699     0.647769                          2.848693  \n",
              "std       0.999804     1.363061     0.313960                          1.621109  \n",
              "min       0.310000     0.410000     0.040000                          0.280000  \n",
              "25%       1.090000     1.490000     0.470000                          1.530000  \n",
              "50%       1.510000     2.190000     0.590000                          2.360000  \n",
              "75%       2.320000     3.502500     0.760000                          3.990000  \n",
              "max       7.170000     8.100000     3.280000                          8.590000  \n",
              "\n",
              "[8 rows x 22 columns]"
            ],
            "text/html": [
              "\n",
              "  <div id=\"df-a0a2d2bd-8e38-4bdb-9ff2-9b0d6b4f82e7\">\n",
              "    <div class=\"colab-df-container\">\n",
              "      <div>\n",
              "<style scoped>\n",
              "    .dataframe tbody tr th:only-of-type {\n",
              "        vertical-align: middle;\n",
              "    }\n",
              "\n",
              "    .dataframe tbody tr th {\n",
              "        vertical-align: top;\n",
              "    }\n",
              "\n",
              "    .dataframe thead th {\n",
              "        text-align: right;\n",
              "    }\n",
              "</style>\n",
              "<table border=\"1\" class=\"dataframe\">\n",
              "  <thead>\n",
              "    <tr style=\"text-align: right;\">\n",
              "      <th></th>\n",
              "      <th>Prostate</th>\n",
              "      <th>Breast</th>\n",
              "      <th>Uterine</th>\n",
              "      <th>Bladder</th>\n",
              "      <th>Cervical</th>\n",
              "      <th>Kidney</th>\n",
              "      <th>Stomach</th>\n",
              "      <th>Nasopharynx</th>\n",
              "      <th>Testicular</th>\n",
              "      <th>Other pharynx</th>\n",
              "      <th>...</th>\n",
              "      <th>Pancreatic</th>\n",
              "      <th>Tracheal, bronchus, and lung</th>\n",
              "      <th>Lip and oral cavity</th>\n",
              "      <th>Colon and rectum</th>\n",
              "      <th>Gallbladder and biliary tract</th>\n",
              "      <th>Liver</th>\n",
              "      <th>Larynx</th>\n",
              "      <th>Ovarian</th>\n",
              "      <th>Thyroid</th>\n",
              "      <th>Brain and central nervous system</th>\n",
              "    </tr>\n",
              "  </thead>\n",
              "  <tbody>\n",
              "    <tr>\n",
              "      <th>count</th>\n",
              "      <td>6840.000000</td>\n",
              "      <td>6840.000000</td>\n",
              "      <td>6840.000000</td>\n",
              "      <td>6840.000000</td>\n",
              "      <td>6840.000000</td>\n",
              "      <td>6840.000000</td>\n",
              "      <td>6840.000000</td>\n",
              "      <td>6840.000000</td>\n",
              "      <td>6840.000000</td>\n",
              "      <td>6840.000000</td>\n",
              "      <td>...</td>\n",
              "      <td>6840.000000</td>\n",
              "      <td>6840.000000</td>\n",
              "      <td>6840.000000</td>\n",
              "      <td>6840.000000</td>\n",
              "      <td>6840.000000</td>\n",
              "      <td>6840.000000</td>\n",
              "      <td>6840.000000</td>\n",
              "      <td>6840.000000</td>\n",
              "      <td>6840.000000</td>\n",
              "      <td>6840.000000</td>\n",
              "    </tr>\n",
              "    <tr>\n",
              "      <th>mean</th>\n",
              "      <td>10.971228</td>\n",
              "      <td>11.143382</td>\n",
              "      <td>1.644254</td>\n",
              "      <td>3.409523</td>\n",
              "      <td>6.709173</td>\n",
              "      <td>1.995730</td>\n",
              "      <td>13.280687</td>\n",
              "      <td>0.787004</td>\n",
              "      <td>0.182776</td>\n",
              "      <td>0.934186</td>\n",
              "      <td>...</td>\n",
              "      <td>5.608491</td>\n",
              "      <td>22.173512</td>\n",
              "      <td>2.298102</td>\n",
              "      <td>13.299971</td>\n",
              "      <td>2.005994</td>\n",
              "      <td>6.068855</td>\n",
              "      <td>1.794126</td>\n",
              "      <td>2.546699</td>\n",
              "      <td>0.647769</td>\n",
              "      <td>2.848693</td>\n",
              "    </tr>\n",
              "    <tr>\n",
              "      <th>std</th>\n",
              "      <td>7.014029</td>\n",
              "      <td>4.088074</td>\n",
              "      <td>0.839115</td>\n",
              "      <td>1.744023</td>\n",
              "      <td>5.349787</td>\n",
              "      <td>1.352506</td>\n",
              "      <td>7.512902</td>\n",
              "      <td>0.849601</td>\n",
              "      <td>0.471503</td>\n",
              "      <td>0.837695</td>\n",
              "      <td>...</td>\n",
              "      <td>3.126252</td>\n",
              "      <td>12.761140</td>\n",
              "      <td>1.748592</td>\n",
              "      <td>6.221991</td>\n",
              "      <td>1.465444</td>\n",
              "      <td>8.166812</td>\n",
              "      <td>0.999804</td>\n",
              "      <td>1.363061</td>\n",
              "      <td>0.313960</td>\n",
              "      <td>1.621109</td>\n",
              "    </tr>\n",
              "    <tr>\n",
              "      <th>min</th>\n",
              "      <td>2.380000</td>\n",
              "      <td>3.540000</td>\n",
              "      <td>0.250000</td>\n",
              "      <td>0.960000</td>\n",
              "      <td>0.700000</td>\n",
              "      <td>0.390000</td>\n",
              "      <td>3.370000</td>\n",
              "      <td>0.100000</td>\n",
              "      <td>0.000000</td>\n",
              "      <td>0.180000</td>\n",
              "      <td>...</td>\n",
              "      <td>1.130000</td>\n",
              "      <td>4.990000</td>\n",
              "      <td>0.560000</td>\n",
              "      <td>3.620000</td>\n",
              "      <td>0.470000</td>\n",
              "      <td>0.650000</td>\n",
              "      <td>0.310000</td>\n",
              "      <td>0.410000</td>\n",
              "      <td>0.040000</td>\n",
              "      <td>0.280000</td>\n",
              "    </tr>\n",
              "    <tr>\n",
              "      <th>25%</th>\n",
              "      <td>6.147500</td>\n",
              "      <td>8.030000</td>\n",
              "      <td>1.080000</td>\n",
              "      <td>2.140000</td>\n",
              "      <td>2.390000</td>\n",
              "      <td>0.910000</td>\n",
              "      <td>8.340000</td>\n",
              "      <td>0.280000</td>\n",
              "      <td>0.070000</td>\n",
              "      <td>0.410000</td>\n",
              "      <td>...</td>\n",
              "      <td>3.010000</td>\n",
              "      <td>11.437500</td>\n",
              "      <td>1.360000</td>\n",
              "      <td>8.170000</td>\n",
              "      <td>1.190000</td>\n",
              "      <td>2.800000</td>\n",
              "      <td>1.090000</td>\n",
              "      <td>1.490000</td>\n",
              "      <td>0.470000</td>\n",
              "      <td>1.530000</td>\n",
              "    </tr>\n",
              "    <tr>\n",
              "      <th>50%</th>\n",
              "      <td>9.720000</td>\n",
              "      <td>10.580000</td>\n",
              "      <td>1.490000</td>\n",
              "      <td>3.010000</td>\n",
              "      <td>5.070000</td>\n",
              "      <td>1.520000</td>\n",
              "      <td>11.570000</td>\n",
              "      <td>0.460000</td>\n",
              "      <td>0.110000</td>\n",
              "      <td>0.640000</td>\n",
              "      <td>...</td>\n",
              "      <td>4.900000</td>\n",
              "      <td>19.915000</td>\n",
              "      <td>1.890000</td>\n",
              "      <td>12.020000</td>\n",
              "      <td>1.520000</td>\n",
              "      <td>3.890000</td>\n",
              "      <td>1.510000</td>\n",
              "      <td>2.190000</td>\n",
              "      <td>0.590000</td>\n",
              "      <td>2.360000</td>\n",
              "    </tr>\n",
              "    <tr>\n",
              "      <th>75%</th>\n",
              "      <td>13.120000</td>\n",
              "      <td>13.720000</td>\n",
              "      <td>2.020000</td>\n",
              "      <td>4.372500</td>\n",
              "      <td>10.210000</td>\n",
              "      <td>2.880000</td>\n",
              "      <td>16.270000</td>\n",
              "      <td>1.020000</td>\n",
              "      <td>0.190000</td>\n",
              "      <td>1.150000</td>\n",
              "      <td>...</td>\n",
              "      <td>8.060000</td>\n",
              "      <td>30.650000</td>\n",
              "      <td>2.620000</td>\n",
              "      <td>17.192500</td>\n",
              "      <td>2.390000</td>\n",
              "      <td>6.612500</td>\n",
              "      <td>2.320000</td>\n",
              "      <td>3.502500</td>\n",
              "      <td>0.760000</td>\n",
              "      <td>3.990000</td>\n",
              "    </tr>\n",
              "    <tr>\n",
              "      <th>max</th>\n",
              "      <td>54.150000</td>\n",
              "      <td>39.240000</td>\n",
              "      <td>6.630000</td>\n",
              "      <td>12.240000</td>\n",
              "      <td>46.160000</td>\n",
              "      <td>8.000000</td>\n",
              "      <td>75.410000</td>\n",
              "      <td>9.630000</td>\n",
              "      <td>7.270000</td>\n",
              "      <td>5.820000</td>\n",
              "      <td>...</td>\n",
              "      <td>21.360000</td>\n",
              "      <td>106.270000</td>\n",
              "      <td>15.480000</td>\n",
              "      <td>38.510000</td>\n",
              "      <td>18.760000</td>\n",
              "      <td>130.680000</td>\n",
              "      <td>7.170000</td>\n",
              "      <td>8.100000</td>\n",
              "      <td>3.280000</td>\n",
              "      <td>8.590000</td>\n",
              "    </tr>\n",
              "  </tbody>\n",
              "</table>\n",
              "<p>8 rows × 22 columns</p>\n",
              "</div>\n",
              "      <button class=\"colab-df-convert\" onclick=\"convertToInteractive('df-a0a2d2bd-8e38-4bdb-9ff2-9b0d6b4f82e7')\"\n",
              "              title=\"Convert this dataframe to an interactive table.\"\n",
              "              style=\"display:none;\">\n",
              "        \n",
              "  <svg xmlns=\"http://www.w3.org/2000/svg\" height=\"24px\"viewBox=\"0 0 24 24\"\n",
              "       width=\"24px\">\n",
              "    <path d=\"M0 0h24v24H0V0z\" fill=\"none\"/>\n",
              "    <path d=\"M18.56 5.44l.94 2.06.94-2.06 2.06-.94-2.06-.94-.94-2.06-.94 2.06-2.06.94zm-11 1L8.5 8.5l.94-2.06 2.06-.94-2.06-.94L8.5 2.5l-.94 2.06-2.06.94zm10 10l.94 2.06.94-2.06 2.06-.94-2.06-.94-.94-2.06-.94 2.06-2.06.94z\"/><path d=\"M17.41 7.96l-1.37-1.37c-.4-.4-.92-.59-1.43-.59-.52 0-1.04.2-1.43.59L10.3 9.45l-7.72 7.72c-.78.78-.78 2.05 0 2.83L4 21.41c.39.39.9.59 1.41.59.51 0 1.02-.2 1.41-.59l7.78-7.78 2.81-2.81c.8-.78.8-2.07 0-2.86zM5.41 20L4 18.59l7.72-7.72 1.47 1.35L5.41 20z\"/>\n",
              "  </svg>\n",
              "      </button>\n",
              "      \n",
              "  <style>\n",
              "    .colab-df-container {\n",
              "      display:flex;\n",
              "      flex-wrap:wrap;\n",
              "      gap: 12px;\n",
              "    }\n",
              "\n",
              "    .colab-df-convert {\n",
              "      background-color: #E8F0FE;\n",
              "      border: none;\n",
              "      border-radius: 50%;\n",
              "      cursor: pointer;\n",
              "      display: none;\n",
              "      fill: #1967D2;\n",
              "      height: 32px;\n",
              "      padding: 0 0 0 0;\n",
              "      width: 32px;\n",
              "    }\n",
              "\n",
              "    .colab-df-convert:hover {\n",
              "      background-color: #E2EBFA;\n",
              "      box-shadow: 0px 1px 2px rgba(60, 64, 67, 0.3), 0px 1px 3px 1px rgba(60, 64, 67, 0.15);\n",
              "      fill: #174EA6;\n",
              "    }\n",
              "\n",
              "    [theme=dark] .colab-df-convert {\n",
              "      background-color: #3B4455;\n",
              "      fill: #D2E3FC;\n",
              "    }\n",
              "\n",
              "    [theme=dark] .colab-df-convert:hover {\n",
              "      background-color: #434B5C;\n",
              "      box-shadow: 0px 1px 3px 1px rgba(0, 0, 0, 0.15);\n",
              "      filter: drop-shadow(0px 1px 2px rgba(0, 0, 0, 0.3));\n",
              "      fill: #FFFFFF;\n",
              "    }\n",
              "  </style>\n",
              "\n",
              "      <script>\n",
              "        const buttonEl =\n",
              "          document.querySelector('#df-a0a2d2bd-8e38-4bdb-9ff2-9b0d6b4f82e7 button.colab-df-convert');\n",
              "        buttonEl.style.display =\n",
              "          google.colab.kernel.accessAllowed ? 'block' : 'none';\n",
              "\n",
              "        async function convertToInteractive(key) {\n",
              "          const element = document.querySelector('#df-a0a2d2bd-8e38-4bdb-9ff2-9b0d6b4f82e7');\n",
              "          const dataTable =\n",
              "            await google.colab.kernel.invokeFunction('convertToInteractive',\n",
              "                                                     [key], {});\n",
              "          if (!dataTable) return;\n",
              "\n",
              "          const docLinkHtml = 'Like what you see? Visit the ' +\n",
              "            '<a target=\"_blank\" href=https://colab.research.google.com/notebooks/data_table.ipynb>data table notebook</a>'\n",
              "            + ' to learn more about interactive tables.';\n",
              "          element.innerHTML = '';\n",
              "          dataTable['output_type'] = 'display_data';\n",
              "          await google.colab.output.renderOutput(dataTable, element);\n",
              "          const docLink = document.createElement('div');\n",
              "          docLink.innerHTML = docLinkHtml;\n",
              "          element.appendChild(docLink);\n",
              "        }\n",
              "      </script>\n",
              "    </div>\n",
              "  </div>\n",
              "  "
            ]
          },
          "metadata": {},
          "execution_count": 7
        }
      ]
    },
    {
      "cell_type": "code",
      "source": [
        "print('Number of Missing Vlaues:')\n",
        "df.isnull().sum()"
      ],
      "metadata": {
        "colab": {
          "base_uri": "https://localhost:8080/"
        },
        "id": "5nJhxOBu5Gp0",
        "outputId": "686d90cf-9339-4cce-be3f-1f377c3ed551"
      },
      "execution_count": null,
      "outputs": [
        {
          "output_type": "stream",
          "name": "stdout",
          "text": [
            "Number of Missing Vlaues:\n"
          ]
        },
        {
          "output_type": "execute_result",
          "data": {
            "text/plain": [
              "Entity                                0\n",
              "Code                                690\n",
              "Year                                  0\n",
              "Prostate                              0\n",
              "Breast                                0\n",
              "Uterine                               0\n",
              "Bladder                               0\n",
              "Cervical                              0\n",
              "Kidney                                0\n",
              "Stomach                               0\n",
              "Nasopharynx                           0\n",
              "Testicular                            0\n",
              "Other pharynx                         0\n",
              "Esophageal                            0\n",
              "Non-melanoma skin                     0\n",
              "Pancreatic                            0\n",
              "Tracheal, bronchus, and lung          0\n",
              "Lip and oral cavity                   0\n",
              "Colon and rectum                      0\n",
              "Gallbladder and biliary tract         0\n",
              "Liver                                 0\n",
              "Larynx                                0\n",
              "Ovarian                               0\n",
              "Thyroid                               0\n",
              "Brain and central nervous system      0\n",
              "dtype: int64"
            ]
          },
          "metadata": {},
          "execution_count": 8
        }
      ]
    },
    {
      "cell_type": "code",
      "source": [
        "d=df[df['Code'].isnull()]\n",
        "d['Entity'].unique()"
      ],
      "metadata": {
        "colab": {
          "base_uri": "https://localhost:8080/"
        },
        "id": "aAeq7udwRLxX",
        "outputId": "d7e76e5d-3519-4ca8-f406-6d0f08e71eff"
      },
      "execution_count": null,
      "outputs": [
        {
          "output_type": "execute_result",
          "data": {
            "text/plain": [
              "array(['African Region (WHO)', 'East Asia & Pacific (WB)',\n",
              "       'Eastern Mediterranean Region (WHO)', 'England',\n",
              "       'Europe & Central Asia (WB)', 'European Region (WHO)', 'G20',\n",
              "       'Latin America & Caribbean (WB)',\n",
              "       'Middle East & North Africa (WB)', 'North America (WB)',\n",
              "       'Northern Ireland', 'OECD Countries',\n",
              "       'Region of the Americas (WHO)', 'Scotland', 'South Asia (WB)',\n",
              "       'South-East Asia Region (WHO)', 'Sub-Saharan Africa (WB)', 'Wales',\n",
              "       'Western Pacific Region (WHO)', 'World Bank High Income',\n",
              "       'World Bank Low Income', 'World Bank Lower Middle Income',\n",
              "       'World Bank Upper Middle Income'], dtype=object)"
            ]
          },
          "metadata": {},
          "execution_count": 9
        }
      ]
    },
    {
      "cell_type": "code",
      "source": [
        "df['Entity'].unique()"
      ],
      "metadata": {
        "id": "VO25CJ-O9BhP",
        "colab": {
          "base_uri": "https://localhost:8080/"
        },
        "outputId": "813de90d-1817-43e3-885a-06e5f05456ef"
      },
      "execution_count": null,
      "outputs": [
        {
          "output_type": "execute_result",
          "data": {
            "text/plain": [
              "array(['Afghanistan', 'African Region (WHO)', 'Albania', 'Algeria',\n",
              "       'American Samoa', 'Andorra', 'Angola', 'Antigua and Barbuda',\n",
              "       'Argentina', 'Armenia', 'Australia', 'Austria', 'Azerbaijan',\n",
              "       'Bahamas', 'Bahrain', 'Bangladesh', 'Barbados', 'Belarus',\n",
              "       'Belgium', 'Belize', 'Benin', 'Bermuda', 'Bhutan', 'Bolivia',\n",
              "       'Bosnia and Herzegovina', 'Botswana', 'Brazil', 'Brunei',\n",
              "       'Bulgaria', 'Burkina Faso', 'Burundi', 'Cambodia', 'Cameroon',\n",
              "       'Canada', 'Cape Verde', 'Central African Republic', 'Chad',\n",
              "       'Chile', 'China', 'Colombia', 'Comoros', 'Congo', 'Cook Islands',\n",
              "       'Costa Rica', \"Cote d'Ivoire\", 'Croatia', 'Cuba', 'Cyprus',\n",
              "       'Czechia', 'Democratic Republic of Congo', 'Denmark', 'Djibouti',\n",
              "       'Dominica', 'Dominican Republic', 'East Asia & Pacific (WB)',\n",
              "       'Eastern Mediterranean Region (WHO)', 'Ecuador', 'Egypt',\n",
              "       'El Salvador', 'England', 'Equatorial Guinea', 'Eritrea',\n",
              "       'Estonia', 'Eswatini', 'Ethiopia', 'Europe & Central Asia (WB)',\n",
              "       'European Region (WHO)', 'Fiji', 'Finland', 'France', 'G20',\n",
              "       'Gabon', 'Gambia', 'Georgia', 'Germany', 'Ghana', 'Greece',\n",
              "       'Greenland', 'Grenada', 'Guam', 'Guatemala', 'Guinea',\n",
              "       'Guinea-Bissau', 'Guyana', 'Haiti', 'Honduras', 'Hungary',\n",
              "       'Iceland', 'India', 'Indonesia', 'Iran', 'Iraq', 'Ireland',\n",
              "       'Israel', 'Italy', 'Jamaica', 'Japan', 'Jordan', 'Kazakhstan',\n",
              "       'Kenya', 'Kiribati', 'Kuwait', 'Kyrgyzstan', 'Laos',\n",
              "       'Latin America & Caribbean (WB)', 'Latvia', 'Lebanon', 'Lesotho',\n",
              "       'Liberia', 'Libya', 'Lithuania', 'Luxembourg', 'Madagascar',\n",
              "       'Malawi', 'Malaysia', 'Maldives', 'Mali', 'Malta',\n",
              "       'Marshall Islands', 'Mauritania', 'Mauritius', 'Mexico',\n",
              "       'Micronesia (country)', 'Middle East & North Africa (WB)',\n",
              "       'Moldova', 'Monaco', 'Mongolia', 'Montenegro', 'Morocco',\n",
              "       'Mozambique', 'Myanmar', 'Namibia', 'Nauru', 'Nepal',\n",
              "       'Netherlands', 'New Zealand', 'Nicaragua', 'Niger', 'Nigeria',\n",
              "       'Niue', 'North America (WB)', 'North Korea', 'North Macedonia',\n",
              "       'Northern Ireland', 'Northern Mariana Islands', 'Norway',\n",
              "       'OECD Countries', 'Oman', 'Pakistan', 'Palau', 'Palestine',\n",
              "       'Panama', 'Papua New Guinea', 'Paraguay', 'Peru', 'Philippines',\n",
              "       'Poland', 'Portugal', 'Puerto Rico', 'Qatar',\n",
              "       'Region of the Americas (WHO)', 'Romania', 'Russia', 'Rwanda',\n",
              "       'Saint Kitts and Nevis', 'Saint Lucia',\n",
              "       'Saint Vincent and the Grenadines', 'Samoa', 'San Marino',\n",
              "       'Sao Tome and Principe', 'Saudi Arabia', 'Scotland', 'Senegal',\n",
              "       'Serbia', 'Seychelles', 'Sierra Leone', 'Singapore', 'Slovakia',\n",
              "       'Slovenia', 'Solomon Islands', 'Somalia', 'South Africa',\n",
              "       'South Asia (WB)', 'South Korea', 'South Sudan',\n",
              "       'South-East Asia Region (WHO)', 'Spain', 'Sri Lanka',\n",
              "       'Sub-Saharan Africa (WB)', 'Sudan', 'Suriname', 'Sweden',\n",
              "       'Switzerland', 'Syria', 'Taiwan', 'Tajikistan', 'Tanzania',\n",
              "       'Thailand', 'Timor', 'Togo', 'Tokelau', 'Tonga',\n",
              "       'Trinidad and Tobago', 'Tunisia', 'Turkey', 'Turkmenistan',\n",
              "       'Tuvalu', 'Uganda', 'Ukraine', 'United Arab Emirates',\n",
              "       'United Kingdom', 'United States', 'United States Virgin Islands',\n",
              "       'Uruguay', 'Uzbekistan', 'Vanuatu', 'Venezuela', 'Vietnam',\n",
              "       'Wales', 'Western Pacific Region (WHO)', 'World',\n",
              "       'World Bank High Income', 'World Bank Low Income',\n",
              "       'World Bank Lower Middle Income', 'World Bank Upper Middle Income',\n",
              "       'Yemen', 'Zambia', 'Zimbabwe'], dtype=object)"
            ]
          },
          "metadata": {},
          "execution_count": 10
        }
      ]
    },
    {
      "cell_type": "markdown",
      "source": [
        "#Feature Engineering"
      ],
      "metadata": {
        "id": "DL9Xuq3k47Oa"
      }
    },
    {
      "cell_type": "markdown",
      "source": [
        "Adding average mortality rates for each country per year"
      ],
      "metadata": {
        "id": "5fwIyks-5vbP"
      }
    },
    {
      "cell_type": "code",
      "source": [
        "lst=[]\n",
        "for i in range(len(df)):\n",
        "  lst.append(df[['Prostate', 'Breast', 'Uterine', 'Bladder',\n",
        "       'Cervical', 'Kidney', 'Stomach', 'Nasopharynx', 'Testicular',\n",
        "       'Other pharynx', 'Esophageal', 'Non-melanoma skin', 'Pancreatic',\n",
        "       'Tracheal, bronchus, and lung', 'Lip and oral cavity',\n",
        "       'Colon and rectum', 'Gallbladder and biliary tract', 'Liver', 'Larynx',\n",
        "       'Ovarian', 'Thyroid', 'Brain and central nervous system']].iloc[i].mean(skipna=True))\n",
        "df['Avg_death_per']=lst"
      ],
      "metadata": {
        "id": "GdgS86t7C88A"
      },
      "execution_count": null,
      "outputs": []
    },
    {
      "cell_type": "markdown",
      "source": [
        "Adding average mortality rates for per country accross all years"
      ],
      "metadata": {
        "id": "jEMGUhIn57ui"
      }
    },
    {
      "cell_type": "code",
      "source": [
        "countries=list(df.Entity)\n",
        "res=[]\n",
        "for i in countries:\n",
        "  res.append(df[df['Entity']==i].iloc[:,3:25].mean(skipna=True).mean())\n",
        "df['Avg_death_per_country']=res"
      ],
      "metadata": {
        "id": "ZeawkuLqDu4y"
      },
      "execution_count": null,
      "outputs": []
    },
    {
      "cell_type": "code",
      "source": [
        "#df.to_csv('DSUC5.csv')"
      ],
      "metadata": {
        "id": "hGxKdyO8FtFj"
      },
      "execution_count": null,
      "outputs": []
    },
    {
      "cell_type": "code",
      "source": [
        "regions = df[(df['Entity']=='African Region (WHO)')|(df['Entity']=='Eastern Mediterranean Region (WHO)')|(df['Entity']=='East Asia & Pacific (WB)') | (df['Entity']=='Europe & Central Asia (WB)') | (df['Entity']=='European Region (WHO)') | (df['Entity']=='Latin America & Caribbean (WB)')|(df['Entity']=='Middle East & North Africa (WB)')|(df['Entity']=='Region of the Americas (WHO)')|(df['Entity']=='South Asia (WB)')|(df['Entity']=='South-East Asia Region (WHO)')|(df['Entity']=='Sub-Saharan Africa (WB)')|(df['Entity']=='Western Pacific Region (WHO)')|(df['Entity']=='North America (WB)')]\n",
        "worlds = df[(df['Entity']=='World')|(df['Entity']=='World Bank High Income') | (df['Entity']=='World Bank Low Income') | (df['Entity']=='World Bank Lower Middle Income') | (df['Entity']=='World Bank Upper Middle Income')]\n",
        "countries=df[~ ((df['Entity']=='African Region (WHO)')|(df['Entity']=='Eastern Mediterranean Region (WHO)') |(df['Entity']=='East Asia & Pacific (WB)') |(df['Entity']=='Europe & Central Asia (WB)') | (df['Entity']=='European Region (WHO)') | (df['Entity']=='Latin America & Caribbean (WB)')|(df['Entity']=='Middle East & North Africa (WB)')|(df['Entity']=='Region of the Americas (WHO)')|(df['Entity']=='South Asia (WB)')|(df['Entity']=='South-East Asia Region (WHO)')|(df['Entity']=='Sub-Saharan Africa (WB)')|(df['Entity']=='Western Pacific Region (WHO)')|(df['Entity']=='North America (WB)')|(df['Entity']=='World')|(df['Entity']=='World Bank High Income') | (df['Entity']=='World Bank Low Income') | (df['Entity']=='World Bank Lower Middle Income') | (df['Entity']=='World Bank Upper Middle Income'))]"
      ],
      "metadata": {
        "id": "7z6ZTxD7mjnG"
      },
      "execution_count": null,
      "outputs": []
    },
    {
      "cell_type": "code",
      "source": [
        "countries['Entity'].unique()"
      ],
      "metadata": {
        "id": "qOGwR0dsyV1i",
        "colab": {
          "base_uri": "https://localhost:8080/"
        },
        "outputId": "63c8bae9-554f-4993-96e5-5beed245260b"
      },
      "execution_count": null,
      "outputs": [
        {
          "output_type": "execute_result",
          "data": {
            "text/plain": [
              "array(['Afghanistan', 'Albania', 'Algeria', 'American Samoa', 'Andorra',\n",
              "       'Angola', 'Antigua and Barbuda', 'Argentina', 'Armenia',\n",
              "       'Australia', 'Austria', 'Azerbaijan', 'Bahamas', 'Bahrain',\n",
              "       'Bangladesh', 'Barbados', 'Belarus', 'Belgium', 'Belize', 'Benin',\n",
              "       'Bermuda', 'Bhutan', 'Bolivia', 'Bosnia and Herzegovina',\n",
              "       'Botswana', 'Brazil', 'Brunei', 'Bulgaria', 'Burkina Faso',\n",
              "       'Burundi', 'Cambodia', 'Cameroon', 'Canada', 'Cape Verde',\n",
              "       'Central African Republic', 'Chad', 'Chile', 'China', 'Colombia',\n",
              "       'Comoros', 'Congo', 'Cook Islands', 'Costa Rica', \"Cote d'Ivoire\",\n",
              "       'Croatia', 'Cuba', 'Cyprus', 'Czechia',\n",
              "       'Democratic Republic of Congo', 'Denmark', 'Djibouti', 'Dominica',\n",
              "       'Dominican Republic', 'Ecuador', 'Egypt', 'El Salvador', 'England',\n",
              "       'Equatorial Guinea', 'Eritrea', 'Estonia', 'Eswatini', 'Ethiopia',\n",
              "       'Fiji', 'Finland', 'France', 'G20', 'Gabon', 'Gambia', 'Georgia',\n",
              "       'Germany', 'Ghana', 'Greece', 'Greenland', 'Grenada', 'Guam',\n",
              "       'Guatemala', 'Guinea', 'Guinea-Bissau', 'Guyana', 'Haiti',\n",
              "       'Honduras', 'Hungary', 'Iceland', 'India', 'Indonesia', 'Iran',\n",
              "       'Iraq', 'Ireland', 'Israel', 'Italy', 'Jamaica', 'Japan', 'Jordan',\n",
              "       'Kazakhstan', 'Kenya', 'Kiribati', 'Kuwait', 'Kyrgyzstan', 'Laos',\n",
              "       'Latvia', 'Lebanon', 'Lesotho', 'Liberia', 'Libya', 'Lithuania',\n",
              "       'Luxembourg', 'Madagascar', 'Malawi', 'Malaysia', 'Maldives',\n",
              "       'Mali', 'Malta', 'Marshall Islands', 'Mauritania', 'Mauritius',\n",
              "       'Mexico', 'Micronesia (country)', 'Moldova', 'Monaco', 'Mongolia',\n",
              "       'Montenegro', 'Morocco', 'Mozambique', 'Myanmar', 'Namibia',\n",
              "       'Nauru', 'Nepal', 'Netherlands', 'New Zealand', 'Nicaragua',\n",
              "       'Niger', 'Nigeria', 'Niue', 'North Korea', 'North Macedonia',\n",
              "       'Northern Ireland', 'Northern Mariana Islands', 'Norway',\n",
              "       'OECD Countries', 'Oman', 'Pakistan', 'Palau', 'Palestine',\n",
              "       'Panama', 'Papua New Guinea', 'Paraguay', 'Peru', 'Philippines',\n",
              "       'Poland', 'Portugal', 'Puerto Rico', 'Qatar', 'Romania', 'Russia',\n",
              "       'Rwanda', 'Saint Kitts and Nevis', 'Saint Lucia',\n",
              "       'Saint Vincent and the Grenadines', 'Samoa', 'San Marino',\n",
              "       'Sao Tome and Principe', 'Saudi Arabia', 'Scotland', 'Senegal',\n",
              "       'Serbia', 'Seychelles', 'Sierra Leone', 'Singapore', 'Slovakia',\n",
              "       'Slovenia', 'Solomon Islands', 'Somalia', 'South Africa',\n",
              "       'South Korea', 'South Sudan', 'Spain', 'Sri Lanka', 'Sudan',\n",
              "       'Suriname', 'Sweden', 'Switzerland', 'Syria', 'Taiwan',\n",
              "       'Tajikistan', 'Tanzania', 'Thailand', 'Timor', 'Togo', 'Tokelau',\n",
              "       'Tonga', 'Trinidad and Tobago', 'Tunisia', 'Turkey',\n",
              "       'Turkmenistan', 'Tuvalu', 'Uganda', 'Ukraine',\n",
              "       'United Arab Emirates', 'United Kingdom', 'United States',\n",
              "       'United States Virgin Islands', 'Uruguay', 'Uzbekistan', 'Vanuatu',\n",
              "       'Venezuela', 'Vietnam', 'Wales', 'Yemen', 'Zambia', 'Zimbabwe'],\n",
              "      dtype=object)"
            ]
          },
          "metadata": {},
          "execution_count": 15
        }
      ]
    },
    {
      "cell_type": "code",
      "source": [
        "arabs= countries[(countries['Entity']=='Algeria')|(countries['Entity']=='Bahrain')|(countries['Entity']=='Egypt')|(countries['Entity']=='Iraq')|(countries['Entity']=='Kuwait')|(countries['Entity']=='Lebanon')|(countries['Entity']=='Libya')|(countries['Entity']=='Mauritania')|(countries['Entity']=='Morocco')|(countries['Entity']=='Oman')|(countries['Entity']=='Palestine')|(countries['Entity']=='Somalia')|(countries['Entity']=='Sudan')\n",
        "|(countries['Entity']=='Syria')|(countries['Entity']=='United Arab Emirates')|(countries['Entity']=='Jordan') | (countries['Entity']=='Qatar') | (countries['Entity']=='Saudi Arabia') | (countries['Entity']=='Tunisia')|(countries['Entity']=='Yemen')]\n",
        "nonarab = countries[~((countries['Entity']=='Algeria')|(countries['Entity']=='Bahrain')|(countries['Entity']=='Egypt')|(countries['Entity']=='Iraq')|(countries['Entity']=='Kuwait')|(countries['Entity']=='Lebanon')|(countries['Entity']=='Libya')|(countries['Entity']=='Mauritania')|(countries['Entity']=='Morocco')|(countries['Entity']=='Oman')|(countries['Entity']=='Palestine')|(countries['Entity']=='Somalia')|(countries['Entity']=='Sudan')|(countries['Entity']=='South Sudan')|(countries['Entity']=='Syria')|(countries['Entity']=='United Arab Emirates')|(countries['Entity']=='Jordan') | (countries['Entity']=='Qatar') | (countries['Entity']=='Saudi Arabia') | (countries['Entity']=='Tunisia')|(countries['Entity']=='Yemen'))]"
      ],
      "metadata": {
        "id": "6HHLzp27JDx8"
      },
      "execution_count": null,
      "outputs": []
    },
    {
      "cell_type": "markdown",
      "source": [
        "Adding Quartiles based on the average mortality rate per year"
      ],
      "metadata": {
        "id": "7JYnwOXCkpcu"
      }
    },
    {
      "cell_type": "code",
      "source": [
        "arabs['quar_years']= pd.qcut(arabs['Avg_death_per'].values, [0, .25, .5, .75, 1.], labels=['Low','Medium','High','Very High'])\n",
        "nonarab['quar_years']= pd.qcut(nonarab['Avg_death_per'].values, [0, .25, .5, .75, 1.], labels=['Low','Medium','High','Very High'])\n"
      ],
      "metadata": {
        "colab": {
          "base_uri": "https://localhost:8080/"
        },
        "id": "J09HQTJykdAV",
        "outputId": "671d4371-b4ed-4214-c672-b6e7e7448901"
      },
      "execution_count": null,
      "outputs": [
        {
          "output_type": "stream",
          "name": "stderr",
          "text": [
            "<ipython-input-17-8fd57215778a>:1: SettingWithCopyWarning: \n",
            "A value is trying to be set on a copy of a slice from a DataFrame.\n",
            "Try using .loc[row_indexer,col_indexer] = value instead\n",
            "\n",
            "See the caveats in the documentation: https://pandas.pydata.org/pandas-docs/stable/user_guide/indexing.html#returning-a-view-versus-a-copy\n",
            "  arabs['quar_years']= pd.qcut(arabs['Avg_death_per'].values, [0, .25, .5, .75, 1.], labels=['Low','Medium','High','Very High'])\n",
            "<ipython-input-17-8fd57215778a>:2: SettingWithCopyWarning: \n",
            "A value is trying to be set on a copy of a slice from a DataFrame.\n",
            "Try using .loc[row_indexer,col_indexer] = value instead\n",
            "\n",
            "See the caveats in the documentation: https://pandas.pydata.org/pandas-docs/stable/user_guide/indexing.html#returning-a-view-versus-a-copy\n",
            "  nonarab['quar_years']= pd.qcut(nonarab['Avg_death_per'].values, [0, .25, .5, .75, 1.], labels=['Low','Medium','High','Very High'])\n"
          ]
        }
      ]
    },
    {
      "cell_type": "markdown",
      "source": [
        "Adding Quartiles based on the average mortality rate per country "
      ],
      "metadata": {
        "id": "0-POQq7UkuHO"
      }
    },
    {
      "cell_type": "code",
      "source": [
        "arabs['quar_country']= pd.qcut(arabs['Avg_death_per_country'].values, [0, .25, .5, .75, 1.], labels=['Low','Medium','High','Very High'])\n",
        "nonarab['quar_country']= pd.qcut(nonarab['Avg_death_per_country'].values, [0, .25, .5, .75, 1.], labels=['Low','Medium','High','Very High'])"
      ],
      "metadata": {
        "colab": {
          "base_uri": "https://localhost:8080/"
        },
        "id": "w6P4MtU1kuPM",
        "outputId": "ccb07078-3a99-4b27-ce30-e5cf49b5c09e"
      },
      "execution_count": null,
      "outputs": [
        {
          "output_type": "stream",
          "name": "stderr",
          "text": [
            "<ipython-input-18-3f24bb58c19a>:1: SettingWithCopyWarning: \n",
            "A value is trying to be set on a copy of a slice from a DataFrame.\n",
            "Try using .loc[row_indexer,col_indexer] = value instead\n",
            "\n",
            "See the caveats in the documentation: https://pandas.pydata.org/pandas-docs/stable/user_guide/indexing.html#returning-a-view-versus-a-copy\n",
            "  arabs['quar_country']= pd.qcut(arabs['Avg_death_per_country'].values, [0, .25, .5, .75, 1.], labels=['Low','Medium','High','Very High'])\n",
            "<ipython-input-18-3f24bb58c19a>:2: SettingWithCopyWarning: \n",
            "A value is trying to be set on a copy of a slice from a DataFrame.\n",
            "Try using .loc[row_indexer,col_indexer] = value instead\n",
            "\n",
            "See the caveats in the documentation: https://pandas.pydata.org/pandas-docs/stable/user_guide/indexing.html#returning-a-view-versus-a-copy\n",
            "  nonarab['quar_country']= pd.qcut(nonarab['Avg_death_per_country'].values, [0, .25, .5, .75, 1.], labels=['Low','Medium','High','Very High'])\n"
          ]
        }
      ]
    },
    {
      "cell_type": "code",
      "source": [
        "arabs"
      ],
      "metadata": {
        "colab": {
          "base_uri": "https://localhost:8080/",
          "height": 557
        },
        "id": "7nBLRvgp9scA",
        "outputId": "bd267d35-4645-41b3-cc73-138577bc51d4"
      },
      "execution_count": null,
      "outputs": [
        {
          "output_type": "execute_result",
          "data": {
            "text/plain": [
              "       Entity Code  Year  Prostate  Breast  Uterine  Bladder  Cervical  \\\n",
              "90    Algeria  DZA  1990      6.19    8.49     0.52     3.04      3.75   \n",
              "91    Algeria  DZA  1991      6.21    8.50     0.51     3.00      3.67   \n",
              "92    Algeria  DZA  1992      6.13    8.30     0.49     2.92      3.59   \n",
              "93    Algeria  DZA  1993      6.05    8.18     0.47     2.86      3.53   \n",
              "94    Algeria  DZA  1994      5.99    8.12     0.46     2.81      3.48   \n",
              "...       ...  ...   ...       ...     ...      ...      ...       ...   \n",
              "6775    Yemen  YEM  2015      5.64    6.51     0.48     2.98      1.95   \n",
              "6776    Yemen  YEM  2016      5.64    6.65     0.49     2.96      1.96   \n",
              "6777    Yemen  YEM  2017      5.65    6.79     0.49     2.95      1.99   \n",
              "6778    Yemen  YEM  2018      5.68    6.92     0.50     2.96      2.01   \n",
              "6779    Yemen  YEM  2019      5.68    6.98     0.50     2.95      2.03   \n",
              "\n",
              "      Kidney  Stomach  ...  Gallbladder and biliary tract  Liver  Larynx  \\\n",
              "90      0.72     9.62  ...                           4.39   1.81    2.51   \n",
              "91      0.72     9.22  ...                           4.31   1.83    2.46   \n",
              "92      0.72     8.89  ...                           4.29   1.88    2.38   \n",
              "93      0.72     8.60  ...                           4.28   1.92    2.31   \n",
              "94      0.72     8.36  ...                           4.28   1.95    2.24   \n",
              "...      ...      ...  ...                            ...    ...     ...   \n",
              "6775    0.76    19.59  ...                           1.56   3.35    2.40   \n",
              "6776    0.76    19.65  ...                           1.56   3.37    2.42   \n",
              "6777    0.76    19.82  ...                           1.57   3.39    2.44   \n",
              "6778    0.76    20.06  ...                           1.58   3.40    2.48   \n",
              "6779    0.75    20.20  ...                           1.59   3.42    2.49   \n",
              "\n",
              "      Ovarian  Thyroid  Brain and central nervous system  Avg_death_per  \\\n",
              "90       0.96     0.50                              1.48       3.327727   \n",
              "91       0.98     0.50                              1.46       3.297727   \n",
              "92       0.99     0.50                              1.47       3.244545   \n",
              "93       1.01     0.50                              1.48       3.201818   \n",
              "94       1.04     0.50                              1.49       3.168636   \n",
              "...       ...      ...                               ...            ...   \n",
              "6775     0.90     0.52                              3.31       3.478182   \n",
              "6776     0.93     0.53                              3.34       3.485000   \n",
              "6777     0.96     0.53                              3.37       3.499545   \n",
              "6778     0.98     0.54                              3.41       3.522273   \n",
              "6779     0.98     0.54                              3.42       3.525455   \n",
              "\n",
              "      Avg_death_per_country  quar_years  quar_country  \n",
              "90                 2.956697      Medium           Low  \n",
              "91                 2.956697      Medium           Low  \n",
              "92                 2.956697      Medium           Low  \n",
              "93                 2.956697      Medium           Low  \n",
              "94                 2.956697      Medium           Low  \n",
              "...                     ...         ...           ...  \n",
              "6775               3.351076      Medium        Medium  \n",
              "6776               3.351076      Medium        Medium  \n",
              "6777               3.351076        High        Medium  \n",
              "6778               3.351076        High        Medium  \n",
              "6779               3.351076        High        Medium  \n",
              "\n",
              "[600 rows x 29 columns]"
            ],
            "text/html": [
              "\n",
              "  <div id=\"df-9d2d1cf3-9e16-4f27-bbad-184a4fa628f8\">\n",
              "    <div class=\"colab-df-container\">\n",
              "      <div>\n",
              "<style scoped>\n",
              "    .dataframe tbody tr th:only-of-type {\n",
              "        vertical-align: middle;\n",
              "    }\n",
              "\n",
              "    .dataframe tbody tr th {\n",
              "        vertical-align: top;\n",
              "    }\n",
              "\n",
              "    .dataframe thead th {\n",
              "        text-align: right;\n",
              "    }\n",
              "</style>\n",
              "<table border=\"1\" class=\"dataframe\">\n",
              "  <thead>\n",
              "    <tr style=\"text-align: right;\">\n",
              "      <th></th>\n",
              "      <th>Entity</th>\n",
              "      <th>Code</th>\n",
              "      <th>Year</th>\n",
              "      <th>Prostate</th>\n",
              "      <th>Breast</th>\n",
              "      <th>Uterine</th>\n",
              "      <th>Bladder</th>\n",
              "      <th>Cervical</th>\n",
              "      <th>Kidney</th>\n",
              "      <th>Stomach</th>\n",
              "      <th>...</th>\n",
              "      <th>Gallbladder and biliary tract</th>\n",
              "      <th>Liver</th>\n",
              "      <th>Larynx</th>\n",
              "      <th>Ovarian</th>\n",
              "      <th>Thyroid</th>\n",
              "      <th>Brain and central nervous system</th>\n",
              "      <th>Avg_death_per</th>\n",
              "      <th>Avg_death_per_country</th>\n",
              "      <th>quar_years</th>\n",
              "      <th>quar_country</th>\n",
              "    </tr>\n",
              "  </thead>\n",
              "  <tbody>\n",
              "    <tr>\n",
              "      <th>90</th>\n",
              "      <td>Algeria</td>\n",
              "      <td>DZA</td>\n",
              "      <td>1990</td>\n",
              "      <td>6.19</td>\n",
              "      <td>8.49</td>\n",
              "      <td>0.52</td>\n",
              "      <td>3.04</td>\n",
              "      <td>3.75</td>\n",
              "      <td>0.72</td>\n",
              "      <td>9.62</td>\n",
              "      <td>...</td>\n",
              "      <td>4.39</td>\n",
              "      <td>1.81</td>\n",
              "      <td>2.51</td>\n",
              "      <td>0.96</td>\n",
              "      <td>0.50</td>\n",
              "      <td>1.48</td>\n",
              "      <td>3.327727</td>\n",
              "      <td>2.956697</td>\n",
              "      <td>Medium</td>\n",
              "      <td>Low</td>\n",
              "    </tr>\n",
              "    <tr>\n",
              "      <th>91</th>\n",
              "      <td>Algeria</td>\n",
              "      <td>DZA</td>\n",
              "      <td>1991</td>\n",
              "      <td>6.21</td>\n",
              "      <td>8.50</td>\n",
              "      <td>0.51</td>\n",
              "      <td>3.00</td>\n",
              "      <td>3.67</td>\n",
              "      <td>0.72</td>\n",
              "      <td>9.22</td>\n",
              "      <td>...</td>\n",
              "      <td>4.31</td>\n",
              "      <td>1.83</td>\n",
              "      <td>2.46</td>\n",
              "      <td>0.98</td>\n",
              "      <td>0.50</td>\n",
              "      <td>1.46</td>\n",
              "      <td>3.297727</td>\n",
              "      <td>2.956697</td>\n",
              "      <td>Medium</td>\n",
              "      <td>Low</td>\n",
              "    </tr>\n",
              "    <tr>\n",
              "      <th>92</th>\n",
              "      <td>Algeria</td>\n",
              "      <td>DZA</td>\n",
              "      <td>1992</td>\n",
              "      <td>6.13</td>\n",
              "      <td>8.30</td>\n",
              "      <td>0.49</td>\n",
              "      <td>2.92</td>\n",
              "      <td>3.59</td>\n",
              "      <td>0.72</td>\n",
              "      <td>8.89</td>\n",
              "      <td>...</td>\n",
              "      <td>4.29</td>\n",
              "      <td>1.88</td>\n",
              "      <td>2.38</td>\n",
              "      <td>0.99</td>\n",
              "      <td>0.50</td>\n",
              "      <td>1.47</td>\n",
              "      <td>3.244545</td>\n",
              "      <td>2.956697</td>\n",
              "      <td>Medium</td>\n",
              "      <td>Low</td>\n",
              "    </tr>\n",
              "    <tr>\n",
              "      <th>93</th>\n",
              "      <td>Algeria</td>\n",
              "      <td>DZA</td>\n",
              "      <td>1993</td>\n",
              "      <td>6.05</td>\n",
              "      <td>8.18</td>\n",
              "      <td>0.47</td>\n",
              "      <td>2.86</td>\n",
              "      <td>3.53</td>\n",
              "      <td>0.72</td>\n",
              "      <td>8.60</td>\n",
              "      <td>...</td>\n",
              "      <td>4.28</td>\n",
              "      <td>1.92</td>\n",
              "      <td>2.31</td>\n",
              "      <td>1.01</td>\n",
              "      <td>0.50</td>\n",
              "      <td>1.48</td>\n",
              "      <td>3.201818</td>\n",
              "      <td>2.956697</td>\n",
              "      <td>Medium</td>\n",
              "      <td>Low</td>\n",
              "    </tr>\n",
              "    <tr>\n",
              "      <th>94</th>\n",
              "      <td>Algeria</td>\n",
              "      <td>DZA</td>\n",
              "      <td>1994</td>\n",
              "      <td>5.99</td>\n",
              "      <td>8.12</td>\n",
              "      <td>0.46</td>\n",
              "      <td>2.81</td>\n",
              "      <td>3.48</td>\n",
              "      <td>0.72</td>\n",
              "      <td>8.36</td>\n",
              "      <td>...</td>\n",
              "      <td>4.28</td>\n",
              "      <td>1.95</td>\n",
              "      <td>2.24</td>\n",
              "      <td>1.04</td>\n",
              "      <td>0.50</td>\n",
              "      <td>1.49</td>\n",
              "      <td>3.168636</td>\n",
              "      <td>2.956697</td>\n",
              "      <td>Medium</td>\n",
              "      <td>Low</td>\n",
              "    </tr>\n",
              "    <tr>\n",
              "      <th>...</th>\n",
              "      <td>...</td>\n",
              "      <td>...</td>\n",
              "      <td>...</td>\n",
              "      <td>...</td>\n",
              "      <td>...</td>\n",
              "      <td>...</td>\n",
              "      <td>...</td>\n",
              "      <td>...</td>\n",
              "      <td>...</td>\n",
              "      <td>...</td>\n",
              "      <td>...</td>\n",
              "      <td>...</td>\n",
              "      <td>...</td>\n",
              "      <td>...</td>\n",
              "      <td>...</td>\n",
              "      <td>...</td>\n",
              "      <td>...</td>\n",
              "      <td>...</td>\n",
              "      <td>...</td>\n",
              "      <td>...</td>\n",
              "      <td>...</td>\n",
              "    </tr>\n",
              "    <tr>\n",
              "      <th>6775</th>\n",
              "      <td>Yemen</td>\n",
              "      <td>YEM</td>\n",
              "      <td>2015</td>\n",
              "      <td>5.64</td>\n",
              "      <td>6.51</td>\n",
              "      <td>0.48</td>\n",
              "      <td>2.98</td>\n",
              "      <td>1.95</td>\n",
              "      <td>0.76</td>\n",
              "      <td>19.59</td>\n",
              "      <td>...</td>\n",
              "      <td>1.56</td>\n",
              "      <td>3.35</td>\n",
              "      <td>2.40</td>\n",
              "      <td>0.90</td>\n",
              "      <td>0.52</td>\n",
              "      <td>3.31</td>\n",
              "      <td>3.478182</td>\n",
              "      <td>3.351076</td>\n",
              "      <td>Medium</td>\n",
              "      <td>Medium</td>\n",
              "    </tr>\n",
              "    <tr>\n",
              "      <th>6776</th>\n",
              "      <td>Yemen</td>\n",
              "      <td>YEM</td>\n",
              "      <td>2016</td>\n",
              "      <td>5.64</td>\n",
              "      <td>6.65</td>\n",
              "      <td>0.49</td>\n",
              "      <td>2.96</td>\n",
              "      <td>1.96</td>\n",
              "      <td>0.76</td>\n",
              "      <td>19.65</td>\n",
              "      <td>...</td>\n",
              "      <td>1.56</td>\n",
              "      <td>3.37</td>\n",
              "      <td>2.42</td>\n",
              "      <td>0.93</td>\n",
              "      <td>0.53</td>\n",
              "      <td>3.34</td>\n",
              "      <td>3.485000</td>\n",
              "      <td>3.351076</td>\n",
              "      <td>Medium</td>\n",
              "      <td>Medium</td>\n",
              "    </tr>\n",
              "    <tr>\n",
              "      <th>6777</th>\n",
              "      <td>Yemen</td>\n",
              "      <td>YEM</td>\n",
              "      <td>2017</td>\n",
              "      <td>5.65</td>\n",
              "      <td>6.79</td>\n",
              "      <td>0.49</td>\n",
              "      <td>2.95</td>\n",
              "      <td>1.99</td>\n",
              "      <td>0.76</td>\n",
              "      <td>19.82</td>\n",
              "      <td>...</td>\n",
              "      <td>1.57</td>\n",
              "      <td>3.39</td>\n",
              "      <td>2.44</td>\n",
              "      <td>0.96</td>\n",
              "      <td>0.53</td>\n",
              "      <td>3.37</td>\n",
              "      <td>3.499545</td>\n",
              "      <td>3.351076</td>\n",
              "      <td>High</td>\n",
              "      <td>Medium</td>\n",
              "    </tr>\n",
              "    <tr>\n",
              "      <th>6778</th>\n",
              "      <td>Yemen</td>\n",
              "      <td>YEM</td>\n",
              "      <td>2018</td>\n",
              "      <td>5.68</td>\n",
              "      <td>6.92</td>\n",
              "      <td>0.50</td>\n",
              "      <td>2.96</td>\n",
              "      <td>2.01</td>\n",
              "      <td>0.76</td>\n",
              "      <td>20.06</td>\n",
              "      <td>...</td>\n",
              "      <td>1.58</td>\n",
              "      <td>3.40</td>\n",
              "      <td>2.48</td>\n",
              "      <td>0.98</td>\n",
              "      <td>0.54</td>\n",
              "      <td>3.41</td>\n",
              "      <td>3.522273</td>\n",
              "      <td>3.351076</td>\n",
              "      <td>High</td>\n",
              "      <td>Medium</td>\n",
              "    </tr>\n",
              "    <tr>\n",
              "      <th>6779</th>\n",
              "      <td>Yemen</td>\n",
              "      <td>YEM</td>\n",
              "      <td>2019</td>\n",
              "      <td>5.68</td>\n",
              "      <td>6.98</td>\n",
              "      <td>0.50</td>\n",
              "      <td>2.95</td>\n",
              "      <td>2.03</td>\n",
              "      <td>0.75</td>\n",
              "      <td>20.20</td>\n",
              "      <td>...</td>\n",
              "      <td>1.59</td>\n",
              "      <td>3.42</td>\n",
              "      <td>2.49</td>\n",
              "      <td>0.98</td>\n",
              "      <td>0.54</td>\n",
              "      <td>3.42</td>\n",
              "      <td>3.525455</td>\n",
              "      <td>3.351076</td>\n",
              "      <td>High</td>\n",
              "      <td>Medium</td>\n",
              "    </tr>\n",
              "  </tbody>\n",
              "</table>\n",
              "<p>600 rows × 29 columns</p>\n",
              "</div>\n",
              "      <button class=\"colab-df-convert\" onclick=\"convertToInteractive('df-9d2d1cf3-9e16-4f27-bbad-184a4fa628f8')\"\n",
              "              title=\"Convert this dataframe to an interactive table.\"\n",
              "              style=\"display:none;\">\n",
              "        \n",
              "  <svg xmlns=\"http://www.w3.org/2000/svg\" height=\"24px\"viewBox=\"0 0 24 24\"\n",
              "       width=\"24px\">\n",
              "    <path d=\"M0 0h24v24H0V0z\" fill=\"none\"/>\n",
              "    <path d=\"M18.56 5.44l.94 2.06.94-2.06 2.06-.94-2.06-.94-.94-2.06-.94 2.06-2.06.94zm-11 1L8.5 8.5l.94-2.06 2.06-.94-2.06-.94L8.5 2.5l-.94 2.06-2.06.94zm10 10l.94 2.06.94-2.06 2.06-.94-2.06-.94-.94-2.06-.94 2.06-2.06.94z\"/><path d=\"M17.41 7.96l-1.37-1.37c-.4-.4-.92-.59-1.43-.59-.52 0-1.04.2-1.43.59L10.3 9.45l-7.72 7.72c-.78.78-.78 2.05 0 2.83L4 21.41c.39.39.9.59 1.41.59.51 0 1.02-.2 1.41-.59l7.78-7.78 2.81-2.81c.8-.78.8-2.07 0-2.86zM5.41 20L4 18.59l7.72-7.72 1.47 1.35L5.41 20z\"/>\n",
              "  </svg>\n",
              "      </button>\n",
              "      \n",
              "  <style>\n",
              "    .colab-df-container {\n",
              "      display:flex;\n",
              "      flex-wrap:wrap;\n",
              "      gap: 12px;\n",
              "    }\n",
              "\n",
              "    .colab-df-convert {\n",
              "      background-color: #E8F0FE;\n",
              "      border: none;\n",
              "      border-radius: 50%;\n",
              "      cursor: pointer;\n",
              "      display: none;\n",
              "      fill: #1967D2;\n",
              "      height: 32px;\n",
              "      padding: 0 0 0 0;\n",
              "      width: 32px;\n",
              "    }\n",
              "\n",
              "    .colab-df-convert:hover {\n",
              "      background-color: #E2EBFA;\n",
              "      box-shadow: 0px 1px 2px rgba(60, 64, 67, 0.3), 0px 1px 3px 1px rgba(60, 64, 67, 0.15);\n",
              "      fill: #174EA6;\n",
              "    }\n",
              "\n",
              "    [theme=dark] .colab-df-convert {\n",
              "      background-color: #3B4455;\n",
              "      fill: #D2E3FC;\n",
              "    }\n",
              "\n",
              "    [theme=dark] .colab-df-convert:hover {\n",
              "      background-color: #434B5C;\n",
              "      box-shadow: 0px 1px 3px 1px rgba(0, 0, 0, 0.15);\n",
              "      filter: drop-shadow(0px 1px 2px rgba(0, 0, 0, 0.3));\n",
              "      fill: #FFFFFF;\n",
              "    }\n",
              "  </style>\n",
              "\n",
              "      <script>\n",
              "        const buttonEl =\n",
              "          document.querySelector('#df-9d2d1cf3-9e16-4f27-bbad-184a4fa628f8 button.colab-df-convert');\n",
              "        buttonEl.style.display =\n",
              "          google.colab.kernel.accessAllowed ? 'block' : 'none';\n",
              "\n",
              "        async function convertToInteractive(key) {\n",
              "          const element = document.querySelector('#df-9d2d1cf3-9e16-4f27-bbad-184a4fa628f8');\n",
              "          const dataTable =\n",
              "            await google.colab.kernel.invokeFunction('convertToInteractive',\n",
              "                                                     [key], {});\n",
              "          if (!dataTable) return;\n",
              "\n",
              "          const docLinkHtml = 'Like what you see? Visit the ' +\n",
              "            '<a target=\"_blank\" href=https://colab.research.google.com/notebooks/data_table.ipynb>data table notebook</a>'\n",
              "            + ' to learn more about interactive tables.';\n",
              "          element.innerHTML = '';\n",
              "          dataTable['output_type'] = 'display_data';\n",
              "          await google.colab.output.renderOutput(dataTable, element);\n",
              "          const docLink = document.createElement('div');\n",
              "          docLink.innerHTML = docLinkHtml;\n",
              "          element.appendChild(docLink);\n",
              "        }\n",
              "      </script>\n",
              "    </div>\n",
              "  </div>\n",
              "  "
            ]
          },
          "metadata": {},
          "execution_count": 19
        }
      ]
    },
    {
      "cell_type": "code",
      "source": [
        "lst=[]\n",
        "for i in arabs.Entity.unique():\n",
        "  lst.append(arabs[arabs['Entity']==i]['quar_country'].unique()[0])"
      ],
      "metadata": {
        "id": "5Il6VzMmA4wV"
      },
      "execution_count": null,
      "outputs": []
    },
    {
      "cell_type": "code",
      "source": [
        "arabs[arabs['Entity']==i]['quar_country'].unique()"
      ],
      "metadata": {
        "colab": {
          "base_uri": "https://localhost:8080/"
        },
        "id": "5VA3iLJUBWFY",
        "outputId": "e8dde361-1b37-41d2-832f-04c0df0d470b"
      },
      "execution_count": null,
      "outputs": [
        {
          "output_type": "execute_result",
          "data": {
            "text/plain": [
              "['Medium']\n",
              "Categories (4, object): ['Low' < 'Medium' < 'High' < 'Very High']"
            ]
          },
          "metadata": {},
          "execution_count": 21
        }
      ]
    },
    {
      "cell_type": "code",
      "source": [
        "arabs.groupby(['quar_country'])['Entity'].value_counts().to_frame()"
      ],
      "metadata": {
        "colab": {
          "base_uri": "https://localhost:8080/",
          "height": 708
        },
        "id": "6HChpEmCE46C",
        "outputId": "6836d8ef-d2e9-422a-ee4f-d77ba9160d4f"
      },
      "execution_count": null,
      "outputs": [
        {
          "output_type": "execute_result",
          "data": {
            "text/plain": [
              "                                   Entity\n",
              "quar_country Entity                      \n",
              "Low          Algeria                   30\n",
              "             Kuwait                    30\n",
              "             Saudi Arabia              30\n",
              "             Sudan                     30\n",
              "             Syria                     30\n",
              "Medium       Egypt                     30\n",
              "             Morocco                   30\n",
              "             Oman                      30\n",
              "             Tunisia                   30\n",
              "             Yemen                     30\n",
              "High         Iraq                      30\n",
              "             Jordan                    30\n",
              "             Libya                     30\n",
              "             Mauritania                30\n",
              "             Somalia                   30\n",
              "Very High    Bahrain                   30\n",
              "             Lebanon                   30\n",
              "             Palestine                 30\n",
              "             Qatar                     30\n",
              "             United Arab Emirates      30"
            ],
            "text/html": [
              "\n",
              "  <div id=\"df-f5746ff8-475f-43b6-9f38-d3ed6bc3fd86\">\n",
              "    <div class=\"colab-df-container\">\n",
              "      <div>\n",
              "<style scoped>\n",
              "    .dataframe tbody tr th:only-of-type {\n",
              "        vertical-align: middle;\n",
              "    }\n",
              "\n",
              "    .dataframe tbody tr th {\n",
              "        vertical-align: top;\n",
              "    }\n",
              "\n",
              "    .dataframe thead th {\n",
              "        text-align: right;\n",
              "    }\n",
              "</style>\n",
              "<table border=\"1\" class=\"dataframe\">\n",
              "  <thead>\n",
              "    <tr style=\"text-align: right;\">\n",
              "      <th></th>\n",
              "      <th></th>\n",
              "      <th>Entity</th>\n",
              "    </tr>\n",
              "    <tr>\n",
              "      <th>quar_country</th>\n",
              "      <th>Entity</th>\n",
              "      <th></th>\n",
              "    </tr>\n",
              "  </thead>\n",
              "  <tbody>\n",
              "    <tr>\n",
              "      <th rowspan=\"5\" valign=\"top\">Low</th>\n",
              "      <th>Algeria</th>\n",
              "      <td>30</td>\n",
              "    </tr>\n",
              "    <tr>\n",
              "      <th>Kuwait</th>\n",
              "      <td>30</td>\n",
              "    </tr>\n",
              "    <tr>\n",
              "      <th>Saudi Arabia</th>\n",
              "      <td>30</td>\n",
              "    </tr>\n",
              "    <tr>\n",
              "      <th>Sudan</th>\n",
              "      <td>30</td>\n",
              "    </tr>\n",
              "    <tr>\n",
              "      <th>Syria</th>\n",
              "      <td>30</td>\n",
              "    </tr>\n",
              "    <tr>\n",
              "      <th rowspan=\"5\" valign=\"top\">Medium</th>\n",
              "      <th>Egypt</th>\n",
              "      <td>30</td>\n",
              "    </tr>\n",
              "    <tr>\n",
              "      <th>Morocco</th>\n",
              "      <td>30</td>\n",
              "    </tr>\n",
              "    <tr>\n",
              "      <th>Oman</th>\n",
              "      <td>30</td>\n",
              "    </tr>\n",
              "    <tr>\n",
              "      <th>Tunisia</th>\n",
              "      <td>30</td>\n",
              "    </tr>\n",
              "    <tr>\n",
              "      <th>Yemen</th>\n",
              "      <td>30</td>\n",
              "    </tr>\n",
              "    <tr>\n",
              "      <th rowspan=\"5\" valign=\"top\">High</th>\n",
              "      <th>Iraq</th>\n",
              "      <td>30</td>\n",
              "    </tr>\n",
              "    <tr>\n",
              "      <th>Jordan</th>\n",
              "      <td>30</td>\n",
              "    </tr>\n",
              "    <tr>\n",
              "      <th>Libya</th>\n",
              "      <td>30</td>\n",
              "    </tr>\n",
              "    <tr>\n",
              "      <th>Mauritania</th>\n",
              "      <td>30</td>\n",
              "    </tr>\n",
              "    <tr>\n",
              "      <th>Somalia</th>\n",
              "      <td>30</td>\n",
              "    </tr>\n",
              "    <tr>\n",
              "      <th rowspan=\"5\" valign=\"top\">Very High</th>\n",
              "      <th>Bahrain</th>\n",
              "      <td>30</td>\n",
              "    </tr>\n",
              "    <tr>\n",
              "      <th>Lebanon</th>\n",
              "      <td>30</td>\n",
              "    </tr>\n",
              "    <tr>\n",
              "      <th>Palestine</th>\n",
              "      <td>30</td>\n",
              "    </tr>\n",
              "    <tr>\n",
              "      <th>Qatar</th>\n",
              "      <td>30</td>\n",
              "    </tr>\n",
              "    <tr>\n",
              "      <th>United Arab Emirates</th>\n",
              "      <td>30</td>\n",
              "    </tr>\n",
              "  </tbody>\n",
              "</table>\n",
              "</div>\n",
              "      <button class=\"colab-df-convert\" onclick=\"convertToInteractive('df-f5746ff8-475f-43b6-9f38-d3ed6bc3fd86')\"\n",
              "              title=\"Convert this dataframe to an interactive table.\"\n",
              "              style=\"display:none;\">\n",
              "        \n",
              "  <svg xmlns=\"http://www.w3.org/2000/svg\" height=\"24px\"viewBox=\"0 0 24 24\"\n",
              "       width=\"24px\">\n",
              "    <path d=\"M0 0h24v24H0V0z\" fill=\"none\"/>\n",
              "    <path d=\"M18.56 5.44l.94 2.06.94-2.06 2.06-.94-2.06-.94-.94-2.06-.94 2.06-2.06.94zm-11 1L8.5 8.5l.94-2.06 2.06-.94-2.06-.94L8.5 2.5l-.94 2.06-2.06.94zm10 10l.94 2.06.94-2.06 2.06-.94-2.06-.94-.94-2.06-.94 2.06-2.06.94z\"/><path d=\"M17.41 7.96l-1.37-1.37c-.4-.4-.92-.59-1.43-.59-.52 0-1.04.2-1.43.59L10.3 9.45l-7.72 7.72c-.78.78-.78 2.05 0 2.83L4 21.41c.39.39.9.59 1.41.59.51 0 1.02-.2 1.41-.59l7.78-7.78 2.81-2.81c.8-.78.8-2.07 0-2.86zM5.41 20L4 18.59l7.72-7.72 1.47 1.35L5.41 20z\"/>\n",
              "  </svg>\n",
              "      </button>\n",
              "      \n",
              "  <style>\n",
              "    .colab-df-container {\n",
              "      display:flex;\n",
              "      flex-wrap:wrap;\n",
              "      gap: 12px;\n",
              "    }\n",
              "\n",
              "    .colab-df-convert {\n",
              "      background-color: #E8F0FE;\n",
              "      border: none;\n",
              "      border-radius: 50%;\n",
              "      cursor: pointer;\n",
              "      display: none;\n",
              "      fill: #1967D2;\n",
              "      height: 32px;\n",
              "      padding: 0 0 0 0;\n",
              "      width: 32px;\n",
              "    }\n",
              "\n",
              "    .colab-df-convert:hover {\n",
              "      background-color: #E2EBFA;\n",
              "      box-shadow: 0px 1px 2px rgba(60, 64, 67, 0.3), 0px 1px 3px 1px rgba(60, 64, 67, 0.15);\n",
              "      fill: #174EA6;\n",
              "    }\n",
              "\n",
              "    [theme=dark] .colab-df-convert {\n",
              "      background-color: #3B4455;\n",
              "      fill: #D2E3FC;\n",
              "    }\n",
              "\n",
              "    [theme=dark] .colab-df-convert:hover {\n",
              "      background-color: #434B5C;\n",
              "      box-shadow: 0px 1px 3px 1px rgba(0, 0, 0, 0.15);\n",
              "      filter: drop-shadow(0px 1px 2px rgba(0, 0, 0, 0.3));\n",
              "      fill: #FFFFFF;\n",
              "    }\n",
              "  </style>\n",
              "\n",
              "      <script>\n",
              "        const buttonEl =\n",
              "          document.querySelector('#df-f5746ff8-475f-43b6-9f38-d3ed6bc3fd86 button.colab-df-convert');\n",
              "        buttonEl.style.display =\n",
              "          google.colab.kernel.accessAllowed ? 'block' : 'none';\n",
              "\n",
              "        async function convertToInteractive(key) {\n",
              "          const element = document.querySelector('#df-f5746ff8-475f-43b6-9f38-d3ed6bc3fd86');\n",
              "          const dataTable =\n",
              "            await google.colab.kernel.invokeFunction('convertToInteractive',\n",
              "                                                     [key], {});\n",
              "          if (!dataTable) return;\n",
              "\n",
              "          const docLinkHtml = 'Like what you see? Visit the ' +\n",
              "            '<a target=\"_blank\" href=https://colab.research.google.com/notebooks/data_table.ipynb>data table notebook</a>'\n",
              "            + ' to learn more about interactive tables.';\n",
              "          element.innerHTML = '';\n",
              "          dataTable['output_type'] = 'display_data';\n",
              "          await google.colab.output.renderOutput(dataTable, element);\n",
              "          const docLink = document.createElement('div');\n",
              "          docLink.innerHTML = docLinkHtml;\n",
              "          element.appendChild(docLink);\n",
              "        }\n",
              "      </script>\n",
              "    </div>\n",
              "  </div>\n",
              "  "
            ]
          },
          "metadata": {},
          "execution_count": 27
        }
      ]
    },
    {
      "cell_type": "code",
      "source": [
        "arabs.groupby(['quar_years','Year'])['Entity'].value_counts().to_frame()"
      ],
      "metadata": {
        "colab": {
          "base_uri": "https://localhost:8080/",
          "height": 455
        },
        "id": "cOumkbp6FV-6",
        "outputId": "7237aabb-1fd5-4503-c4ca-8d2454cf5c40"
      },
      "execution_count": null,
      "outputs": [
        {
          "output_type": "execute_result",
          "data": {
            "text/plain": [
              "                                      Entity\n",
              "quar_years Year Entity                      \n",
              "Low        1990 Egypt                      1\n",
              "                Kuwait                     1\n",
              "                Morocco                    1\n",
              "                Oman                       1\n",
              "                Saudi Arabia               1\n",
              "...                                      ...\n",
              "Very High  2018 United Arab Emirates       1\n",
              "           2019 Lebanon                    1\n",
              "                Palestine                  1\n",
              "                Qatar                      1\n",
              "                United Arab Emirates       1\n",
              "\n",
              "[600 rows x 1 columns]"
            ],
            "text/html": [
              "\n",
              "  <div id=\"df-bfe2b5aa-26be-47d5-8c90-104352a135a0\">\n",
              "    <div class=\"colab-df-container\">\n",
              "      <div>\n",
              "<style scoped>\n",
              "    .dataframe tbody tr th:only-of-type {\n",
              "        vertical-align: middle;\n",
              "    }\n",
              "\n",
              "    .dataframe tbody tr th {\n",
              "        vertical-align: top;\n",
              "    }\n",
              "\n",
              "    .dataframe thead th {\n",
              "        text-align: right;\n",
              "    }\n",
              "</style>\n",
              "<table border=\"1\" class=\"dataframe\">\n",
              "  <thead>\n",
              "    <tr style=\"text-align: right;\">\n",
              "      <th></th>\n",
              "      <th></th>\n",
              "      <th></th>\n",
              "      <th>Entity</th>\n",
              "    </tr>\n",
              "    <tr>\n",
              "      <th>quar_years</th>\n",
              "      <th>Year</th>\n",
              "      <th>Entity</th>\n",
              "      <th></th>\n",
              "    </tr>\n",
              "  </thead>\n",
              "  <tbody>\n",
              "    <tr>\n",
              "      <th rowspan=\"5\" valign=\"top\">Low</th>\n",
              "      <th rowspan=\"5\" valign=\"top\">1990</th>\n",
              "      <th>Egypt</th>\n",
              "      <td>1</td>\n",
              "    </tr>\n",
              "    <tr>\n",
              "      <th>Kuwait</th>\n",
              "      <td>1</td>\n",
              "    </tr>\n",
              "    <tr>\n",
              "      <th>Morocco</th>\n",
              "      <td>1</td>\n",
              "    </tr>\n",
              "    <tr>\n",
              "      <th>Oman</th>\n",
              "      <td>1</td>\n",
              "    </tr>\n",
              "    <tr>\n",
              "      <th>Saudi Arabia</th>\n",
              "      <td>1</td>\n",
              "    </tr>\n",
              "    <tr>\n",
              "      <th>...</th>\n",
              "      <th>...</th>\n",
              "      <th>...</th>\n",
              "      <td>...</td>\n",
              "    </tr>\n",
              "    <tr>\n",
              "      <th rowspan=\"5\" valign=\"top\">Very High</th>\n",
              "      <th>2018</th>\n",
              "      <th>United Arab Emirates</th>\n",
              "      <td>1</td>\n",
              "    </tr>\n",
              "    <tr>\n",
              "      <th rowspan=\"4\" valign=\"top\">2019</th>\n",
              "      <th>Lebanon</th>\n",
              "      <td>1</td>\n",
              "    </tr>\n",
              "    <tr>\n",
              "      <th>Palestine</th>\n",
              "      <td>1</td>\n",
              "    </tr>\n",
              "    <tr>\n",
              "      <th>Qatar</th>\n",
              "      <td>1</td>\n",
              "    </tr>\n",
              "    <tr>\n",
              "      <th>United Arab Emirates</th>\n",
              "      <td>1</td>\n",
              "    </tr>\n",
              "  </tbody>\n",
              "</table>\n",
              "<p>600 rows × 1 columns</p>\n",
              "</div>\n",
              "      <button class=\"colab-df-convert\" onclick=\"convertToInteractive('df-bfe2b5aa-26be-47d5-8c90-104352a135a0')\"\n",
              "              title=\"Convert this dataframe to an interactive table.\"\n",
              "              style=\"display:none;\">\n",
              "        \n",
              "  <svg xmlns=\"http://www.w3.org/2000/svg\" height=\"24px\"viewBox=\"0 0 24 24\"\n",
              "       width=\"24px\">\n",
              "    <path d=\"M0 0h24v24H0V0z\" fill=\"none\"/>\n",
              "    <path d=\"M18.56 5.44l.94 2.06.94-2.06 2.06-.94-2.06-.94-.94-2.06-.94 2.06-2.06.94zm-11 1L8.5 8.5l.94-2.06 2.06-.94-2.06-.94L8.5 2.5l-.94 2.06-2.06.94zm10 10l.94 2.06.94-2.06 2.06-.94-2.06-.94-.94-2.06-.94 2.06-2.06.94z\"/><path d=\"M17.41 7.96l-1.37-1.37c-.4-.4-.92-.59-1.43-.59-.52 0-1.04.2-1.43.59L10.3 9.45l-7.72 7.72c-.78.78-.78 2.05 0 2.83L4 21.41c.39.39.9.59 1.41.59.51 0 1.02-.2 1.41-.59l7.78-7.78 2.81-2.81c.8-.78.8-2.07 0-2.86zM5.41 20L4 18.59l7.72-7.72 1.47 1.35L5.41 20z\"/>\n",
              "  </svg>\n",
              "      </button>\n",
              "      \n",
              "  <style>\n",
              "    .colab-df-container {\n",
              "      display:flex;\n",
              "      flex-wrap:wrap;\n",
              "      gap: 12px;\n",
              "    }\n",
              "\n",
              "    .colab-df-convert {\n",
              "      background-color: #E8F0FE;\n",
              "      border: none;\n",
              "      border-radius: 50%;\n",
              "      cursor: pointer;\n",
              "      display: none;\n",
              "      fill: #1967D2;\n",
              "      height: 32px;\n",
              "      padding: 0 0 0 0;\n",
              "      width: 32px;\n",
              "    }\n",
              "\n",
              "    .colab-df-convert:hover {\n",
              "      background-color: #E2EBFA;\n",
              "      box-shadow: 0px 1px 2px rgba(60, 64, 67, 0.3), 0px 1px 3px 1px rgba(60, 64, 67, 0.15);\n",
              "      fill: #174EA6;\n",
              "    }\n",
              "\n",
              "    [theme=dark] .colab-df-convert {\n",
              "      background-color: #3B4455;\n",
              "      fill: #D2E3FC;\n",
              "    }\n",
              "\n",
              "    [theme=dark] .colab-df-convert:hover {\n",
              "      background-color: #434B5C;\n",
              "      box-shadow: 0px 1px 3px 1px rgba(0, 0, 0, 0.15);\n",
              "      filter: drop-shadow(0px 1px 2px rgba(0, 0, 0, 0.3));\n",
              "      fill: #FFFFFF;\n",
              "    }\n",
              "  </style>\n",
              "\n",
              "      <script>\n",
              "        const buttonEl =\n",
              "          document.querySelector('#df-bfe2b5aa-26be-47d5-8c90-104352a135a0 button.colab-df-convert');\n",
              "        buttonEl.style.display =\n",
              "          google.colab.kernel.accessAllowed ? 'block' : 'none';\n",
              "\n",
              "        async function convertToInteractive(key) {\n",
              "          const element = document.querySelector('#df-bfe2b5aa-26be-47d5-8c90-104352a135a0');\n",
              "          const dataTable =\n",
              "            await google.colab.kernel.invokeFunction('convertToInteractive',\n",
              "                                                     [key], {});\n",
              "          if (!dataTable) return;\n",
              "\n",
              "          const docLinkHtml = 'Like what you see? Visit the ' +\n",
              "            '<a target=\"_blank\" href=https://colab.research.google.com/notebooks/data_table.ipynb>data table notebook</a>'\n",
              "            + ' to learn more about interactive tables.';\n",
              "          element.innerHTML = '';\n",
              "          dataTable['output_type'] = 'display_data';\n",
              "          await google.colab.output.renderOutput(dataTable, element);\n",
              "          const docLink = document.createElement('div');\n",
              "          docLink.innerHTML = docLinkHtml;\n",
              "          element.appendChild(docLink);\n",
              "        }\n",
              "      </script>\n",
              "    </div>\n",
              "  </div>\n",
              "  "
            ]
          },
          "metadata": {},
          "execution_count": 26
        }
      ]
    },
    {
      "cell_type": "code",
      "source": [
        "arabs"
      ],
      "metadata": {
        "id": "PcbcBZ8LeigE"
      },
      "execution_count": null,
      "outputs": []
    },
    {
      "cell_type": "code",
      "source": [
        "#arabs.to_csv('Arab_deaths.csv')"
      ],
      "metadata": {
        "id": "-t1yYEvGkgrf"
      },
      "execution_count": null,
      "outputs": []
    },
    {
      "cell_type": "code",
      "source": [
        "for c in arabs.Entity.unique():\n",
        "    print(f\"Total Number of Years in {c}:\",arabs[(arabs['Entity']==c)]['Year'].nunique())\n"
      ],
      "metadata": {
        "id": "l-1yB4RKjvIy"
      },
      "execution_count": null,
      "outputs": []
    },
    {
      "cell_type": "code",
      "source": [
        "#countries.to_csv('DSUC5.csv')"
      ],
      "metadata": {
        "id": "pWak29clFyvU"
      },
      "execution_count": null,
      "outputs": []
    },
    {
      "cell_type": "code",
      "source": [
        "#arabs.Year=arabs.Year.astype('object')"
      ],
      "metadata": {
        "id": "iGkRv59s67m6"
      },
      "execution_count": null,
      "outputs": []
    },
    {
      "cell_type": "markdown",
      "source": [
        "## Statistics"
      ],
      "metadata": {
        "id": "3pFo2tAH4d86"
      }
    },
    {
      "cell_type": "code",
      "source": [
        "arabs.describe()"
      ],
      "metadata": {
        "id": "zgDxrqlyindZ"
      },
      "execution_count": null,
      "outputs": []
    },
    {
      "cell_type": "code",
      "source": [
        "arab_avg=arabs.groupby(['Entity']).mean()\n",
        "arab_avg"
      ],
      "metadata": {
        "id": "zDdzibZu74na"
      },
      "execution_count": null,
      "outputs": []
    },
    {
      "cell_type": "code",
      "source": [
        "from scipy.stats import shapiro\n",
        "def normality_test(col):\n",
        "  values=arabs[col]\n",
        "  for i in values.columns:\n",
        "    val=arabs[i].values.ravel()\n",
        "    stat, p = shapiro(val)\n",
        "    print('Statistics=%.3f, p=%.3f' % (stat, p))\n",
        "    alpha = 0.05\n",
        "    if p > alpha:\n",
        "      print(f'{i} looks Gaussian (fail to reject H0) \\n')\n",
        "    else:\n",
        "      print(f'{i} does not look Gaussian (reject H0) \\n')"
      ],
      "metadata": {
        "id": "LtvenTYxmJWa"
      },
      "execution_count": null,
      "outputs": []
    },
    {
      "cell_type": "code",
      "source": [
        "normality_test(ycol)"
      ],
      "metadata": {
        "id": "4lWP2E5emjaw"
      },
      "execution_count": null,
      "outputs": []
    },
    {
      "cell_type": "code",
      "source": [
        "sns.distplot(x=arabs['Testicular'].values.ravel(),axlabel='Testicular Cancer')"
      ],
      "metadata": {
        "id": "n-YsZzHynExK"
      },
      "execution_count": null,
      "outputs": []
    },
    {
      "cell_type": "code",
      "source": [
        "sns.distplot(x=arabs['Breast'].values.ravel(),axlabel='Breast Cancer')"
      ],
      "metadata": {
        "id": "HZ5ZF2zYqItU"
      },
      "execution_count": null,
      "outputs": []
    },
    {
      "cell_type": "code",
      "source": [
        "sns.distplot(x=arabs['Tracheal, bronchus, and lung'].values.ravel(),axlabel='Tracheal, bronchus, and lung')"
      ],
      "metadata": {
        "id": "-f9UCOT-nZVx"
      },
      "execution_count": null,
      "outputs": []
    },
    {
      "cell_type": "code",
      "source": [
        "stat=arabs.groupby(['Entity'])[list(arabs.iloc[:,3:].columns)].describe()\n",
        "stat=stat.reset_index()\n"
      ],
      "metadata": {
        "id": "RTIXy9zg94Ed"
      },
      "execution_count": null,
      "outputs": []
    },
    {
      "cell_type": "code",
      "source": [
        "def stats_per_site(obj):\n",
        "    for i in stat.Entity.unique():\n",
        "      c=stat[stat['Entity']==i]\n",
        "      print(i,'\\n',c.iloc[:, c.columns.get_level_values(1)==obj].iloc[:,:-2])\n",
        "      print('\\n','----------------------------------------------','\\n')"
      ],
      "metadata": {
        "id": "ITpf7nFo91XL"
      },
      "execution_count": null,
      "outputs": []
    },
    {
      "cell_type": "code",
      "source": [
        "stats_per_site('std')"
      ],
      "metadata": {
        "id": "SLirgx1f-t2t"
      },
      "execution_count": null,
      "outputs": []
    },
    {
      "cell_type": "code",
      "source": [
        "stats_per_site('mean')"
      ],
      "metadata": {
        "id": "Jh_8Ukzj_IWX"
      },
      "execution_count": null,
      "outputs": []
    },
    {
      "cell_type": "code",
      "source": [
        "stats_per_site('max')"
      ],
      "metadata": {
        "id": "AgZ5fZQa_NWa"
      },
      "execution_count": null,
      "outputs": []
    },
    {
      "cell_type": "code",
      "source": [
        "stats_per_site('min')"
      ],
      "metadata": {
        "id": "CW_bu38Q_QtU"
      },
      "execution_count": null,
      "outputs": []
    },
    {
      "cell_type": "markdown",
      "source": [
        "# Visualizations"
      ],
      "metadata": {
        "id": "HssS-rm3DXtb"
      }
    },
    {
      "cell_type": "code",
      "source": [
        "ycol=['Prostate', 'Breast', 'Uterine', 'Bladder',\n",
        "       'Cervical', 'Kidney', 'Stomach', 'Nasopharynx', 'Testicular',\n",
        "       'Other pharynx', 'Esophageal', 'Non-melanoma skin', 'Pancreatic',\n",
        "       'Tracheal, bronchus, and lung', 'Lip and oral cavity',\n",
        "       'Colon and rectum', 'Gallbladder and biliary tract', 'Liver', 'Larynx',\n",
        "       'Ovarian', 'Thyroid', 'Brain and central nervous system']"
      ],
      "metadata": {
        "id": "5Mdxv-718Jfr"
      },
      "execution_count": null,
      "outputs": []
    },
    {
      "cell_type": "code",
      "source": [
        "def line():\n",
        "  for i in arabs.Entity.unique():\n",
        "    country=arabs[arabs['Entity']==i]\n",
        "    fig = px.line(country, x=\"Year\", y=ycol, title=f\"Cancer Mortality Rate per Cancer Site in {i} <br><sup>iCanViz Research and Development Project 2023 - GA4DH and PSUT - Prof.Mohammad Odeh, Dr.Serin Atiani, Mahmoud Saber, Reema Maen</sup>\",labels={\"variable\": \"Cancer Site\",\"value\":'Mortality Rate'})\n",
        "    fig.update_xaxes( dtick=\"M1\", tickformat=\"%b\\n%Y\")\n",
        "    fig.show()"
      ],
      "metadata": {
        "id": "v7-HR_qvMOf_"
      },
      "execution_count": null,
      "outputs": []
    },
    {
      "cell_type": "code",
      "source": [
        "def calc(df,year):\n",
        "  lst=[]\n",
        "  if year==None:\n",
        "      for i in ycol:\n",
        "        lst.append(df[i].mean(skipna=True))\n",
        "      return lst,ycol\n",
        "  else: \n",
        "    for i in ycol:\n",
        "      lst.append(df[df['Year']==year][i].mean(skipna=True))\n",
        "    return lst,ycol"
      ],
      "metadata": {
        "id": "zok_SBmYPb6O"
      },
      "execution_count": null,
      "outputs": []
    },
    {
      "cell_type": "code",
      "source": [
        "def calc2(df,year):\n",
        "  lst=[]\n",
        "  countries=df.Entity.unique()\n",
        "  if year==None:\n",
        "      for i in countries:\n",
        "        r=df[df['Entity']==i].iloc[:,3:-5].values.ravel()\n",
        "        lst.append(r.mean())\n",
        "      return lst,countries\n",
        "  else: \n",
        "    for i in countries:\n",
        "      r=df[(df['Entity']==i)& (df['Year']==year)].iloc[:,3:-5]\n",
        "      lst.append(r.values.ravel().mean())\n",
        "    return lst,countries"
      ],
      "metadata": {
        "id": "TkT5Zj3aHZ98"
      },
      "execution_count": null,
      "outputs": []
    },
    {
      "cell_type": "code",
      "source": [
        "def plot_seasonal_decompose(result:DecomposeResult, dates:pd.Series=None, title:str=\"Seasonal Decomposition\"):\n",
        "    x_values = dates if dates is not None else np.arange(len(result.observed))\n",
        "    return (\n",
        "        make_subplots(\n",
        "            rows=4,\n",
        "            cols=1,\n",
        "            subplot_titles=[\"Observed\", \"Trend\", \"Seasonal\", \"Residuals\"],\n",
        "        )\n",
        "        .add_trace(\n",
        "            go.Scatter(x=x_values, y=result.observed, mode=\"lines\", name='Observed'),\n",
        "            row=1,\n",
        "            col=1,\n",
        "        )\n",
        "        .add_trace(\n",
        "            go.Scatter(x=x_values, y=result.trend, mode=\"lines\", name='Trend'),\n",
        "            row=2,\n",
        "            col=1,\n",
        "        )\n",
        "        .add_trace(\n",
        "            go.Scatter(x=x_values, y=result.seasonal, mode=\"lines\", name='Seasonal'),\n",
        "            row=3,\n",
        "            col=1,\n",
        "        )\n",
        "        .add_trace(\n",
        "            go.Scatter(x=x_values, y=result.resid, mode=\"lines\", name='Residual'),\n",
        "            row=4,\n",
        "            col=1,\n",
        "        )\n",
        "        .update_layout(\n",
        "            height=900, title=f'<b>{title}</b>', margin={'t':100}, title_x=0.5, showlegend=False ,\n",
        "                                plot_bgcolor='rgba(0, 0, 0, 0)',\n",
        "                                paper_bgcolor='rgba(0, 0, 0, 0)'\n",
        "        )\n",
        "    )"
      ],
      "metadata": {
        "id": "08MeymPeiOEd"
      },
      "execution_count": null,
      "outputs": []
    },
    {
      "cell_type": "code",
      "source": [
        "c=arabs[arabs['Entity']=='Jordan']\n",
        "decomposition = seasonal_decompose(c['Breast'], model='additive', period=12)\n",
        "fig = plot_seasonal_decompose(decomposition, dates=c['Year'])\n",
        "fig.show()"
      ],
      "metadata": {
        "id": "hlSHrpjhiU3A"
      },
      "execution_count": null,
      "outputs": []
    },
    {
      "cell_type": "code",
      "source": [
        "year=arabs.Year.unique()\n",
        "lst=[]\n",
        "for i in year:\n",
        "  for s in ycol:\n",
        "    lst.append(arabs[arabs['Year']==i][s].mean(skipna=True))\n"
      ],
      "metadata": {
        "id": "7pS17ORDefeZ"
      },
      "execution_count": null,
      "outputs": []
    },
    {
      "cell_type": "code",
      "source": [
        "def error_bars(var,flag):\n",
        "  if flag==1:\n",
        "    error_country=[]\n",
        "    country=arabs[arabs['Entity']==var]\n",
        "    for i in country.Year.unique():\n",
        "      error_country.append(sem(country[(country['Year']==i)][ycol].values.ravel()))\n",
        "    return error_country\n",
        "\n",
        "  elif flag==0:\n",
        "    error_site=[]\n",
        "    site=arabs[['Avg_death_per','Year',var]]\n",
        "    for i in site.Year.unique():\n",
        "      error_site.append(sem(site[site['Year']==i][var].ravel()))\n",
        "    return error_site"
      ],
      "metadata": {
        "id": "QRsUS0Fi9bkG"
      },
      "execution_count": null,
      "outputs": []
    },
    {
      "cell_type": "code",
      "source": [
        "site=arabs[['Avg_death_per','Year','Breast']]\n",
        "site[site['Year']==2009]['Breast'].ravel()"
      ],
      "metadata": {
        "id": "DdSYF2R7HhBE"
      },
      "execution_count": null,
      "outputs": []
    },
    {
      "cell_type": "code",
      "source": [
        "def errors(df):\n",
        "  er=[]\n",
        "  for i in ycol:\n",
        "    er.append(st.stdev(df[i])/ m.sqrt(len(df[i])))\n",
        "  return er"
      ],
      "metadata": {
        "id": "cAzjSSFx9wTN"
      },
      "execution_count": null,
      "outputs": []
    },
    {
      "cell_type": "code",
      "source": [
        "\n",
        "xx,yy=calc(arabs,None)\n",
        "fig = px.scatter( x=xx, y=yy,error_x=er,labels={'y':'Cancer Sites','x':'Mortality Rates'},\n",
        "              title=f\"Average Mortality Rates Per Cancer Site in the Arab World (1999-2019)  <br><sup>iCanViz Research and Development Project 2023 - GA4DH and PSUT - Prof.Mohammad Odeh, Dr.Serin Atiani, Reema Maen, Mahmoud Saber</sup>\")\n",
        "fig.update_layout(yaxis={'categoryorder': 'total ascending'},\n",
        "                                plot_bgcolor='rgba(0, 0, 0, 0)',\n",
        "                                paper_bgcolor='rgba(0, 0, 0, 0)')\n",
        "fig.show()"
      ],
      "metadata": {
        "id": "22Tj-rYaPVUH"
      },
      "execution_count": null,
      "outputs": []
    },
    {
      "cell_type": "code",
      "source": [
        "def site(i):\n",
        "  lst=[]\n",
        "  for year in arabs.Year.unique():\n",
        "    lst.append(df[df['Year']==year][i].mean(skipna=True))\n",
        "  return lst"
      ],
      "metadata": {
        "id": "AJjSb7TqMIkI"
      },
      "execution_count": null,
      "outputs": []
    },
    {
      "cell_type": "markdown",
      "source": [
        "### HERE"
      ],
      "metadata": {
        "id": "o6gBAqDZ2H-c"
      }
    },
    {
      "cell_type": "code",
      "source": [
        "for i in arabs.Entity.unique():\n",
        "  df=arabs[arabs['Entity']==i]\n",
        "  er=error_bars(i,1)\n",
        "  \n",
        "  fig = go.Figure([\n",
        "    go.Scatter(\n",
        "        name='Mortality Rate ',\n",
        "        x=df['Year'],\n",
        "        y=df['Avg_death_per'],\n",
        "        mode='lines',\n",
        "        line=dict(color='black'),\n",
        "    ),\n",
        "        go.Scatter(\n",
        "        name='Upper Bound',\n",
        "        x=df['Year'],\n",
        "        y=df['Avg_death_per']+ er,\n",
        "        mode='lines',\n",
        "        marker=dict(color=\"#E7E7E7\"),\n",
        "        fill='tonexty',\n",
        "        #showlegend=False\n",
        "    ),\n",
        "        go.Scatter(\n",
        "        name='Lower Bound',\n",
        "        x=df['Year'],\n",
        "        y=df['Avg_death_per']- er,\n",
        "        mode='lines',\n",
        "        marker=dict(color=\"#E7E7E7\"),\n",
        "        fill='tonexty',\n",
        "        #showlegend=False\n",
        "    ),\n",
        "    ])\n",
        "\n",
        "  fig.update_layout(\n",
        "    yaxis_title='Average Mortality Rate', xaxis_title='Years',\n",
        "    title=f'Average Mortality Rate in {i} (1990-2019)',plot_bgcolor='rgba(0, 0, 0, 0)', paper_bgcolor='rgba(0, 0, 0, 0)',\n",
        "    hovermode=\"x\"\n",
        "    )\n",
        "  fig.show()"
      ],
      "metadata": {
        "id": "RZenpWZPA85t"
      },
      "execution_count": null,
      "outputs": []
    },
    {
      "cell_type": "code",
      "source": [
        "fig = go.Figure()\n",
        "for i in ycol:\n",
        "  fig.add_trace(go.Box(y=arabs[i],name=i,showlegend=False, marker_color='blue'))\n",
        "  fig.add_trace(go.Box(y=nonarab[i],name=i,showlegend=False, marker_color='red'))\n",
        "fig.show()\n",
        "fig.update_layout(yaxis_title='Mortality Rates', xaxis_title='Cancer Site', boxmode='group',\n",
        "  title=f'Mortality Rates across all Cancer Sites in  Arab World (1990-2019)',plot_bgcolor='rgba(0, 0, 0, 0)', paper_bgcolor='rgba(0, 0, 0, 0)')"
      ],
      "metadata": {
        "id": "G0gkPNmBdSd5"
      },
      "execution_count": null,
      "outputs": []
    },
    {
      "cell_type": "code",
      "source": [
        "fig = go.Figure()\n",
        "country=arabs.Entity.unique()\n",
        "for i in country:\n",
        "  sites=arabs[arabs['Entity']==i][ycol,'Avg_death_per']\n",
        "  fig.add_trace(go.Box(y=sites['Avg_death_per'],name=i,showlegend=False, marker_color='#1f77b4'))\n",
        "fig.show()\n",
        "fig.update_layout(yaxis_title='Mortality Rates in Jordan accross all Cancer Sites', xaxis_title='Cancer Site',\n",
        "  title=f'Mortality Rates across all Cancer Sites in Jordan (1990-2019)',plot_bgcolor='rgba(0, 0, 0, 0)', paper_bgcolor='rgba(0, 0, 0, 0)')"
      ],
      "metadata": {
        "id": "iEcWK5q81n8F"
      },
      "execution_count": null,
      "outputs": []
    },
    {
      "cell_type": "code",
      "source": [
        "er"
      ],
      "metadata": {
        "id": "6rIAiAZUdsSP"
      },
      "execution_count": null,
      "outputs": []
    },
    {
      "cell_type": "code",
      "source": [
        "np.subtract(yy,er)"
      ],
      "metadata": {
        "id": "u_YQjgJ9dTic"
      },
      "execution_count": null,
      "outputs": []
    },
    {
      "cell_type": "code",
      "source": [
        "import numpy as np\n",
        "for i in ycol:\n",
        "  df=arabs[['Avg_death_per','Year',i]]\n",
        "  er=error_bars(i,0)\n",
        "  yy=site(i)\n",
        "  fig = go.Figure([\n",
        "    go.Scatter(\n",
        "        name='Mortality Rate ',\n",
        "        x=df['Year'].unique(),\n",
        "        y=yy,\n",
        "        mode='lines',\n",
        "        line=dict(color='black'),\n",
        "    ),\n",
        "    \n",
        "        go.Scatter(\n",
        "        name='Upper Bound',\n",
        "        x=df['Year'].unique(),\n",
        "        y=yy+er,\n",
        "        mode='lines',\n",
        "        marker=dict(color=\"#E7E7E7\"),\n",
        "        fill='tonexty',\n",
        "        #showlegend=False\n",
        "    ),\n",
        "        go.Scatter(\n",
        "        name='Lower Bound',\n",
        "        x=df['Year'].unique(),\n",
        "        y= np.subtract(yy,er),\n",
        "        mode='lines',\n",
        "        marker=dict(color=\"#E7E7E7\"),\n",
        "        fill='tonexty',\n",
        "        #showlegend=False\n",
        "    ),\n",
        "    ])\n",
        "\n",
        "  fig.update_layout(\n",
        "    yaxis_title='Average Mortality Rate', xaxis_title='Years',\n",
        "    title=f'Average Mortality Rate in {i} (1990-2019)',plot_bgcolor='rgba(0, 0, 0, 0)', paper_bgcolor='rgba(0, 0, 0, 0)',\n",
        "    hovermode=\"x\"\n",
        "    )\n",
        "  fig.show()"
      ],
      "metadata": {
        "id": "w7Cq6Jcx-jdr"
      },
      "execution_count": null,
      "outputs": []
    },
    {
      "cell_type": "code",
      "source": [
        "er=[]\n",
        "import math as m\n",
        "from scipy.stats import sem\n",
        "\n",
        "for i in arabs.Entity.unique():\n",
        "  er.append(sem(arabs[arabs['Entity']==i].iloc[:,3:-5].values.ravel()))"
      ],
      "metadata": {
        "id": "EuVP72ahK9fF"
      },
      "execution_count": null,
      "outputs": []
    },
    {
      "cell_type": "code",
      "source": [
        "xx,yy=calc2(arabs,None)\n",
        "\n",
        "fig = px.scatter(x=xx, y=yy ,error_x=er,labels={'y':'Countries','x':'Average Mortality Rates'},\n",
        "              title=f\"Average Mortality Rates per Arab Country Accross all Cancer Sites (1999-2019)  <br><sup>iCanViz Research and Development Project 2023 - GA4DH and PSUT - Prof.Mohammad Odeh, Dr.Serin Atiani, Reema Maen, Mahmoud Saber</sup>\")\n",
        "fig.update_layout(yaxis={'categoryorder': 'total ascending'},\n",
        "                                plot_bgcolor='rgba(0, 0, 0, 0)',\n",
        "                                paper_bgcolor='rgba(0, 0, 0, 0)')\n",
        "fig.show()"
      ],
      "metadata": {
        "id": "E6yEcSN3HW5E"
      },
      "execution_count": null,
      "outputs": []
    },
    {
      "cell_type": "code",
      "source": [
        "arabs.groupby('quar_country')['Entity'].value_counts()"
      ],
      "metadata": {
        "id": "7nx_KGLFiqpi"
      },
      "execution_count": null,
      "outputs": []
    },
    {
      "cell_type": "code",
      "source": [
        "sample=nonarab.groupby('quar_country', group_keys=False).apply(lambda x: x.sample(5))"
      ],
      "metadata": {
        "id": "7IBVBzdpiWEM"
      },
      "execution_count": null,
      "outputs": []
    },
    {
      "cell_type": "code",
      "source": [
        "xx1,yy1=calc(sample,None)\n",
        "xx,yy=calc(arabs,None)\n"
      ],
      "metadata": {
        "id": "QIR6wPMZhp7N"
      },
      "execution_count": null,
      "outputs": []
    },
    {
      "cell_type": "code",
      "source": [
        "ern=errors(sample)\n",
        "ern"
      ],
      "metadata": {
        "id": "3pVEQtlDQwdY"
      },
      "execution_count": null,
      "outputs": []
    },
    {
      "cell_type": "code",
      "source": [
        "er=errors(arabs)\n",
        "er"
      ],
      "metadata": {
        "id": "3dVgFjh8QmfM"
      },
      "execution_count": null,
      "outputs": []
    },
    {
      "cell_type": "code",
      "source": [
        "import plotly.graph_objects as go\n",
        "fig = go.Figure(data=[\n",
        "    go.Bar(name='Non Arab World', x=yy1, y=xx1),\n",
        "    go.Bar(name='Arab World', x=yy, y=xx)\n",
        "])\n",
        "fig.update_layout(barmode='group',xaxis={'categoryorder': 'total descending'},title_text=f\"Cancer Survival Percentage per Cancer Site in the Non Arab World vs the Arab World (1999 -2019) <br><sup>iCanViz Research and Development Project 2023 - GA4DH and PSUT - Prof.Mohammad Odeh, Dr.Serin Atiani, Reema Maen, Mahmoud Saber</sup>\",\n",
        "                  yaxis=dict(title='Cancer Survival Percentage'),\n",
        "                                plot_bgcolor='rgba(0, 0, 0, 0)',\n",
        "                                paper_bgcolor='rgba(0, 0, 0, 0)')\n",
        "fig.show()"
      ],
      "metadata": {
        "id": "MWwpFip8hnkE"
      },
      "execution_count": null,
      "outputs": []
    },
    {
      "cell_type": "code",
      "source": [
        "def error_time(df,country):\n",
        "  er=[]\n",
        "  for i in df.Year.unique():\n",
        "    er.append(sem(df[(df['Entity']==country) & (df['Year']==i)].iloc[:,3:-5].values.ravel()))\n",
        "  return er\n"
      ],
      "metadata": {
        "id": "OZbluTywHPjc"
      },
      "execution_count": null,
      "outputs": []
    },
    {
      "cell_type": "code",
      "source": [
        "country=arabs[arabs['Entity']=='Jordan']\n",
        "  \n",
        "fig = go.Figure([\n",
        "    go.Scatter(\n",
        "        name='Measurement',\n",
        "        x=country['Year'],\n",
        "        y=country['Avg_death_per'],\n",
        "        mode='lines',\n",
        "        line=dict(color='rgb(31, 119, 180)'),\n",
        "    ),\n",
        "  \n",
        "  \n",
        "  go.Scatter(\n",
        "        name='Upper Bound',\n",
        "        x=country['Year'],\n",
        "        y=errors,\n",
        "        mode='lines',\n",
        "        marker=dict(color=\"#444\"),\n",
        "        line=dict(width=0),\n",
        "        showlegend=False\n",
        "    ),\n",
        "])\n",
        "fig.update_layout(\n",
        "    yaxis_title='Wind speed (m/s)',\n",
        "    title='Continuous, variable value error bars',\n",
        "    hovermode=\"x\"\n",
        ")\n",
        "fig.show()"
      ],
      "metadata": {
        "id": "ECVsqIq1TONV"
      },
      "execution_count": null,
      "outputs": []
    },
    {
      "cell_type": "code",
      "source": [
        "country=arabs[arabs['Entity']=='Jordan']\n",
        "errors=error_time(country,'Jordan')\n",
        "fig = px.line(country,error_y=errors, x=\"Year\", y='Avg_death_per', title=f\"Cancer Mortality Rate in Jordan (1990 - 2019) <br><sup>iCanViz Research and Development Project 2023 - GA4DH and PSUT - Prof.Mohammad Odeh, Dr.Serin Atiani, Mahmoud Saber, Reema Maen</sup>\",labels={\"Avg_death_per\":'Average Mortality Rate'})\n",
        "fig.update_xaxes( dtick=\"M1\", tickformat=\"%b\\n%Y\")\n",
        "fig.update_layout(plot_bgcolor='rgba(0, 0, 0, 0)',\n",
        "                                paper_bgcolor='rgba(0, 0, 0, 0)')\n",
        "fig.show()"
      ],
      "metadata": {
        "id": "HJJVh53N15sM"
      },
      "execution_count": null,
      "outputs": []
    },
    {
      "cell_type": "code",
      "source": [
        "x=country['Breast'].mean()\n",
        "x1=\"{:.2f}\".format(x)\n",
        "fig = px.line(country, y='Breast',x='Year',labels={'Breast':'Breast Cancer Mortality Rate '},title='Breast Cancer Mortality Rate in Jordan (1990 - 2019) ')\n",
        "fig.add_hline(y=x1,line_dash=\"dash\", line_color=\"green\")\n",
        "fig.update_layout(plot_bgcolor='rgba(0, 0, 0, 0)',\n",
        "                                paper_bgcolor='rgba(0, 0, 0, 0)')\n",
        "fig.show()"
      ],
      "metadata": {
        "id": "cPhm6WGYVToL"
      },
      "execution_count": null,
      "outputs": []
    },
    {
      "cell_type": "code",
      "source": [
        "ycol=country['Breast']\n",
        "\n",
        "fig=px.box(country,y='Breast',labels={'value':'Survival Percentage','variable':'Country'},\n",
        "           title=\"Survival Percentages Across Arab Countries From 1999 Till 2009 <br><sup>iCanViz Research and Development Project 2023 - DA4DH and PSUT - Prof.Mohammad Odeh, Dr.Serin Atiani, Reema Maen, Mahmoud Saber</sup>\")\n",
        "fig.show()\n"
      ],
      "metadata": {
        "id": "ZuV1bD7Lv3VT"
      },
      "execution_count": null,
      "outputs": []
    },
    {
      "cell_type": "code",
      "source": [
        "arabs"
      ],
      "metadata": {
        "id": "Bh7BzvElx3Mi"
      },
      "execution_count": null,
      "outputs": []
    },
    {
      "cell_type": "code",
      "source": [
        "country['Breast'].std()"
      ],
      "metadata": {
        "id": "fXCKUv-UyFfF"
      },
      "execution_count": null,
      "outputs": []
    },
    {
      "cell_type": "code",
      "source": [
        "xx,yy=calc(country,1999)\n",
        "fig = px.bar( x=xx, y=yy, orientation='h',labels={'y':'Cancer Sites','x':'Death Rates'},\n",
        "              title=f\"Cancer Death Rates Per Cancer Site In Egypt in   <br><sup>iCanViz Research and Development Project 2023 - GA4DH and PSUT - Prof.Mohammad Odeh, Dr.Serin Atiani, Reema Maen, Mahmoud Saber</sup>\")\n",
        "fig.update_layout(yaxis={'categoryorder': 'total ascending'})\n",
        "fig.show()"
      ],
      "metadata": {
        "id": "ymHaSvZBYEYa"
      },
      "execution_count": null,
      "outputs": []
    },
    {
      "cell_type": "code",
      "source": [
        "country['Breast']"
      ],
      "metadata": {
        "id": "bbLxfugmqKLF"
      },
      "execution_count": null,
      "outputs": []
    },
    {
      "cell_type": "code",
      "source": [
        "line()"
      ],
      "metadata": {
        "id": "ZshpaNy-Q9ak"
      },
      "execution_count": null,
      "outputs": []
    },
    {
      "cell_type": "code",
      "source": [
        "def bar():\n",
        "  ycol=dfy.columns.to_list()\n",
        "\n",
        "  for i in ycol:\n",
        "    fig = px.bar(arabs,y=i,x='Year',color='Entity',labels={i:f\"{i} \",\"Entity\":'Country'},\n",
        "               title=f\"Cancer Mortality Rate per Cancer Site Across Arab Countries for {i} Cancer <br><sup>iCanViz Research and Development Project 2023 - DA4DH and PSUT - Prof.Mohammad Odeh, Dr.Serin Atiani, Mahmoud Saber, Reema Maen</sup>\", \n",
        "               text_auto=True)\n",
        "    fig.update_xaxes(type='category')\n",
        "    fig.show()"
      ],
      "metadata": {
        "id": "mq3WQ-iASiRA"
      },
      "execution_count": null,
      "outputs": []
    },
    {
      "cell_type": "code",
      "source": [
        "bar()"
      ],
      "metadata": {
        "id": "ek_x-3fxS0KS"
      },
      "execution_count": null,
      "outputs": []
    },
    {
      "cell_type": "code",
      "source": [
        "ycol=[' Prostate cancer ', ' Breast cancer ', 'Uterine cancer ',\n",
        "       ' Bladder cancer', ' Cervical cancer ', ' Kidney cancer ',\n",
        "       'Stomach cancer', ' Nasopharynx cancer', 'Testicular cancer ',\n",
        "       ' Other pharynx cancer ', ' Esophageal cancer ',\n",
        "       'Non-melanoma skin cancer ', 'Pancreatic cancer',\n",
        "       'Tracheal, bronchus, and lung cancer', ' Lip and oral cavity cancer',\n",
        "       'Colon and rectum cancer', ' Gallbladder and biliary tract cancer ',\n",
        "       ' Liver cancer ', 'Larynx cancer ', 'Ovarian cancer', 'Thyroid cancer',\n",
        "       'Brain and central nervous system cancer ']\n",
        "fig=px.box(arabs,x='Entity',y=ycol,hover_data=['Year'],labels={'value':'Death Rates',\"Entity\":'Country','variable':'Cancer Site'},\n",
        "           title=\"Cancer Death Rates Across Cancer Sites From 1990 Till 2019 For Arab Countries <br><sup>iCanViz Research and Development Project 2023 - DA4DH and PSUT - Prof.Mohammad Odeh, Dr.Serin Atiani, Reema Maen, Mahmoud Saber</sup>\")\n",
        "fig.show()"
      ],
      "metadata": {
        "id": "dK63d5qr7i7v"
      },
      "execution_count": null,
      "outputs": []
    },
    {
      "cell_type": "code",
      "source": [
        "x=arabs.Avg_death_per\n",
        "yr = round(x,2)"
      ],
      "metadata": {
        "id": "Ytq4QJ9XGxIX"
      },
      "execution_count": null,
      "outputs": []
    },
    {
      "cell_type": "code",
      "source": [],
      "metadata": {
        "id": "qFqWB-RzHPEi"
      },
      "execution_count": null,
      "outputs": []
    },
    {
      "cell_type": "code",
      "source": [
        "fig = px.bar(arabs,y=yr,x='Year',color='Entity',labels={'Avg_survival_per':'Average Survival Percentage',\"Entity\":'Country'},\n",
        "               title=\"Cancer Death Percentage Across Arab Countries From 1999 Till 2009  <br><sup>iCanViz Research and Development Project 2023 - DA4DH and PSUT - Prof.Mohammad Odeh, Dr.Serin Atiani, Reema Maen, Mahmoud Saber</sup>\"\n",
        "               ,text_auto=True\n",
        "               )\n",
        "fig.update_xaxes(type='category')\n",
        "fig.show()"
      ],
      "metadata": {
        "id": "jSYp4vYlCpsw"
      },
      "execution_count": null,
      "outputs": []
    },
    {
      "cell_type": "code",
      "source": [
        "fig=px.scatter(arab_std,x='Entity',y=ycol,labels={'value':'Standard deviation',\"Entity\":'Country','variable':'Cancer Site'},\n",
        "           title=\"Cancer Death Rater Across Cancer Sites From 1990 Till 2019 For Arab Countries <br><sup>iCanViz Research and Development Project 2023 - DA4DH and PSUT - Prof.Mohammad Odeh, Dr.Serin Atiani, Reema Maen, Mahmoud Saber</sup>\")\n",
        "fig.show()"
      ],
      "metadata": {
        "id": "JY5T5BvL7pDL"
      },
      "execution_count": null,
      "outputs": []
    },
    {
      "cell_type": "code",
      "source": [
        "!pip install geoplot"
      ],
      "metadata": {
        "id": "bJxLgQQtkQXx",
        "colab": {
          "base_uri": "https://localhost:8080/"
        },
        "outputId": "4d657b1f-5395-4200-eee2-9f74dce8ac1c"
      },
      "execution_count": null,
      "outputs": [
        {
          "output_type": "stream",
          "name": "stdout",
          "text": [
            "Looking in indexes: https://pypi.org/simple, https://us-python.pkg.dev/colab-wheels/public/simple/\n",
            "Collecting geoplot\n",
            "  Downloading geoplot-0.5.1-py3-none-any.whl (28 kB)\n",
            "Requirement already satisfied: matplotlib>=3.1.2 in /usr/local/lib/python3.10/dist-packages (from geoplot) (3.7.1)\n",
            "Requirement already satisfied: seaborn in /usr/local/lib/python3.10/dist-packages (from geoplot) (0.12.2)\n",
            "Requirement already satisfied: pandas in /usr/local/lib/python3.10/dist-packages (from geoplot) (1.5.3)\n",
            "Collecting geopandas>=0.9.0 (from geoplot)\n",
            "  Downloading geopandas-0.13.2-py3-none-any.whl (1.1 MB)\n",
            "\u001b[2K     \u001b[90m━━━━━━━━━━━━━━━━━━━━━━━━━━━━━━━━━━━━━━━━\u001b[0m \u001b[32m1.1/1.1 MB\u001b[0m \u001b[31m18.2 MB/s\u001b[0m eta \u001b[36m0:00:00\u001b[0m\n",
            "\u001b[?25hCollecting cartopy (from geoplot)\n",
            "  Downloading Cartopy-0.21.1.tar.gz (10.9 MB)\n",
            "\u001b[2K     \u001b[90m━━━━━━━━━━━━━━━━━━━━━━━━━━━━━━━━━━━━━━━━\u001b[0m \u001b[32m10.9/10.9 MB\u001b[0m \u001b[31m31.5 MB/s\u001b[0m eta \u001b[36m0:00:00\u001b[0m\n",
            "\u001b[?25h  Installing build dependencies ... \u001b[?25l\u001b[?25hdone\n",
            "  Getting requirements to build wheel ... \u001b[?25l\u001b[?25hdone\n",
            "  Preparing metadata (pyproject.toml) ... \u001b[?25l\u001b[?25hdone\n",
            "Collecting mapclassify>=2.1 (from geoplot)\n",
            "  Downloading mapclassify-2.5.0-py3-none-any.whl (39 kB)\n",
            "Collecting contextily>=1.0.0 (from geoplot)\n",
            "  Downloading contextily-1.3.0-py3-none-any.whl (16 kB)\n",
            "Requirement already satisfied: geopy in /usr/local/lib/python3.10/dist-packages (from contextily>=1.0.0->geoplot) (2.3.0)\n",
            "Collecting mercantile (from contextily>=1.0.0->geoplot)\n",
            "  Downloading mercantile-1.2.1-py3-none-any.whl (14 kB)\n",
            "Requirement already satisfied: pillow in /usr/local/lib/python3.10/dist-packages (from contextily>=1.0.0->geoplot) (8.4.0)\n",
            "Collecting rasterio (from contextily>=1.0.0->geoplot)\n",
            "  Downloading rasterio-1.3.7-cp310-cp310-manylinux_2_17_x86_64.manylinux2014_x86_64.whl (21.3 MB)\n",
            "\u001b[2K     \u001b[90m━━━━━━━━━━━━━━━━━━━━━━━━━━━━━━━━━━━━━━━━\u001b[0m \u001b[32m21.3/21.3 MB\u001b[0m \u001b[31m54.1 MB/s\u001b[0m eta \u001b[36m0:00:00\u001b[0m\n",
            "\u001b[?25hRequirement already satisfied: requests in /usr/local/lib/python3.10/dist-packages (from contextily>=1.0.0->geoplot) (2.27.1)\n",
            "Requirement already satisfied: joblib in /usr/local/lib/python3.10/dist-packages (from contextily>=1.0.0->geoplot) (1.2.0)\n",
            "Collecting xyzservices (from contextily>=1.0.0->geoplot)\n",
            "  Downloading xyzservices-2023.5.0-py3-none-any.whl (56 kB)\n",
            "\u001b[2K     \u001b[90m━━━━━━━━━━━━━━━━━━━━━━━━━━━━━━━━━━━━━━━━\u001b[0m \u001b[32m56.5/56.5 kB\u001b[0m \u001b[31m6.8 MB/s\u001b[0m eta \u001b[36m0:00:00\u001b[0m\n",
            "\u001b[?25hCollecting fiona>=1.8.19 (from geopandas>=0.9.0->geoplot)\n",
            "  Downloading Fiona-1.9.4.post1-cp310-cp310-manylinux_2_17_x86_64.manylinux2014_x86_64.whl (16.4 MB)\n",
            "\u001b[2K     \u001b[90m━━━━━━━━━━━━━━━━━━━━━━━━━━━━━━━━━━━━━━━━\u001b[0m \u001b[32m16.4/16.4 MB\u001b[0m \u001b[31m52.8 MB/s\u001b[0m eta \u001b[36m0:00:00\u001b[0m\n",
            "\u001b[?25hRequirement already satisfied: packaging in /usr/local/lib/python3.10/dist-packages (from geopandas>=0.9.0->geoplot) (23.1)\n",
            "Collecting pyproj>=3.0.1 (from geopandas>=0.9.0->geoplot)\n",
            "  Downloading pyproj-3.5.0-cp310-cp310-manylinux_2_17_x86_64.manylinux2014_x86_64.whl (7.7 MB)\n",
            "\u001b[2K     \u001b[90m━━━━━━━━━━━━━━━━━━━━━━━━━━━━━━━━━━━━━━━━\u001b[0m \u001b[32m7.7/7.7 MB\u001b[0m \u001b[31m60.5 MB/s\u001b[0m eta \u001b[36m0:00:00\u001b[0m\n",
            "\u001b[?25hRequirement already satisfied: shapely>=1.7.1 in /usr/local/lib/python3.10/dist-packages (from geopandas>=0.9.0->geoplot) (2.0.1)\n",
            "Requirement already satisfied: scipy>=1.0 in /usr/local/lib/python3.10/dist-packages (from mapclassify>=2.1->geoplot) (1.10.1)\n",
            "Requirement already satisfied: numpy>=1.3 in /usr/local/lib/python3.10/dist-packages (from mapclassify>=2.1->geoplot) (1.22.4)\n",
            "Requirement already satisfied: scikit-learn in /usr/local/lib/python3.10/dist-packages (from mapclassify>=2.1->geoplot) (1.2.2)\n",
            "Requirement already satisfied: networkx in /usr/local/lib/python3.10/dist-packages (from mapclassify>=2.1->geoplot) (3.1)\n",
            "Requirement already satisfied: contourpy>=1.0.1 in /usr/local/lib/python3.10/dist-packages (from matplotlib>=3.1.2->geoplot) (1.0.7)\n",
            "Requirement already satisfied: cycler>=0.10 in /usr/local/lib/python3.10/dist-packages (from matplotlib>=3.1.2->geoplot) (0.11.0)\n",
            "Requirement already satisfied: fonttools>=4.22.0 in /usr/local/lib/python3.10/dist-packages (from matplotlib>=3.1.2->geoplot) (4.39.3)\n",
            "Requirement already satisfied: kiwisolver>=1.0.1 in /usr/local/lib/python3.10/dist-packages (from matplotlib>=3.1.2->geoplot) (1.4.4)\n",
            "Requirement already satisfied: pyparsing>=2.3.1 in /usr/local/lib/python3.10/dist-packages (from matplotlib>=3.1.2->geoplot) (3.0.9)\n",
            "Requirement already satisfied: python-dateutil>=2.7 in /usr/local/lib/python3.10/dist-packages (from matplotlib>=3.1.2->geoplot) (2.8.2)\n",
            "Requirement already satisfied: pytz>=2020.1 in /usr/local/lib/python3.10/dist-packages (from pandas->geoplot) (2022.7.1)\n",
            "Collecting pyshp>=2.1 (from cartopy->geoplot)\n",
            "  Downloading pyshp-2.3.1-py2.py3-none-any.whl (46 kB)\n",
            "\u001b[2K     \u001b[90m━━━━━━━━━━━━━━━━━━━━━━━━━━━━━━━━━━━━━━━━\u001b[0m \u001b[32m46.5/46.5 kB\u001b[0m \u001b[31m5.2 MB/s\u001b[0m eta \u001b[36m0:00:00\u001b[0m\n",
            "\u001b[?25hRequirement already satisfied: attrs>=19.2.0 in /usr/local/lib/python3.10/dist-packages (from fiona>=1.8.19->geopandas>=0.9.0->geoplot) (23.1.0)\n",
            "Requirement already satisfied: certifi in /usr/local/lib/python3.10/dist-packages (from fiona>=1.8.19->geopandas>=0.9.0->geoplot) (2022.12.7)\n",
            "Requirement already satisfied: click~=8.0 in /usr/local/lib/python3.10/dist-packages (from fiona>=1.8.19->geopandas>=0.9.0->geoplot) (8.1.3)\n",
            "Collecting click-plugins>=1.0 (from fiona>=1.8.19->geopandas>=0.9.0->geoplot)\n",
            "  Downloading click_plugins-1.1.1-py2.py3-none-any.whl (7.5 kB)\n",
            "Collecting cligj>=0.5 (from fiona>=1.8.19->geopandas>=0.9.0->geoplot)\n",
            "  Downloading cligj-0.7.2-py3-none-any.whl (7.1 kB)\n",
            "Requirement already satisfied: six in /usr/local/lib/python3.10/dist-packages (from fiona>=1.8.19->geopandas>=0.9.0->geoplot) (1.16.0)\n",
            "Requirement already satisfied: geographiclib<3,>=1.52 in /usr/local/lib/python3.10/dist-packages (from geopy->contextily>=1.0.0->geoplot) (2.0)\n",
            "Collecting affine (from rasterio->contextily>=1.0.0->geoplot)\n",
            "  Downloading affine-2.4.0-py3-none-any.whl (15 kB)\n",
            "Collecting snuggs>=1.4.1 (from rasterio->contextily>=1.0.0->geoplot)\n",
            "  Downloading snuggs-1.4.7-py3-none-any.whl (5.4 kB)\n",
            "Requirement already satisfied: setuptools in /usr/local/lib/python3.10/dist-packages (from rasterio->contextily>=1.0.0->geoplot) (67.7.2)\n",
            "Requirement already satisfied: urllib3<1.27,>=1.21.1 in /usr/local/lib/python3.10/dist-packages (from requests->contextily>=1.0.0->geoplot) (1.26.15)\n",
            "Requirement already satisfied: charset-normalizer~=2.0.0 in /usr/local/lib/python3.10/dist-packages (from requests->contextily>=1.0.0->geoplot) (2.0.12)\n",
            "Requirement already satisfied: idna<4,>=2.5 in /usr/local/lib/python3.10/dist-packages (from requests->contextily>=1.0.0->geoplot) (3.4)\n",
            "Requirement already satisfied: threadpoolctl>=2.0.0 in /usr/local/lib/python3.10/dist-packages (from scikit-learn->mapclassify>=2.1->geoplot) (3.1.0)\n",
            "Building wheels for collected packages: cartopy\n",
            "  Building wheel for cartopy (pyproject.toml) ... \u001b[?25l\u001b[?25hdone\n",
            "  Created wheel for cartopy: filename=Cartopy-0.21.1-cp310-cp310-linux_x86_64.whl size=11102734 sha256=9f8df9fe4ccd65739ad0643ac2cd8fc629e5dcf4959ccfc8b3618daaab9e865a\n",
            "  Stored in directory: /root/.cache/pip/wheels/30/b0/1a/1c1909e00c76653dc4e2ff48555257c0eb2d1698280c8d9955\n",
            "Successfully built cartopy\n",
            "Installing collected packages: xyzservices, snuggs, pyshp, pyproj, mercantile, cligj, click-plugins, affine, rasterio, fiona, mapclassify, geopandas, contextily, cartopy, geoplot\n",
            "Successfully installed affine-2.4.0 cartopy-0.21.1 click-plugins-1.1.1 cligj-0.7.2 contextily-1.3.0 fiona-1.9.4.post1 geopandas-0.13.2 geoplot-0.5.1 mapclassify-2.5.0 mercantile-1.2.1 pyproj-3.5.0 pyshp-2.3.1 rasterio-1.3.7 snuggs-1.4.7 xyzservices-2023.5.0\n"
          ]
        }
      ]
    },
    {
      "cell_type": "code",
      "source": [
        "import geoplot as gplt\n",
        "import geopandas as gpd\n",
        "import geoplot.crs as gcrs\n",
        "import imageio\n",
        "import pandas as pd\n",
        "import pathlib\n",
        "import matplotlib.pyplot as plt\n",
        "import mapclassify as mc\n",
        "import numpy as np"
      ],
      "metadata": {
        "id": "R9OQs0iIlDv7"
      },
      "execution_count": null,
      "outputs": []
    },
    {
      "cell_type": "code",
      "source": [
        "fig = px.scatter_geo(arabs, locations=\"Code\",color='Entity',\n",
        "                     hover_name=\"Entity\",\n",
        "                     size=\"Avg_death_per_country\",\n",
        "                     projection=\"natural earth\")\n",
        "fig.show()"
      ],
      "metadata": {
        "id": "ldMluCNflGDk",
        "colab": {
          "base_uri": "https://localhost:8080/",
          "height": 542
        },
        "outputId": "5940e965-6cb9-4c2c-b635-c8ef094f5d39"
      },
      "execution_count": null,
      "outputs": [
        {
          "output_type": "display_data",
          "data": {
            "text/html": [
              "<html>\n",
              "<head><meta charset=\"utf-8\" /></head>\n",
              "<body>\n",
              "    <div>            <script src=\"https://cdnjs.cloudflare.com/ajax/libs/mathjax/2.7.5/MathJax.js?config=TeX-AMS-MML_SVG\"></script><script type=\"text/javascript\">if (window.MathJax && window.MathJax.Hub && window.MathJax.Hub.Config) {window.MathJax.Hub.Config({SVG: {font: \"STIX-Web\"}});}</script>                <script type=\"text/javascript\">window.PlotlyConfig = {MathJaxConfig: 'local'};</script>\n",
              "        <script src=\"https://cdn.plot.ly/plotly-2.18.2.min.js\"></script>                <div id=\"1991b3eb-cf46-4a9e-9d72-e03197606ab7\" class=\"plotly-graph-div\" style=\"height:525px; width:100%;\"></div>            <script type=\"text/javascript\">                                    window.PLOTLYENV=window.PLOTLYENV || {};                                    if (document.getElementById(\"1991b3eb-cf46-4a9e-9d72-e03197606ab7\")) {                    Plotly.newPlot(                        \"1991b3eb-cf46-4a9e-9d72-e03197606ab7\",                        [{\"geo\":\"geo\",\"hovertemplate\":\"<b>%{hovertext}</b><br><br>Entity=Algeria<br>Avg_death_per_country=%{marker.size}<br>Code=%{location}<extra></extra>\",\"hovertext\":[\"Algeria\",\"Algeria\",\"Algeria\",\"Algeria\",\"Algeria\",\"Algeria\",\"Algeria\",\"Algeria\",\"Algeria\",\"Algeria\",\"Algeria\",\"Algeria\",\"Algeria\",\"Algeria\",\"Algeria\",\"Algeria\",\"Algeria\",\"Algeria\",\"Algeria\",\"Algeria\",\"Algeria\",\"Algeria\",\"Algeria\",\"Algeria\",\"Algeria\",\"Algeria\",\"Algeria\",\"Algeria\",\"Algeria\",\"Algeria\"],\"legendgroup\":\"Algeria\",\"locations\":[\"DZA\",\"DZA\",\"DZA\",\"DZA\",\"DZA\",\"DZA\",\"DZA\",\"DZA\",\"DZA\",\"DZA\",\"DZA\",\"DZA\",\"DZA\",\"DZA\",\"DZA\",\"DZA\",\"DZA\",\"DZA\",\"DZA\",\"DZA\",\"DZA\",\"DZA\",\"DZA\",\"DZA\",\"DZA\",\"DZA\",\"DZA\",\"DZA\",\"DZA\",\"DZA\"],\"marker\":{\"color\":\"#636efa\",\"size\":[2.9566969696969703,2.9566969696969703,2.9566969696969703,2.9566969696969703,2.9566969696969703,2.9566969696969703,2.9566969696969703,2.9566969696969703,2.9566969696969703,2.9566969696969703,2.9566969696969703,2.9566969696969703,2.9566969696969703,2.9566969696969703,2.9566969696969703,2.9566969696969703,2.9566969696969703,2.9566969696969703,2.9566969696969703,2.9566969696969703,2.9566969696969703,2.9566969696969703,2.9566969696969703,2.9566969696969703,2.9566969696969703,2.9566969696969703,2.9566969696969703,2.9566969696969703,2.9566969696969703,2.9566969696969703],\"sizemode\":\"area\",\"sizeref\":0.016171401515151514,\"symbol\":\"circle\"},\"mode\":\"markers\",\"name\":\"Algeria\",\"showlegend\":true,\"type\":\"scattergeo\"},{\"geo\":\"geo\",\"hovertemplate\":\"<b>%{hovertext}</b><br><br>Entity=Bahrain<br>Avg_death_per_country=%{marker.size}<br>Code=%{location}<extra></extra>\",\"hovertext\":[\"Bahrain\",\"Bahrain\",\"Bahrain\",\"Bahrain\",\"Bahrain\",\"Bahrain\",\"Bahrain\",\"Bahrain\",\"Bahrain\",\"Bahrain\",\"Bahrain\",\"Bahrain\",\"Bahrain\",\"Bahrain\",\"Bahrain\",\"Bahrain\",\"Bahrain\",\"Bahrain\",\"Bahrain\",\"Bahrain\",\"Bahrain\",\"Bahrain\",\"Bahrain\",\"Bahrain\",\"Bahrain\",\"Bahrain\",\"Bahrain\",\"Bahrain\",\"Bahrain\",\"Bahrain\"],\"legendgroup\":\"Bahrain\",\"locations\":[\"BHR\",\"BHR\",\"BHR\",\"BHR\",\"BHR\",\"BHR\",\"BHR\",\"BHR\",\"BHR\",\"BHR\",\"BHR\",\"BHR\",\"BHR\",\"BHR\",\"BHR\",\"BHR\",\"BHR\",\"BHR\",\"BHR\",\"BHR\",\"BHR\",\"BHR\",\"BHR\",\"BHR\",\"BHR\",\"BHR\",\"BHR\",\"BHR\",\"BHR\",\"BHR\"],\"marker\":{\"color\":\"#EF553B\",\"size\":[5.438378787878789,5.438378787878789,5.438378787878789,5.438378787878789,5.438378787878789,5.438378787878789,5.438378787878789,5.438378787878789,5.438378787878789,5.438378787878789,5.438378787878789,5.438378787878789,5.438378787878789,5.438378787878789,5.438378787878789,5.438378787878789,5.438378787878789,5.438378787878789,5.438378787878789,5.438378787878789,5.438378787878789,5.438378787878789,5.438378787878789,5.438378787878789,5.438378787878789,5.438378787878789,5.438378787878789,5.438378787878789,5.438378787878789,5.438378787878789],\"sizemode\":\"area\",\"sizeref\":0.016171401515151514,\"symbol\":\"circle\"},\"mode\":\"markers\",\"name\":\"Bahrain\",\"showlegend\":true,\"type\":\"scattergeo\"},{\"geo\":\"geo\",\"hovertemplate\":\"<b>%{hovertext}</b><br><br>Entity=Egypt<br>Avg_death_per_country=%{marker.size}<br>Code=%{location}<extra></extra>\",\"hovertext\":[\"Egypt\",\"Egypt\",\"Egypt\",\"Egypt\",\"Egypt\",\"Egypt\",\"Egypt\",\"Egypt\",\"Egypt\",\"Egypt\",\"Egypt\",\"Egypt\",\"Egypt\",\"Egypt\",\"Egypt\",\"Egypt\",\"Egypt\",\"Egypt\",\"Egypt\",\"Egypt\",\"Egypt\",\"Egypt\",\"Egypt\",\"Egypt\",\"Egypt\",\"Egypt\",\"Egypt\",\"Egypt\",\"Egypt\",\"Egypt\"],\"legendgroup\":\"Egypt\",\"locations\":[\"EGY\",\"EGY\",\"EGY\",\"EGY\",\"EGY\",\"EGY\",\"EGY\",\"EGY\",\"EGY\",\"EGY\",\"EGY\",\"EGY\",\"EGY\",\"EGY\",\"EGY\",\"EGY\",\"EGY\",\"EGY\",\"EGY\",\"EGY\",\"EGY\",\"EGY\",\"EGY\",\"EGY\",\"EGY\",\"EGY\",\"EGY\",\"EGY\",\"EGY\",\"EGY\"],\"marker\":{\"color\":\"#00cc96\",\"size\":[3.3123333333333345,3.3123333333333345,3.3123333333333345,3.3123333333333345,3.3123333333333345,3.3123333333333345,3.3123333333333345,3.3123333333333345,3.3123333333333345,3.3123333333333345,3.3123333333333345,3.3123333333333345,3.3123333333333345,3.3123333333333345,3.3123333333333345,3.3123333333333345,3.3123333333333345,3.3123333333333345,3.3123333333333345,3.3123333333333345,3.3123333333333345,3.3123333333333345,3.3123333333333345,3.3123333333333345,3.3123333333333345,3.3123333333333345,3.3123333333333345,3.3123333333333345,3.3123333333333345,3.3123333333333345],\"sizemode\":\"area\",\"sizeref\":0.016171401515151514,\"symbol\":\"circle\"},\"mode\":\"markers\",\"name\":\"Egypt\",\"showlegend\":true,\"type\":\"scattergeo\"},{\"geo\":\"geo\",\"hovertemplate\":\"<b>%{hovertext}</b><br><br>Entity=Iraq<br>Avg_death_per_country=%{marker.size}<br>Code=%{location}<extra></extra>\",\"hovertext\":[\"Iraq\",\"Iraq\",\"Iraq\",\"Iraq\",\"Iraq\",\"Iraq\",\"Iraq\",\"Iraq\",\"Iraq\",\"Iraq\",\"Iraq\",\"Iraq\",\"Iraq\",\"Iraq\",\"Iraq\",\"Iraq\",\"Iraq\",\"Iraq\",\"Iraq\",\"Iraq\",\"Iraq\",\"Iraq\",\"Iraq\",\"Iraq\",\"Iraq\",\"Iraq\",\"Iraq\",\"Iraq\",\"Iraq\",\"Iraq\"],\"legendgroup\":\"Iraq\",\"locations\":[\"IRQ\",\"IRQ\",\"IRQ\",\"IRQ\",\"IRQ\",\"IRQ\",\"IRQ\",\"IRQ\",\"IRQ\",\"IRQ\",\"IRQ\",\"IRQ\",\"IRQ\",\"IRQ\",\"IRQ\",\"IRQ\",\"IRQ\",\"IRQ\",\"IRQ\",\"IRQ\",\"IRQ\",\"IRQ\",\"IRQ\",\"IRQ\",\"IRQ\",\"IRQ\",\"IRQ\",\"IRQ\",\"IRQ\",\"IRQ\"],\"marker\":{\"color\":\"#ab63fa\",\"size\":[3.4905,3.4905,3.4905,3.4905,3.4905,3.4905,3.4905,3.4905,3.4905,3.4905,3.4905,3.4905,3.4905,3.4905,3.4905,3.4905,3.4905,3.4905,3.4905,3.4905,3.4905,3.4905,3.4905,3.4905,3.4905,3.4905,3.4905,3.4905,3.4905,3.4905],\"sizemode\":\"area\",\"sizeref\":0.016171401515151514,\"symbol\":\"circle\"},\"mode\":\"markers\",\"name\":\"Iraq\",\"showlegend\":true,\"type\":\"scattergeo\"},{\"geo\":\"geo\",\"hovertemplate\":\"<b>%{hovertext}</b><br><br>Entity=Jordan<br>Avg_death_per_country=%{marker.size}<br>Code=%{location}<extra></extra>\",\"hovertext\":[\"Jordan\",\"Jordan\",\"Jordan\",\"Jordan\",\"Jordan\",\"Jordan\",\"Jordan\",\"Jordan\",\"Jordan\",\"Jordan\",\"Jordan\",\"Jordan\",\"Jordan\",\"Jordan\",\"Jordan\",\"Jordan\",\"Jordan\",\"Jordan\",\"Jordan\",\"Jordan\",\"Jordan\",\"Jordan\",\"Jordan\",\"Jordan\",\"Jordan\",\"Jordan\",\"Jordan\",\"Jordan\",\"Jordan\",\"Jordan\"],\"legendgroup\":\"Jordan\",\"locations\":[\"JOR\",\"JOR\",\"JOR\",\"JOR\",\"JOR\",\"JOR\",\"JOR\",\"JOR\",\"JOR\",\"JOR\",\"JOR\",\"JOR\",\"JOR\",\"JOR\",\"JOR\",\"JOR\",\"JOR\",\"JOR\",\"JOR\",\"JOR\",\"JOR\",\"JOR\",\"JOR\",\"JOR\",\"JOR\",\"JOR\",\"JOR\",\"JOR\",\"JOR\",\"JOR\"],\"marker\":{\"color\":\"#FFA15A\",\"size\":[3.499196969696969,3.499196969696969,3.499196969696969,3.499196969696969,3.499196969696969,3.499196969696969,3.499196969696969,3.499196969696969,3.499196969696969,3.499196969696969,3.499196969696969,3.499196969696969,3.499196969696969,3.499196969696969,3.499196969696969,3.499196969696969,3.499196969696969,3.499196969696969,3.499196969696969,3.499196969696969,3.499196969696969,3.499196969696969,3.499196969696969,3.499196969696969,3.499196969696969,3.499196969696969,3.499196969696969,3.499196969696969,3.499196969696969,3.499196969696969],\"sizemode\":\"area\",\"sizeref\":0.016171401515151514,\"symbol\":\"circle\"},\"mode\":\"markers\",\"name\":\"Jordan\",\"showlegend\":true,\"type\":\"scattergeo\"},{\"geo\":\"geo\",\"hovertemplate\":\"<b>%{hovertext}</b><br><br>Entity=Kuwait<br>Avg_death_per_country=%{marker.size}<br>Code=%{location}<extra></extra>\",\"hovertext\":[\"Kuwait\",\"Kuwait\",\"Kuwait\",\"Kuwait\",\"Kuwait\",\"Kuwait\",\"Kuwait\",\"Kuwait\",\"Kuwait\",\"Kuwait\",\"Kuwait\",\"Kuwait\",\"Kuwait\",\"Kuwait\",\"Kuwait\",\"Kuwait\",\"Kuwait\",\"Kuwait\",\"Kuwait\",\"Kuwait\",\"Kuwait\",\"Kuwait\",\"Kuwait\",\"Kuwait\",\"Kuwait\",\"Kuwait\",\"Kuwait\",\"Kuwait\",\"Kuwait\",\"Kuwait\"],\"legendgroup\":\"Kuwait\",\"locations\":[\"KWT\",\"KWT\",\"KWT\",\"KWT\",\"KWT\",\"KWT\",\"KWT\",\"KWT\",\"KWT\",\"KWT\",\"KWT\",\"KWT\",\"KWT\",\"KWT\",\"KWT\",\"KWT\",\"KWT\",\"KWT\",\"KWT\",\"KWT\",\"KWT\",\"KWT\",\"KWT\",\"KWT\",\"KWT\",\"KWT\",\"KWT\",\"KWT\",\"KWT\",\"KWT\"],\"marker\":{\"color\":\"#19d3f3\",\"size\":[2.7512121212121206,2.7512121212121206,2.7512121212121206,2.7512121212121206,2.7512121212121206,2.7512121212121206,2.7512121212121206,2.7512121212121206,2.7512121212121206,2.7512121212121206,2.7512121212121206,2.7512121212121206,2.7512121212121206,2.7512121212121206,2.7512121212121206,2.7512121212121206,2.7512121212121206,2.7512121212121206,2.7512121212121206,2.7512121212121206,2.7512121212121206,2.7512121212121206,2.7512121212121206,2.7512121212121206,2.7512121212121206,2.7512121212121206,2.7512121212121206,2.7512121212121206,2.7512121212121206,2.7512121212121206],\"sizemode\":\"area\",\"sizeref\":0.016171401515151514,\"symbol\":\"circle\"},\"mode\":\"markers\",\"name\":\"Kuwait\",\"showlegend\":true,\"type\":\"scattergeo\"},{\"geo\":\"geo\",\"hovertemplate\":\"<b>%{hovertext}</b><br><br>Entity=Lebanon<br>Avg_death_per_country=%{marker.size}<br>Code=%{location}<extra></extra>\",\"hovertext\":[\"Lebanon\",\"Lebanon\",\"Lebanon\",\"Lebanon\",\"Lebanon\",\"Lebanon\",\"Lebanon\",\"Lebanon\",\"Lebanon\",\"Lebanon\",\"Lebanon\",\"Lebanon\",\"Lebanon\",\"Lebanon\",\"Lebanon\",\"Lebanon\",\"Lebanon\",\"Lebanon\",\"Lebanon\",\"Lebanon\",\"Lebanon\",\"Lebanon\",\"Lebanon\",\"Lebanon\",\"Lebanon\",\"Lebanon\",\"Lebanon\",\"Lebanon\",\"Lebanon\",\"Lebanon\"],\"legendgroup\":\"Lebanon\",\"locations\":[\"LBN\",\"LBN\",\"LBN\",\"LBN\",\"LBN\",\"LBN\",\"LBN\",\"LBN\",\"LBN\",\"LBN\",\"LBN\",\"LBN\",\"LBN\",\"LBN\",\"LBN\",\"LBN\",\"LBN\",\"LBN\",\"LBN\",\"LBN\",\"LBN\",\"LBN\",\"LBN\",\"LBN\",\"LBN\",\"LBN\",\"LBN\",\"LBN\",\"LBN\",\"LBN\"],\"marker\":{\"color\":\"#FF6692\",\"size\":[5.372772727272726,5.372772727272726,5.372772727272726,5.372772727272726,5.372772727272726,5.372772727272726,5.372772727272726,5.372772727272726,5.372772727272726,5.372772727272726,5.372772727272726,5.372772727272726,5.372772727272726,5.372772727272726,5.372772727272726,5.372772727272726,5.372772727272726,5.372772727272726,5.372772727272726,5.372772727272726,5.372772727272726,5.372772727272726,5.372772727272726,5.372772727272726,5.372772727272726,5.372772727272726,5.372772727272726,5.372772727272726,5.372772727272726,5.372772727272726],\"sizemode\":\"area\",\"sizeref\":0.016171401515151514,\"symbol\":\"circle\"},\"mode\":\"markers\",\"name\":\"Lebanon\",\"showlegend\":true,\"type\":\"scattergeo\"},{\"geo\":\"geo\",\"hovertemplate\":\"<b>%{hovertext}</b><br><br>Entity=Libya<br>Avg_death_per_country=%{marker.size}<br>Code=%{location}<extra></extra>\",\"hovertext\":[\"Libya\",\"Libya\",\"Libya\",\"Libya\",\"Libya\",\"Libya\",\"Libya\",\"Libya\",\"Libya\",\"Libya\",\"Libya\",\"Libya\",\"Libya\",\"Libya\",\"Libya\",\"Libya\",\"Libya\",\"Libya\",\"Libya\",\"Libya\",\"Libya\",\"Libya\",\"Libya\",\"Libya\",\"Libya\",\"Libya\",\"Libya\",\"Libya\",\"Libya\",\"Libya\"],\"legendgroup\":\"Libya\",\"locations\":[\"LBY\",\"LBY\",\"LBY\",\"LBY\",\"LBY\",\"LBY\",\"LBY\",\"LBY\",\"LBY\",\"LBY\",\"LBY\",\"LBY\",\"LBY\",\"LBY\",\"LBY\",\"LBY\",\"LBY\",\"LBY\",\"LBY\",\"LBY\",\"LBY\",\"LBY\",\"LBY\",\"LBY\",\"LBY\",\"LBY\",\"LBY\",\"LBY\",\"LBY\",\"LBY\"],\"marker\":{\"color\":\"#B6E880\",\"size\":[4.043803030303031,4.043803030303031,4.043803030303031,4.043803030303031,4.043803030303031,4.043803030303031,4.043803030303031,4.043803030303031,4.043803030303031,4.043803030303031,4.043803030303031,4.043803030303031,4.043803030303031,4.043803030303031,4.043803030303031,4.043803030303031,4.043803030303031,4.043803030303031,4.043803030303031,4.043803030303031,4.043803030303031,4.043803030303031,4.043803030303031,4.043803030303031,4.043803030303031,4.043803030303031,4.043803030303031,4.043803030303031,4.043803030303031,4.043803030303031],\"sizemode\":\"area\",\"sizeref\":0.016171401515151514,\"symbol\":\"circle\"},\"mode\":\"markers\",\"name\":\"Libya\",\"showlegend\":true,\"type\":\"scattergeo\"},{\"geo\":\"geo\",\"hovertemplate\":\"<b>%{hovertext}</b><br><br>Entity=Mauritania<br>Avg_death_per_country=%{marker.size}<br>Code=%{location}<extra></extra>\",\"hovertext\":[\"Mauritania\",\"Mauritania\",\"Mauritania\",\"Mauritania\",\"Mauritania\",\"Mauritania\",\"Mauritania\",\"Mauritania\",\"Mauritania\",\"Mauritania\",\"Mauritania\",\"Mauritania\",\"Mauritania\",\"Mauritania\",\"Mauritania\",\"Mauritania\",\"Mauritania\",\"Mauritania\",\"Mauritania\",\"Mauritania\",\"Mauritania\",\"Mauritania\",\"Mauritania\",\"Mauritania\",\"Mauritania\",\"Mauritania\",\"Mauritania\",\"Mauritania\",\"Mauritania\",\"Mauritania\"],\"legendgroup\":\"Mauritania\",\"locations\":[\"MRT\",\"MRT\",\"MRT\",\"MRT\",\"MRT\",\"MRT\",\"MRT\",\"MRT\",\"MRT\",\"MRT\",\"MRT\",\"MRT\",\"MRT\",\"MRT\",\"MRT\",\"MRT\",\"MRT\",\"MRT\",\"MRT\",\"MRT\",\"MRT\",\"MRT\",\"MRT\",\"MRT\",\"MRT\",\"MRT\",\"MRT\",\"MRT\",\"MRT\",\"MRT\"],\"marker\":{\"color\":\"#FF97FF\",\"size\":[4.205348484848485,4.205348484848485,4.205348484848485,4.205348484848485,4.205348484848485,4.205348484848485,4.205348484848485,4.205348484848485,4.205348484848485,4.205348484848485,4.205348484848485,4.205348484848485,4.205348484848485,4.205348484848485,4.205348484848485,4.205348484848485,4.205348484848485,4.205348484848485,4.205348484848485,4.205348484848485,4.205348484848485,4.205348484848485,4.205348484848485,4.205348484848485,4.205348484848485,4.205348484848485,4.205348484848485,4.205348484848485,4.205348484848485,4.205348484848485],\"sizemode\":\"area\",\"sizeref\":0.016171401515151514,\"symbol\":\"circle\"},\"mode\":\"markers\",\"name\":\"Mauritania\",\"showlegend\":true,\"type\":\"scattergeo\"},{\"geo\":\"geo\",\"hovertemplate\":\"<b>%{hovertext}</b><br><br>Entity=Morocco<br>Avg_death_per_country=%{marker.size}<br>Code=%{location}<extra></extra>\",\"hovertext\":[\"Morocco\",\"Morocco\",\"Morocco\",\"Morocco\",\"Morocco\",\"Morocco\",\"Morocco\",\"Morocco\",\"Morocco\",\"Morocco\",\"Morocco\",\"Morocco\",\"Morocco\",\"Morocco\",\"Morocco\",\"Morocco\",\"Morocco\",\"Morocco\",\"Morocco\",\"Morocco\",\"Morocco\",\"Morocco\",\"Morocco\",\"Morocco\",\"Morocco\",\"Morocco\",\"Morocco\",\"Morocco\",\"Morocco\",\"Morocco\"],\"legendgroup\":\"Morocco\",\"locations\":[\"MAR\",\"MAR\",\"MAR\",\"MAR\",\"MAR\",\"MAR\",\"MAR\",\"MAR\",\"MAR\",\"MAR\",\"MAR\",\"MAR\",\"MAR\",\"MAR\",\"MAR\",\"MAR\",\"MAR\",\"MAR\",\"MAR\",\"MAR\",\"MAR\",\"MAR\",\"MAR\",\"MAR\",\"MAR\",\"MAR\",\"MAR\",\"MAR\",\"MAR\",\"MAR\"],\"marker\":{\"color\":\"#FECB52\",\"size\":[3.194727272727273,3.194727272727273,3.194727272727273,3.194727272727273,3.194727272727273,3.194727272727273,3.194727272727273,3.194727272727273,3.194727272727273,3.194727272727273,3.194727272727273,3.194727272727273,3.194727272727273,3.194727272727273,3.194727272727273,3.194727272727273,3.194727272727273,3.194727272727273,3.194727272727273,3.194727272727273,3.194727272727273,3.194727272727273,3.194727272727273,3.194727272727273,3.194727272727273,3.194727272727273,3.194727272727273,3.194727272727273,3.194727272727273,3.194727272727273],\"sizemode\":\"area\",\"sizeref\":0.016171401515151514,\"symbol\":\"circle\"},\"mode\":\"markers\",\"name\":\"Morocco\",\"showlegend\":true,\"type\":\"scattergeo\"},{\"geo\":\"geo\",\"hovertemplate\":\"<b>%{hovertext}</b><br><br>Entity=Oman<br>Avg_death_per_country=%{marker.size}<br>Code=%{location}<extra></extra>\",\"hovertext\":[\"Oman\",\"Oman\",\"Oman\",\"Oman\",\"Oman\",\"Oman\",\"Oman\",\"Oman\",\"Oman\",\"Oman\",\"Oman\",\"Oman\",\"Oman\",\"Oman\",\"Oman\",\"Oman\",\"Oman\",\"Oman\",\"Oman\",\"Oman\",\"Oman\",\"Oman\",\"Oman\",\"Oman\",\"Oman\",\"Oman\",\"Oman\",\"Oman\",\"Oman\",\"Oman\"],\"legendgroup\":\"Oman\",\"locations\":[\"OMN\",\"OMN\",\"OMN\",\"OMN\",\"OMN\",\"OMN\",\"OMN\",\"OMN\",\"OMN\",\"OMN\",\"OMN\",\"OMN\",\"OMN\",\"OMN\",\"OMN\",\"OMN\",\"OMN\",\"OMN\",\"OMN\",\"OMN\",\"OMN\",\"OMN\",\"OMN\",\"OMN\",\"OMN\",\"OMN\",\"OMN\",\"OMN\",\"OMN\",\"OMN\"],\"marker\":{\"color\":\"#636efa\",\"size\":[3.3330909090909087,3.3330909090909087,3.3330909090909087,3.3330909090909087,3.3330909090909087,3.3330909090909087,3.3330909090909087,3.3330909090909087,3.3330909090909087,3.3330909090909087,3.3330909090909087,3.3330909090909087,3.3330909090909087,3.3330909090909087,3.3330909090909087,3.3330909090909087,3.3330909090909087,3.3330909090909087,3.3330909090909087,3.3330909090909087,3.3330909090909087,3.3330909090909087,3.3330909090909087,3.3330909090909087,3.3330909090909087,3.3330909090909087,3.3330909090909087,3.3330909090909087,3.3330909090909087,3.3330909090909087],\"sizemode\":\"area\",\"sizeref\":0.016171401515151514,\"symbol\":\"circle\"},\"mode\":\"markers\",\"name\":\"Oman\",\"showlegend\":true,\"type\":\"scattergeo\"},{\"geo\":\"geo\",\"hovertemplate\":\"<b>%{hovertext}</b><br><br>Entity=Palestine<br>Avg_death_per_country=%{marker.size}<br>Code=%{location}<extra></extra>\",\"hovertext\":[\"Palestine\",\"Palestine\",\"Palestine\",\"Palestine\",\"Palestine\",\"Palestine\",\"Palestine\",\"Palestine\",\"Palestine\",\"Palestine\",\"Palestine\",\"Palestine\",\"Palestine\",\"Palestine\",\"Palestine\",\"Palestine\",\"Palestine\",\"Palestine\",\"Palestine\",\"Palestine\",\"Palestine\",\"Palestine\",\"Palestine\",\"Palestine\",\"Palestine\",\"Palestine\",\"Palestine\",\"Palestine\",\"Palestine\",\"Palestine\"],\"legendgroup\":\"Palestine\",\"locations\":[\"PSE\",\"PSE\",\"PSE\",\"PSE\",\"PSE\",\"PSE\",\"PSE\",\"PSE\",\"PSE\",\"PSE\",\"PSE\",\"PSE\",\"PSE\",\"PSE\",\"PSE\",\"PSE\",\"PSE\",\"PSE\",\"PSE\",\"PSE\",\"PSE\",\"PSE\",\"PSE\",\"PSE\",\"PSE\",\"PSE\",\"PSE\",\"PSE\",\"PSE\",\"PSE\"],\"marker\":{\"color\":\"#EF553B\",\"size\":[4.544287878787879,4.544287878787879,4.544287878787879,4.544287878787879,4.544287878787879,4.544287878787879,4.544287878787879,4.544287878787879,4.544287878787879,4.544287878787879,4.544287878787879,4.544287878787879,4.544287878787879,4.544287878787879,4.544287878787879,4.544287878787879,4.544287878787879,4.544287878787879,4.544287878787879,4.544287878787879,4.544287878787879,4.544287878787879,4.544287878787879,4.544287878787879,4.544287878787879,4.544287878787879,4.544287878787879,4.544287878787879,4.544287878787879,4.544287878787879],\"sizemode\":\"area\",\"sizeref\":0.016171401515151514,\"symbol\":\"circle\"},\"mode\":\"markers\",\"name\":\"Palestine\",\"showlegend\":true,\"type\":\"scattergeo\"},{\"geo\":\"geo\",\"hovertemplate\":\"<b>%{hovertext}</b><br><br>Entity=Qatar<br>Avg_death_per_country=%{marker.size}<br>Code=%{location}<extra></extra>\",\"hovertext\":[\"Qatar\",\"Qatar\",\"Qatar\",\"Qatar\",\"Qatar\",\"Qatar\",\"Qatar\",\"Qatar\",\"Qatar\",\"Qatar\",\"Qatar\",\"Qatar\",\"Qatar\",\"Qatar\",\"Qatar\",\"Qatar\",\"Qatar\",\"Qatar\",\"Qatar\",\"Qatar\",\"Qatar\",\"Qatar\",\"Qatar\",\"Qatar\",\"Qatar\",\"Qatar\",\"Qatar\",\"Qatar\",\"Qatar\",\"Qatar\"],\"legendgroup\":\"Qatar\",\"locations\":[\"QAT\",\"QAT\",\"QAT\",\"QAT\",\"QAT\",\"QAT\",\"QAT\",\"QAT\",\"QAT\",\"QAT\",\"QAT\",\"QAT\",\"QAT\",\"QAT\",\"QAT\",\"QAT\",\"QAT\",\"QAT\",\"QAT\",\"QAT\",\"QAT\",\"QAT\",\"QAT\",\"QAT\",\"QAT\",\"QAT\",\"QAT\",\"QAT\",\"QAT\",\"QAT\"],\"marker\":{\"color\":\"#00cc96\",\"size\":[5.687348484848485,5.687348484848485,5.687348484848485,5.687348484848485,5.687348484848485,5.687348484848485,5.687348484848485,5.687348484848485,5.687348484848485,5.687348484848485,5.687348484848485,5.687348484848485,5.687348484848485,5.687348484848485,5.687348484848485,5.687348484848485,5.687348484848485,5.687348484848485,5.687348484848485,5.687348484848485,5.687348484848485,5.687348484848485,5.687348484848485,5.687348484848485,5.687348484848485,5.687348484848485,5.687348484848485,5.687348484848485,5.687348484848485,5.687348484848485],\"sizemode\":\"area\",\"sizeref\":0.016171401515151514,\"symbol\":\"circle\"},\"mode\":\"markers\",\"name\":\"Qatar\",\"showlegend\":true,\"type\":\"scattergeo\"},{\"geo\":\"geo\",\"hovertemplate\":\"<b>%{hovertext}</b><br><br>Entity=Saudi Arabia<br>Avg_death_per_country=%{marker.size}<br>Code=%{location}<extra></extra>\",\"hovertext\":[\"Saudi Arabia\",\"Saudi Arabia\",\"Saudi Arabia\",\"Saudi Arabia\",\"Saudi Arabia\",\"Saudi Arabia\",\"Saudi Arabia\",\"Saudi Arabia\",\"Saudi Arabia\",\"Saudi Arabia\",\"Saudi Arabia\",\"Saudi Arabia\",\"Saudi Arabia\",\"Saudi Arabia\",\"Saudi Arabia\",\"Saudi Arabia\",\"Saudi Arabia\",\"Saudi Arabia\",\"Saudi Arabia\",\"Saudi Arabia\",\"Saudi Arabia\",\"Saudi Arabia\",\"Saudi Arabia\",\"Saudi Arabia\",\"Saudi Arabia\",\"Saudi Arabia\",\"Saudi Arabia\",\"Saudi Arabia\",\"Saudi Arabia\",\"Saudi Arabia\"],\"legendgroup\":\"Saudi Arabia\",\"locations\":[\"SAU\",\"SAU\",\"SAU\",\"SAU\",\"SAU\",\"SAU\",\"SAU\",\"SAU\",\"SAU\",\"SAU\",\"SAU\",\"SAU\",\"SAU\",\"SAU\",\"SAU\",\"SAU\",\"SAU\",\"SAU\",\"SAU\",\"SAU\",\"SAU\",\"SAU\",\"SAU\",\"SAU\",\"SAU\",\"SAU\",\"SAU\",\"SAU\",\"SAU\",\"SAU\"],\"marker\":{\"color\":\"#ab63fa\",\"size\":[2.882848484848485,2.882848484848485,2.882848484848485,2.882848484848485,2.882848484848485,2.882848484848485,2.882848484848485,2.882848484848485,2.882848484848485,2.882848484848485,2.882848484848485,2.882848484848485,2.882848484848485,2.882848484848485,2.882848484848485,2.882848484848485,2.882848484848485,2.882848484848485,2.882848484848485,2.882848484848485,2.882848484848485,2.882848484848485,2.882848484848485,2.882848484848485,2.882848484848485,2.882848484848485,2.882848484848485,2.882848484848485,2.882848484848485,2.882848484848485],\"sizemode\":\"area\",\"sizeref\":0.016171401515151514,\"symbol\":\"circle\"},\"mode\":\"markers\",\"name\":\"Saudi Arabia\",\"showlegend\":true,\"type\":\"scattergeo\"},{\"geo\":\"geo\",\"hovertemplate\":\"<b>%{hovertext}</b><br><br>Entity=Somalia<br>Avg_death_per_country=%{marker.size}<br>Code=%{location}<extra></extra>\",\"hovertext\":[\"Somalia\",\"Somalia\",\"Somalia\",\"Somalia\",\"Somalia\",\"Somalia\",\"Somalia\",\"Somalia\",\"Somalia\",\"Somalia\",\"Somalia\",\"Somalia\",\"Somalia\",\"Somalia\",\"Somalia\",\"Somalia\",\"Somalia\",\"Somalia\",\"Somalia\",\"Somalia\",\"Somalia\",\"Somalia\",\"Somalia\",\"Somalia\",\"Somalia\",\"Somalia\",\"Somalia\",\"Somalia\",\"Somalia\",\"Somalia\"],\"legendgroup\":\"Somalia\",\"locations\":[\"SOM\",\"SOM\",\"SOM\",\"SOM\",\"SOM\",\"SOM\",\"SOM\",\"SOM\",\"SOM\",\"SOM\",\"SOM\",\"SOM\",\"SOM\",\"SOM\",\"SOM\",\"SOM\",\"SOM\",\"SOM\",\"SOM\",\"SOM\",\"SOM\",\"SOM\",\"SOM\",\"SOM\",\"SOM\",\"SOM\",\"SOM\",\"SOM\",\"SOM\",\"SOM\"],\"marker\":{\"color\":\"#FFA15A\",\"size\":[4.3389848484848486,4.3389848484848486,4.3389848484848486,4.3389848484848486,4.3389848484848486,4.3389848484848486,4.3389848484848486,4.3389848484848486,4.3389848484848486,4.3389848484848486,4.3389848484848486,4.3389848484848486,4.3389848484848486,4.3389848484848486,4.3389848484848486,4.3389848484848486,4.3389848484848486,4.3389848484848486,4.3389848484848486,4.3389848484848486,4.3389848484848486,4.3389848484848486,4.3389848484848486,4.3389848484848486,4.3389848484848486,4.3389848484848486,4.3389848484848486,4.3389848484848486,4.3389848484848486,4.3389848484848486],\"sizemode\":\"area\",\"sizeref\":0.016171401515151514,\"symbol\":\"circle\"},\"mode\":\"markers\",\"name\":\"Somalia\",\"showlegend\":true,\"type\":\"scattergeo\"},{\"geo\":\"geo\",\"hovertemplate\":\"<b>%{hovertext}</b><br><br>Entity=Sudan<br>Avg_death_per_country=%{marker.size}<br>Code=%{location}<extra></extra>\",\"hovertext\":[\"Sudan\",\"Sudan\",\"Sudan\",\"Sudan\",\"Sudan\",\"Sudan\",\"Sudan\",\"Sudan\",\"Sudan\",\"Sudan\",\"Sudan\",\"Sudan\",\"Sudan\",\"Sudan\",\"Sudan\",\"Sudan\",\"Sudan\",\"Sudan\",\"Sudan\",\"Sudan\",\"Sudan\",\"Sudan\",\"Sudan\",\"Sudan\",\"Sudan\",\"Sudan\",\"Sudan\",\"Sudan\",\"Sudan\",\"Sudan\"],\"legendgroup\":\"Sudan\",\"locations\":[\"SDN\",\"SDN\",\"SDN\",\"SDN\",\"SDN\",\"SDN\",\"SDN\",\"SDN\",\"SDN\",\"SDN\",\"SDN\",\"SDN\",\"SDN\",\"SDN\",\"SDN\",\"SDN\",\"SDN\",\"SDN\",\"SDN\",\"SDN\",\"SDN\",\"SDN\",\"SDN\",\"SDN\",\"SDN\",\"SDN\",\"SDN\",\"SDN\",\"SDN\",\"SDN\"],\"marker\":{\"color\":\"#19d3f3\",\"size\":[3.1171969696969692,3.1171969696969692,3.1171969696969692,3.1171969696969692,3.1171969696969692,3.1171969696969692,3.1171969696969692,3.1171969696969692,3.1171969696969692,3.1171969696969692,3.1171969696969692,3.1171969696969692,3.1171969696969692,3.1171969696969692,3.1171969696969692,3.1171969696969692,3.1171969696969692,3.1171969696969692,3.1171969696969692,3.1171969696969692,3.1171969696969692,3.1171969696969692,3.1171969696969692,3.1171969696969692,3.1171969696969692,3.1171969696969692,3.1171969696969692,3.1171969696969692,3.1171969696969692,3.1171969696969692],\"sizemode\":\"area\",\"sizeref\":0.016171401515151514,\"symbol\":\"circle\"},\"mode\":\"markers\",\"name\":\"Sudan\",\"showlegend\":true,\"type\":\"scattergeo\"},{\"geo\":\"geo\",\"hovertemplate\":\"<b>%{hovertext}</b><br><br>Entity=Syria<br>Avg_death_per_country=%{marker.size}<br>Code=%{location}<extra></extra>\",\"hovertext\":[\"Syria\",\"Syria\",\"Syria\",\"Syria\",\"Syria\",\"Syria\",\"Syria\",\"Syria\",\"Syria\",\"Syria\",\"Syria\",\"Syria\",\"Syria\",\"Syria\",\"Syria\",\"Syria\",\"Syria\",\"Syria\",\"Syria\",\"Syria\",\"Syria\",\"Syria\",\"Syria\",\"Syria\",\"Syria\",\"Syria\",\"Syria\",\"Syria\",\"Syria\",\"Syria\"],\"legendgroup\":\"Syria\",\"locations\":[\"SYR\",\"SYR\",\"SYR\",\"SYR\",\"SYR\",\"SYR\",\"SYR\",\"SYR\",\"SYR\",\"SYR\",\"SYR\",\"SYR\",\"SYR\",\"SYR\",\"SYR\",\"SYR\",\"SYR\",\"SYR\",\"SYR\",\"SYR\",\"SYR\",\"SYR\",\"SYR\",\"SYR\",\"SYR\",\"SYR\",\"SYR\",\"SYR\",\"SYR\",\"SYR\"],\"marker\":{\"color\":\"#FF6692\",\"size\":[2.462787878787879,2.462787878787879,2.462787878787879,2.462787878787879,2.462787878787879,2.462787878787879,2.462787878787879,2.462787878787879,2.462787878787879,2.462787878787879,2.462787878787879,2.462787878787879,2.462787878787879,2.462787878787879,2.462787878787879,2.462787878787879,2.462787878787879,2.462787878787879,2.462787878787879,2.462787878787879,2.462787878787879,2.462787878787879,2.462787878787879,2.462787878787879,2.462787878787879,2.462787878787879,2.462787878787879,2.462787878787879,2.462787878787879,2.462787878787879],\"sizemode\":\"area\",\"sizeref\":0.016171401515151514,\"symbol\":\"circle\"},\"mode\":\"markers\",\"name\":\"Syria\",\"showlegend\":true,\"type\":\"scattergeo\"},{\"geo\":\"geo\",\"hovertemplate\":\"<b>%{hovertext}</b><br><br>Entity=Tunisia<br>Avg_death_per_country=%{marker.size}<br>Code=%{location}<extra></extra>\",\"hovertext\":[\"Tunisia\",\"Tunisia\",\"Tunisia\",\"Tunisia\",\"Tunisia\",\"Tunisia\",\"Tunisia\",\"Tunisia\",\"Tunisia\",\"Tunisia\",\"Tunisia\",\"Tunisia\",\"Tunisia\",\"Tunisia\",\"Tunisia\",\"Tunisia\",\"Tunisia\",\"Tunisia\",\"Tunisia\",\"Tunisia\",\"Tunisia\",\"Tunisia\",\"Tunisia\",\"Tunisia\",\"Tunisia\",\"Tunisia\",\"Tunisia\",\"Tunisia\",\"Tunisia\",\"Tunisia\"],\"legendgroup\":\"Tunisia\",\"locations\":[\"TUN\",\"TUN\",\"TUN\",\"TUN\",\"TUN\",\"TUN\",\"TUN\",\"TUN\",\"TUN\",\"TUN\",\"TUN\",\"TUN\",\"TUN\",\"TUN\",\"TUN\",\"TUN\",\"TUN\",\"TUN\",\"TUN\",\"TUN\",\"TUN\",\"TUN\",\"TUN\",\"TUN\",\"TUN\",\"TUN\",\"TUN\",\"TUN\",\"TUN\",\"TUN\"],\"marker\":{\"color\":\"#B6E880\",\"size\":[3.411515151515152,3.411515151515152,3.411515151515152,3.411515151515152,3.411515151515152,3.411515151515152,3.411515151515152,3.411515151515152,3.411515151515152,3.411515151515152,3.411515151515152,3.411515151515152,3.411515151515152,3.411515151515152,3.411515151515152,3.411515151515152,3.411515151515152,3.411515151515152,3.411515151515152,3.411515151515152,3.411515151515152,3.411515151515152,3.411515151515152,3.411515151515152,3.411515151515152,3.411515151515152,3.411515151515152,3.411515151515152,3.411515151515152,3.411515151515152],\"sizemode\":\"area\",\"sizeref\":0.016171401515151514,\"symbol\":\"circle\"},\"mode\":\"markers\",\"name\":\"Tunisia\",\"showlegend\":true,\"type\":\"scattergeo\"},{\"geo\":\"geo\",\"hovertemplate\":\"<b>%{hovertext}</b><br><br>Entity=United Arab Emirates<br>Avg_death_per_country=%{marker.size}<br>Code=%{location}<extra></extra>\",\"hovertext\":[\"United Arab Emirates\",\"United Arab Emirates\",\"United Arab Emirates\",\"United Arab Emirates\",\"United Arab Emirates\",\"United Arab Emirates\",\"United Arab Emirates\",\"United Arab Emirates\",\"United Arab Emirates\",\"United Arab Emirates\",\"United Arab Emirates\",\"United Arab Emirates\",\"United Arab Emirates\",\"United Arab Emirates\",\"United Arab Emirates\",\"United Arab Emirates\",\"United Arab Emirates\",\"United Arab Emirates\",\"United Arab Emirates\",\"United Arab Emirates\",\"United Arab Emirates\",\"United Arab Emirates\",\"United Arab Emirates\",\"United Arab Emirates\",\"United Arab Emirates\",\"United Arab Emirates\",\"United Arab Emirates\",\"United Arab Emirates\",\"United Arab Emirates\",\"United Arab Emirates\"],\"legendgroup\":\"United Arab Emirates\",\"locations\":[\"ARE\",\"ARE\",\"ARE\",\"ARE\",\"ARE\",\"ARE\",\"ARE\",\"ARE\",\"ARE\",\"ARE\",\"ARE\",\"ARE\",\"ARE\",\"ARE\",\"ARE\",\"ARE\",\"ARE\",\"ARE\",\"ARE\",\"ARE\",\"ARE\",\"ARE\",\"ARE\",\"ARE\",\"ARE\",\"ARE\",\"ARE\",\"ARE\",\"ARE\",\"ARE\"],\"marker\":{\"color\":\"#FF97FF\",\"size\":[6.468560606060605,6.468560606060605,6.468560606060605,6.468560606060605,6.468560606060605,6.468560606060605,6.468560606060605,6.468560606060605,6.468560606060605,6.468560606060605,6.468560606060605,6.468560606060605,6.468560606060605,6.468560606060605,6.468560606060605,6.468560606060605,6.468560606060605,6.468560606060605,6.468560606060605,6.468560606060605,6.468560606060605,6.468560606060605,6.468560606060605,6.468560606060605,6.468560606060605,6.468560606060605,6.468560606060605,6.468560606060605,6.468560606060605,6.468560606060605],\"sizemode\":\"area\",\"sizeref\":0.016171401515151514,\"symbol\":\"circle\"},\"mode\":\"markers\",\"name\":\"United Arab Emirates\",\"showlegend\":true,\"type\":\"scattergeo\"},{\"geo\":\"geo\",\"hovertemplate\":\"<b>%{hovertext}</b><br><br>Entity=Yemen<br>Avg_death_per_country=%{marker.size}<br>Code=%{location}<extra></extra>\",\"hovertext\":[\"Yemen\",\"Yemen\",\"Yemen\",\"Yemen\",\"Yemen\",\"Yemen\",\"Yemen\",\"Yemen\",\"Yemen\",\"Yemen\",\"Yemen\",\"Yemen\",\"Yemen\",\"Yemen\",\"Yemen\",\"Yemen\",\"Yemen\",\"Yemen\",\"Yemen\",\"Yemen\",\"Yemen\",\"Yemen\",\"Yemen\",\"Yemen\",\"Yemen\",\"Yemen\",\"Yemen\",\"Yemen\",\"Yemen\",\"Yemen\"],\"legendgroup\":\"Yemen\",\"locations\":[\"YEM\",\"YEM\",\"YEM\",\"YEM\",\"YEM\",\"YEM\",\"YEM\",\"YEM\",\"YEM\",\"YEM\",\"YEM\",\"YEM\",\"YEM\",\"YEM\",\"YEM\",\"YEM\",\"YEM\",\"YEM\",\"YEM\",\"YEM\",\"YEM\",\"YEM\",\"YEM\",\"YEM\",\"YEM\",\"YEM\",\"YEM\",\"YEM\",\"YEM\",\"YEM\"],\"marker\":{\"color\":\"#FECB52\",\"size\":[3.351075757575758,3.351075757575758,3.351075757575758,3.351075757575758,3.351075757575758,3.351075757575758,3.351075757575758,3.351075757575758,3.351075757575758,3.351075757575758,3.351075757575758,3.351075757575758,3.351075757575758,3.351075757575758,3.351075757575758,3.351075757575758,3.351075757575758,3.351075757575758,3.351075757575758,3.351075757575758,3.351075757575758,3.351075757575758,3.351075757575758,3.351075757575758,3.351075757575758,3.351075757575758,3.351075757575758,3.351075757575758,3.351075757575758,3.351075757575758],\"sizemode\":\"area\",\"sizeref\":0.016171401515151514,\"symbol\":\"circle\"},\"mode\":\"markers\",\"name\":\"Yemen\",\"showlegend\":true,\"type\":\"scattergeo\"}],                        {\"template\":{\"data\":{\"histogram2dcontour\":[{\"type\":\"histogram2dcontour\",\"colorbar\":{\"outlinewidth\":0,\"ticks\":\"\"},\"colorscale\":[[0.0,\"#0d0887\"],[0.1111111111111111,\"#46039f\"],[0.2222222222222222,\"#7201a8\"],[0.3333333333333333,\"#9c179e\"],[0.4444444444444444,\"#bd3786\"],[0.5555555555555556,\"#d8576b\"],[0.6666666666666666,\"#ed7953\"],[0.7777777777777778,\"#fb9f3a\"],[0.8888888888888888,\"#fdca26\"],[1.0,\"#f0f921\"]]}],\"choropleth\":[{\"type\":\"choropleth\",\"colorbar\":{\"outlinewidth\":0,\"ticks\":\"\"}}],\"histogram2d\":[{\"type\":\"histogram2d\",\"colorbar\":{\"outlinewidth\":0,\"ticks\":\"\"},\"colorscale\":[[0.0,\"#0d0887\"],[0.1111111111111111,\"#46039f\"],[0.2222222222222222,\"#7201a8\"],[0.3333333333333333,\"#9c179e\"],[0.4444444444444444,\"#bd3786\"],[0.5555555555555556,\"#d8576b\"],[0.6666666666666666,\"#ed7953\"],[0.7777777777777778,\"#fb9f3a\"],[0.8888888888888888,\"#fdca26\"],[1.0,\"#f0f921\"]]}],\"heatmap\":[{\"type\":\"heatmap\",\"colorbar\":{\"outlinewidth\":0,\"ticks\":\"\"},\"colorscale\":[[0.0,\"#0d0887\"],[0.1111111111111111,\"#46039f\"],[0.2222222222222222,\"#7201a8\"],[0.3333333333333333,\"#9c179e\"],[0.4444444444444444,\"#bd3786\"],[0.5555555555555556,\"#d8576b\"],[0.6666666666666666,\"#ed7953\"],[0.7777777777777778,\"#fb9f3a\"],[0.8888888888888888,\"#fdca26\"],[1.0,\"#f0f921\"]]}],\"heatmapgl\":[{\"type\":\"heatmapgl\",\"colorbar\":{\"outlinewidth\":0,\"ticks\":\"\"},\"colorscale\":[[0.0,\"#0d0887\"],[0.1111111111111111,\"#46039f\"],[0.2222222222222222,\"#7201a8\"],[0.3333333333333333,\"#9c179e\"],[0.4444444444444444,\"#bd3786\"],[0.5555555555555556,\"#d8576b\"],[0.6666666666666666,\"#ed7953\"],[0.7777777777777778,\"#fb9f3a\"],[0.8888888888888888,\"#fdca26\"],[1.0,\"#f0f921\"]]}],\"contourcarpet\":[{\"type\":\"contourcarpet\",\"colorbar\":{\"outlinewidth\":0,\"ticks\":\"\"}}],\"contour\":[{\"type\":\"contour\",\"colorbar\":{\"outlinewidth\":0,\"ticks\":\"\"},\"colorscale\":[[0.0,\"#0d0887\"],[0.1111111111111111,\"#46039f\"],[0.2222222222222222,\"#7201a8\"],[0.3333333333333333,\"#9c179e\"],[0.4444444444444444,\"#bd3786\"],[0.5555555555555556,\"#d8576b\"],[0.6666666666666666,\"#ed7953\"],[0.7777777777777778,\"#fb9f3a\"],[0.8888888888888888,\"#fdca26\"],[1.0,\"#f0f921\"]]}],\"surface\":[{\"type\":\"surface\",\"colorbar\":{\"outlinewidth\":0,\"ticks\":\"\"},\"colorscale\":[[0.0,\"#0d0887\"],[0.1111111111111111,\"#46039f\"],[0.2222222222222222,\"#7201a8\"],[0.3333333333333333,\"#9c179e\"],[0.4444444444444444,\"#bd3786\"],[0.5555555555555556,\"#d8576b\"],[0.6666666666666666,\"#ed7953\"],[0.7777777777777778,\"#fb9f3a\"],[0.8888888888888888,\"#fdca26\"],[1.0,\"#f0f921\"]]}],\"mesh3d\":[{\"type\":\"mesh3d\",\"colorbar\":{\"outlinewidth\":0,\"ticks\":\"\"}}],\"scatter\":[{\"fillpattern\":{\"fillmode\":\"overlay\",\"size\":10,\"solidity\":0.2},\"type\":\"scatter\"}],\"parcoords\":[{\"type\":\"parcoords\",\"line\":{\"colorbar\":{\"outlinewidth\":0,\"ticks\":\"\"}}}],\"scatterpolargl\":[{\"type\":\"scatterpolargl\",\"marker\":{\"colorbar\":{\"outlinewidth\":0,\"ticks\":\"\"}}}],\"bar\":[{\"error_x\":{\"color\":\"#2a3f5f\"},\"error_y\":{\"color\":\"#2a3f5f\"},\"marker\":{\"line\":{\"color\":\"#E5ECF6\",\"width\":0.5},\"pattern\":{\"fillmode\":\"overlay\",\"size\":10,\"solidity\":0.2}},\"type\":\"bar\"}],\"scattergeo\":[{\"type\":\"scattergeo\",\"marker\":{\"colorbar\":{\"outlinewidth\":0,\"ticks\":\"\"}}}],\"scatterpolar\":[{\"type\":\"scatterpolar\",\"marker\":{\"colorbar\":{\"outlinewidth\":0,\"ticks\":\"\"}}}],\"histogram\":[{\"marker\":{\"pattern\":{\"fillmode\":\"overlay\",\"size\":10,\"solidity\":0.2}},\"type\":\"histogram\"}],\"scattergl\":[{\"type\":\"scattergl\",\"marker\":{\"colorbar\":{\"outlinewidth\":0,\"ticks\":\"\"}}}],\"scatter3d\":[{\"type\":\"scatter3d\",\"line\":{\"colorbar\":{\"outlinewidth\":0,\"ticks\":\"\"}},\"marker\":{\"colorbar\":{\"outlinewidth\":0,\"ticks\":\"\"}}}],\"scattermapbox\":[{\"type\":\"scattermapbox\",\"marker\":{\"colorbar\":{\"outlinewidth\":0,\"ticks\":\"\"}}}],\"scatterternary\":[{\"type\":\"scatterternary\",\"marker\":{\"colorbar\":{\"outlinewidth\":0,\"ticks\":\"\"}}}],\"scattercarpet\":[{\"type\":\"scattercarpet\",\"marker\":{\"colorbar\":{\"outlinewidth\":0,\"ticks\":\"\"}}}],\"carpet\":[{\"aaxis\":{\"endlinecolor\":\"#2a3f5f\",\"gridcolor\":\"white\",\"linecolor\":\"white\",\"minorgridcolor\":\"white\",\"startlinecolor\":\"#2a3f5f\"},\"baxis\":{\"endlinecolor\":\"#2a3f5f\",\"gridcolor\":\"white\",\"linecolor\":\"white\",\"minorgridcolor\":\"white\",\"startlinecolor\":\"#2a3f5f\"},\"type\":\"carpet\"}],\"table\":[{\"cells\":{\"fill\":{\"color\":\"#EBF0F8\"},\"line\":{\"color\":\"white\"}},\"header\":{\"fill\":{\"color\":\"#C8D4E3\"},\"line\":{\"color\":\"white\"}},\"type\":\"table\"}],\"barpolar\":[{\"marker\":{\"line\":{\"color\":\"#E5ECF6\",\"width\":0.5},\"pattern\":{\"fillmode\":\"overlay\",\"size\":10,\"solidity\":0.2}},\"type\":\"barpolar\"}],\"pie\":[{\"automargin\":true,\"type\":\"pie\"}]},\"layout\":{\"autotypenumbers\":\"strict\",\"colorway\":[\"#636efa\",\"#EF553B\",\"#00cc96\",\"#ab63fa\",\"#FFA15A\",\"#19d3f3\",\"#FF6692\",\"#B6E880\",\"#FF97FF\",\"#FECB52\"],\"font\":{\"color\":\"#2a3f5f\"},\"hovermode\":\"closest\",\"hoverlabel\":{\"align\":\"left\"},\"paper_bgcolor\":\"white\",\"plot_bgcolor\":\"#E5ECF6\",\"polar\":{\"bgcolor\":\"#E5ECF6\",\"angularaxis\":{\"gridcolor\":\"white\",\"linecolor\":\"white\",\"ticks\":\"\"},\"radialaxis\":{\"gridcolor\":\"white\",\"linecolor\":\"white\",\"ticks\":\"\"}},\"ternary\":{\"bgcolor\":\"#E5ECF6\",\"aaxis\":{\"gridcolor\":\"white\",\"linecolor\":\"white\",\"ticks\":\"\"},\"baxis\":{\"gridcolor\":\"white\",\"linecolor\":\"white\",\"ticks\":\"\"},\"caxis\":{\"gridcolor\":\"white\",\"linecolor\":\"white\",\"ticks\":\"\"}},\"coloraxis\":{\"colorbar\":{\"outlinewidth\":0,\"ticks\":\"\"}},\"colorscale\":{\"sequential\":[[0.0,\"#0d0887\"],[0.1111111111111111,\"#46039f\"],[0.2222222222222222,\"#7201a8\"],[0.3333333333333333,\"#9c179e\"],[0.4444444444444444,\"#bd3786\"],[0.5555555555555556,\"#d8576b\"],[0.6666666666666666,\"#ed7953\"],[0.7777777777777778,\"#fb9f3a\"],[0.8888888888888888,\"#fdca26\"],[1.0,\"#f0f921\"]],\"sequentialminus\":[[0.0,\"#0d0887\"],[0.1111111111111111,\"#46039f\"],[0.2222222222222222,\"#7201a8\"],[0.3333333333333333,\"#9c179e\"],[0.4444444444444444,\"#bd3786\"],[0.5555555555555556,\"#d8576b\"],[0.6666666666666666,\"#ed7953\"],[0.7777777777777778,\"#fb9f3a\"],[0.8888888888888888,\"#fdca26\"],[1.0,\"#f0f921\"]],\"diverging\":[[0,\"#8e0152\"],[0.1,\"#c51b7d\"],[0.2,\"#de77ae\"],[0.3,\"#f1b6da\"],[0.4,\"#fde0ef\"],[0.5,\"#f7f7f7\"],[0.6,\"#e6f5d0\"],[0.7,\"#b8e186\"],[0.8,\"#7fbc41\"],[0.9,\"#4d9221\"],[1,\"#276419\"]]},\"xaxis\":{\"gridcolor\":\"white\",\"linecolor\":\"white\",\"ticks\":\"\",\"title\":{\"standoff\":15},\"zerolinecolor\":\"white\",\"automargin\":true,\"zerolinewidth\":2},\"yaxis\":{\"gridcolor\":\"white\",\"linecolor\":\"white\",\"ticks\":\"\",\"title\":{\"standoff\":15},\"zerolinecolor\":\"white\",\"automargin\":true,\"zerolinewidth\":2},\"scene\":{\"xaxis\":{\"backgroundcolor\":\"#E5ECF6\",\"gridcolor\":\"white\",\"linecolor\":\"white\",\"showbackground\":true,\"ticks\":\"\",\"zerolinecolor\":\"white\",\"gridwidth\":2},\"yaxis\":{\"backgroundcolor\":\"#E5ECF6\",\"gridcolor\":\"white\",\"linecolor\":\"white\",\"showbackground\":true,\"ticks\":\"\",\"zerolinecolor\":\"white\",\"gridwidth\":2},\"zaxis\":{\"backgroundcolor\":\"#E5ECF6\",\"gridcolor\":\"white\",\"linecolor\":\"white\",\"showbackground\":true,\"ticks\":\"\",\"zerolinecolor\":\"white\",\"gridwidth\":2}},\"shapedefaults\":{\"line\":{\"color\":\"#2a3f5f\"}},\"annotationdefaults\":{\"arrowcolor\":\"#2a3f5f\",\"arrowhead\":0,\"arrowwidth\":1},\"geo\":{\"bgcolor\":\"white\",\"landcolor\":\"#E5ECF6\",\"subunitcolor\":\"white\",\"showland\":true,\"showlakes\":true,\"lakecolor\":\"white\"},\"title\":{\"x\":0.05},\"mapbox\":{\"style\":\"light\"}}},\"geo\":{\"domain\":{\"x\":[0.0,1.0],\"y\":[0.0,1.0]},\"projection\":{\"type\":\"natural earth\"},\"center\":{}},\"legend\":{\"title\":{\"text\":\"Entity\"},\"tracegroupgap\":0,\"itemsizing\":\"constant\"},\"margin\":{\"t\":60}},                        {\"responsive\": true}                    ).then(function(){\n",
              "                            \n",
              "var gd = document.getElementById('1991b3eb-cf46-4a9e-9d72-e03197606ab7');\n",
              "var x = new MutationObserver(function (mutations, observer) {{\n",
              "        var display = window.getComputedStyle(gd).display;\n",
              "        if (!display || display === 'none') {{\n",
              "            console.log([gd, 'removed!']);\n",
              "            Plotly.purge(gd);\n",
              "            observer.disconnect();\n",
              "        }}\n",
              "}});\n",
              "\n",
              "// Listen for the removal of the full notebook cells\n",
              "var notebookContainer = gd.closest('#notebook-container');\n",
              "if (notebookContainer) {{\n",
              "    x.observe(notebookContainer, {childList: true});\n",
              "}}\n",
              "\n",
              "// Listen for the clearing of the current output cell\n",
              "var outputEl = gd.closest('.output');\n",
              "if (outputEl) {{\n",
              "    x.observe(outputEl, {childList: true});\n",
              "}}\n",
              "\n",
              "                        })                };                            </script>        </div>\n",
              "</body>\n",
              "</html>"
            ]
          },
          "metadata": {}
        }
      ]
    }
  ]
}