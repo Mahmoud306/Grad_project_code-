{
  "nbformat": 4,
  "nbformat_minor": 0,
  "metadata": {
    "colab": {
      "provenance": []
    },
    "kernelspec": {
      "name": "python3",
      "display_name": "Python 3"
    },
    "language_info": {
      "name": "python"
    }
  },
  "cells": [
    {
      "cell_type": "code",
      "execution_count": null,
      "metadata": {
        "id": "VSS8NEWBsmX3"
      },
      "outputs": [],
      "source": []
    },
    {
      "cell_type": "code",
      "execution_count": 1,
      "metadata": {
        "id": "Uhfcrv1RIT-R",
        "colab": {
          "base_uri": "https://localhost:8080/"
        },
        "outputId": "50ba6c14-f6d3-406f-8c4d-f1ed61ad7d74"
      },
      "outputs": [
        {
          "output_type": "stream",
          "name": "stdout",
          "text": [
            "Looking in indexes: https://pypi.org/simple, https://us-python.pkg.dev/colab-wheels/public/simple/\n",
            "Requirement already satisfied: Biopython in /usr/local/lib/python3.9/dist-packages (1.81)\n",
            "Requirement already satisfied: numpy in /usr/local/lib/python3.9/dist-packages (from Biopython) (1.22.4)\n",
            "Looking in indexes: https://pypi.org/simple, https://us-python.pkg.dev/colab-wheels/public/simple/\n",
            "Requirement already satisfied: wordcloud in /usr/local/lib/python3.9/dist-packages (1.8.2.2)\n",
            "Requirement already satisfied: matplotlib in /usr/local/lib/python3.9/dist-packages (from wordcloud) (3.7.1)\n",
            "Requirement already satisfied: pillow in /usr/local/lib/python3.9/dist-packages (from wordcloud) (8.4.0)\n",
            "Requirement already satisfied: numpy>=1.6.1 in /usr/local/lib/python3.9/dist-packages (from wordcloud) (1.22.4)\n",
            "Requirement already satisfied: fonttools>=4.22.0 in /usr/local/lib/python3.9/dist-packages (from matplotlib->wordcloud) (4.39.3)\n",
            "Requirement already satisfied: packaging>=20.0 in /usr/local/lib/python3.9/dist-packages (from matplotlib->wordcloud) (23.0)\n",
            "Requirement already satisfied: kiwisolver>=1.0.1 in /usr/local/lib/python3.9/dist-packages (from matplotlib->wordcloud) (1.4.4)\n",
            "Requirement already satisfied: cycler>=0.10 in /usr/local/lib/python3.9/dist-packages (from matplotlib->wordcloud) (0.11.0)\n",
            "Requirement already satisfied: python-dateutil>=2.7 in /usr/local/lib/python3.9/dist-packages (from matplotlib->wordcloud) (2.8.2)\n",
            "Requirement already satisfied: importlib-resources>=3.2.0 in /usr/local/lib/python3.9/dist-packages (from matplotlib->wordcloud) (5.12.0)\n",
            "Requirement already satisfied: contourpy>=1.0.1 in /usr/local/lib/python3.9/dist-packages (from matplotlib->wordcloud) (1.0.7)\n",
            "Requirement already satisfied: pyparsing>=2.3.1 in /usr/local/lib/python3.9/dist-packages (from matplotlib->wordcloud) (3.0.9)\n",
            "Requirement already satisfied: zipp>=3.1.0 in /usr/local/lib/python3.9/dist-packages (from importlib-resources>=3.2.0->matplotlib->wordcloud) (3.15.0)\n",
            "Requirement already satisfied: six>=1.5 in /usr/local/lib/python3.9/dist-packages (from python-dateutil>=2.7->matplotlib->wordcloud) (1.16.0)\n",
            "Looking in indexes: https://pypi.org/simple, https://us-python.pkg.dev/colab-wheels/public/simple/\n",
            "Requirement already satisfied: spacy in /usr/local/lib/python3.9/dist-packages (3.5.1)\n",
            "Requirement already satisfied: langcodes<4.0.0,>=3.2.0 in /usr/local/lib/python3.9/dist-packages (from spacy) (3.3.0)\n",
            "Requirement already satisfied: requests<3.0.0,>=2.13.0 in /usr/local/lib/python3.9/dist-packages (from spacy) (2.27.1)\n",
            "Requirement already satisfied: typer<0.8.0,>=0.3.0 in /usr/local/lib/python3.9/dist-packages (from spacy) (0.7.0)\n",
            "Requirement already satisfied: cymem<2.1.0,>=2.0.2 in /usr/local/lib/python3.9/dist-packages (from spacy) (2.0.7)\n",
            "Requirement already satisfied: numpy>=1.15.0 in /usr/local/lib/python3.9/dist-packages (from spacy) (1.22.4)\n",
            "Requirement already satisfied: murmurhash<1.1.0,>=0.28.0 in /usr/local/lib/python3.9/dist-packages (from spacy) (1.0.9)\n",
            "Requirement already satisfied: setuptools in /usr/local/lib/python3.9/dist-packages (from spacy) (67.6.1)\n",
            "Requirement already satisfied: pathy>=0.10.0 in /usr/local/lib/python3.9/dist-packages (from spacy) (0.10.1)\n",
            "Requirement already satisfied: spacy-loggers<2.0.0,>=1.0.0 in /usr/local/lib/python3.9/dist-packages (from spacy) (1.0.4)\n",
            "Requirement already satisfied: tqdm<5.0.0,>=4.38.0 in /usr/local/lib/python3.9/dist-packages (from spacy) (4.65.0)\n",
            "Requirement already satisfied: srsly<3.0.0,>=2.4.3 in /usr/local/lib/python3.9/dist-packages (from spacy) (2.4.6)\n",
            "Requirement already satisfied: pydantic!=1.8,!=1.8.1,<1.11.0,>=1.7.4 in /usr/local/lib/python3.9/dist-packages (from spacy) (1.10.7)\n",
            "Requirement already satisfied: thinc<8.2.0,>=8.1.8 in /usr/local/lib/python3.9/dist-packages (from spacy) (8.1.9)\n",
            "Requirement already satisfied: spacy-legacy<3.1.0,>=3.0.11 in /usr/local/lib/python3.9/dist-packages (from spacy) (3.0.12)\n",
            "Requirement already satisfied: smart-open<7.0.0,>=5.2.1 in /usr/local/lib/python3.9/dist-packages (from spacy) (6.3.0)\n",
            "Requirement already satisfied: packaging>=20.0 in /usr/local/lib/python3.9/dist-packages (from spacy) (23.0)\n",
            "Requirement already satisfied: wasabi<1.2.0,>=0.9.1 in /usr/local/lib/python3.9/dist-packages (from spacy) (1.1.1)\n",
            "Requirement already satisfied: jinja2 in /usr/local/lib/python3.9/dist-packages (from spacy) (3.1.2)\n",
            "Requirement already satisfied: catalogue<2.1.0,>=2.0.6 in /usr/local/lib/python3.9/dist-packages (from spacy) (2.0.8)\n",
            "Requirement already satisfied: preshed<3.1.0,>=3.0.2 in /usr/local/lib/python3.9/dist-packages (from spacy) (3.0.8)\n",
            "Requirement already satisfied: typing-extensions>=4.2.0 in /usr/local/lib/python3.9/dist-packages (from pydantic!=1.8,!=1.8.1,<1.11.0,>=1.7.4->spacy) (4.5.0)\n",
            "Requirement already satisfied: urllib3<1.27,>=1.21.1 in /usr/local/lib/python3.9/dist-packages (from requests<3.0.0,>=2.13.0->spacy) (1.26.15)\n",
            "Requirement already satisfied: charset-normalizer~=2.0.0 in /usr/local/lib/python3.9/dist-packages (from requests<3.0.0,>=2.13.0->spacy) (2.0.12)\n",
            "Requirement already satisfied: certifi>=2017.4.17 in /usr/local/lib/python3.9/dist-packages (from requests<3.0.0,>=2.13.0->spacy) (2022.12.7)\n",
            "Requirement already satisfied: idna<4,>=2.5 in /usr/local/lib/python3.9/dist-packages (from requests<3.0.0,>=2.13.0->spacy) (3.4)\n",
            "Requirement already satisfied: blis<0.8.0,>=0.7.8 in /usr/local/lib/python3.9/dist-packages (from thinc<8.2.0,>=8.1.8->spacy) (0.7.9)\n",
            "Requirement already satisfied: confection<1.0.0,>=0.0.1 in /usr/local/lib/python3.9/dist-packages (from thinc<8.2.0,>=8.1.8->spacy) (0.0.4)\n",
            "Requirement already satisfied: click<9.0.0,>=7.1.1 in /usr/local/lib/python3.9/dist-packages (from typer<0.8.0,>=0.3.0->spacy) (8.1.3)\n",
            "Requirement already satisfied: MarkupSafe>=2.0 in /usr/local/lib/python3.9/dist-packages (from jinja2->spacy) (2.1.2)\n",
            "Looking in indexes: https://pypi.org/simple, https://us-python.pkg.dev/colab-wheels/public/simple/\n",
            "Requirement already satisfied: gensim in /usr/local/lib/python3.9/dist-packages (4.3.1)\n",
            "Requirement already satisfied: smart-open>=1.8.1 in /usr/local/lib/python3.9/dist-packages (from gensim) (6.3.0)\n",
            "Requirement already satisfied: scipy>=1.7.0 in /usr/local/lib/python3.9/dist-packages (from gensim) (1.10.1)\n",
            "Requirement already satisfied: numpy>=1.18.5 in /usr/local/lib/python3.9/dist-packages (from gensim) (1.22.4)\n",
            "Looking in indexes: https://pypi.org/simple, https://us-python.pkg.dev/colab-wheels/public/simple/\n",
            "Requirement already satisfied: pyLDAvis in /usr/local/lib/python3.9/dist-packages (3.4.0)\n",
            "Requirement already satisfied: scipy in /usr/local/lib/python3.9/dist-packages (from pyLDAvis) (1.10.1)\n",
            "Requirement already satisfied: numpy>=1.22.0 in /usr/local/lib/python3.9/dist-packages (from pyLDAvis) (1.22.4)\n",
            "Requirement already satisfied: gensim in /usr/local/lib/python3.9/dist-packages (from pyLDAvis) (4.3.1)\n",
            "Requirement already satisfied: funcy in /usr/local/lib/python3.9/dist-packages (from pyLDAvis) (2.0)\n",
            "Requirement already satisfied: scikit-learn>=1.0.0 in /usr/local/lib/python3.9/dist-packages (from pyLDAvis) (1.2.2)\n",
            "Requirement already satisfied: jinja2 in /usr/local/lib/python3.9/dist-packages (from pyLDAvis) (3.1.2)\n",
            "Requirement already satisfied: setuptools in /usr/local/lib/python3.9/dist-packages (from pyLDAvis) (67.6.1)\n",
            "Requirement already satisfied: numexpr in /usr/local/lib/python3.9/dist-packages (from pyLDAvis) (2.8.4)\n",
            "Requirement already satisfied: joblib>=1.2.0 in /usr/local/lib/python3.9/dist-packages (from pyLDAvis) (1.2.0)\n",
            "Requirement already satisfied: pandas>=1.3.4 in /usr/local/lib/python3.9/dist-packages (from pyLDAvis) (1.4.4)\n",
            "Requirement already satisfied: python-dateutil>=2.8.1 in /usr/local/lib/python3.9/dist-packages (from pandas>=1.3.4->pyLDAvis) (2.8.2)\n",
            "Requirement already satisfied: pytz>=2020.1 in /usr/local/lib/python3.9/dist-packages (from pandas>=1.3.4->pyLDAvis) (2022.7.1)\n",
            "Requirement already satisfied: threadpoolctl>=2.0.0 in /usr/local/lib/python3.9/dist-packages (from scikit-learn>=1.0.0->pyLDAvis) (3.1.0)\n",
            "Requirement already satisfied: smart-open>=1.8.1 in /usr/local/lib/python3.9/dist-packages (from gensim->pyLDAvis) (6.3.0)\n",
            "Requirement already satisfied: MarkupSafe>=2.0 in /usr/local/lib/python3.9/dist-packages (from jinja2->pyLDAvis) (2.1.2)\n",
            "Requirement already satisfied: six>=1.5 in /usr/local/lib/python3.9/dist-packages (from python-dateutil>=2.8.1->pandas>=1.3.4->pyLDAvis) (1.16.0)\n",
            "/usr/local/lib/python3.9/dist-packages/torch/cuda/__init__.py:497: UserWarning: Can't initialize NVML\n",
            "  warnings.warn(\"Can't initialize NVML\")\n",
            "2023-03-31 22:39:32.978180: I tensorflow/core/platform/cpu_feature_guard.cc:182] This TensorFlow binary is optimized to use available CPU instructions in performance-critical operations.\n",
            "To enable the following instructions: AVX2 FMA, in other operations, rebuild TensorFlow with the appropriate compiler flags.\n",
            "2023-03-31 22:39:34.685176: W tensorflow/compiler/tf2tensorrt/utils/py_utils.cc:38] TF-TRT Warning: Could not find TensorRT\n",
            "2023-03-31 22:39:37.159814: E tensorflow/compiler/xla/stream_executor/cuda/cuda_driver.cc:266] failed call to cuInit: CUDA_ERROR_NO_DEVICE: no CUDA-capable device is detected\n",
            "Looking in indexes: https://pypi.org/simple, https://us-python.pkg.dev/colab-wheels/public/simple/\n",
            "Collecting en-core-web-sm==3.5.0\n",
            "  Downloading https://github.com/explosion/spacy-models/releases/download/en_core_web_sm-3.5.0/en_core_web_sm-3.5.0-py3-none-any.whl (12.8 MB)\n",
            "\u001b[2K     \u001b[90m━━━━━━━━━━━━━━━━━━━━━━━━━━━━━━━━━━━━━━━━\u001b[0m \u001b[32m12.8/12.8 MB\u001b[0m \u001b[31m48.7 MB/s\u001b[0m eta \u001b[36m0:00:00\u001b[0m\n",
            "\u001b[?25hRequirement already satisfied: spacy<3.6.0,>=3.5.0 in /usr/local/lib/python3.9/dist-packages (from en-core-web-sm==3.5.0) (3.5.1)\n",
            "Requirement already satisfied: pathy>=0.10.0 in /usr/local/lib/python3.9/dist-packages (from spacy<3.6.0,>=3.5.0->en-core-web-sm==3.5.0) (0.10.1)\n",
            "Requirement already satisfied: catalogue<2.1.0,>=2.0.6 in /usr/local/lib/python3.9/dist-packages (from spacy<3.6.0,>=3.5.0->en-core-web-sm==3.5.0) (2.0.8)\n",
            "Requirement already satisfied: murmurhash<1.1.0,>=0.28.0 in /usr/local/lib/python3.9/dist-packages (from spacy<3.6.0,>=3.5.0->en-core-web-sm==3.5.0) (1.0.9)\n",
            "Requirement already satisfied: smart-open<7.0.0,>=5.2.1 in /usr/local/lib/python3.9/dist-packages (from spacy<3.6.0,>=3.5.0->en-core-web-sm==3.5.0) (6.3.0)\n",
            "Requirement already satisfied: pydantic!=1.8,!=1.8.1,<1.11.0,>=1.7.4 in /usr/local/lib/python3.9/dist-packages (from spacy<3.6.0,>=3.5.0->en-core-web-sm==3.5.0) (1.10.7)\n",
            "Requirement already satisfied: langcodes<4.0.0,>=3.2.0 in /usr/local/lib/python3.9/dist-packages (from spacy<3.6.0,>=3.5.0->en-core-web-sm==3.5.0) (3.3.0)\n",
            "Requirement already satisfied: preshed<3.1.0,>=3.0.2 in /usr/local/lib/python3.9/dist-packages (from spacy<3.6.0,>=3.5.0->en-core-web-sm==3.5.0) (3.0.8)\n",
            "Requirement already satisfied: numpy>=1.15.0 in /usr/local/lib/python3.9/dist-packages (from spacy<3.6.0,>=3.5.0->en-core-web-sm==3.5.0) (1.22.4)\n",
            "Requirement already satisfied: jinja2 in /usr/local/lib/python3.9/dist-packages (from spacy<3.6.0,>=3.5.0->en-core-web-sm==3.5.0) (3.1.2)\n",
            "Requirement already satisfied: requests<3.0.0,>=2.13.0 in /usr/local/lib/python3.9/dist-packages (from spacy<3.6.0,>=3.5.0->en-core-web-sm==3.5.0) (2.27.1)\n",
            "Requirement already satisfied: spacy-loggers<2.0.0,>=1.0.0 in /usr/local/lib/python3.9/dist-packages (from spacy<3.6.0,>=3.5.0->en-core-web-sm==3.5.0) (1.0.4)\n",
            "Requirement already satisfied: wasabi<1.2.0,>=0.9.1 in /usr/local/lib/python3.9/dist-packages (from spacy<3.6.0,>=3.5.0->en-core-web-sm==3.5.0) (1.1.1)\n",
            "Requirement already satisfied: cymem<2.1.0,>=2.0.2 in /usr/local/lib/python3.9/dist-packages (from spacy<3.6.0,>=3.5.0->en-core-web-sm==3.5.0) (2.0.7)\n",
            "Requirement already satisfied: tqdm<5.0.0,>=4.38.0 in /usr/local/lib/python3.9/dist-packages (from spacy<3.6.0,>=3.5.0->en-core-web-sm==3.5.0) (4.65.0)\n",
            "Requirement already satisfied: spacy-legacy<3.1.0,>=3.0.11 in /usr/local/lib/python3.9/dist-packages (from spacy<3.6.0,>=3.5.0->en-core-web-sm==3.5.0) (3.0.12)\n",
            "Requirement already satisfied: srsly<3.0.0,>=2.4.3 in /usr/local/lib/python3.9/dist-packages (from spacy<3.6.0,>=3.5.0->en-core-web-sm==3.5.0) (2.4.6)\n",
            "Requirement already satisfied: typer<0.8.0,>=0.3.0 in /usr/local/lib/python3.9/dist-packages (from spacy<3.6.0,>=3.5.0->en-core-web-sm==3.5.0) (0.7.0)\n",
            "Requirement already satisfied: thinc<8.2.0,>=8.1.8 in /usr/local/lib/python3.9/dist-packages (from spacy<3.6.0,>=3.5.0->en-core-web-sm==3.5.0) (8.1.9)\n",
            "Requirement already satisfied: packaging>=20.0 in /usr/local/lib/python3.9/dist-packages (from spacy<3.6.0,>=3.5.0->en-core-web-sm==3.5.0) (23.0)\n",
            "Requirement already satisfied: setuptools in /usr/local/lib/python3.9/dist-packages (from spacy<3.6.0,>=3.5.0->en-core-web-sm==3.5.0) (67.6.1)\n",
            "Requirement already satisfied: typing-extensions>=4.2.0 in /usr/local/lib/python3.9/dist-packages (from pydantic!=1.8,!=1.8.1,<1.11.0,>=1.7.4->spacy<3.6.0,>=3.5.0->en-core-web-sm==3.5.0) (4.5.0)\n",
            "Requirement already satisfied: certifi>=2017.4.17 in /usr/local/lib/python3.9/dist-packages (from requests<3.0.0,>=2.13.0->spacy<3.6.0,>=3.5.0->en-core-web-sm==3.5.0) (2022.12.7)\n",
            "Requirement already satisfied: charset-normalizer~=2.0.0 in /usr/local/lib/python3.9/dist-packages (from requests<3.0.0,>=2.13.0->spacy<3.6.0,>=3.5.0->en-core-web-sm==3.5.0) (2.0.12)\n",
            "Requirement already satisfied: idna<4,>=2.5 in /usr/local/lib/python3.9/dist-packages (from requests<3.0.0,>=2.13.0->spacy<3.6.0,>=3.5.0->en-core-web-sm==3.5.0) (3.4)\n",
            "Requirement already satisfied: urllib3<1.27,>=1.21.1 in /usr/local/lib/python3.9/dist-packages (from requests<3.0.0,>=2.13.0->spacy<3.6.0,>=3.5.0->en-core-web-sm==3.5.0) (1.26.15)\n",
            "Requirement already satisfied: confection<1.0.0,>=0.0.1 in /usr/local/lib/python3.9/dist-packages (from thinc<8.2.0,>=8.1.8->spacy<3.6.0,>=3.5.0->en-core-web-sm==3.5.0) (0.0.4)\n",
            "Requirement already satisfied: blis<0.8.0,>=0.7.8 in /usr/local/lib/python3.9/dist-packages (from thinc<8.2.0,>=8.1.8->spacy<3.6.0,>=3.5.0->en-core-web-sm==3.5.0) (0.7.9)\n",
            "Requirement already satisfied: click<9.0.0,>=7.1.1 in /usr/local/lib/python3.9/dist-packages (from typer<0.8.0,>=0.3.0->spacy<3.6.0,>=3.5.0->en-core-web-sm==3.5.0) (8.1.3)\n",
            "Requirement already satisfied: MarkupSafe>=2.0 in /usr/local/lib/python3.9/dist-packages (from jinja2->spacy<3.6.0,>=3.5.0->en-core-web-sm==3.5.0) (2.1.2)\n",
            "\u001b[38;5;2m✔ Download and installation successful\u001b[0m\n",
            "You can now load the package via spacy.load('en_core_web_sm')\n"
          ]
        },
        {
          "output_type": "stream",
          "name": "stderr",
          "text": [
            "[nltk_data] Downloading package stopwords to /root/nltk_data...\n",
            "[nltk_data]   Package stopwords is already up-to-date!\n",
            "[nltk_data] Downloading package punkt to /root/nltk_data...\n",
            "[nltk_data]   Package punkt is already up-to-date!\n",
            "[nltk_data] Downloading package wordnet to /root/nltk_data...\n",
            "[nltk_data]   Package wordnet is already up-to-date!\n",
            "[nltk_data] Downloading package omw-1.4 to /root/nltk_data...\n",
            "[nltk_data]   Package omw-1.4 is already up-to-date!\n"
          ]
        }
      ],
      "source": [
        "!pip install Biopython\n",
        "!pip install wordcloud\n",
        "!pip install spacy\n",
        "!pip install gensim\n",
        "!pip install pyLDAvis\n",
        "!python -m spacy download en_core_web_sm\n",
        "\n",
        "import pandas as pd\n",
        "import gensim\n",
        "from gensim.utils import simple_preprocess\n",
        "import nltk\n",
        "nltk.download('stopwords')\n",
        "from nltk.corpus import stopwords\n",
        "nltk.download('punkt')\n",
        "nltk.download('wordnet')\n",
        "nltk.download('omw-1.4')\n",
        "from nltk.stem import WordNetLemmatizer\n",
        "from pprint import pprint\n",
        "from gensim.models import CoherenceModel\n",
        "from gensim import corpora, models\n",
        "import pyLDAvis\n",
        "import pyLDAvis.gensim_models"
      ]
    },
    {
      "cell_type": "code",
      "source": [
        "df=pd.read_csv('uc2_all_pmids.csv')\n",
        "df"
      ],
      "metadata": {
        "colab": {
          "base_uri": "https://localhost:8080/",
          "height": 478
        },
        "id": "9WdlRLmjIV7f",
        "outputId": "e89d7b8b-638b-415e-8b2d-fabb37914c37"
      },
      "execution_count": 2,
      "outputs": [
        {
          "output_type": "stream",
          "name": "stderr",
          "text": [
            "/usr/local/lib/python3.9/dist-packages/ipykernel/ipkernel.py:283: DeprecationWarning: `should_run_async` will not call `transform_cell` automatically in the future. Please pass the result to `transformed_cell` argument and any exception that happen during thetransform in `preprocessing_exc_tuple` in IPython 7.17 and above.\n",
            "  and should_run_async(code)\n"
          ]
        },
        {
          "output_type": "execute_result",
          "data": {
            "text/plain": [
              "         PMID\n",
              "0    30871490\n",
              "1    29728073\n",
              "2    34177954\n",
              "3    29898756\n",
              "4    32978904\n",
              "..        ...\n",
              "125  29973188\n",
              "126  30428928\n",
              "127  31536189\n",
              "128  32337494\n",
              "129  36215714\n",
              "\n",
              "[130 rows x 1 columns]"
            ],
            "text/html": [
              "\n",
              "  <div id=\"df-7b45de45-b7b2-42fc-af6a-1582df2a79f9\">\n",
              "    <div class=\"colab-df-container\">\n",
              "      <div>\n",
              "<style scoped>\n",
              "    .dataframe tbody tr th:only-of-type {\n",
              "        vertical-align: middle;\n",
              "    }\n",
              "\n",
              "    .dataframe tbody tr th {\n",
              "        vertical-align: top;\n",
              "    }\n",
              "\n",
              "    .dataframe thead th {\n",
              "        text-align: right;\n",
              "    }\n",
              "</style>\n",
              "<table border=\"1\" class=\"dataframe\">\n",
              "  <thead>\n",
              "    <tr style=\"text-align: right;\">\n",
              "      <th></th>\n",
              "      <th>PMID</th>\n",
              "    </tr>\n",
              "  </thead>\n",
              "  <tbody>\n",
              "    <tr>\n",
              "      <th>0</th>\n",
              "      <td>30871490</td>\n",
              "    </tr>\n",
              "    <tr>\n",
              "      <th>1</th>\n",
              "      <td>29728073</td>\n",
              "    </tr>\n",
              "    <tr>\n",
              "      <th>2</th>\n",
              "      <td>34177954</td>\n",
              "    </tr>\n",
              "    <tr>\n",
              "      <th>3</th>\n",
              "      <td>29898756</td>\n",
              "    </tr>\n",
              "    <tr>\n",
              "      <th>4</th>\n",
              "      <td>32978904</td>\n",
              "    </tr>\n",
              "    <tr>\n",
              "      <th>...</th>\n",
              "      <td>...</td>\n",
              "    </tr>\n",
              "    <tr>\n",
              "      <th>125</th>\n",
              "      <td>29973188</td>\n",
              "    </tr>\n",
              "    <tr>\n",
              "      <th>126</th>\n",
              "      <td>30428928</td>\n",
              "    </tr>\n",
              "    <tr>\n",
              "      <th>127</th>\n",
              "      <td>31536189</td>\n",
              "    </tr>\n",
              "    <tr>\n",
              "      <th>128</th>\n",
              "      <td>32337494</td>\n",
              "    </tr>\n",
              "    <tr>\n",
              "      <th>129</th>\n",
              "      <td>36215714</td>\n",
              "    </tr>\n",
              "  </tbody>\n",
              "</table>\n",
              "<p>130 rows × 1 columns</p>\n",
              "</div>\n",
              "      <button class=\"colab-df-convert\" onclick=\"convertToInteractive('df-7b45de45-b7b2-42fc-af6a-1582df2a79f9')\"\n",
              "              title=\"Convert this dataframe to an interactive table.\"\n",
              "              style=\"display:none;\">\n",
              "        \n",
              "  <svg xmlns=\"http://www.w3.org/2000/svg\" height=\"24px\"viewBox=\"0 0 24 24\"\n",
              "       width=\"24px\">\n",
              "    <path d=\"M0 0h24v24H0V0z\" fill=\"none\"/>\n",
              "    <path d=\"M18.56 5.44l.94 2.06.94-2.06 2.06-.94-2.06-.94-.94-2.06-.94 2.06-2.06.94zm-11 1L8.5 8.5l.94-2.06 2.06-.94-2.06-.94L8.5 2.5l-.94 2.06-2.06.94zm10 10l.94 2.06.94-2.06 2.06-.94-2.06-.94-.94-2.06-.94 2.06-2.06.94z\"/><path d=\"M17.41 7.96l-1.37-1.37c-.4-.4-.92-.59-1.43-.59-.52 0-1.04.2-1.43.59L10.3 9.45l-7.72 7.72c-.78.78-.78 2.05 0 2.83L4 21.41c.39.39.9.59 1.41.59.51 0 1.02-.2 1.41-.59l7.78-7.78 2.81-2.81c.8-.78.8-2.07 0-2.86zM5.41 20L4 18.59l7.72-7.72 1.47 1.35L5.41 20z\"/>\n",
              "  </svg>\n",
              "      </button>\n",
              "      \n",
              "  <style>\n",
              "    .colab-df-container {\n",
              "      display:flex;\n",
              "      flex-wrap:wrap;\n",
              "      gap: 12px;\n",
              "    }\n",
              "\n",
              "    .colab-df-convert {\n",
              "      background-color: #E8F0FE;\n",
              "      border: none;\n",
              "      border-radius: 50%;\n",
              "      cursor: pointer;\n",
              "      display: none;\n",
              "      fill: #1967D2;\n",
              "      height: 32px;\n",
              "      padding: 0 0 0 0;\n",
              "      width: 32px;\n",
              "    }\n",
              "\n",
              "    .colab-df-convert:hover {\n",
              "      background-color: #E2EBFA;\n",
              "      box-shadow: 0px 1px 2px rgba(60, 64, 67, 0.3), 0px 1px 3px 1px rgba(60, 64, 67, 0.15);\n",
              "      fill: #174EA6;\n",
              "    }\n",
              "\n",
              "    [theme=dark] .colab-df-convert {\n",
              "      background-color: #3B4455;\n",
              "      fill: #D2E3FC;\n",
              "    }\n",
              "\n",
              "    [theme=dark] .colab-df-convert:hover {\n",
              "      background-color: #434B5C;\n",
              "      box-shadow: 0px 1px 3px 1px rgba(0, 0, 0, 0.15);\n",
              "      filter: drop-shadow(0px 1px 2px rgba(0, 0, 0, 0.3));\n",
              "      fill: #FFFFFF;\n",
              "    }\n",
              "  </style>\n",
              "\n",
              "      <script>\n",
              "        const buttonEl =\n",
              "          document.querySelector('#df-7b45de45-b7b2-42fc-af6a-1582df2a79f9 button.colab-df-convert');\n",
              "        buttonEl.style.display =\n",
              "          google.colab.kernel.accessAllowed ? 'block' : 'none';\n",
              "\n",
              "        async function convertToInteractive(key) {\n",
              "          const element = document.querySelector('#df-7b45de45-b7b2-42fc-af6a-1582df2a79f9');\n",
              "          const dataTable =\n",
              "            await google.colab.kernel.invokeFunction('convertToInteractive',\n",
              "                                                     [key], {});\n",
              "          if (!dataTable) return;\n",
              "\n",
              "          const docLinkHtml = 'Like what you see? Visit the ' +\n",
              "            '<a target=\"_blank\" href=https://colab.research.google.com/notebooks/data_table.ipynb>data table notebook</a>'\n",
              "            + ' to learn more about interactive tables.';\n",
              "          element.innerHTML = '';\n",
              "          dataTable['output_type'] = 'display_data';\n",
              "          await google.colab.output.renderOutput(dataTable, element);\n",
              "          const docLink = document.createElement('div');\n",
              "          docLink.innerHTML = docLinkHtml;\n",
              "          element.appendChild(docLink);\n",
              "        }\n",
              "      </script>\n",
              "    </div>\n",
              "  </div>\n",
              "  "
            ]
          },
          "metadata": {},
          "execution_count": 2
        }
      ]
    },
    {
      "cell_type": "code",
      "source": [
        "lists=df['PMID'].tolist()\n",
        "len(lists)"
      ],
      "metadata": {
        "id": "nVgJy72pIV3_",
        "colab": {
          "base_uri": "https://localhost:8080/"
        },
        "outputId": "c81f4768-5de8-418f-c351-f58b5c5b0c0c"
      },
      "execution_count": 3,
      "outputs": [
        {
          "output_type": "stream",
          "name": "stderr",
          "text": [
            "/usr/local/lib/python3.9/dist-packages/ipykernel/ipkernel.py:283: DeprecationWarning: `should_run_async` will not call `transform_cell` automatically in the future. Please pass the result to `transformed_cell` argument and any exception that happen during thetransform in `preprocessing_exc_tuple` in IPython 7.17 and above.\n",
            "  and should_run_async(code)\n"
          ]
        },
        {
          "output_type": "execute_result",
          "data": {
            "text/plain": [
              "130"
            ]
          },
          "metadata": {},
          "execution_count": 3
        }
      ]
    },
    {
      "cell_type": "code",
      "source": [
        "from Bio import Entrez\n",
        "\n",
        "Entrez.email = 'your_email@provider.com'\n",
        "\n",
        "pmids = lists\n",
        "handle = Entrez.efetch(db=\"pubmed\", id=','.join(map(str, pmids)),\n",
        "                       rettype=\"xml\", retmode=\"text\")\n",
        "records = Entrez.read(handle)\n",
        "\n",
        "\n",
        "abstract=[]\n",
        "noma=0\n",
        "n=0\n",
        "for pubmed_article in records['PubmedArticle']:\n",
        "  n=n+1           \n",
        "  try:\n",
        "    abstract.append(pubmed_article['MedlineCitation']['Article']['Abstract']['AbstractText'][0])\n",
        "  except: \n",
        "    # abstract.append('\\nno abstracts available.\\n')\n",
        "    noma=noma+1\n",
        "    continue\n",
        "    \n",
        "\n",
        "\n",
        "# abstract_dict = dict(zip(pmids, abstracts))\n",
        "abstract\n"
      ],
      "metadata": {
        "colab": {
          "base_uri": "https://localhost:8080/"
        },
        "id": "LJmj1xnIIV2I",
        "outputId": "3d431b31-554e-49c4-acfa-4f9ded711410"
      },
      "execution_count": 4,
      "outputs": [
        {
          "output_type": "stream",
          "name": "stderr",
          "text": [
            "/usr/local/lib/python3.9/dist-packages/ipykernel/ipkernel.py:283: DeprecationWarning: `should_run_async` will not call `transform_cell` automatically in the future. Please pass the result to `transformed_cell` argument and any exception that happen during thetransform in `preprocessing_exc_tuple` in IPython 7.17 and above.\n",
            "  and should_run_async(code)\n"
          ]
        },
        {
          "output_type": "execute_result",
          "data": {
            "text/plain": [
              "[StringElement('Breast cancer is the most common cancer in women worldwide, with a great diversity in outcomes among individual patients. The ability to accurately predict a breast cancer outcome is important to patients, physicians, researchers, and policy makers. Many models have been developed and tested in different settings. We systematically reviewed the prognostic models developed and/or validated for patients with breast cancer.', attributes={'Label': 'BACKGROUND', 'NlmCategory': 'BACKGROUND'}),\n",
              " StringElement('Neuroendocrine carcinoma of the cervix (NECC) is a rare variant of cervical cancer. The prognosis of women with NECC is poor and there is no standardized therapy for this type of malignancy based on controlled trials.', attributes={'Label': 'BACKGROUND', 'NlmCategory': 'BACKGROUND'}),\n",
              " 'Gastric cancer is a leading cause of cancer-related deaths with considerable heterogeneity among patients. Appropriate classifications are essential for prognosis prediction and individualized treatment. Although immunotherapy showed potential efficacy in a portion of patients with gastric cancer, few studies have tried to classify gastric cancer specifically based on immune signatures. In this study, we established a 3-subtype cluster with low (C<sub>LIM</sub>), medium (C<sub>MIM</sub>), and high (C<sub>HIM</sub>) enrichment of immune signatures based on immunogenomic profiling. We validated the classification in multiple independent datasets. The C<sub>HIM</sub> subtype exhibited a relatively better prognosis and showed features of \"hot tumors\", including low tumor purity, high stromal components, overexpression of immune checkpoint molecules, and enriched tumor-infiltrated immune cells (activated T cells and macrophages). In addition, C<sub>HIM</sub> tumors were also characterized by frequent <i>ARID1A</i> mutation, rare <i>TP53</i> mutation, hypermethylation status, and altered protein expression (HER2, β-catenin, Cyclin E1, PREX1, LCK, PD-L1, Transglutaminase, and cleaved Caspase 7). By Gene Set Variation Analysis, \"TGFβ signaling pathway\" and \"GAP junction\" were enriched in C<sub>LIM</sub> tumors and inversely correlated with CD8<sup>+</sup> and CD4<sup>+</sup> T cell infiltration. Of note, the C<sub>HIM</sub> patients showed a higher response rate to immunotherapy (44.4% vs. 11.1% and 16.7%) and a more prolonged progression-free survival (4.83 vs. 1.86 and 2.75 months) than C<sub>MIM</sub> and C<sub>LIM</sub> patients in a microsatellite-independent manner. In conclusion, the new immune signature-based subtypes have potential therapeutic and prognostic implications for gastric cancer management, especially immunotherapy.',\n",
              " StringElement('Altered lipid metabolism is an emerging hallmark of aggressive breast cancers. The N-myc downstream regulated gene (NDRG1) gene plays a critical role in peripheral nervous system myelination, as inactivating mutations cause severe demyelinating neuropathy. In breast cancer, elevated NDRG1 expression has been linked to clinical outcomes, but its functional role in breast cancer physiology has remained unclear.', attributes={'Label': 'BACKGROUND'}),\n",
              " StringElement('The prognostic and clinicopathological significance of POU Class 5 Homeobox 1 (POU5F1) among various cancers are disputable heretofore. The diagnostic value and functional mechanism of POU5F1 in liver hepatocellular carcinoma (LIHC) have not been studied thoroughly.', attributes={'Label': 'BACKGROUND'}),\n",
              " StringElement('Although accumulating data have suggested the development of cancer in systemic lupus erythematosus (SLE) patients, these results remain inconsistent. To examine such a putative association, this analysis reports the association between SLE and the risks of 24 cancer types.', attributes={'Label': 'BACKGROUND'}),\n",
              " StringElement('The latest global cancer data from 2020 shows that breast cancer has replaced lung cancer as the number one cancer in the world. Searching for new biomarkers of breast cancer has important clinical significance for early diagnosis, prediction of prognosis, and targeted therapy. MicroRNA-21 (miRNA-21) can be used as a new molecular marker for early diagnosis, prognosis, and treatment of tumors. However, the expression of miRNA-21 in breast cancer and its prognosis are not clear. Therefore, this study conducted a meta-analysis to further clarify the relationship between the expression of miRNA-21 in breast cancer and prognosis. At the same time, we carried out bioinformatics analysis to further analyze the possible molecular mechanism of miRNA-21, so as to provide potential clinical indicators for the diagnosis, treatment, and prognosis of patients.', attributes={'Label': 'BACKGROUND', 'NlmCategory': 'BACKGROUND'}),\n",
              " StringElement('Dose-dense chemotherapy is a widely accepted regimen for high-risk breast cancer patients. However, conflicting survival benefits of pure dose-dense chemotherapy have been reported in different randomized controlled trials (RCTs). This meta-analysis aimed to further assess the efficacy and safety of pure dose-dense chemotherapy in breast cancer.', attributes={'Label': 'BACKGROUND', 'NlmCategory': 'BACKGROUND'}),\n",
              " StringElement('Identifying the most effective first-line treatment for metastatic renal cell carcinoma (mRCC) is challenging as rapidly evolving data quickly outdate the existing body of evidence, and current approaches to presenting the evidence in user-friendly formats are fraught with limitations.', attributes={'Label': 'CONTEXT', 'NlmCategory': 'BACKGROUND'}),\n",
              " StringElement('The purpose of this comprehensive meta-analysis was to assess the association of aldehyde dehydrogenase (ALDH) expression with overall survival (OS) and disease-free survival (DFS)/progression-free survival (PFS) in ovarian cancer patients.', attributes={'Label': 'BACKGROUND'}),\n",
              " StringElement('Many studies have reported the prognostic value of haemoglobin level for cancers. Whereas the prognostic impact of decreased pretreatment haemoglobin level on the survival of patients with lung cancer remains controversial, herein, a systematic review and meta-analysis were conducted to investigate whether a decreased haemoglobin level before treatment is a significant predictor of survival in patients with lung cancer.', attributes={'Label': 'BACKGROUND', 'NlmCategory': 'BACKGROUND'}),\n",
              " StringElement('High efficacy in terms of protection from severe COVID-19 has been demonstrated for several SARS-CoV-2 vaccines. However, patients with compromised immune status develop a weaker and less stable immune response to vaccination. Strong immune response may not always translate into clinical benefit, therefore it is important to synthesise evidence on modified schemes and types of vaccination\\xa0in these population subgroups for guiding health decisions. As the literature on COVID-19 vaccines continues to expand, we aimed to scope the literature on multiple subgroups to subsequently decide on the most relevant research questions to be answered by systematic reviews.', attributes={'Label': 'BACKGROUND'}),\n",
              " StringElement('Estimates of survival for women diagnosed with early staged breast cancer are available based on stratification into prognostic categories defined using the Nottingham Prognostic Index (NPI). This review aimed to identify and summarize the estimated survival statistics from separate sources in the literature and to explore the extent of between-study heterogeneity in survival estimates.', attributes={'Label': 'BACKGROUND'}),\n",
              " StringElement('Si-Wu-Tang (SWT), a prestigious herbal formula from China, has been extensively used for centuries for female-related diseases. It has been documented that SWT has a significant inhibitory effect on non-triple-negative breast cancer (non-TNBC) cells. However, there has been limited comprehensive analysis of the targeted effects of the anticancer components of SWT and its exact biological mechanism.', attributes={'Label': 'ETHNOPHARMACOLOGICAL RELEVANCE', 'NlmCategory': 'BACKGROUND'}),\n",
              " StringElement('Textbook outcome (TO) is a multidimensional measure reflecting the ideal outcome after surgery. As a benchmarking tool, it provides an objective overview of quality of care. Uniform definitions of TO in hepato-pancreato-biliary (HPB) surgery are missing. This study aimed to provide a definition of TO in HPB surgery and identify obstacles and predictors for achieving it.', attributes={'Label': 'BACKGROUND'}),\n",
              " 'Using implants to retain prostheses as part of the oral rehabilitation of head and neck cancer patients is an increasingly common treatment modality, particularly in transported bone which is used to reconstruct defects following oncological surgical resection. The aim of this systematic review is to evaluate the survival of dental implants placed into autogenous bone grafts and flaps, in head and neck cancer patients. MEDLINE, EMBASE, CENTRAL and Science Direct databases were searched (1980-August 2017) for studies evaluating intra-oral implant placement into autogenous bone grafts and flaps in H&N cancer patients. Twenty articles were included reporting on 1905 implants placed into autogenous bone in head and neck cancer patients. Implant survival varied from 54 to 100% within the studies with 11 studies reporting implant survival of over 90%. In conclusion, intra-oral implant survival in autogenous bone grafts in head and neck oncology patients is promising, however inconsistencies in data reporting and in outcome definitions precludes formal meta-analysis.',\n",
              " StringElement('The prognostic effect of elevated systemic inflammatory markers, including neutrophil-lymphocyte ratio (NLR) and platelet-lymphocyte ratio (PLR), remains controversial in cancer patients. This meta-analysis was conducted to evaluate the predictive values of these markers for prognoses in ovarian cancer patients.', attributes={'Label': 'BACKGROUND'}),\n",
              " 'Lung cancer remains the leading cause of cancer mortality worldwide. A number of screening trials for early detection of lung cancer exist, using chest X-ray, low-dose computed tomography, or both. However, little is known about the socio-demographic characteristics of participants in lung cancer screening programs. As gender and socio-economic determinants are important variables to consider for successful program implementation, this review aims to characterize the participants in such programs and to investigate whether differences in representation exist across screening programs. Systematic methods were used to identify relevant studies. A search was undertaken to locate all studies published up to August 2017 assessing the socio-demographic profile of participants in lung cancer screening programs. A search strategy was developed, refined, and implemented to search in two different online databases (MEDLINE and Web of Sciences). A total of 1588 references were retrieved of which 14 were eligible for review. The results highlight differences in gender and social characteristics of participants across programs, while noting that differences may be partly explained by the various epidemiological contexts, program inclusion criteria, and socio-economic status (SES) measures collected. Most importantly, despite a well-recognized predominance of low SES among heavy smokers, people with high SES are seemingly over-represented among participants. Male participants also seem to be over-represented. These findings are important to help inform the development and implementation processes of future lung cancer screening programs, which should likely include strategies for engaging women as well as individuals with low SES and, of course, those most at risk for developing lung cancer.',\n",
              " StringElement('A recent Japanese study suggested prophylactic cranial irradiation (PCI) failed to improve survival of extensive-stage small-cell lung cancer (SCLC). However, previous studies showed that PCI was beneficial in reducing the rate of mortality for extensive-stage SCLC. In this study, we aimed to evaluate the impact of PCI on the survival of patients diagnosed with extensive-stage SCLC by meta-analysis.', attributes={'Label': 'BACKGROUND', 'NlmCategory': 'BACKGROUND'}),\n",
              " StringElement('A review of therapies for advanced cancers licenced by the EMA between 2009 and 2013 concluded that for more than half of these drugs there was little evidence of overall survival or quality of life benefit. Recent years have witnessed a growing number of licensed second-line pharmacotherapies for advanced/metastatic non-small cell lung cancer (NSCLC). With the aim of gauging patient survival benefit, we conducted a systematic review of randomised controlled trials (RCT) and compared survival outcomes from available licensed treatments for patients with advanced/metastatic NSCLC.', attributes={'Label': 'BACKGROUND', 'NlmCategory': 'BACKGROUND'}),\n",
              " StringElement('Cancer atlases often provide estimates of cancer incidence, mortality or survival across small areas of a region or country. A recent example of a cancer atlas is the Australian cancer atlas (ACA), that provides interactive maps to visualise spatially smoothed estimates of cancer incidence and survival for 20 different cancer types over 2148 small areas across Australia.', attributes={'Label': 'BACKGROUND'}),\n",
              " StringElement('Increasing evidence indicates that cetuximab (CET) combined with chemoradiotherapy may be effective for patients with esophageal cancer. However, the recent results are still contradictory and no consensus has yet been reached on this issue. To evaluate the clinical effects and safety of CET, we conducted an updated meta-analysis by retrieving published data up to June 2018.', attributes={'Label': 'BACKGROUND', 'NlmCategory': 'BACKGROUND'}),\n",
              " StringElement('Previous studies have suggested that metformin may be useful for preventing and treating endometrial cancer (EC), while the results have been inconsistent. This systematic review and meta-analysis aimed to investigate the association between metformin use and risk and prognosis of patients with EC.', attributes={'Label': 'BACKGROUND'}),\n",
              " StringElement('This study aimed to identify the cancer stem cell specific biomarkers that can be effective candidate prognosticators of oral squamous cell carcinoma.', attributes={'Label': 'OBJECTIVE', 'NlmCategory': 'OBJECTIVE'}),\n",
              " StringElement('For patients with advanced gastric cancer (AGC), second-line chemotherapy regimen remains controversial. The efficacy and safety of irinotecan-containing doublet treatment and irinotecan monotherapy were compared in this systematic analysis.', attributes={'Label': 'BACKGROUND', 'NlmCategory': 'BACKGROUND'}),\n",
              " StringElement('Previous studies about the prognostic value of the HIPEC have yielded controversial results. Therefore, this study aims to assess the impact of HIPEC on patients with ovarian cancer.', attributes={'Label': 'BACKGROUND AND OBJECTIVE', 'NlmCategory': 'OBJECTIVE'}),\n",
              " StringElement('Perioperative transfusion can reduce the survival rate in colorectal cancer patients. The effects of transfusion on the short- and long-term prognoses are becoming intriguing.', attributes={'Label': 'BACKGROUND', 'NlmCategory': 'BACKGROUND'}),\n",
              " StringElement('Tumor necrosis (TN) correlates with adverse outcomes in numerous solid tumors. However, its prognostic value in renal cell carcinoma (RCC) remains unclear. In this study, we performed a meta-analysis to evaluate associations between TN and cancer-specific survival (CSS), overall survival (OS), recurrence-free survival (RFS) and progression-free-survival (PFS) in RCC.', attributes={'Label': 'BACKGROUND', 'NlmCategory': 'BACKGROUND'}),\n",
              " StringElement('The ideal level of ligation of the inferior mesenteric artery (IMA) during curative resection of sigmoid colon and rectal cancer is still controversial. The aim of this meta-analysis was to examine the impact of high ligation and low ligation of the IMA on anastomotic leakage, overall morbidity, postoperative mortality, and oncological outcomes in patients undergoing surgery for sigmoid colon and rectal cancer.', attributes={'Label': 'BACKGROUND', 'NlmCategory': 'BACKGROUND'}),\n",
              " StringElement('Prostate cancer remains the leading cause of cancer deaths among Caribbean men. However, little data exists on the influence of social factors on prostate cancer in the Caribbean setting. This article supports the 2011 Rio Political Declaration on addressing health inequalities by presenting a systematic review of evidence on the role of social determinants on prostate cancer in Caribbean men. It aims to determine the distribution, by known social determinants of health, of the frequency and adverse outcomes of prostate cancer among Caribbean populations.', attributes={'Label': 'BACKGROUND'}),\n",
              " StringElement('This systematic literature review explores and maps what we know about survivorship to understand how survivorship can be theoretically defined.', attributes={'Label': 'AIMS AND OBJECTIVE', 'NlmCategory': 'OBJECTIVE'}),\n",
              " StringElement('Being the second leading cause of cancer death in the world, gastric cancer is a common malignant tumor in digestive system. Most patients were diagnosed in advanced stage and had poor prognosis. In recent years, related studies have displayed that MicroRNA-182 (miRNA-182) can promote the proliferation, infiltration, metastasis and drug resistance of tumor cells, so it can be used as a new molecular marker for the early diagnosis, prognosis, and treatment of tumors. However, the expression and prognosis of miRNA-182 in gastric cancer are not clear. Therefore, this study conducted a meta-analysis to further clarify the relationship between the expression of miRNA-182 in gastric cancer and prognosis. In addition, a bioinformatics analysis was adopted to further analyze the possible molecular mechanism of miRNA-182, so as to provide a theoretical basis for the diagnosis, treatment, and prognosis of patients suffering from gastric cancer.', attributes={'Label': 'BACKGROUND', 'NlmCategory': 'BACKGROUND'}),\n",
              " StringElement('The brain is a common site for metastasis in non-small-cell lung cancer (NSCLC). This study was designed to evaluate the relationship between the mutational of the epidermal growth factor receptor (EGFR) and overall survival (OS) in NSCLC patients with brain metastases.', attributes={'Label': 'BACKGROUND', 'NlmCategory': 'BACKGROUND'}),\n",
              " StringElement('The advent of tyrosine kinase inhibitors as adjuvant therapy has revolutionized the management of GIST and emphasized the need for accurate prognostication systems. Numerous prognostication systems have been proposed for GIST but at present it remains unknown which system is superior. The present systematic review aims to summarize current prognostication systems for primary treatment-naive GIST.', attributes={'Label': 'BACKGROUND'}),\n",
              " StringElement('MLKL is the most important executor of necroptosis pathway. Recent studies have demonstrated that MLKL could serve as a potential prognostic biomarker for cancer patients. However, most studies reported so far are limited in discrete outcome and sample size.', attributes={'Label': 'BACKGROUND', 'NlmCategory': 'BACKGROUND'}),\n",
              " '<b><i>Background:</i></b> In the United States, colorectal cancer (CRC) is the second leading cause of cancer death in men and women combined. The United States Preventive Services Task Force recommends that average risk adults have regular CRC screening to detect and prevent CRC. Despite published CRC screening guidelines, national CRC screening rates remain suboptimal. With the exponential increase in technology use and device ownership, many mobile health applications (apps) have been developed to improve health outcomes. There is great potential for smartphone or tablet apps to help improve CRC screening uptake, with the ultimate goal of reducing CRC morbidity and mortality. To date, there are no systematic reviews that have examined the publicly available, free apps that are related to CRC screening, and therefore, the quality and the content of these apps remain unknown. <b><i>Objectives:</i></b> The purpose of this study was to systematically review smartphone and tablet apps that could be used to improve CRC screening uptake. <b><i>Methods:</i></b> Apps available on the Google Play and Apple App stores that were compatible with smartphones and tablets were reviewed. Of the 2,790 apps reviewed, 20 met inclusion criteria. <b><i>Results:</i></b> Of the 20 apps that met inclusion criteria, most were informational in nature. Approximately half of the apps focused on colonoscopies and did not discuss other CRC screening options. Furthermore, more than half of the apps did not include video/audio content and the majority of the apps did not provide navigation support (e.g., reminders, instructions, maps). <b><i>Conclusions:</i></b> There are multiple free, publicly available apps that may encourage CRC screening uptake. Despite their promise, there is a paucity of empirical evidence evaluating the efficacy and usability of these apps. Future research efforts can evaluate the content, usability, accessibility, and potential impact of these apps.',\n",
              " StringElement('Pancreatic cancer is a highly malignant tumor with a poor prognosis. Chemotherapy such as gemcitabine is still an important treatment. Gemcitabine (Gem) may prolong survival time and delay the development of recurrent disease after complete resection of pancreatic cancer. Currently, some control studies have been performed between certain drugs and gemcitabine monotherapy after pancreatic cancer surgery, but the outcomes were uncertain. Here, we implemented meta-analysis to compare the efficacy between adjuvant treatments and gemcitabine monotherapy in patients with resected pancreatic cancer.', attributes={'Label': 'BACKGROUND', 'NlmCategory': 'BACKGROUND'}),\n",
              " StringElement('Lynch syndrome is the most common inherited cancer syndrome, which predisposes individuals to a number of different cancers, principally colorectal and endometrial cancer. The early diagnosis of Lynch syndrome enables colorectal surveillance, which has been shown to save lives through the detection and removal of premalignant polyps and earlier detection of invasive disease. Endometrial cancer, which is often the sentinel cancer in women, provides an opportunity to diagnose Lynch syndrome and thus enable colorectal surveillance as well as the cascade testing for Lynch syndrome in other family members. These potential benefits have led to a call for the universal screening of women with endometrial cancer for Lynch syndrome, a practice that is now commonplace in colorectal cancer. Healthcare providers and clinicians are however restricted by insufficient knowledge about the prevalence of Lynch syndrome in women with endometrial cancer, with estimates varying as widely as 1-10%. The aim of this study is to perform a systematic review with a meta-analysis of the current literature base in order to estimate the prevalence of Lynch syndrome among women with endometrial cancer to inform this discussion.', attributes={'Label': 'BACKGROUND'}),\n",
              " StringElement('Epithelial ovarian cancer is one of the most \\ufeffsevere public health threats in women. Since it is still challenging to screen in early stages, identification of core genes that play an essential role in epithelial ovarian cancer initiation and progression is of vital importance.', attributes={'Label': 'BACKGROUND', 'NlmCategory': 'BACKGROUND'}),\n",
              " StringElement('Ageing is one of the principal risk factors for many chronic diseases. However, there is considerable between-person variation in the rate of ageing and individual differences in their susceptibility to disease and death. Epigenetic mechanisms may play a role in human ageing, and DNA methylation age biomarkers may be good predictors of age-related diseases and mortality risk. The aims of this systematic review were to identify and synthesise the evidence for an association between peripherally measured DNA methylation age and longevity, age-related disease, and mortality risk.', attributes={'Label': 'BACKGROUND'}),\n",
              " StringElement('Pancreatic ductal adenocarcinoma (PDAC) is the fourth leading cause of cancer related death in the world with a five-year survival rate of less than 5%. Not all PDAC are the same, because there exist intra-tumoral heterogeneity between PDAC, which poses a great challenge to personalized treatments for PDAC.', attributes={'Label': 'BACKGROUND', 'NlmCategory': 'BACKGROUND'}),\n",
              " StringElement('The number of positive lymph node stations has been viewed as a subclassification in the N1 category in the new revision of tumour node metastasis (TNM) staging. However, the survival curve of these patients overlapped with that of some patients in the N2 categories. Our study focused on the prognostic significance of different subclassifications for N1 patients.', attributes={'Label': 'OBJECTIVES'}),\n",
              " StringElement('Laparoscopic pancreaticoduodenectomy (LPD) remains to be established as a safe and effective alternative to open pancreaticoduodenectomy (OPD) for pancreatic-head and periampullary malignancy. The purpose of this meta-analysis was to compare LPD with OPD for these malignancies regarding short-term surgical and long-term survival outcomes.', attributes={'Label': 'BACKGROUND', 'NlmCategory': 'BACKGROUND'}),\n",
              " StringElement('Prognoses of most adult Hodgkin lymphoma (HL) patients are excellent; most of them can achieve permanent remission that can be considered cured. However, many are under-treated or over-treated by standard modern therapies. An accurate determination of prognosis may allow clinicians to design personalised treatment according to individual risk of disease progression and survival. Lymphocyte monocyte ratio (LMR) at diagnosis has been investigated as a prognostic biomarker in patients with HL. Our objective with this meta-analysis was to explore the prognostic value of the LMR at diagnosis in adult HL, by investigating the association between LMR and survival outcomes.', attributes={'Label': 'BACKGROUND', 'NlmCategory': 'BACKGROUND'}),\n",
              " StringElement('The use of oral systemic anticancer therapies (SACT) has increased and led to improved cancer survival outcomes, particularly with the introduction of small molecule targeted agents and immunomodulators. Oral targeted SACT are, however, associated with toxicities, which might result in reduced quality of life and non-adherence. To reduce treatment-related toxicity, the practice of non-standard dosing is increasing; however guidance to govern this practice is limited. A systematic review was conducted to identify evidence of, and outcomes from, non-standard dosing of oral SACT in oncology and malignant haematology.', attributes={'Label': 'BACKGROUND', 'NlmCategory': 'BACKGROUND'}),\n",
              " 'This report aimed to investigate the carcinogenesis effects of E2F transcription factor 8 (E2F8) in hepatocellular carcinoma (HCC). E2F8 expression level was compared in Gene Expression Omnibus (GEO), The Cancer Genome Atlas (TCGA) and Oncomine. Survival analysis of E2F8 for HCC were conducted in Kaplan-Meier plotter. Correlations of E2F8 and clinico-pathological features were performed in TCGA. Enrichment of interacted and similar genes with E2F8 was evaluated in Gene Set Enrichment Analysis (GSEA) and Metascape. We found that E2F8 was significantly up-regulated in tumor tissues compared with nontumor tissues (all P < 0.01). Moreover, E2F8 was significantly overexpressed in peripheral blood mononuclear cell (PBMC) in HCC patients than that in healthy individuals (P < 0.001). Meta-analysis in Oncomine database confirmed that E2F8 was significantly higher in HCC tumors (P = 4.28E-08). Additionally, E2F8 elevation significantly correlated with overall survival (OS), recurrence-free survival (RFS), disease-specific survival (DSS) and progression-free survival (PFS) in HCC patients (all P < 0.01). E2F8 level was significantly higher in HCC patients with advanced neoplasm histologic grade, American Joint Committee on Cancer (AJCC) stage and α-fetoprotein (AFP) elevation (all P < 0.05). Cox regression model demonstrated that high E2F8 was an independent risk factor for OS and DFS in HCC patients (HR = 2.16, P = 0.003 and HR = 1.64, P = 0.002, respectively). Enrichment analysis revealed that genes interacted/similar with E2F8 were mainly enriched in cell cycle pathways/biological process. Conclusively, up-regulated in tumors, E2F8 might accelerate tumor progression and result in unfavorable outcomes in HCC patients.',\n",
              " StringElement('Triple negative breast cancers (TNBC) are associated with an aggressive clinical course, earlier recurrence and short survival. <i>BRCA</i> - mutated tumours represent up to 25% of all TNBC. <i>BRCA</i> status is being studied as a predictive biomarker of response to platinum agents. However, the predictive role of <i>BRCA</i> status is still uncertain in this setting. Since TNBC is a very heterogeneous group of diseases, it is important to identify subsets of TNBC patients that may benefit from platinum-based therapy. This study aims to establish if the presence of a germline <i>BRCA</i> mutation in women with TNBC improves the pathologic complete response (pCR) after neoadjuvant chemotherapy with platinum compounds.', attributes={'Label': 'BACKGROUND', 'NlmCategory': 'BACKGROUND'}),\n",
              " StringElement('Transarterial chemoembolization (TACE) is the recommended treatment for hepatocellular carcinoma (HCC) patients at Barcelona Clinic Liver Cancer (BCLC) B-stage, whereas sorafenib is an orally administered small molecule target drug for BCLC C-stage. This updated systemic review and meta-analysis focuses on identifying the efficacy of the combination of TACE with sorafenib, which remains controversial despite years of exploration.', attributes={'Label': 'BACKGROUND', 'NlmCategory': 'BACKGROUND'}),\n",
              " StringElement(\"Cancer patients' survival time has obviously improved, with the development of systemic treatment techniques. However, the probability of metastases to the vertebrae has also been increased which makes some adverse effects on patients' quality of life. The prediction of survival plays a key role in choosing therapeutic modality, and Tokuhashi Score was established as one of the most commonly used predictive systems for spinal metastases. Thus, this study was conducted to identify the prognostic effect of factors involved in revised Tokuhashi Score (RTS).\", attributes={'Label': 'BACKGROUND', 'NlmCategory': 'BACKGROUND'}),\n",
              " StringElement('Myeloid-derived suppressor cells (MDSCs) is a heterogeneous population of immature myeloid cells, inhibiting both the innate and adaptive immunity. Recent studies validated that MDSCs caused immune suppression and promoted cancer progression through various mechanisms. However, the prognostic value of MDSCs in cancer remains controversial.', attributes={'Label': 'BACKGROUND', 'NlmCategory': 'BACKGROUND'}),\n",
              " StringElement('Originator trastuzumab (Herceptin®; H) is an antibody-targeted therapy to treat patients with human epidermal growth factor receptor 2-positive (HER2+) early breast cancer (EBC). We investigated the overall survival (OS) advantage conferred by the addition of H to chemotherapy for HER2+ EBC patients and how the OS advantage changed over time.', attributes={'Label': 'BACKGROUND'}),\n",
              " StringElement('Lymph node dissection (LND) is not routinely performed during radical nephroureterectomy (RNU) in upper tract urothelial carcinomas (UTUC) and the role of LND has been controversial. We aim to investigate whether patients with LND had improved survival in UTUC patients.', attributes={'Label': 'BACKGROUND', 'NlmCategory': 'BACKGROUND'}),\n",
              " StringElement('Lung cancer is typically diagnosed at a late stage. Early presentation and detection of lung cancer symptoms is critical to improving survival but can be clinically complicated and as yet a robust screening method for diagnosis is not available in routine practice. Accordingly, the barriers to help-seeking behaviour and diagnosis need to be considered. This review aimed to document the barriers to early presentation and diagnosis of lung cancer, based on patient and carer perspectives.', attributes={'Label': 'BACKGROUND', 'NlmCategory': 'BACKGROUND'}),\n",
              " StringElement('Shared decision-making in oncology requires information on individual prognosis. This comprises cancer prognosis as well as competing risks of dying due to age and comorbidities. Decision aids usually do not provide such information on competing risks. We conducted an overview on clinical prediction tools for early breast cancer and developed and pilot-tested a decision aid (DA) addressing individual prognosis using additional chemotherapy in early, hormone receptor-positive breast cancer as an example.', attributes={'Label': 'BACKGROUND', 'NlmCategory': 'BACKGROUND'}),\n",
              " StringElement('The prognostic value of Ki-67 expression in colorectal cancer patients was controversial. Therefore, this meta analysis was conducted to ascertain the prognostic value of Ki-67 expression in colorectal cancer patients.', attributes={'Label': 'BACKGROUND', 'NlmCategory': 'BACKGROUND'}),\n",
              " StringElement('There is still a debate regarding whether regimens combining irinotecan with platinum could replace regimens combining etoposide with platinum, as first-line chemotherapy for extensive-stage small cell lung cancer (ES-SCLC). We performed a meta-analysis to compare these regimens as first-line chemotherapy for ES-SCLC.', attributes={'Label': 'BACKGROUND', 'NlmCategory': 'BACKGROUND'}),\n",
              " StringElement('Neurofibromatosis type 1 (NF1) is a cancer predisposing syndrome. Studies suggest that women <\\u200950\\u2009years old (y.o.) with NF1 have an increased breast cancer (BC) incidence and BC associated mortality. However, this has not been widely recognized secondary to small study populations.', attributes={'Label': 'BACKGROUND', 'NlmCategory': 'BACKGROUND'}),\n",
              " StringElement('Currently, several studies have demonstrated that PRKAA1 polymorphisms conduce to the development of cancer. PRKAA1 gene encodes the AMP-activated protein kinase summit-α1, and plays an important role in cell metabolism. Thus, we performed a systematic review and meta-analysis of all enrolled eligible case-control studies to obtain a precise correlation between PRKAA1 polymorphism and cancer susceptibility.', attributes={'Label': 'BACKGROUND'}),\n",
              " StringElement('Checkpoint inhibitors (CPIs) have revolutionized the treatment of cancer, but their use remains limited by off-target inflammatory and immune-related adverse events. Solid organ transplantation (SOT) recipients have been excluded from clinical trials owing to concerns about alloimmunity, organ rejection, and immunosuppressive therapy. Thus, we conducted a retrospective study and literature review to evaluate the safety of CPIs in patients with cancer and prior SOT.', attributes={'Label': 'BACKGROUND'}),\n",
              " StringElement('Adjuvant radiotherapy in advanced head and neck squamous cell cancer (HNSCC) reduces the risk of local-regional failure and most likely increases the survival rate. Patients at high risk for tumor recurrence may benefit from more aggressive altered fractionation schedules in order to reduce the overall time from surgery to completion of radiotherapy. Here, we reviewed the results of six randomized trials addressing the above hypothesis.', attributes={'Label': 'BACKGROUND', 'NlmCategory': 'BACKGROUND'}),\n",
              " StringElement('Recent studies have reported a relationship between prognosis and neutrophil-to-lymphocyte ratio (NLR) in patients with head and neck cancer (HNC). As the results are still controversial, we conducted a meta-analysis of pretreatment NLR in peripheral blood and prognosis in HNC patients.', attributes={'Label': 'BACKGROUND'}),\n",
              " StringElement('Head and neck cancers form a significant share of all cancer incidences worldwide. Though treatment modalities exist, post-treatment recurrence and survival rates in recurrent patients continue to be high. MiRNAs offer an effective method of estimating the probability of recurrence and survival of HNC patients, thereby allowing for effective treatment and better survival rates.', attributes={'Label': 'BACKGROUND'}),\n",
              " StringElement('Previous approaches to defining subtypes of colorectal carcinoma (CRC) and other cancers based on transcriptomes have assumed the existence of discrete subtypes. We analyze gene expression patterns of colorectal tumors from a large number of patients to test this assumption and propose an approach to identify potentially a continuum of subtypes that are present across independent studies and cohorts.', attributes={'Label': 'BACKGROUND'}),\n",
              " StringElement('Organ preserving surgery (OPS) and radiotherapy (RT) are both accepted treatment options for early stage supraglottic cancer (SGC). Radiation has supplanted surgery in most cases, because of the perception that surgery results in poorer functional outcomes. However, evidence suggests that OPS with a neck dissection may be associated with improved survival. Our objective was to conduct a systematic review of the literature to compare functional outcomes of OPS and RT for early SGC.', attributes={'Label': 'OBJECTIVES', 'NlmCategory': 'OBJECTIVE'}),\n",
              " StringElement('High-grade non-muscle-invasive bladder cancer is superficial; nonetheless, it is an aggressive cancer. Proper management strategy selection following transurethral resection between bladder preservation (BP) and radical cystectomy (RC) could result in delayed or excessive treatment. Hence, selecting the optimal treatment modality remains controversial to date.', attributes={'Label': 'BACKGROUND', 'NlmCategory': 'BACKGROUND'}),\n",
              " StringElement('Recently, microRNA-20a (miR-20a) has been reported to influence the clinical features and may have prognostic value in human cancers. The present meta-analysis assessed the prognostic role of miR-20a in various carcinomas.', attributes={'Label': 'BACKGROUND', 'NlmCategory': 'BACKGROUND'}),\n",
              " StringElement('To analyze the prognostic value of programmed death factor ligand 1 (PD-L1) in colorectal cancer.', attributes={'Label': 'OBJECTIVE', 'NlmCategory': 'OBJECTIVE'}),\n",
              " StringElement('The expression of PD-L1 has been reported in ovarian cancer. However, the prognostic role of PD-L1 expression in ovarian carcinoma remained controversial. This study was performed to assess the prognostic value of PD-L1 expression on ovarian cancer.', attributes={'Label': 'BACKGROUND', 'NlmCategory': 'BACKGROUND'}),\n",
              " StringElement('To compare the efficacies and toxicities of intensity-modulated radiotherapy (IMRT) with three-dimensional conformal radiotherapy (3D-CRT) or conventional two-dimensional radiotherapy (2D-RT) for definitive treatment of cervical cancer.', attributes={'Label': 'BACKGROUND', 'NlmCategory': 'BACKGROUND'}),\n",
              " 'An in-depth investigation of the molecular and immunologic properties of colorectal adenoma is important for understanding the mechanisms of colorectal cancer (CRC) initiation and development through the adenoma pathway. We performed a meta-analysis of the gene expression data from seven CRC and colorectal sporadic conventional adenoma datasets. We compared the enrichment levels of immune signatures between adenoma, normal colon, and CRC, then applied immunohistochemistry to compare the CD3\\xa0+\\xa0and CD8\\xa0+\\xa0T cells infiltration using samples of adenoma, contiguous adenoma, and CRC. We identified differentially expressed genes (DEGs) between adenoma, normal colon, and CRC, then performed pathway, network, immune correlation, and survival analyses on the DEGs. Adenoma had lower enrichment levels of antitumor immune signatures (CD8\\xa0+\\xa0T cells, NK cells, and MHC Class I) while higher levels of TGF-β and Th17 signatures. Immunohistochemistry revealed variations in CD3\\xa0+\\xa0and CD8\\xa0+\\xa0T cells infiltration between low-grade and high-grade adenomas and between adenoma, normal colon, and CRC. We identified two groups of genes, which we named (NACupGs and NACdownGs), with consistent expression elevation and reduction respectively across the normal, precancerous, and cancerous stages. 48% of the NACupGs had expression levels highly correlated with Treg and TGF-β immune signatures, of which 39% were inversely correlated with CRC survival. We conclude that anti-tumor immune response is reduced at the precancerous (adenoma) stage which is characterized by prominent TGF-β and Th17 activity. The alterations of molecular and immunological profiles in adenoma can provide new insights into the initiation and development of CRC.',\n",
              " StringElement('Lung cancer ranks as the leading cause of cancer-related deaths worldwide and we performed this meta-analysis to investigate eligible studies and determine the prognostic effect of Ki-67.', attributes={'Label': 'BACKGROUND', 'NlmCategory': 'BACKGROUND'}),\n",
              " StringElement('Physical activity can improve health and wellbeing after cancer and may reduce cancer recurrence and mortality. To achieve such long-term benefits cancer survivors must be habitually active. This review evaluates the effectiveness of interventions in supporting maintenance of physical activity behaviour change among adults diagnosed with cancer and explores which intervention components and contextual features are associated with effectiveness.', attributes={'Label': 'BACKGROUND'}),\n",
              " 'Prominin 1 (PROM1) is considered a biomarker for cancer stem cells, although its biological role is unclear. Prominin 2 (PROM2) has also been associated with certain cancers. However, the prognostic value of PROM1 and PROM2 in cancer is controversial. Here, we performed a systematic data analysis to examine whether prominins can function as prognostic markers in human cancers. The expression of prominins was assessed and their prognostic value in human cancers was determined using univariate and multivariate survival analyses, via various online platforms. We selected a group of prominent functional protein partners of prominins by protein-protein interaction analysis. Subsequently, we investigated the relationship between mutations and copy number alterations in prominin genes and various types of cancers. Furthermore, we identified genes that correlated with PROM1 and PROM2 in certain cancers, based on their levels of expression. Gene ontology and pathway analyses were performed to assess the effect of these correlated genes on various cancers. We observed that PROM1 was frequently overexpressed in esophageal, liver, and ovarian cancers and its expression was negatively associated with prognosis, whereas PROM2 overexpression was associated with poor overall survival in lung and ovarian cancers. Based on the varying characteristics of prominins, we conclude that PROM1 and PROM2 expression differentially modulates the clinical outcomes of cancers.',\n",
              " StringElement('To investigate the role of C-reactive protein (CRP) in the prognosis of prostate cancer (PCa).', attributes={'Label': 'OBJECTIVE', 'NlmCategory': 'UNASSIGNED'}),\n",
              " \"Multiple myeloma (MM) is a plasma cell malignancy with diverse clinical phenotypes and molecular heterogeneity not completely understood. Differentially expressed genes (DEGs) and miRNAs (DEMs) in MM may influence disease pathogenesis, clinical presentation / drug sensitivities. But these signatures overlap meagrely plausibly due to complexity of myeloma genome, diversity in primary cells studied, molecular technologies/ analytical tools utilized. This warrants further investigations since DEGs/DEMs can impact clinical outcomes and guide personalized therapy. We have conducted genome-wide meta-analysis of DEGs/DEMs in MM versus Normal Plasma Cells (NPCs) and derived unified putative signatures for MM. 100 DEMs and 1,362 DEGs were found deranged between MM and NPCs. Signatures of 37 DEMs ('Union 37') and 154 DEGs ('Union 154') were deduced that shared 17 DEMs and 22 DEGs with published prognostic signatures, respectively. Two miRs (miR-16-2-3p, 30d-2-3p) correlated with survival outcomes. PPI analysis identified 5 topmost functionally connected hub genes (UBC, ITGA4, HSP90AB1, VCAM1, VCP). Transcription factor regulatory networks were determined for five seed DEGs with\\u2009≥\\u20094 biomarker applications (CDKN1A, CDKN2A, MMP9, IGF1, MKI67) and three topmost up/ down regulated DEMs (miR-23b, 195, let7b/ miR-20a, 155, 92a). Further studies are warranted to establish and translate prognostic potential of these signatures for MM.\",\n",
              " StringElement('Nucleophosmin is a non-ribosomal nucleolar phosphoprotein that is found primarily in the nucleolus region of cell nucleus, plays multiple important roles in tumor processes. Accumulated previous studies have reported a potential value of NPM acted as a biomarker for prognosis in various solid tumors, but the results were more inconsistency. We performed this meta-analysis to precisely evaluate the prognostic significance of NPM in solid tumors.', attributes={'Label': 'BACKGROUND', 'NlmCategory': 'BACKGROUND'}),\n",
              " StringElement('Previous studies have suggested that metabolic syndrome (MetS) and its component conditions are linked to the development of many benign or malignant diseases. Some studies have described relationships among metabolic syndrome or diabetes and liver cancer, but not many articles described the relationships between MetS and cirrhosis, acute hepatic failure, end-stage liver disease, and even death. However, liver cancers, cirrhosis, acute hepatic failure, end-stage liver disease, and liver-related mortality-collectively described as liver-related events (LREs)-may have different relationships with MetS. We undertook this meta-analysis to examine the association between MetS and LREs, and to determine whether geographic region or hepatitis B virus (HBV) positivity might influence the association.', attributes={'Label': 'BACKGROUND', 'NlmCategory': 'BACKGROUND'}),\n",
              " StringElement('The efficacy of prophylactic cranial irradiation (PCI) in treating patients with small cell lung cancer (SCLC) has not been clear, and recent randomized studies have demonstrated conflicting results from previously published findings. The purpose of this study was to reevaluate the efficacy of PCI in patients with SCLC and to assess factors associated with its efficacy.', attributes={'Label': 'BACKGROUND', 'NlmCategory': 'BACKGROUND'}),\n",
              " StringElement('To identify, describe, and organise currently available evidence regarding systemic oncological treatments (SOTs) (chemotherapy, targeted/biological therapies, and immunotherapy) compared to best supportive care (BSC) for patients with advanced pancreatic cancer (PC).', attributes={'Label': 'PURPOSE', 'NlmCategory': 'OBJECTIVE'}),\n",
              " \"Triple negative breast cancer (TNBC), which is typically lack of expression of estrogen receptor (ER), progesterone receptor (PR), and human epidermal growth factor receptor 2 (HER2), represents the most aggressive and mortal subtype of breast cancer. Currently, only a few treatment options are available for TNBC due to the absence of molecular targets, which underscores the need for developing novel therapeutic and preventive approaches for this disease. Recent evidence from clinical trials and preclinical studies has demonstrated a pivotal role of signal transducer and activator of transcription 3 (STAT3) in the initiation, progression, metastasis, and immune evasion of TNBC. STAT3 is overexpressed and constitutively activated in TNBC cells and contributes to cell survival, proliferation, cell cycle progression, anti-apoptosis, migration, invasion, angiogenesis, chemoresistance, immunosuppression, and stem cells self-renewal and differentiation by regulating the expression of its downstream target genes. STAT3 small molecule inhibitors have been developed and shown excellent anticancer activities in in vitro and in vivo models of TNBC. This review discusses the recent advances in the understanding of STAT3, with a focus on STAT3's oncogenic role in TNBC. The current targeting strategies and representative small molecule inhibitors of STAT3 are highlighted. We also propose potential strategies that can be further examined for developing more specific and effective inhibitors for TNBC prevention and therapy.\",\n",
              " StringElement('Locally advanced or metastatic non-small cell lung cancer (NSCLC) that has progressed after first-line treatment has a poor prognosis. Recent randomized clinical trials (RCTs) have demonstrated survival benefits of alternative treatments to docetaxel. However, information is lacking on which patients benefit the most and what drug or regimen is optimal. We report a systematic review and network meta-analysis (NMA) of second-line treatments in all subgroup combinations determined by histology, programmed death ligand 1 (PD-L1) expression, and epidermal growth factor receptor (EGFR) mutation.', attributes={'Label': 'BACKGROUND', 'NlmCategory': 'BACKGROUND'}),\n",
              " StringElement('Cardiac Amyloidosis (CA) pertains to the cardiac involvement of a group of diseases, in which misfolded proteins deposit in tissues and cause progressive organ damage. The vast majority of CA cases are caused by light chain amyloidosis (AL) and transthyretin amyloidosis (ATTR). The increased awareness of these diseases has led to an increment of newly diagnosed cases each year.', attributes={'Label': 'BACKGROUND'}),\n",
              " StringElement('Immune checkpoint inhibitors targeting PD-1/PD-L1 pathway demonstrated promising activities in variety of malignancies, however little is known regarding their efficacy in adults aged ≥65\\xa0years.', attributes={'Label': 'BACKGROUND'}),\n",
              " StringElement('We performed a meta-analysis to compare the efficacy of definitive chemoradiotherapy (dCRT) and esophagectomy as initial treatments for potentially resectable esophageal cancer.', attributes={'Label': 'BACKGROUND', 'NlmCategory': 'BACKGROUND'}),\n",
              " StringElement('Several previous studies have confirmed that thrombocytosis was related to reduced survival in many solid tumors. However, the prognostic significance of thrombocytosis in endometrial carcinoma (EC) was still controversy. Therefore, we conducted this study to assess the prognostic value of thrombocytosis in EC.', attributes={'Label': 'BACKGROUND', 'NlmCategory': 'BACKGROUND'}),\n",
              " StringElement('Despite a considerable amount of epidemiological research for identification of risk factors involved in the development of colorectal cancer, the current understanding of the etiology of this disease remains rather poor. Accumulating evidence suggests a potentially important role of infection with Fusobacterium nucleatum in the colon in colorectal carcinogenesis. The objective of this systematic review is to synthesize the epidemiological evidence on the association between infection with Fusobacterium nucleatum in the colon and colorectal cancer.', attributes={'Label': 'BACKGROUND'}),\n",
              " StringElement('The abnormal expression of Beclin-1 has recently been investigated in a variety of tumors. However, previous studies have obtained contradicting results regarding the clinical and prognostic value of Beclin-1 in hepatocellular carcinoma (HCC). We performed a meta-analysis to clarify the prognostic value of Beclin-1 and its correlations with clinical pathological parameters in HCC.', attributes={'Label': 'BACKGROUND', 'NlmCategory': 'BACKGROUND'}),\n",
              " StringElement('Kidney renal clear cell carcinoma (KIRC) is a major pathological type of renal cell carcinoma (RCC), and the prognosis of advanced KIRC patients is often unsatisfactory. Some lysine oxidase (LOX) family genes have been proven to be upregulated in some malignancies and play pivotal roles in the carcinogenesis. However, their roles in KIRC remain unclear.', attributes={'Label': 'BACKGROUNDS'}),\n",
              " StringElement('The study objective was to assess the influence of neutropenia on outcome of critically ill cancer patients by meta-analysis of individual data. Secondary objectives were to assess the influence of neutropenia on outcome of critically ill patients in prespecified subgroups (according to underlying tumor, period of admission, need for mechanical ventilation and use of granulocyte colony stimulating factor (G-CSF)).', attributes={'Label': 'BACKGROUND'}),\n",
              " \"Selecting differentially expressed genes (DEGs) based on integrated bioinformatics analyses has been used in previous studies to explore potential biomarkers in gastric cancer (GC) with microarray and RNA sequencing data. However, the genes obtained may be inaccurate because of noisy data and errors, as well as insufficient clinical sample sizes. Thus, we aimed to find robust and strong DEGs with prognostic value for GC, where the robust rank aggregation method was employed to select significant DEGs from eight Gene Expression Omnibus data sets with a total of 140 up-regulated and 206 down-regulated genes. Network data mining was then used to screen hub genes, and 11 genes were filtered using Fisher's exact test. Based on these results, we built a prognostic signature with seven genes (FBN1, MMP1, PLAU, SPARC, COL1A2, COL2A1 and ATP4A) using stepwise multivariate Cox proportional hazard regression. According to the risk score for each patient, we found that high-risk group patients had significantly worse survival results compared with those in the low-risk group (log-rank test P-value\\xa0<\\xa00.001). This seven-gene signature was then validated with an external data set. Thus, we established a signature based on seven DEGs with prognostic value for GC patients using multi-steps bioinformatics methods, which may provide novel insights and potential biomarkers for prognosis, as well as possibly serving as new therapeutic targets in clinical applications.\",\n",
              " StringElement('Evidence of the association of coal mining with health outcomes such as increased mortality and morbidity in the general population has been provided by epidemiological studies in the last 25\\xa0years. Given the diverse sources of data included to investigate different health outcomes in the exposed populations, the International Classification of Diseases (ICD) can be used as a single classification standard to compare the findings of studies conducted in different socioeconomic and geographic contexts. The ICD classifies diagnoses of diseases and other disorders as codes organized by categories and chapters.', attributes={'Label': 'BACKGROUND'}),\n",
              " StringElement('Currently, the major treatment modalities of advanced melanoma are immune check point and mitogen-activated protein kinase (MAPK) pathway inhibitors. As lacking head-to-head randomizedcontrolled trials (RCTs) comparing immune check point and MAPK pathway inhibitors, we evaluated the efficacy and toxicity with different treatment combinations of immune check point or MAPK pathway inhibitors for advanced melanoma by network meta-analysis.', attributes={'Label': 'BACKGROUND', 'NlmCategory': 'BACKGROUND'}),\n",
              " StringElement('This meta-analysis sought to evaluate the potential benefits and harms of laparoscopic gastrectomy with D2 lymphadenectomy for locally advanced gastric cancer versus open surgery.', attributes={'Label': 'BACKGROUND', 'NlmCategory': 'BACKGROUND'}),\n",
              " 'Pembrolizumab monotherapy has become the preferred treatment for patients with advanced non-small cell lung carcinoma (NSCLC) and a programmed cell death-ligand 1 (PD-L1) tumor proportion score (TPS) of at least 50%. However, little is known about the value of adding chemotherapy to pembrolizumab in this setting. Therefore, we performed an indirect comparison for pembrolizumab plus chemotherapy versus pembrolizumab, using the frequentist methods. The primary outcomes were overall survival (OS), progression-free survival (PFS) and objective response rate (ORR). Data were retrieved from randomized trials comparing pembrolizumab plus chemotherapy or pembrolizumab monotherapy against chemotherapy. Five trials involving 1289 patients were included. Direct meta-analysis showed that both pembrolizumab plus chemotherapy (ORR: relative risk (RR) 2.16; PFS: hazard ratio (HR) 0.36; OS: HR 0.51) and pembrolizumab alone (ORR: RR 1.33; PFS: HR, 0.65; OS: HR 0.67) improved clinical outcomes compared with chemotherapy. Indirect comparison showed that pembrolizumab plus chemotherapy was superior to pembrolizumab alone, in terms of ORR (RR 1.62, 1.18-2.23) and PFS (HR 0.55, 0.32-0.97). A trend towards improved OS was also observed (HR 0.76, 0.51-1.14). In conclusion, the addition of chemotherapy to pembrolizumab further improves the outcomes of patients with advanced NSCLC and a PD-L1 TPS of at least 50%.',\n",
              " StringElement('As the efficacy of radiotherapy and chemotherapy for treatment of phyllodes tumors (PTs) remains unclear, this study aimed to review all available data and evaluate the roles of radiotherapy and chemotherapy in PT treatment.', attributes={'Label': 'BACKGROUND', 'NlmCategory': 'BACKGROUND'}),\n",
              " StringElement('Alternative lengthening of telomeres (ALT) is a telomerase-independent mechanism used by a broad range of neoplasms to maintain telomere length, permitting uncontrolled replication during their progression. ALT has been described in different types of sarcoma, but a comprehensive analysis of its clinical significance is still lacking. Therefore, we provide here the first meta-analysis on this topic.', attributes={'Label': 'BACKGROUND', 'NlmCategory': 'BACKGROUND'}),\n",
              " StringElement('Osimertinib, the third-generation epidermal growth factor receptor-tyrosine kinase inhibitor (EGFR-TKI), has become the standard treatment in cases where rebiopsy reveals T790M mutation after the first-line EGFR-TKI treatment. However, the prognosis of patients after rebiopsy, the most important outcome for cancer patients, has not been described sufficiently. This systematic review aimed to clarify whether rebiopsy contributes to improved prognosis in the first- or second-generation EGFR-TKI refractory patients.', attributes={'Label': 'BACKGROUND', 'NlmCategory': 'BACKGROUND'}),\n",
              " StringElement('It remains unknown which is the most preferable regimen used concurrently with thoracic radiation for locally advanced non-small cell lung cancer (NSCLC). We performed a network meta-analysis to address this important issue.', attributes={'Label': 'BACKGROUND', 'NlmCategory': 'BACKGROUND'}),\n",
              " StringElement('Anastomotic leakage (0-30%) after esophagectomy is a severe complication and is associated with considerable morbidity and mortality. The aim of this study was to determine which treatment for anastomotic leakage after esophagectomy have the best clinical outcome, based on the currently available literature.', attributes={'Label': 'BACKGROUND'}),\n",
              " StringElement('In the long term, smoking cessation can decrease the risk of cancer, stroke, and heart attacks and improve overall survival. The aim of the proposed umbrella review is to summarize existing systematic reviews that assessed the effects of pharmacological interventions for smoking cessation and to evaluate the methodological quality of previously conducted systematic reviews.', attributes={'Label': 'BACKGROUND'}),\n",
              " StringElement('Acute myeloid leukaemia is the most common type of acute leukaemia in the world. Thus, the study of genetic alterations, such as single-nucleotide polymorphisms (SNPs), has contributed to a better understanding of the mechanisms underlying leukaemogenesis, to improve the prognosis and to increase the survival of these patients. However, there is no synthesis of evidence in the literature evaluating the quality of evidence and the risk of bias in the studies such that the results can be translated. Thus, this systematic review protocol aims to assess the impact of SNPs on genes involved in the metabolism of cytarabine and anthracyclines with respect to survival, treatment response and toxicity in patients with AML.', attributes={'Label': 'INTRODUCTION'}),\n",
              " StringElement('The impact of tumor size on prognosis for surgically treated patients with pancreatic ductal adenocarcinoma (PDAC) remains controversial. A systematic review and meta-analysis was performed to evaluate this issue.', attributes={'Label': 'BACKGROUND', 'NlmCategory': 'BACKGROUND'}),\n",
              " StringElement('The Cancer of the Prostate Risk Assessment (CAPRA) score was designed and validated several times to predict the biochemical recurrence-free survival after a radical prostatectomy. Our objectives were, first, to study the clinical validity of the CAPRA score, and, second, to assess its clinical utility for stratified medicine from an original patient-centered approach.', attributes={'Label': 'BACKGROUND'}),\n",
              " StringElement('Previous studies have highlighted cytokine growth differentiation factor 15 (GDF-15) as a potential biomarker for digestive system tumors (DST). This study sought to assess the feasibility of using GDF-15 as a diagnostic and prognostic biomarker in DST.', attributes={'Label': 'BACKGROUND', 'NlmCategory': 'BACKGROUND'}),\n",
              " StringElement('Overall survival is the true endpoint for most randomized controlled trials (RCTs) of malignant tumors, whereas progression-free survival (PFS) is considered the most reliable surrogate endpoint for overall survival (OS). The present study aimed to evaluate the correlation between surrogate endpoints and OS in randomized trials of first-line chemotherapy with doxorubicin (DOX), the standard treatment for advanced and metastatic soft tissue sarcomas (ASTS), using a meta-analytic approach.', attributes={'Label': 'BACKGROUND', 'NlmCategory': 'BACKGROUND'}),\n",
              " StringElement('The prognostic role of neutrophil-to-lymphocyte ratio (NLR) has been proposed in head and neck squamous cell carcinoma (HNSCC). However, it is currently unclear which cutoff values of NLR could consistently and independently differentiate HNSCC patients to better and worse prognosis groups.', attributes={'Label': 'BACKGROUND', 'NlmCategory': 'BACKGROUND'}),\n",
              " StringElement('Many observational studies have reported correlations between postoperative complications and prognosis after radical gastrectomy but the results are controversial. This meta-analysis was performed to investigate whether there is a correlation between postoperative complications and prognosis after radical gastrectomy.', attributes={'Label': 'BACKGROUND', 'NlmCategory': 'BACKGROUND'}),\n",
              " StringElement('0.17-2% of mature cystic teratoma of the ovary (MCTO) undergo malignant transformation, of which 80% are squamous cell carcinoma (SCC) transformation in MCTO. We aim to investigate the clinical characteristics and treatment of SCC transformation in MCTO METHODS: We systematically searched PubMed database and individual patient data about SCC transformation in MCTO were extracted. The published cases were combined with 6 cases of SCC transformation in MCTO from Qilu Hospital, Shandong University.', attributes={'Label': 'BACKGROUND', 'NlmCategory': 'BACKGROUND'}),\n",
              " StringElement('Few studies have focused on quality of life (QoL) after treatment of malignant pleural mesothelioma (MPM). There are still questions as to which surgical procedure, extrapleural pneumonectomy (EPP) or pleurectomy decortication (P/D) is most effective and results in better survival outcomes, involves fewer complications, and results in better QoL. Here we performed a literature review on MPM patients to assess and compare QoL changes after P/D and EPP.', attributes={'Label': 'BACKGROUND', 'NlmCategory': 'BACKGROUND'}),\n",
              " StringElement('The efficacy of bevacizumab combined with erlotinib (B\\u2009+\\u2009E) for the treatment of advanced hepatocellular carcinoma, especially for sorafenib-refractory patients, has been observed and evaluated in several trials. We conducted this single arm meta-analysis to generally assess the benefit and risk with B\\u2009+\\u2009E for advanced hepatocellular carcinoma.', attributes={'Label': 'BACKGROUND', 'NlmCategory': 'BACKGROUND'}),\n",
              " \"Breast cancer (BC) has been identified as the leading malignancy in women worldwide. However, the potential molecular mechanism of microRNA (miR)‑203a‑3p in BC remains to be elucidated. The present study evaluated the expression of miR‑203a‑3p in BC and adjacent normal tissue in several publically available datasets. The distinguishability of precursor miR‑203a and miR‑203a‑3p in BC tissue and adjacent breast tissue was assessed using receiver operating characteristic (ROC) and summarized ROC (sROC) approaches. In addition, gene ontology (GO) enrichment, Kyoto Encyclopedia of Genes and Genomes pathway analysis and protein‑protein interaction analysis were performed to determine the potential molecular mechanism of miR‑203a‑3p in BC. It was identified that the expression of precursor miR‑203a was markedly upregulated in 1,077\\xa0BC tissue samples compared to 104\\xa0adjacent breast tissue samples from The Cancer Genome Atlas. Additionally, an increasing trend in miR‑203a‑3p expression was observed in 756\\xa0BC tissue samples compared with 76 adjacent breast tissue samples from the University of California Santa Cruz Xena project. In addition, a comprehensive meta‑analysis suggested that the expression of miR‑203a‑3p was markedly increased in 2,444 BC tissue samples compared with 559\\xa0adjacent breast tissue samples. The area under the curve of the ROC and sROC revealed that miR‑203a‑3p expression was able to distinguish between BC tissue and adjacent breast tissue. However, miR‑203a‑3p exhibited no prognostic value in BC. The results of GO enrichment demonstrated that the miR‑203a target genes were associated with 'plasma membrane integrity', 'cell surface receptor linked signal and transduction' and '3',5'‑cyclic nucleotide phosphodiesterase activity'. 'Purine metabolism' was identified as the pathway with the most enrichment of miR‑203a‑3p target genes in BC. The present study also identified insulin‑like growth factor receptor (IGF1) as a hub gene associated with miR‑203a in BC. In summary, miR‑203a‑3p may enhance the development and oncogenesis of BC, and IGF1 was defined as a hub gene of miR‑203a‑3p in BC.\",\n",
              " StringElement('A first-line biologic treatment for metastatic colorectal cancer (mCRC) is still controversial. We, therefore, performed a meta-analysis to determine the efficacy of first-line cetuximab versus bevacizumab for RAS and BRAF wild-type mCRC.', attributes={'Label': 'BACKGROUND', 'NlmCategory': 'BACKGROUND'}),\n",
              " StringElement('Chimeric antigen receptor T (CAR T) cells immunotherapy is rapidly developed in treating cancers, especially relapsed or refractory B-cell malignancies.', attributes={'Label': 'BACKGROUND', 'NlmCategory': 'BACKGROUND'}),\n",
              " StringElement('The first-generation epidermal growth factor receptor tyrosine kinase inhibitors gefitinib and erlotinib have both been proven effective for treating advanced non-small cell lung cancer (NSCLC), especially in East Asian patients. We conducted this meta-analysis to compare their efficacy and safety in treating advanced NSCLC in this population.', attributes={'Label': 'BACKGROUND', 'NlmCategory': 'BACKGROUND'}),\n",
              " StringElement('This meta-analysis was performed to explore the impact of minimal residual disease (MRD) prior to transplantation on the prognosis for patients with acute lymphoblastic leukemia (ALL).', attributes={'Label': 'BACKGROUND', 'NlmCategory': 'BACKGROUND'}),\n",
              " StringElement('Programmed cell death receptor 1 ligand 1 (PD-L1) expression in various tumors, including hematologic malignancies, has recently become a research topic of great interest. We performed a meta-analysis to evaluate the prognostic and clinicopathological value of PD-L1 expressed in tumor cells of patients with diffuse large B-cell lymphoma (DLBCL).', attributes={'Label': 'BACKGROUND', 'NlmCategory': 'BACKGROUND'}),\n",
              " StringElement('Immune-checkpoint inhibitors plus chemotherapy are emerging as effective first-line treatment in advanced non-small-cell lung carcinoma (NSCLC), but little is known about the magnitude of benefits and potential clinical predictors.', attributes={'Label': 'BACKGROUND'}),\n",
              " StringElement('Recently, many studies have shown the role of hypoxia-inducible factor-1α (HIF-1α) expression in the outcome of bone tumor. However, the results remain inconclusive. It is necessary to carry out a meta-analysis of all the current available data to clarify the relationship between HIF-1α and survival or clinicopathological features of bone tumor.', attributes={'Label': 'BACKGROUND', 'NlmCategory': 'BACKGROUND'}),\n",
              " StringElement('The association between performance status (PS) and the prognosis of metastatic renal cell carcinoma (mRCC) patients receiving tyrosine kinase inhibitors (TKIs) remains controversial. The aim of this study is to evaluate the prognostic value of PS in mRCC patients treated with TKIs.', attributes={'Label': 'BACKGROUND', 'NlmCategory': 'BACKGROUND'}),\n",
              " 'Clear cell renal cell carcinoma (ccRCC) was the most aggressive histological type of renal cell carcinoma (RCC) and accounted for 70-80% of cases of all RCC. The aim of this study was to identify the potential biomarker in ccRCC and explore their underlying mechanisms. Four profile datasets were downloaded from the GEO database to identify DEGs. GO and KEGG analysis of DEGs were performed by DAVID. A protein-protein interaction (PPI) network was constructed to predict hub genes. The hub gene expression within ccRCC across multiple datasets and the overall survival analysis were investigated utilizing the Oncomine Platform and UALCAN dataset, separately. A meta-analysis was performed to explore the relationship between the hub genes: EGFR and ccRCC. 127 DEGs (55 upregulated genes and 72 downregulated genes) were identified from four profile datasets. Integrating the result from PPI network, Oncomine Platform, and survival analysis, EGFR, FLT1, and EDN1 were screened as key factors in the prognosis of ccRCC. GO and KEGG analysis revealed that 127 DEGs were mainly enriched in 21 terms and 4 pathways. The meta-analysis showed that there was a significant difference of EGFR expression between ccRCC tissues and normal tissues, and the expression of EGFR in patients with metastasis was higher. This study identified 3 importance genes (EGFR, FLT1, and EDN1) in ccRCC, and EGFR may be a potential prognostic biomarker and novel therapeutic target for ccRCC, especially patients with metastasis.',\n",
              " StringElement('To compare the efficacy of ipsilateral lower neck sparing irradiation (ILNSI) versus ipsilateral lower neck prophylactic irradiation (ILNPI) for unilateral or bilateral neck node-negative nasopharyngeal cancer (NPC).', attributes={'Label': 'BACKGROUND', 'NlmCategory': 'BACKGROUND'}),\n",
              " StringElement('Outpatient autologous stem cell transplantations (ASCTs) in multiple myeloma and lymphoma patients have been shown to reduce the overall costs and improve the quality of life relative to inpatient ASCTs. This systematic review and meta-analysis was performed with the aim of comprehensively comparing the risk of febrile neutropenia developing in ASCT outpatients and inpatients who have multiple myeloma or lymphoma.', attributes={'Label': 'BACKGROUND', 'NlmCategory': 'BACKGROUND'}),\n",
              " StringElement('The impact of Tet oncogene family member 2 (TET2) mutations on the prognosis of acute myeloid leukemia (AML) is still controversial. A meta analysis is needed in order to assess the prognostic significance of TET2 mutation in AML.', attributes={'Label': 'BACKGROUND', 'NlmCategory': 'BACKGROUND'}),\n",
              " StringElement('Graphic health warnings on tobacco packaging and the plain packaging of tobacco products are key tobacco control interventions. This systematic review investigates the perceptions of adolescents towards these packaging interventions.', attributes={'Label': 'BACKGROUND'}),\n",
              " StringElement('Evidence from diverse areas of medicine (e.g., cardiovascular disease, diabetes) indicates that healthcare providers (HCPs) often do not adhere to clinical practice guidelines (CPGs) despite a clear indication to implement recommendations-a phenomenon commonly termed clinical inertia. There are a variety of reasons for clinical inertia, but HCP-related factors (e.g., knowledge, motivation, agreement with guidelines) are the most salient and amenable to intervention aimed to improve adherence. CPGs have been developed to support the safe and effective prescription of opioid medication for the management of chronic non-cancer pain. The extent of physician uptake and adherence to such guidelines is not yet well understood. The purpose of this review is to synthesize the published evidence about knowledge, attitudes, beliefs, and practices that HCPs hold regarding the prescription of opioids for chronic non-cancer pain.', attributes={'Label': 'BACKGROUND'}),\n",
              " StringElement('Prolonged sitting is associated with increased risks of cardiovascular disease, Type 2 diabetes, some cancers, musculoskeletal disorders and premature mortality. Workplaces contribute to a large proportion of daily sitting time, particularly among office-based workers. Interventions to reduce workplace sitting therefore represent important public health initiatives. Previous systematic reviews suggest such interventions can be effective but have reported wide variations. Further, there is uncertainty as to whether effectiveness in controlled trials can be replicated when implemented outside the research setting. The aims of this review are to identify factors important for the implementation of workplace sitting interventions and to translate these findings into a useful operational framework to support the future implementation of such interventions.', attributes={'Label': 'BACKGROUND'}),\n",
              " StringElement('Whether goal-directed fluid therapy based on dynamic predictors of fluid responsiveness (GDFTdyn) alone improves clinical outcomes in comparison with standard fluid therapy among patients undergoing surgery remains unclear.', attributes={'Label': 'BACKGROUND', 'NlmCategory': 'BACKGROUND'}),\n",
              " StringElement('Recommendations for improved survival after cancer through physical activity (PA) exist, although the evidence is still emerging. Our primary objective was to conduct a systematic review and meta-analysis of the association between prediagnosis and postdiagnosis PA and survival (cancer-specific, all-cause, and cardiovascular disease mortality) for all cancers and by tumor site. Secondary objectives were to examine the associations within population subgroups, by PA domain, and to determine the optimal dose of PA related to survival.', attributes={'Label': 'BACKGROUND', 'NlmCategory': 'BACKGROUND'}),\n",
              " StringElement('The effectiveness of screening for colorectal cancer (CRC) by sex and age in randomized trials is uncertain.', attributes={'Label': 'BACKGROUND'})]"
            ]
          },
          "metadata": {},
          "execution_count": 4
        }
      ]
    },
    {
      "cell_type": "code",
      "source": [
        "print(len(abstract))\n",
        "print(noma)\n",
        "print(n)"
      ],
      "metadata": {
        "colab": {
          "base_uri": "https://localhost:8080/"
        },
        "id": "tceMTQp8IVzv",
        "outputId": "31dac213-71ec-455e-9cb4-18d6d7188c6d"
      },
      "execution_count": 5,
      "outputs": [
        {
          "output_type": "stream",
          "name": "stdout",
          "text": [
            "129\n",
            "0\n",
            "129\n"
          ]
        },
        {
          "output_type": "stream",
          "name": "stderr",
          "text": [
            "/usr/local/lib/python3.9/dist-packages/ipykernel/ipkernel.py:283: DeprecationWarning: `should_run_async` will not call `transform_cell` automatically in the future. Please pass the result to `transformed_cell` argument and any exception that happen during thetransform in `preprocessing_exc_tuple` in IPython 7.17 and above.\n",
            "  and should_run_async(code)\n"
          ]
        }
      ]
    },
    {
      "cell_type": "code",
      "source": [
        "with open(\"stopwords.txt\", \"r\") as f:\n",
        "    sw = f.read().split()\n",
        "    \n",
        "for w in range(0,len(sw)):\n",
        "  sw[w]=sw[w].strip()"
      ],
      "metadata": {
        "id": "q_ybEV1WIVxx",
        "colab": {
          "base_uri": "https://localhost:8080/"
        },
        "outputId": "572c023c-120c-4e82-dad6-10495ebdd5ec"
      },
      "execution_count": 6,
      "outputs": [
        {
          "output_type": "stream",
          "name": "stderr",
          "text": [
            "/usr/local/lib/python3.9/dist-packages/ipykernel/ipkernel.py:283: DeprecationWarning: `should_run_async` will not call `transform_cell` automatically in the future. Please pass the result to `transformed_cell` argument and any exception that happen during thetransform in `preprocessing_exc_tuple` in IPython 7.17 and above.\n",
            "  and should_run_async(code)\n"
          ]
        }
      ]
    },
    {
      "cell_type": "code",
      "source": [
        "abstract_=abstract.copy()\n",
        "# abstract_"
      ],
      "metadata": {
        "id": "JVKO85NOIVv2",
        "colab": {
          "base_uri": "https://localhost:8080/"
        },
        "outputId": "65dbe596-9d89-4bd3-aad1-f64405b11e7a"
      },
      "execution_count": 7,
      "outputs": [
        {
          "output_type": "stream",
          "name": "stderr",
          "text": [
            "/usr/local/lib/python3.9/dist-packages/ipykernel/ipkernel.py:283: DeprecationWarning: `should_run_async` will not call `transform_cell` automatically in the future. Please pass the result to `transformed_cell` argument and any exception that happen during thetransform in `preprocessing_exc_tuple` in IPython 7.17 and above.\n",
            "  and should_run_async(code)\n"
          ]
        }
      ]
    },
    {
      "cell_type": "code",
      "source": [
        "import re\n",
        "import pandas as pd\n",
        "from nltk.tokenize import word_tokenize\n",
        "\n",
        "def lemmatize_and_remove_stopwords(sentence,ssww):\n",
        "\n",
        "  lemmat=WordNetLemmatizer()\n",
        "\n",
        "  stopWords = nltk.corpus.stopwords.words('english')\n",
        "  extra = ssww\n",
        "  stopWords.extend(extra)\n",
        "\n",
        "  filtered_list = []\n",
        "  stop_words = stopWords\n",
        "  words = word_tokenize(sentence)\n",
        "  for w in words:\n",
        "      if w.lower() not in stop_words:\n",
        "          filtered_list.append(lemmat.lemmatize(w))         \n",
        "\n",
        "  return \" \".join(filtered_list)\n",
        "\n",
        "for x in range(0,len(abstract_)):\n",
        "  abstract_[x]=re.sub(r'\\b[A-Z]+[0-9]*s?\\b','', abstract_[x])\n",
        "  abstract_[x]=re.sub(r'[\\(\\[].*?[\\)\\]]','', abstract_[x])\n",
        "  abstract_[x]=abstract_[x].lower()\n",
        "  abstract_[x]=re.sub(r'attributes=.*}','',abstract_[x])\n",
        "  abstract_[x]=re.sub(r'StringElement','',abstract_[x])\n",
        "  abstract_[x]=re.sub(r'\\(.{0,5}\\)','',abstract_[x])\n",
        "  abstract_[x]=re.sub(r'[^\\w\\s]','',abstract_[x])\n",
        "  abstract_[x]=re.sub(r'[0-9]',' ',abstract_[x])\n",
        "  abstract_[x]=re.sub(r'(\\\\b[A-Za-z] \\\\b|\\\\b [A-Za-z]\\\\b)', '', abstract_[x])\n",
        "  # abstract_[x]=re.sub(r'[a-z]+[^\\w]+',' ',abstract_[x])\n",
        "  abstract_[x]=re.sub(r'\\xa0.*',' ',abstract_[x])\n",
        "  abstract_[x]=lemmatize_and_remove_stopwords(abstract_[x],sw)"
      ],
      "metadata": {
        "id": "iiKnBBRGIVtf",
        "colab": {
          "base_uri": "https://localhost:8080/"
        },
        "outputId": "89b24bd7-ddc2-4991-e479-fea1acfe89cd"
      },
      "execution_count": 8,
      "outputs": [
        {
          "output_type": "stream",
          "name": "stderr",
          "text": [
            "/usr/local/lib/python3.9/dist-packages/ipykernel/ipkernel.py:283: DeprecationWarning: `should_run_async` will not call `transform_cell` automatically in the future. Please pass the result to `transformed_cell` argument and any exception that happen during thetransform in `preprocessing_exc_tuple` in IPython 7.17 and above.\n",
            "  and should_run_async(code)\n"
          ]
        }
      ]
    },
    {
      "cell_type": "code",
      "source": [
        "abstract_"
      ],
      "metadata": {
        "colab": {
          "base_uri": "https://localhost:8080/"
        },
        "id": "OEm6-_ajIVrD",
        "outputId": "4da1a633-d781-42ca-fbd0-462c3dd1c07e"
      },
      "execution_count": 9,
      "outputs": [
        {
          "output_type": "stream",
          "name": "stderr",
          "text": [
            "/usr/local/lib/python3.9/dist-packages/ipykernel/ipkernel.py:283: DeprecationWarning: `should_run_async` will not call `transform_cell` automatically in the future. Please pass the result to `transformed_cell` argument and any exception that happen during thetransform in `preprocessing_exc_tuple` in IPython 7.17 and above.\n",
            "  and should_run_async(code)\n"
          ]
        },
        {
          "output_type": "execute_result",
          "data": {
            "text/plain": [
              "['breast common woman worldwide great diversity outcome individual patient ability accurately predict breast important patient researcher policy maker model developed tested setting systematically reviewed prognostic model developed validated patient breast',\n",
              " 'neuroendocrine carcinoma cervix rare variant cervical prognosis woman poor standardized therapy malignancy based controlled trial',\n",
              " 'gastric leading cause cancerrelated death considerable heterogeneity patient classification essential prognosis prediction individualized immunotherapy potential efficacy portion patient gastric study tried classify gastric specifically based immune signature established subtype cluster low medium high enrichment immune signature based immunogenomic profiling validated classification multiple independent datasets subsub subtype exhibited prognosis feature hot tumor low tumor purity high stromal component overexpression immune checkpoint molecule enriched tumorinfiltrated immune cell addition subsub tumor characterized frequent iarid ai mutation rare mutation hypermethylation status altered protein gene set variation analysis tgfβ signaling pathway junction enriched subsub tumor inversely correlated supsup supsup infiltration note subsub patient higher response immunotherapy prolonged progressionfree subsub subsub patient microsatelliteindependent manner immune signaturebased subtypes potential therapeutic prognostic implication gastric management especially immunotherapy',\n",
              " 'altered lipid metabolism emerging hallmark aggressive breast myc downstream regulated gene gene play critical peripheral nervous system myelination inactivating mutation cause severe demyelinating neuropathy breast elevated linked outcome functional breast physiology remained unclear',\n",
              " 'prognostic clinicopathological significance class homeobox disputable heretofore diagnostic functional mechanism pou liver hepatocellular carcinoma studied',\n",
              " 'accumulating suggested development systemic lupus erythematosus patient result remain inconsistent examine putative association analysis report association risk type',\n",
              " 'latest global show breast replaced lung world searching biomarkers breast important significance early prediction prognosis targeted therapy microrna molecular early prognosis tumor mirna breast prognosis clear conducted clarify relationship mirna breast prognosis time carried bioinformatics analysis analyze molecular mechanism mirna potential indicator prognosis patient',\n",
              " 'dosedense chemotherapy widely accepted regimen highrisk breast patient conflicting benefit pure dosedense chemotherapy reported controlled trial ass efficacy safety pure dosedense chemotherapy breast',\n",
              " 'identifying effective firstline metastatic renal carcinoma challenging rapidly evolving quickly outdate existing evidence current approach presenting evidence userfriendly format fraught limitation',\n",
              " 'purpose comprehensive ass association aldehyde dehydrogenase diseasefree progressionfree ovarian patient',\n",
              " 'study reported prognostic haemoglobin prognostic impact decreased pretreatment haemoglobin patient lung remains controversial conducted investigate decreased haemoglobin significant predictor patient lung',\n",
              " 'high efficacy protection severe demonstrated cov vaccine patient compromised immune status develop weaker stable immune response vaccination strong immune response translate benefit important synthesise evidence modified scheme type vaccination',\n",
              " 'estimate woman early staged breast based stratification prognostic category defined using nottingham prognostic index identify summarize estimated statistic separate extent betweenstudy heterogeneity estimate',\n",
              " 'siwutang prestigious herbal formula china extensively century femalerelated documented significant inhibitory effect nontriplenegative breast cell limited comprehensive analysis targeted effect anticancer component exact biological mechanism',\n",
              " 'textbook multidimensional measure reflecting ideal surgery benchmarking tool objective overview quality uniform definition hepatopancreatobiliary surgery missing definition surgery identify obstacle predictor achieving',\n",
              " 'using implant retain prosthesis part oral rehabilitation head neck patient increasingly common modality transported bone reconstruct defect following oncological surgical resection evaluate dental implant placed autogenous bone graft flap head neck patient science direct database study evaluating intraoral implant placement autogenous bone graft flap patient twenty article reporting implant placed autogenous bone head neck patient implant varied study study reporting implant intraoral implant autogenous bone graft head neck oncology patient promising inconsistency reporting definition precludes formal',\n",
              " 'prognostic effect elevated systemic inflammatory marker neutrophillymphocyte plateletlymphocyte remains controversial patient conducted evaluate predictive value marker prognosis ovarian patient',\n",
              " 'lung remains leading cause worldwide screening trial early detection lung exist using chest ray lowdose computed tomography known sociodemographic characteristic participant lung screening program gender socioeconomic determinant important variable consider successful implementation aim characterize participant program investigate difference representation exist across screening program method identify study search undertaken locate study published assessing sociodemographic profile participant lung screening program search developed refined implemented search online database reference retrieved eligible result highlight difference gender social characteristic participant across program noting difference partly explained epidemiological context inclusion criterion socioeconomic status measure collected importantly wellrecognized predominance low heavy smoker people high seemingly overrepresented participant male participant overrepresented finding important help inform development implementation process future lung screening program include strategy engaging woman individual low course lung',\n",
              " 'recent japanese suggested prophylactic cranial irradiation failed improve extensivestage smallcell lung previous study beneficial reducing extensivestage evaluate impact patient extensivestage',\n",
              " 'therapy advanced licenced concluded half evidence quality life benefit recent year witnessed growing licensed secondline pharmacotherapies advancedmetastatic nonsmall lung gauging benefit conducted randomised controlled trial outcome licensed patient advancedmetastatic',\n",
              " 'atlas estimate across small area recent example atlas australian atlas interactive map visualise spatially smoothed estimate type small area across australia',\n",
              " 'increasing evidence cetuximab combined chemoradiotherapy effective patient esophageal recent result contradictory consensus reached issue evaluate effect safety conducted updated retrieving published',\n",
              " 'previous study suggested metformin preventing treating endometrial result inconsistent investigate association metformin prognosis patient',\n",
              " 'identify stem specific biomarkers effective candidate prognosticator oral squamous carcinoma',\n",
              " 'patient advanced gastric secondline chemotherapy regimen remains controversial efficacy safety irinotecancontaining doublet irinotecan monotherapy analysis',\n",
              " 'previous study prognostic yielded controversial result aim ass impact patient ovarian',\n",
              " 'perioperative transfusion reduce colorectal patient effect transfusion short longterm prognosis intriguing',\n",
              " 'tumor necrosis correlate adverse outcome numerous solid tumor prognostic renal carcinoma remains unclear performed evaluate association cancerspecific recurrencefree progressionfreesurvival',\n",
              " 'ideal ligation inferior mesenteric artery curative resection sigmoid colon rectal controversial examine impact high ligation low ligation anastomotic leakage postoperative oncological outcome patient undergoing surgery sigmoid colon rectal',\n",
              " 'prostate remains leading cause death caribbean men exists influence social factor prostate caribbean setting support rio political declaration addressing health inequality presenting evidence social determinant prostate caribbean men aim determine distribution known social determinant health frequency adverse outcome prostate caribbean population',\n",
              " 'explores map survivorship understand survivorship theoretically defined',\n",
              " 'leading cause world gastric common malignant tumor digestive system patient advanced poor prognosis recent year study displayed microrna promote proliferation infiltration metastasis resistance tumor cell molecular early prognosis tumor prognosis mirna gastric clear conducted clarify relationship mirna gastric prognosis addition bioinformatics analysis adopted analyze molecular mechanism mirna theoretical basis prognosis patient gastric',\n",
              " 'brain common metastasis nonsmallcell lung designed evaluate relationship mutational epidermal growth factor receptor patient brain metastasis',\n",
              " 'advent tyrosine kinase inhibitor adjuvant therapy revolutionized management emphasized need accurate prognostication system numerous prognostication system proposed present remains system superior present aim summarize current prognostication system treatmentnaive',\n",
              " 'important executor necroptosis pathway recent study demonstrated serve potential prognostic biomarker patient study reported far limited discrete sample size',\n",
              " 'bibackgroundib united state colorectal leading cause men woman combined united state preventive service task force recommends average adult regular screening detect prevent published screening guideline national screening rate remain suboptimal exponential increase technology ownership mobile health application developed improve health outcome great potential smartphone apps help improve screening uptake ultimate reducing date review examined publicly free apps screening quality content apps remain biobjectivesib purpose systematically smartphone apps improve screening uptake bimethodsib apps google play apple app store compatible smartphones reviewed apps reviewed inclusion criterion biresultsib apps inclusion criterion informational nature half apps focused colonoscopy discus screening option half apps include videoaudio content majority apps support biconclusionsib multiple free publicly apps encourage screening uptake promise paucity empirical evidence evaluating efficacy usability apps future effort evaluate content usability accessibility potential impact apps',\n",
              " 'pancreatic highly malignant tumor poor prognosis chemotherapy gemcitabine important gemcitabine prolong time delay development recurrent complete resection pancreatic currently control study performed gemcitabine monotherapy pancreatic surgery outcome uncertain implemented efficacy adjuvant gemcitabine monotherapy patient resected pancreatic',\n",
              " 'lynch syndrome common inherited syndrome predisposes individual principally colorectal endometrial early lynch syndrome enables colorectal surveillance shown save life detection removal premalignant polyp detection invasive endometrial sentinel woman opportunity lynch syndrome enable colorectal surveillance cascade lynch syndrome member potential benefit led call universal screening woman endometrial lynch syndrome practice commonplace colorectal healthcare provider clinician restricted insufficient prevalence lynch syndrome woman endometrial estimate varying widely perform current order estimate prevalence lynch syndrome woman endometrial inform discussion',\n",
              " 'epithelial ovarian severe health threat woman challenging screen early stage identification core gene play essential epithelial ovarian initiation progression vital importance',\n",
              " 'ageing principal factor chronic considerable betweenperson variation ageing individual difference susceptibility epigenetic mechanism play human ageing methylation age biomarkers predictor agerelated aim identify synthesise evidence association peripherally measured methylation age longevity agerelated',\n",
              " 'pancreatic ductal adenocarcinoma leading cause world fiveyear exist intratumoral heterogeneity pose great personalized',\n",
              " 'positive lymph station viewed subclassification category revision tumour metastasis staging curve patient overlapped patient category focused prognostic significance subclassifications patient',\n",
              " 'laparoscopic pancreaticoduodenectomy remains established safe effective alternative pancreaticoduodenectomy pancreatichead periampullary malignancy purpose malignancy shortterm surgical longterm outcome',\n",
              " 'prognosis adult hodgkin lymphoma patient excellent achieve permanent remission considered cured undertreated overtreated standard modern therapy accurate determination prognosis allow clinician design personalised according individual progression lymphocyte monocyte investigated prognostic biomarker patient objective prognostic adult investigating association outcome',\n",
              " 'oral systemic anticancer therapy increased led improved outcome small molecule targeted agent immunomodulators oral targeted associated toxicity reduced quality life nonadherence reduce treatmentrelated toxicity practice nonstandard dosing increasing guidance govern practice limited conducted identify evidence outcome nonstandard dosing oral oncology malignant haematology',\n",
              " 'investigate carcinogenesis effect transcription factor hepatocellular carcinoma gene omnibus genome atlas oncomine analysis conducted kaplanmeier plotter correlation clinicopathological feature performed enrichment interacted similar gene evaluated gene set enrichment analysis metascape found significantly upregulated tumor tissue nontumor tissue significantly overexpressed peripheral blood mononuclear patient healthy individual oncomine confirmed significantly higher tumor additionally elevation significantly correlated recurrencefree diseasespecific progressionfree patient significantly higher patient advanced neoplasm histologic grade american joint committee αfetoprotein elevation cox regression model demonstrated high independent factor patient enrichment analysis revealed gene interactedsimilar mainly enriched cycle pathwaysbiological process conclusively upregulated tumor accelerate tumor progression unfavorable outcome patient',\n",
              " 'triple negative breast associated aggressive course recurrence short mutated tumour represent status studied predictive biomarker response platinum agent predictive status uncertain setting heterogeneous important identify subset patient benefit platinumbased therapy aim establish presence germline mutation woman improves pathologic complete response neoadjuvant chemotherapy platinum compound',\n",
              " 'transarterial chemoembolization recommended hepatocellular carcinoma patient barcelona clinic liver sorafenib orally administered small molecule target updated systemic focus identifying efficacy combination sorafenib remains controversial year exploration',\n",
              " 'patient time obviously improved development systemic technique probability metastasis vertebra increased make adverse effect patient quality life prediction play key choosing therapeutic modality tokuhashi score established commonly predictive system spinal metastasis conducted identify prognostic effect factor involved revised tokuhashi score',\n",
              " 'myeloidderived suppressor cell heterogeneous population immature myeloid cell inhibiting innate adaptive immunity recent study validated caused immune suppression promoted progression mechanism prognostic remains controversial',\n",
              " 'originator trastuzumab antibodytargeted therapy treat patient human epidermal growth factor receptor positive early breast investigated advantage conferred addition chemotherapy patient advantage changed time',\n",
              " 'lymph dissection routinely performed radical nephroureterectomy upper tract urothelial carcinoma controversial investigate patient improved patient',\n",
              " 'lung typically early presentation detection lung critical improving clinically complicated robust screening method routine practice barrier helpseeking behaviour need considered document barrier early presentation lung based carer perspective',\n",
              " 'shared decisionmaking oncology requires individual prognosis comprises prognosis competing risk dying age comorbidities decision aid competing risk conducted overview prediction tool early breast developed pilottested decision addressing individual prognosis using additional chemotherapy early hormone receptorpositive breast example',\n",
              " 'prognostic ki colorectal patient controversial analysis conducted ascertain prognostic ki colorectal patient',\n",
              " 'debate regimen combining irinotecan platinum replace regimen combining etoposide platinum firstline chemotherapy extensivestage small lung performed regimen firstline chemotherapy',\n",
              " 'neurofibromatosis predisposing syndrome study woman year increased breast associated widely recognized secondary small population',\n",
              " 'currently study demonstrated polymorphism conduce development gene encodes activated protein kinase summitα play important metabolism performed enrolled eligible casecontrol study obtain precise correlation polymorphism susceptibility',\n",
              " 'checkpoint inhibitor revolutionized remains limited offtarget inflammatory immunerelated adverse event solid organ transplantation recipient trial owing concern alloimmunity organ rejection immunosuppressive therapy conducted retrospective evaluate safety patient prior',\n",
              " 'adjuvant radiotherapy advanced head neck squamous reduces localregional failure increase patient high tumor recurrence benefit aggressive altered fractionation schedule order reduce time surgery completion radiotherapy reviewed result trial addressing hypothesis',\n",
              " 'recent study reported relationship prognosis neutrophiltolymphocyte patient head neck result controversial conducted pretreatment peripheral blood prognosis patient',\n",
              " 'head neck form significant share incidence worldwide modality exist posttreatment recurrence rate recurrent patient continue high mirnas offer effective method estimating probability recurrence patient allowing effective rate',\n",
              " 'previous approach defining subtypes colorectal carcinoma based transcriptomes assumed existence discrete subtypes analyze gene pattern colorectal tumor large patient assumption propose approach identify potentially continuum subtypes present across independent study cohort',\n",
              " 'organ preserving surgery radiotherapy accepted option early supraglottic radiation supplanted surgery perception surgery result poorer functional outcome evidence suggests neck dissection associated improved objective conduct functional outcome early',\n",
              " 'highgrade nonmuscleinvasive bladder superficial nonetheless aggressive proper management selection following transurethral resection bladder preservation radical cystectomy delayed excessive selecting optimal modality remains controversial date',\n",
              " 'recently microrna reported influence feature prognostic human present assessed prognostic mir carcinoma',\n",
              " 'analyze prognostic factor ligand colorectal',\n",
              " 'reported ovarian prognostic ovarian carcinoma remained controversial performed ass prognostic ovarian',\n",
              " 'efficacy toxicity intensitymodulated radiotherapy threedimensional conformal radiotherapy conventional twodimensional radiotherapy definitive cervical',\n",
              " 'indepth investigation molecular immunologic property colorectal adenoma important understanding mechanism colorectal initiation development adenoma pathway performed gene colorectal sporadic conventional adenoma datasets enrichment level immune signature adenoma normal colon applied immunohistochemistry',\n",
              " 'lung rank leading cause cancerrelated death worldwide performed investigate eligible study determine prognostic effect ki',\n",
              " 'physical activity improve health wellbeing reduce recurrence achieve longterm benefit survivor habitually active evaluates effectiveness intervention supporting maintenance physical activity behaviour change adult explores intervention component contextual feature associated effectiveness',\n",
              " 'prominin considered biomarker stem cell biological unclear prominin associated prognostic controversial performed analysis examine prominins function prognostic marker human prominins assessed prognostic human determined using univariate multivariate analysis online platform selected prominent functional protein partner prominins proteinprotein interaction analysis subsequently investigated relationship mutation copy alteration prominin gene type identified gene correlated based level gene ontology pathway analysis performed ass effect correlated gene observed frequently overexpressed esophageal liver ovarian negatively associated prognosis overexpression associated poor lung ovarian based varying characteristic prominins conclude differentially modulates outcome',\n",
              " 'investigate reactive protein prognosis prostate',\n",
              " 'multiple myeloma plasma malignancy diverse phenotype molecular heterogeneity completely understood differentially expressed gene mirnas influence pathogenesis presentation sensitivity signature overlap meagrely plausibly complexity myeloma genome diversity cell studied molecular technology analytical tool utilized warrant investigation impact outcome guide personalized therapy conducted genomewide normal plasma cell derived unified putative signature found deranged signature deduced shared published prognostic signature mirs correlated outcome analysis identified topmost functionally connected hub gene transcription factor regulatory network determined seed biomarker application topmost regulated study warranted establish translate prognostic potential signature',\n",
              " 'nucleophosmin nonribosomal nucleolar phosphoprotein found primarily nucleolus nucleus play multiple important role tumor process accumulated previous study reported potential acted biomarker prognosis solid tumor result inconsistency performed precisely evaluate prognostic significance solid tumor',\n",
              " 'previous study suggested metabolic syndrome component linked development benign malignant study relationship metabolic syndrome diabetes liver article relationship mets cirrhosis acute hepatic failure endstage liver liver cirrhosis acute hepatic failure endstage liver liverrelated mortalitycollectively liverrelated event relationship mets undertook examine association mets determine geographic hepatitis virus positivity influence association',\n",
              " 'efficacy prophylactic cranial irradiation treating patient small lung clear recent study demonstrated conflicting result previously published finding purpose reevaluate efficacy patient ass factor associated efficacy',\n",
              " 'identify organise currently evidence systemic oncological best supportive patient advanced pancreatic',\n",
              " 'triple negative breast typically lack estrogen receptor progesterone receptor human epidermal growth factor receptor represents aggressive mortal subtype breast currently option absence molecular target underscore need novel therapeutic preventive approach recent evidence trial preclinical study demonstrated pivotal signal transducer activator transcription initiation progression metastasis immune evasion overexpressed constitutively activated cell contributes proliferation cycle progression antiapoptosis migration invasion angiogenesis chemoresistance immunosuppression stem cell selfrenewal differentiation regulating downstream target gene small molecule inhibitor developed shown excellent anticancer activity vitro vivo model discus recent advance understanding focus oncogenic current targeting strategy representative small molecule inhibitor highlighted propose potential strategy examined specific effective inhibitor prevention therapy',\n",
              " 'advanced metastatic nonsmall lung progressed firstline poor prognosis recent trial demonstrated benefit alternative docetaxel lacking patient benefit regimen optimal network secondline subgroup combination determined histology ligand epidermal growth factor receptor mutation',\n",
              " 'cardiac amyloidosis pertains cardiac involvement misfolded protein deposit tissue cause progressive organ damage vast majority caused chain amyloidosis transthyretin amyloidosis increased awareness led increment year',\n",
              " 'immune checkpoint inhibitor targeting pathway demonstrated promising activity variety malignancy known efficacy adult aged',\n",
              " 'performed efficacy definitive chemoradiotherapy esophagectomy initial potentially resectable esophageal',\n",
              " 'previous study confirmed thrombocytosis reduced solid tumor prognostic significance thrombocytosis endometrial carcinoma controversy conducted ass prognostic thrombocytosis',\n",
              " 'considerable amount epidemiological identification factor involved development colorectal current understanding etiology remains poor accumulating evidence suggests potentially important infection fusobacterium nucleatum colon colorectal carcinogenesis objective synthesize epidemiological evidence association infection fusobacterium nucleatum colon colorectal',\n",
              " 'abnormal beclin recently investigated variety tumor previous study obtained contradicting result prognostic beclin hepatocellular carcinoma performed clarify prognostic beclin correlation pathological parameter',\n",
              " 'kidney renal clear carcinoma major pathological renal carcinoma prognosis advanced patient unsatisfactory lysine oxidase gene proven upregulated malignancy play pivotal role carcinogenesis role remain unclear',\n",
              " 'objective ass influence neutropenia critically ill patient individual secondary objective ass influence neutropenia critically ill patient prespecified subgroup',\n",
              " 'selecting differentially expressed gene based integrated bioinformatics analysis previous study potential biomarkers gastric microarray sequencing gene obtained inaccurate noisy error insufficient sample size robust strong prognostic robust rank aggregation method employed select significant gene omnibus set upregulated downregulated gene network mining screen hub gene gene filtered using fisher exact based result built prognostic gene using stepwise multivariate cox proportional hazard regression according score found highrisk patient significantly worse result lowrisk sevengene validated external set established based prognostic patient using multisteps bioinformatics method novel insight potential biomarkers prognosis possibly serving therapeutic target application',\n",
              " 'evidence association coal mining health outcome increased general population epidemiological study last',\n",
              " 'currently major modality advanced melanoma immune check point mitogenactivated protein kinase pathway inhibitor lacking headtohead randomizedcontrolled trial comparing immune check point pathway inhibitor evaluated efficacy toxicity combination immune check point pathway inhibitor advanced melanoma network',\n",
              " 'sought evaluate potential benefit harm laparoscopic gastrectomy lymphadenectomy advanced gastric surgery',\n",
              " 'pembrolizumab monotherapy preferred patient advanced nonsmall lung carcinoma deathligand tumor proportion score least known chemotherapy pembrolizumab setting performed indirect comparison pembrolizumab chemotherapy pembrolizumab using frequentist method outcome progressionfree objective response retrieved trial comparing pembrolizumab chemotherapy pembrolizumab monotherapy chemotherapy trial involving patient direct pembrolizumab chemotherapy hazard pembrolizumab improved outcome chemotherapy indirect comparison pembrolizumab chemotherapy superior pembrolizumab trend improved observed addition chemotherapy pembrolizumab improves outcome patient advanced least',\n",
              " 'efficacy radiotherapy chemotherapy phyllode tumor remains unclear evaluate role radiotherapy chemotherapy',\n",
              " 'alternative lengthening telomere telomeraseindependent mechanism broad range neoplasm maintain telomere length permitting uncontrolled replication progression type sarcoma comprehensive analysis significance lacking topic',\n",
              " 'osimertinib thirdgeneration epidermal growth factor receptortyrosine kinase inhibitor standard rebiopsy reveals mutation firstline prognosis patient rebiopsy important patient sufficiently clarify rebiopsy contributes improved prognosis secondgeneration refractory patient',\n",
              " 'remains preferable regimen concurrently thoracic radiation advanced nonsmall lung performed network address important issue',\n",
              " 'anastomotic leakage esophagectomy severe complication associated considerable determine anastomotic leakage esophagectomy best based currently',\n",
              " 'long term smoking cessation decrease stroke heart attack improve proposed umbrella summarize existing review assessed effect pharmacological intervention smoking cessation evaluate methodological quality previously conducted review',\n",
              " 'acute myeloid leukaemia common acute leukaemia world genetic alteration singlenucleotide polymorphism contributed understanding mechanism leukaemogenesis improve prognosis increase patient synthesis evidence evaluating quality evidence bias study result translated protocol aim ass impact gene involved metabolism cytarabine anthracyclines respect response toxicity patient',\n",
              " 'impact tumor size prognosis surgically treated patient pancreatic ductal adenocarcinoma remains controversial performed evaluate issue',\n",
              " 'prostate assessment score designed validated time predict biochemical recurrencefree radical prostatectomy objective validity score ass utility stratified original patientcentered approach',\n",
              " 'previous study highlighted cytokine growth differentiation factor potential biomarker digestive system tumor sought ass feasibility using diagnostic prognostic biomarker',\n",
              " 'true endpoint controlled trial malignant tumor progressionfree considered reliable surrogate endpoint present evaluate correlation surrogate endpoint trial firstline chemotherapy doxorubicin standard advanced metastatic soft tissue sarcoma using metaanalytic approach',\n",
              " 'prognostic neutrophiltolymphocyte proposed head neck squamous carcinoma currently unclear cutoff value consistently independently differentiate patient worse prognosis group',\n",
              " 'observational study reported correlation postoperative complication prognosis radical gastrectomy result controversial performed investigate correlation postoperative complication prognosis radical gastrectomy',\n",
              " 'mature cystic teratoma ovary undergo malignant transformation squamous carcinoma transformation investigate characteristic transformation systematically individual transformation extracted published combined transformation qilu hospital shandong university',\n",
              " 'study focused quality life malignant pleural mesothelioma question surgical procedure extrapleural pneumonectomy pleurectomy decortication effective result outcome involves complication result qol performed patient ass qol change',\n",
              " 'efficacy bevacizumab combined erlotinib advanced hepatocellular carcinoma especially sorafenibrefractory patient observed evaluated trial conducted single arm generally ass benefit advanced hepatocellular carcinoma',\n",
              " 'breast identified leading malignancy woman worldwide potential molecular mechanism microrna remains elucidated present evaluated mir adjacent normal tissue publically datasets distinguishability precursor mir mir tissue adjacent breast tissue assessed using receiver operating characteristic summarized approach addition gene ontology enrichment kyoto encyclopedia gene genome pathway analysis proteinprotein interaction analysis performed determine potential molecular mechanism mir identified precursor mir markedly upregulated',\n",
              " 'firstline biologic metastatic colorectal controversial performed determine efficacy firstline cetuximab bevacizumab wildtype mcrc',\n",
              " 'chimeric antigen receptor cell immunotherapy rapidly developed treating especially relapsed refractory malignancy',\n",
              " 'firstgeneration epidermal growth factor receptor tyrosine kinase inhibitor gefitinib erlotinib proven effective treating advanced nonsmall lung especially east asian patient conducted efficacy safety treating advanced population',\n",
              " 'performed impact minimal residual prior transplantation prognosis patient acute lymphoblastic leukemia',\n",
              " 'receptor ligand tumor hematologic malignancy recently topic great interest performed evaluate prognostic clinicopathological expressed tumor cell patient diffuse large lymphoma',\n",
              " 'immunecheckpoint inhibitor chemotherapy emerging effective firstline advanced nonsmallcell lung carcinoma known magnitude benefit potential predictor',\n",
              " 'recently study shown hypoxiainducible factor α bone tumor result remain inconclusive carry current clarify relationship α clinicopathological feature bone tumor',\n",
              " 'association performance status prognosis metastatic renal carcinoma patient receiving tyrosine kinase inhibitor remains controversial evaluate prognostic mrcc patient treated',\n",
              " 'clear renal carcinoma aggressive histological renal carcinoma accounted identify potential biomarker ccrcc mechanism profile datasets downloaded identify analysis performed proteinprotein interaction network constructed predict hub gene hub gene ccrcc across multiple datasets analysis investigated utilizing oncomine platform dataset separately performed relationship hub gene ccrcc identified profile datasets integrating network oncomine platform analysis screened key factor prognosis ccrcc analysis revealed mainly enriched pathway significant difference ccrcc tissue normal tissue patient metastasis higher identified importance gene ccrcc potential prognostic biomarker novel therapeutic target ccrcc especially patient metastasis',\n",
              " 'efficacy ipsilateral lower neck sparing irradiation ipsilateral lower neck prophylactic irradiation unilateral bilateral neck nodenegative nasopharyngeal',\n",
              " 'outpatient autologous stem transplantation multiple myeloma lymphoma patient shown reduce cost improve quality life relative inpatient performed comprehensively comparing febrile neutropenia outpatient inpatient multiple myeloma lymphoma',\n",
              " 'impact tet oncogene member mutation prognosis acute myeloid leukemia controversial analysis order ass prognostic significance mutation',\n",
              " 'graphic health warning tobacco packaging plain packaging tobacco product key tobacco control intervention investigates perception adolescent packaging intervention',\n",
              " 'evidence diverse area healthcare provider adhere practice guideline clear indication implement recommendationsa phenomenon commonly termed inertia variety reason inertia factor salient amenable intervention improve adherence developed support safe effective opioid management chronic noncancer pain extent uptake adherence guideline understood purpose synthesize published evidence attitude belief practice hold opioids chronic noncancer pain',\n",
              " 'prolonged sitting associated increased risk cardiovascular diabetes musculoskeletal disorder premature workplace contribute large proportion daily sitting time officebased worker intervention reduce workplace sitting represent important health initiative previous review intervention effective reported variation uncertainty effectiveness controlled trial replicated implemented setting aim identify factor important implementation workplace sitting intervention translate finding operational framework support future implementation intervention',\n",
              " 'goaldirected fluid therapy based dynamic predictor fluid responsiveness improves outcome comparison standard fluid therapy patient undergoing surgery remains unclear',\n",
              " 'recommendation improved physical activity exist evidence emerging objective conduct association prediagnosis postdiagnosis tumor secondary objective examine association population subgroup domain determine optimal dose',\n",
              " 'effectiveness screening colorectal sex age trial uncertain']"
            ]
          },
          "metadata": {},
          "execution_count": 9
        }
      ]
    },
    {
      "cell_type": "code",
      "source": [
        "def sent_to_words(sentences):\n",
        "    for sentence in sentences:\n",
        "        # deacc=True removes punctuations\n",
        "        yield(gensim.utils.simple_preprocess(str(sentence), deacc=True))\n",
        "\n",
        "data = abstract_\n",
        "data_words = list(sent_to_words(data))"
      ],
      "metadata": {
        "id": "tVx6kJf1IVpA",
        "colab": {
          "base_uri": "https://localhost:8080/"
        },
        "outputId": "38f84aff-2d42-40bd-fd30-765d91418d53"
      },
      "execution_count": 10,
      "outputs": [
        {
          "output_type": "stream",
          "name": "stderr",
          "text": [
            "/usr/local/lib/python3.9/dist-packages/ipykernel/ipkernel.py:283: DeprecationWarning: `should_run_async` will not call `transform_cell` automatically in the future. Please pass the result to `transformed_cell` argument and any exception that happen during thetransform in `preprocessing_exc_tuple` in IPython 7.17 and above.\n",
            "  and should_run_async(code)\n"
          ]
        }
      ]
    },
    {
      "cell_type": "code",
      "source": [
        "dictionary = gensim.corpora.Dictionary(data_words)\n",
        "bow_corpus = [dictionary.doc2bow(doc) for doc in data_words]\n",
        "\n",
        "from gensim import corpora, models\n",
        "tfidf = models.TfidfModel(bow_corpus)\n",
        "corpus_tfidf = tfidf[bow_corpus]"
      ],
      "metadata": {
        "id": "BmJ0odNhIVma",
        "colab": {
          "base_uri": "https://localhost:8080/"
        },
        "outputId": "21498c8a-a1bb-4649-a853-288d963dba63"
      },
      "execution_count": 11,
      "outputs": [
        {
          "output_type": "stream",
          "name": "stderr",
          "text": [
            "/usr/local/lib/python3.9/dist-packages/ipykernel/ipkernel.py:283: DeprecationWarning: `should_run_async` will not call `transform_cell` automatically in the future. Please pass the result to `transformed_cell` argument and any exception that happen during thetransform in `preprocessing_exc_tuple` in IPython 7.17 and above.\n",
            "  and should_run_async(code)\n"
          ]
        }
      ]
    },
    {
      "cell_type": "code",
      "source": [
        "def compute_coherence_values(dictionary, corpus, texts, limit, start=2, step=3):\n",
        "    \"\"\"\n",
        "    Compute c_v coherence for various number of topics\n",
        "\n",
        "    Parameters:\n",
        "    ----------\n",
        "    dictionary : Gensim dictionary\n",
        "    corpus : Gensim corpus\n",
        "    texts : List of input texts\n",
        "    limit : Max num of topics\n",
        "\n",
        "    Returns:\n",
        "    -------\n",
        "    model_list : List of LDA topic models\n",
        "    coherence_values : Coherence values corresponding to the LDA model with respective number of topics\n",
        "    \"\"\"\n",
        "    coherence_values = []\n",
        "    perplexity_values= []\n",
        "    model_list = []\n",
        "    for num_topics in range(start, limit, step):\n",
        "        model = gensim.models.ldamodel.LdaModel(corpus=corpus,id2word=dictionary,num_topics=num_topics,random_state=100,update_every=1,passes=10,alpha='auto',per_word_topics=True,)        \n",
        "        model_list.append(model)\n",
        "        coherencemodel = CoherenceModel(model=model, texts=texts, dictionary=dictionary, coherence='c_v')\n",
        "        coherence_values.append(coherencemodel.get_coherence())\n",
        "        perplexity_values.append(model.log_perplexity(corpus))\n",
        "\n",
        "\n",
        "    return model_list, coherence_values, perplexity_values"
      ],
      "metadata": {
        "id": "r-8wI2GfIVjy",
        "colab": {
          "base_uri": "https://localhost:8080/"
        },
        "outputId": "4be83923-9b4d-4e77-b7ff-107487d9c89f"
      },
      "execution_count": 12,
      "outputs": [
        {
          "output_type": "stream",
          "name": "stderr",
          "text": [
            "/usr/local/lib/python3.9/dist-packages/ipykernel/ipkernel.py:283: DeprecationWarning: `should_run_async` will not call `transform_cell` automatically in the future. Please pass the result to `transformed_cell` argument and any exception that happen during thetransform in `preprocessing_exc_tuple` in IPython 7.17 and above.\n",
            "  and should_run_async(code)\n"
          ]
        }
      ]
    },
    {
      "cell_type": "code",
      "source": [
        "model_list, coherence_values, perplexity_values = compute_coherence_values(dictionary=dictionary, corpus=corpus_tfidf, texts=data_words, start=10, limit=100, step=20)\n"
      ],
      "metadata": {
        "colab": {
          "base_uri": "https://localhost:8080/"
        },
        "id": "7bWhvowRIVhz",
        "outputId": "0595ecfd-b819-4a48-fa50-46771fe3d994"
      },
      "execution_count": 13,
      "outputs": [
        {
          "output_type": "stream",
          "name": "stderr",
          "text": [
            "/usr/local/lib/python3.9/dist-packages/ipykernel/ipkernel.py:283: DeprecationWarning: `should_run_async` will not call `transform_cell` automatically in the future. Please pass the result to `transformed_cell` argument and any exception that happen during thetransform in `preprocessing_exc_tuple` in IPython 7.17 and above.\n",
            "  and should_run_async(code)\n"
          ]
        }
      ]
    },
    {
      "cell_type": "code",
      "source": [
        "# Show graph\n",
        "import matplotlib.pyplot as plt\n",
        "\n",
        "limit=100; start=10; step=20;\n",
        "x = range(start, limit, step)\n",
        "plt.plot(x, coherence_values)\n",
        "plt.xlabel(\"Num Topics\")\n",
        "plt.ylabel(\"Coherence score\")\n",
        "plt.legend((\"coherence_values\"), loc='best')\n",
        "plt.show()"
      ],
      "metadata": {
        "colab": {
          "base_uri": "https://localhost:8080/",
          "height": 504
        },
        "id": "tnhhuKqhIVfa",
        "outputId": "3b18f059-6a56-4d18-ea81-aea90f62984e"
      },
      "execution_count": 14,
      "outputs": [
        {
          "output_type": "stream",
          "name": "stderr",
          "text": [
            "/usr/local/lib/python3.9/dist-packages/ipykernel/ipkernel.py:283: DeprecationWarning: `should_run_async` will not call `transform_cell` automatically in the future. Please pass the result to `transformed_cell` argument and any exception that happen during thetransform in `preprocessing_exc_tuple` in IPython 7.17 and above.\n",
            "  and should_run_async(code)\n"
          ]
        },
        {
          "output_type": "display_data",
          "data": {
            "text/plain": [
              "<Figure size 640x480 with 1 Axes>"
            ],
            "image/png": "[encoded data removed]"
          },
          "metadata": {}
        }
      ]
    },
    {
      "cell_type": "code",
      "source": [
        "for m, cv in zip(x, coherence_values):\n",
        "    print(\"Num Topics =\", m, \" has Coherence Value of\", round(cv, 4))"
      ],
      "metadata": {
        "colab": {
          "base_uri": "https://localhost:8080/"
        },
        "id": "2ZbObL3gIVPR",
        "outputId": "25a12314-f441-482c-9eed-07f01cc4ea3c"
      },
      "execution_count": 15,
      "outputs": [
        {
          "output_type": "stream",
          "name": "stdout",
          "text": [
            "Num Topics = 10  has Coherence Value of 0.525\n",
            "Num Topics = 30  has Coherence Value of 0.3679\n",
            "Num Topics = 50  has Coherence Value of 0.3659\n",
            "Num Topics = 70  has Coherence Value of 0.5496\n",
            "Num Topics = 90  has Coherence Value of 0.3248\n"
          ]
        },
        {
          "output_type": "stream",
          "name": "stderr",
          "text": [
            "/usr/local/lib/python3.9/dist-packages/ipykernel/ipkernel.py:283: DeprecationWarning: `should_run_async` will not call `transform_cell` automatically in the future. Please pass the result to `transformed_cell` argument and any exception that happen during thetransform in `preprocessing_exc_tuple` in IPython 7.17 and above.\n",
            "  and should_run_async(code)\n"
          ]
        }
      ]
    },
    {
      "cell_type": "code",
      "source": [
        "limit=100; start=10; step=20;\n",
        "x = range(start, limit, step)\n",
        "plt.plot(x, perplexity_values)\n",
        "plt.xlabel(\"Num Topics\")\n",
        "plt.ylabel(\"Perplexity score\")\n",
        "plt.legend((\"perplexity_values\"), loc='best')\n",
        "plt.show()"
      ],
      "metadata": {
        "colab": {
          "base_uri": "https://localhost:8080/",
          "height": 504
        },
        "id": "cvFegE8cIVL7",
        "outputId": "6c9d23a9-4375-48a1-cf26-bbfa70655a13"
      },
      "execution_count": 16,
      "outputs": [
        {
          "output_type": "stream",
          "name": "stderr",
          "text": [
            "/usr/local/lib/python3.9/dist-packages/ipykernel/ipkernel.py:283: DeprecationWarning: `should_run_async` will not call `transform_cell` automatically in the future. Please pass the result to `transformed_cell` argument and any exception that happen during thetransform in `preprocessing_exc_tuple` in IPython 7.17 and above.\n",
            "  and should_run_async(code)\n"
          ]
        },
        {
          "output_type": "display_data",
          "data": {
            "text/plain": [
              "<Figure size 640x480 with 1 Axes>"
            ],
            "image/png": "[encoded data removed]"
          },
          "metadata": {}
        }
      ]
    },
    {
      "cell_type": "code",
      "source": [
        "for m, cv in zip(x, perplexity_values):\n",
        "    print(\"Num Topics =\", m, \" has perplixity Value of\", round(cv, 4))"
      ],
      "metadata": {
        "colab": {
          "base_uri": "https://localhost:8080/"
        },
        "id": "FOn4k4ehIVJ8",
        "outputId": "d6cc0d08-d2d6-4d60-889a-42dedb68e27d"
      },
      "execution_count": 17,
      "outputs": [
        {
          "output_type": "stream",
          "name": "stdout",
          "text": [
            "Num Topics = 10  has perplixity Value of -11.0534\n",
            "Num Topics = 30  has perplixity Value of -14.9562\n",
            "Num Topics = 50  has perplixity Value of -18.3177\n",
            "Num Topics = 70  has perplixity Value of -32.8718\n",
            "Num Topics = 90  has perplixity Value of -65.4383\n"
          ]
        },
        {
          "output_type": "stream",
          "name": "stderr",
          "text": [
            "/usr/local/lib/python3.9/dist-packages/ipykernel/ipkernel.py:283: DeprecationWarning: `should_run_async` will not call `transform_cell` automatically in the future. Please pass the result to `transformed_cell` argument and any exception that happen during thetransform in `preprocessing_exc_tuple` in IPython 7.17 and above.\n",
            "  and should_run_async(code)\n"
          ]
        }
      ]
    },
    {
      "cell_type": "code",
      "source": [
        "lda_model = gensim.models.ldamodel.LdaModel(corpus=corpus_tfidf,\n",
        "                                           id2word=dictionary,\n",
        "                                           num_topics=10, \n",
        "                                           random_state=100,\n",
        "                                           update_every=1,\n",
        "                                           passes=10,\n",
        "                                           alpha='auto',\n",
        "                                           per_word_topics=True,\n",
        "                                            )"
      ],
      "metadata": {
        "colab": {
          "base_uri": "https://localhost:8080/"
        },
        "id": "wpuvpVv113rL",
        "outputId": "9a99a17f-21e1-44b0-dc7c-e845f1eb35fb"
      },
      "execution_count": 18,
      "outputs": [
        {
          "output_type": "stream",
          "name": "stderr",
          "text": [
            "/usr/local/lib/python3.9/dist-packages/ipykernel/ipkernel.py:283: DeprecationWarning: `should_run_async` will not call `transform_cell` automatically in the future. Please pass the result to `transformed_cell` argument and any exception that happen during thetransform in `preprocessing_exc_tuple` in IPython 7.17 and above.\n",
            "  and should_run_async(code)\n"
          ]
        }
      ]
    },
    {
      "cell_type": "code",
      "source": [
        "pprint(lda_model.print_topics())\n",
        "doc_lda = lda_model[corpus_tfidf]"
      ],
      "metadata": {
        "colab": {
          "base_uri": "https://localhost:8080/"
        },
        "id": "FSa7BPg_17KY",
        "outputId": "f7012380-250d-40f4-d942-93aae7aa7653"
      },
      "execution_count": 19,
      "outputs": [
        {
          "output_type": "stream",
          "name": "stdout",
          "text": [
            "[(0,\n",
            "  '0.006*\"pancreatic\" + 0.005*\"pembrolizumab\" + 0.004*\"colorectal\" + '\n",
            "  '0.004*\"ki\" + 0.004*\"rebiopsy\" + 0.004*\"gemcitabine\" + 0.004*\"ductal\" + '\n",
            "  '0.004*\"adenocarcinoma\" + 0.003*\"firstline\" + 0.003*\"lynch\"'),\n",
            " (1,\n",
            "  '0.004*\"breast\" + 0.004*\"fluid\" + 0.004*\"adenoma\" + 0.004*\"patient\" + '\n",
            "  '0.004*\"advanced\" + 0.004*\"extensivestage\" + 0.004*\"dosedense\" + '\n",
            "  '0.004*\"chemotherapy\" + 0.004*\"inhibitor\" + 0.003*\"benefit\"'),\n",
            " (2,\n",
            "  '0.005*\"radical\" + 0.005*\"apps\" + 0.004*\"postoperative\" + 0.004*\"screening\" '\n",
            "  '+ 0.004*\"ligation\" + 0.004*\"tumor\" + 0.003*\"topic\" + 0.003*\"telomere\" + '\n",
            "  '0.003*\"participant\" + 0.003*\"program\"'),\n",
            " (3,\n",
            "  '0.006*\"prognosis\" + 0.005*\"mir\" + 0.005*\"breast\" + 0.005*\"mirna\" + '\n",
            "  '0.004*\"acute\" + 0.004*\"analysis\" + 0.004*\"mutation\" + 0.004*\"marker\" + '\n",
            "  '0.004*\"gastric\" + 0.004*\"prognostic\"'),\n",
            " (4,\n",
            "  '0.006*\"radiotherapy\" + 0.004*\"colorectal\" + 0.004*\"haemoglobin\" + '\n",
            "  '0.003*\"intervention\" + 0.003*\"surgery\" + 0.003*\"identify\" + '\n",
            "  '0.003*\"packaging\" + 0.003*\"tobacco\" + 0.003*\"amyloidosis\" + 0.003*\"neck\"'),\n",
            " (5,\n",
            "  '0.005*\"transformation\" + 0.004*\"ass\" + 0.004*\"endpoint\" + 0.004*\"yielded\" + '\n",
            "  '0.003*\"critically\" + 0.003*\"ill\" + 0.003*\"controversial\" + '\n",
            "  '0.003*\"prominins\" + 0.003*\"ovarian\" + 0.003*\"bladder\"'),\n",
            " (6,\n",
            "  '0.005*\"effective\" + 0.004*\"laparoscopic\" + 0.004*\"caribbean\" + 0.003*\"qol\" '\n",
            "  '+ 0.003*\"surgical\" + 0.003*\"prostate\" + 0.003*\"lymphadenectomy\" + '\n",
            "  '0.003*\"harm\" + 0.003*\"evidence\" + 0.003*\"safe\"'),\n",
            " (7,\n",
            "  '0.005*\"esophagectomy\" + 0.004*\"transfusion\" + 0.004*\"advantage\" + '\n",
            "  '0.003*\"ageing\" + 0.003*\"leakage\" + 0.003*\"anastomotic\" + 0.003*\"point\" + '\n",
            "  '0.003*\"check\" + 0.003*\"gene\" + 0.003*\"resectable\"'),\n",
            " (8,\n",
            "  '0.007*\"prognostic\" + 0.005*\"tumor\" + 0.005*\"ovarian\" + '\n",
            "  '0.005*\"thrombocytosis\" + 0.004*\"radiotherapy\" + 0.004*\"relationship\" + '\n",
            "  '0.004*\"result\" + 0.004*\"survivorship\" + 0.004*\"metformin\" + 0.004*\"ccrcc\"'),\n",
            " (9,\n",
            "  '0.004*\"beclin\" + 0.004*\"reactive\" + 0.004*\"brain\" + 0.003*\"investigate\" + '\n",
            "  '0.003*\"lung\" + 0.003*\"evidence\" + 0.003*\"regimen\" + 0.003*\"secondline\" + '\n",
            "  '0.003*\"licensed\" + 0.003*\"prostate\"')]\n"
          ]
        },
        {
          "output_type": "stream",
          "name": "stderr",
          "text": [
            "/usr/local/lib/python3.9/dist-packages/ipykernel/ipkernel.py:283: DeprecationWarning: `should_run_async` will not call `transform_cell` automatically in the future. Please pass the result to `transformed_cell` argument and any exception that happen during thetransform in `preprocessing_exc_tuple` in IPython 7.17 and above.\n",
            "  and should_run_async(code)\n"
          ]
        }
      ]
    },
    {
      "cell_type": "code",
      "source": [
        "print('\\nPerplexity: ', lda_model.log_perplexity(corpus_tfidf))  # a measure of how good the model is. lower the better.\n",
        "\n",
        "# Compute Coherence Score\n",
        "coherence_model_lda = CoherenceModel(model=lda_model, texts=data_words, dictionary=dictionary, coherence='c_v')\n",
        "coherence_lda = coherence_model_lda.get_coherence()\n",
        "print('\\nCoherence Score: ', coherence_lda)"
      ],
      "metadata": {
        "colab": {
          "base_uri": "https://localhost:8080/"
        },
        "id": "gaUpxWWd2FMR",
        "outputId": "1069e413-7cbf-4a13-84e8-fd7daf9a1408"
      },
      "execution_count": 21,
      "outputs": [
        {
          "output_type": "stream",
          "name": "stderr",
          "text": [
            "/usr/local/lib/python3.9/dist-packages/ipykernel/ipkernel.py:283: DeprecationWarning: `should_run_async` will not call `transform_cell` automatically in the future. Please pass the result to `transformed_cell` argument and any exception that happen during thetransform in `preprocessing_exc_tuple` in IPython 7.17 and above.\n",
            "  and should_run_async(code)\n"
          ]
        },
        {
          "output_type": "stream",
          "name": "stdout",
          "text": [
            "\n",
            "Perplexity:  -11.053421405106972\n",
            "\n",
            "Coherence Score:  0.5249637282669718\n"
          ]
        }
      ]
    },
    {
      "cell_type": "code",
      "source": [
        "import pyLDAvis\n",
        "import pyLDAvis.gensim_models\n",
        "pyLDAvis.enable_notebook()\n",
        "vis = pyLDAvis.gensim_models.prepare(lda_model, corpus_tfidf, dictionary)\n",
        "vis"
      ],
      "metadata": {
        "colab": {
          "base_uri": "https://localhost:8080/",
          "height": 951
        },
        "id": "3MjIt22p2M7K",
        "outputId": "0f62b61c-2dac-447b-c53f-16dad60e34bc"
      },
      "execution_count": 22,
      "outputs": [
        {
          "output_type": "stream",
          "name": "stderr",
          "text": [
            "/usr/local/lib/python3.9/dist-packages/ipykernel/ipkernel.py:283: DeprecationWarning: `should_run_async` will not call `transform_cell` automatically in the future. Please pass the result to `transformed_cell` argument and any exception that happen during thetransform in `preprocessing_exc_tuple` in IPython 7.17 and above.\n",
            "  and should_run_async(code)\n",
            "/usr/local/lib/python3.9/dist-packages/pyLDAvis/_prepare.py:243: FutureWarning: In a future version of pandas all arguments of DataFrame.drop except for the argument 'labels' will be keyword-only.\n",
            "  default_term_info = default_term_info.sort_values(\n"
          ]
        },
        {
          "output_type": "execute_result",
          "data": {
            "text/plain": [
              "PreparedData(topic_coordinates=              x         y  topics  cluster       Freq\n",
              "topic                                                \n",
              "3      0.041003 -0.022287       1        1  12.732369\n",
              "1     -0.014941  0.031756       2        1  12.098625\n",
              "4     -0.039596 -0.033135       3        1  11.986913\n",
              "0      0.005153  0.012360       4        1  11.149037\n",
              "9      0.001619  0.007803       5        1  10.534895\n",
              "8      0.015048 -0.000018       6        1  10.426792\n",
              "6     -0.004027 -0.001336       7        1   8.265282\n",
              "2     -0.000583  0.000907       8        1   7.976680\n",
              "7     -0.003151  0.000967       9        1   7.716485\n",
              "5     -0.000525  0.002983      10        1   7.112921, topic_info=                Term      Freq     Total Category  logprob  loglift\n",
              "890     radiotherapy  0.000000  0.000000  Default  30.0000  30.0000\n",
              "1103   esophagectomy  0.000000  0.000000  Default  29.0000  29.0000\n",
              "1255  transformation  0.000000  0.000000  Default  28.0000  28.0000\n",
              "825          radical  0.000000  0.000000  Default  27.0000  27.0000\n",
              "612       pancreatic  0.000000  0.000000  Default  26.0000  26.0000\n",
              "...              ...       ...       ...      ...      ...      ...\n",
              "384        published  0.083323  0.451841  Topic10  -6.1280   0.9527\n",
              "107            study  0.096694  0.982708  Topic10  -5.9792   0.3245\n",
              "229           impact  0.087826  0.703617  Topic10  -6.0754   0.5624\n",
              "36             trial  0.087773  0.723751  Topic10  -6.0760   0.5336\n",
              "12           patient  0.094372  1.356461  Topic10  -6.0035  -0.0221\n",
              "\n",
              "[470 rows x 6 columns], token_table=Empty DataFrame\n",
              "Columns: [Topic, Freq, Term]\n",
              "Index: [], R=30, lambda_step=0.01, plot_opts={'xlab': 'PC1', 'ylab': 'PC2'}, topic_order=[4, 2, 5, 1, 10, 9, 7, 3, 8, 6])"
            ],
            "text/html": [
              "\n",
              "<link rel=\"stylesheet\" type=\"text/css\" href=\"https://cdn.jsdelivr.net/gh/bmabey/pyLDAvis@3.4.0/pyLDAvis/js/ldavis.v1.0.0.css\">\n",
              "\n",
              "\n",
              "<div id=\"ldavis_el91571397699704640169945972137\" style=\"background-color:white;\"></div>\n",
              "<script type=\"text/javascript\">\n",
              "\n",
              "var ldavis_el91571397699704640169945972137_data = {\"mdsDat\": {\"x\": [0.04100274869630079, -0.014941004372025867, -0.03959581446743197, 0.005152712822109164, 0.0016193164999375395, 0.015048091945204404, -0.00402737945271598, -0.0005825865352169025, -0.0031512407120077215, -0.0005248444241534345], \"y\": [-0.022287000464291086, 0.031756029998799354, -0.0331349083008638, 0.012359542130142962, 0.00780307659042038, -1.7841198652248874e-05, -0.0013362694535633446, 0.0009073707538212487, 0.0009673604100971706, 0.0029826395340893375], \"topics\": [1, 2, 3, 4, 5, 6, 7, 8, 9, 10], \"cluster\": [1, 1, 1, 1, 1, 1, 1, 1, 1, 1], \"Freq\": [12.732368925526421, 12.098625382858867, 11.98691338408299, 11.149037013066454, 10.534895126886692, 10.426792413074585, 8.265281922625958, 7.976679849209245, 7.716485282267003, 7.112920700401791]}, \"tinfo\": {\"Term\": [\"radiotherapy\", \"esophagectomy\", \"transformation\", \"radical\", \"pancreatic\", \"ovarian\", \"apps\", \"colorectal\", \"mir\", \"transfusion\", \"pembrolizumab\", \"controversial\", \"thrombocytosis\", \"ass\", \"effective\", \"mirna\", \"result\", \"prognostic\", \"endpoint\", \"breast\", \"laparoscopic\", \"yielded\", \"tumor\", \"prostate\", \"ki\", \"investigate\", \"ligand\", \"postoperative\", \"prognosis\", \"beclin\", \"mir\", \"mirna\", \"marker\", \"microrna\", \"acute\", \"leukemia\", \"value\", \"subsub\", \"elevated\", \"atlas\", \"combining\", \"mutation\", \"dehydrogenase\", \"diseasefree\", \"aldehyde\", \"comprehensive\", \"assessed\", \"residual\", \"lymphoblastic\", \"minimal\", \"molecular\", \"leukaemia\", \"gastric\", \"tet\", \"oncogene\", \"myeloid\", \"differentiate\", \"independently\", \"group\", \"cutoff\", \"analysis\", \"prognosis\", \"breast\", \"mechanism\", \"human\", \"gene\", \"effect\", \"prognostic\", \"impact\", \"ovarian\", \"regimen\", \"patient\", \"ass\", \"fluid\", \"adenoma\", \"dosedense\", \"implant\", \"prognostication\", \"erlotinib\", \"extensivestage\", \"magnitude\", \"pure\", \"inpatient\", \"outpatient\", \"competing\", \"decision\", \"category\", \"revolutionized\", \"necroptosis\", \"executor\", \"far\", \"serve\", \"autogenous\", \"generally\", \"arm\", \"single\", \"model\", \"curve\", \"viewed\", \"revision\", \"staging\", \"overlapped\", \"station\", \"safety\", \"limited\", \"predictor\", \"system\", \"inhibitor\", \"nonsmallcell\", \"especially\", \"benefit\", \"breast\", \"advanced\", \"chemotherapy\", \"patient\", \"developed\", \"improve\", \"hepatocellular\", \"therapy\", \"treating\", \"lung\", \"conducted\", \"carcinoma\", \"haemoglobin\", \"packaging\", \"tobacco\", \"amyloidosis\", \"sex\", \"sitting\", \"radiotherapy\", \"epithelial\", \"decreased\", \"subtypes\", \"uncertain\", \"ipsilateral\", \"lower\", \"prognosticator\", \"candidate\", \"predisposing\", \"recognized\", \"workplace\", \"aged\", \"cardiac\", \"definition\", \"identification\", \"nucleatum\", \"infection\", \"fusobacterium\", \"intervention\", \"effectiveness\", \"conformal\", \"twodimensional\", \"specific\", \"squamous\", \"identify\", \"colorectal\", \"surgery\", \"neck\", \"increased\", \"woman\", \"age\", \"role\", \"carcinoma\", \"trial\", \"pembrolizumab\", \"pancreatic\", \"rebiopsy\", \"gemcitabine\", \"ductal\", \"adenocarcinoma\", \"lynch\", \"ki\", \"significantly\", \"barrier\", \"ascertain\", \"smoking\", \"cessation\", \"surgically\", \"biologic\", \"mcrc\", \"wildtype\", \"intratumoral\", \"fiveyear\", \"pose\", \"presentation\", \"contributes\", \"typically\", \"excellent\", \"syndrome\", \"detection\", \"review\", \"personalized\", \"clinician\", \"monotherapy\", \"firstline\", \"colorectal\", \"treated\", \"progression\", \"controversial\", \"patient\", \"prognosis\", \"tumor\", \"chemotherapy\", \"performed\", \"prognostic\", \"beclin\", \"reactive\", \"brain\", \"licensed\", \"sorafenib\", \"secondline\", \"doublet\", \"vaccination\", \"coal\", \"last\", \"general\", \"thoracic\", \"address\", \"concurrently\", \"preferable\", \"standardized\", \"cervix\", \"neuroendocrine\", \"variant\", \"dosing\", \"nonstandard\", \"rank\", \"cancerrelated\", \"mutational\", \"mining\", \"signature\", \"prostate\", \"irinotecan\", \"rare\", \"recommendation\", \"investigate\", \"controlled\", \"regimen\", \"nonsmall\", \"evidence\", \"lung\", \"protein\", \"outcome\", \"oral\", \"population\", \"association\", \"therapy\", \"determine\", \"advanced\", \"metastasis\", \"remains\", \"immune\", \"thrombocytosis\", \"survivorship\", \"metformin\", \"ccrcc\", \"pretreatment\", \"defined\", \"supportive\", \"organise\", \"relationship\", \"phyllode\", \"ligand\", \"mets\", \"receiving\", \"mrcc\", \"performance\", \"bone\", \"correlate\", \"necrosis\", \"cancerspecific\", \"theoretically\", \"understand\", \"preventing\", \"renal\", \"blood\", \"analyze\", \"inconclusive\", \"carry\", \"endometrial\", \"retrieving\", \"consensus\", \"radiotherapy\", \"prognostic\", \"ovarian\", \"result\", \"reported\", \"tumor\", \"association\", \"evaluate\", \"solid\", \"controversial\", \"carcinoma\", \"remains\", \"unclear\", \"conducted\", \"study\", \"prognosis\", \"patient\", \"factor\", \"laparoscopic\", \"caribbean\", \"qol\", \"lymphadenectomy\", \"harm\", \"safe\", \"surgical\", \"tokuhashi\", \"rate\", \"probability\", \"presenting\", \"disputable\", \"class\", \"homeobox\", \"pou\", \"heretofore\", \"pancreatichead\", \"periampullary\", \"shortterm\", \"social\", \"erythematosus\", \"report\", \"lupus\", \"established\", \"effective\", \"commonly\", \"pain\", \"adherence\", \"noncancer\", \"inertia\", \"sought\", \"prostate\", \"gastrectomy\", \"evidence\", \"malignancy\", \"result\", \"systemic\", \"recurrence\", \"association\", \"apps\", \"radical\", \"postoperative\", \"ligation\", \"topic\", \"telomere\", \"participant\", \"program\", \"urothelial\", \"tract\", \"routinely\", \"upper\", \"sigmoid\", \"rectal\", \"hematologic\", \"interest\", \"diffuse\", \"gastrectomy\", \"screening\", \"complication\", \"observational\", \"stratified\", \"patientcentered\", \"assessment\", \"original\", \"utility\", \"biochemical\", \"prostatectomy\", \"validity\", \"dissection\", \"score\", \"lymph\", \"correlation\", \"tumor\", \"investigate\", \"solid\", \"performed\", \"controversial\", \"colon\", \"significance\", \"esophagectomy\", \"transfusion\", \"advantage\", \"ageing\", \"point\", \"check\", \"resectable\", \"initial\", \"leakage\", \"anastomotic\", \"chimeric\", \"relapsed\", \"antigen\", \"susceptibility\", \"agerelated\", \"methylation\", \"perioperative\", \"intriguing\", \"polymorphism\", \"cytokine\", \"feasibility\", \"melanoma\", \"conferred\", \"changed\", \"treat\", \"trastuzumab\", \"originator\", \"definitive\", \"summit\\u03b1\", \"conduce\", \"considerable\", \"rapidly\", \"esophageal\", \"potentially\", \"currently\", \"refractory\", \"immunotherapy\", \"using\", \"gene\", \"biomarker\", \"receptor\", \"growth\", \"based\", \"transformation\", \"endpoint\", \"yielded\", \"critically\", \"ill\", \"prominins\", \"bladder\", \"surrogate\", \"prominin\", \"neutropenia\", \"reevaluate\", \"subgroup\", \"optimal\", \"histology\", \"docetaxel\", \"progressed\", \"immature\", \"immunity\", \"adaptive\", \"suppressor\", \"inhibiting\", \"myeloidderived\", \"suppression\", \"innate\", \"promoted\", \"determined\", \"prespecified\", \"cystectomy\", \"superficial\", \"highgrade\", \"ass\", \"previously\", \"recent\", \"ovarian\", \"aim\", \"controversial\", \"associated\", \"influence\", \"result\", \"cell\", \"demonstrated\", \"efficacy\", \"metastatic\", \"published\", \"study\", \"impact\", \"trial\", \"patient\"], \"Freq\": [0.0, 0.0, 0.0, 0.0, 0.0, 0.0, 0.0, 1.0, 0.0, 0.0, 0.0, 0.0, 0.0, 0.0, 0.0, 0.0, 0.0, 1.0, 0.0, 1.0, 0.0, 0.0, 1.0, 0.0, 0.0, 0.0, 0.0, 0.0, 1.0, 0.0, 0.350248568581872, 0.32970676823222644, 0.26894299209640715, 0.2543784418902061, 0.3053209519793063, 0.24831451970089027, 0.22696520276292448, 0.2068094377629131, 0.1950807019930853, 0.20852635000431285, 0.18691953285437107, 0.2701647128473592, 0.17587227853726337, 0.17587226261368338, 0.17587200783640358, 0.20593298799682747, 0.199216103486549, 0.16710778087640715, 0.1671077171820872, 0.16710762164060727, 0.23414610039403536, 0.16295000675306118, 0.2575831419805671, 0.15010150891494053, 0.15010149299136055, 0.17390342341330323, 0.14075783880278314, 0.14075782287920316, 0.14075774326130322, 0.14075774326130322, 0.30021941911726807, 0.4338781278721756, 0.3366832707906192, 0.21431976241680295, 0.1836026352194189, 0.2507907956247284, 0.20718717692737382, 0.2565166124401721, 0.19935080104966227, 0.21338351960786472, 0.18741868931623562, 0.2113969415393786, 0.18426422812073476, 0.2609919552470177, 0.257713522246041, 0.23721376076567782, 0.21196403148651644, 0.2083891822650702, 0.18991379679984838, 0.2401013147353432, 0.1690109909670275, 0.16873454766187293, 0.16036418634231175, 0.1603638685913863, 0.14833633029869053, 0.14833622438171537, 0.183932271806937, 0.1469172395345672, 0.13773776331080043, 0.13773762713183238, 0.13773752121485722, 0.13773752121485722, 0.1347368781777192, 0.12919972028857243, 0.12919970515757598, 0.12919961437159727, 0.1476567215931066, 0.12050050945764962, 0.1205004413681656, 0.12050038840967801, 0.12050038840967801, 0.12050028249270286, 0.12050024466521174, 0.1862230290145932, 0.1614245817045744, 0.17466539894767089, 0.18927508717767075, 0.22821653739415995, 0.14943541561887766, 0.15513747110734435, 0.21800417395967792, 0.26542188733988686, 0.2491513150224812, 0.2348959644673642, 0.250789638794179, 0.15649792926022116, 0.157541846967349, 0.16210314637140325, 0.17208267403250163, 0.1561619152220401, 0.1628741160335566, 0.16070743299679627, 0.15582402494029915, 0.25951551762053504, 0.2100503028952201, 0.21005012299979745, 0.2086693057008661, 0.19520462802977043, 0.19181976073150736, 0.3608274026758795, 0.1885372089548625, 0.18351955083571084, 0.1993981852178753, 0.2025182914278895, 0.1750552013580539, 0.17505484156720866, 0.16630457829785913, 0.16630456330657392, 0.15740927434401794, 0.15740892954445793, 0.15175429171636032, 0.15108789910581513, 0.1496324701803499, 0.161881249681206, 0.1483186639263465, 0.14694907510004399, 0.14694903012618835, 0.1469490001436179, 0.2183324632836132, 0.18921898262404216, 0.13416071427030835, 0.13416056435745616, 0.14708450637071044, 0.18250345651486719, 0.21399424019314708, 0.277418949940774, 0.21410109807418654, 0.2064508353490502, 0.17357481194269941, 0.16920910982642728, 0.15820991391369732, 0.15689327430678754, 0.16675818460600897, 0.1595790230188728, 0.28471851157463746, 0.3314894900887576, 0.23814268496362664, 0.2250026009027831, 0.22460080773044808, 0.22460075195682616, 0.20096765570523784, 0.24097051914237863, 0.17170825590808814, 0.15347394865483086, 0.15311430639726434, 0.15279320371244678, 0.1527929666745536, 0.1525362685796519, 0.1409720124326275, 0.14097197060241107, 0.1409719287721946, 0.13459871882524269, 0.13459869093843174, 0.13459862122140434, 0.13588919494589707, 0.11989861867239522, 0.11331461929308716, 0.11262490176927618, 0.18124459710538907, 0.11565620509250689, 0.125074912749469, 0.11970380141101736, 0.10325782654280952, 0.1413956130911345, 0.2046005681730463, 0.26919442587490156, 0.1350847998837092, 0.13402975816459828, 0.17448108335221832, 0.1986350912891642, 0.17236086305821194, 0.15876937518833265, 0.14864219612718788, 0.14715138115658521, 0.14049645864529903, 0.23590824747788677, 0.21591889042587667, 0.20829355901582167, 0.17393686640493286, 0.16702090828811744, 0.18134166903241986, 0.15336302507449745, 0.1498054865857232, 0.14565114487888328, 0.14565110535287373, 0.14565103947619115, 0.13500192881020903, 0.13500184975818996, 0.13500183658285345, 0.13500182340751693, 0.13203942804440763, 0.13203938851839808, 0.13203932264171553, 0.13203925676503295, 0.1290006289048548, 0.12900060255418178, 0.13113741815599972, 0.13113753673402834, 0.1186234967105271, 0.12900592539013336, 0.1590511999322647, 0.17365588917843952, 0.13561867948775663, 0.11733446131202625, 0.10611295473887027, 0.196686469631921, 0.14638585434423892, 0.18308841562141018, 0.14836734590389566, 0.19078464351724597, 0.19533216361633077, 0.14698946921128225, 0.16944939948967794, 0.14509955941573294, 0.15134109840707985, 0.16625194294782591, 0.155631198781358, 0.14668283960459655, 0.15906731336882104, 0.14217624210072358, 0.14699186712252776, 0.1376466931606436, 0.2553398261195805, 0.22825008448555864, 0.2238208447281609, 0.22038515925589267, 0.19658252374821342, 0.17609293120372482, 0.15350208975065122, 0.15350186806828497, 0.23493417295105498, 0.14838242678372407, 0.20182188215276137, 0.13837958377407208, 0.13236414148565864, 0.13236410236524107, 0.13236389372301405, 0.19073994154489654, 0.1304136626663831, 0.13041363658610472, 0.1304135453051304, 0.12840314704627892, 0.128403081845583, 0.12618925741537468, 0.20276677063843548, 0.13916291797532698, 0.18857046662807186, 0.12313738235987218, 0.12313736931973299, 0.1626273444329863, 0.11775559955509607, 0.11775553435440013, 0.24693407415716753, 0.36764972010759334, 0.25715344867806184, 0.23312498403989812, 0.20141655550633286, 0.2604160915032849, 0.2192925781537578, 0.20666086916377283, 0.15539155375865887, 0.199372487608094, 0.1990782499074212, 0.18279243311374319, 0.16147681295229313, 0.17515110715076024, 0.18556249772122052, 0.18853510177058982, 0.19113657041848559, 0.16487138286569675, 0.18057013771123487, 0.15850837754103758, 0.13905902421874552, 0.12551811367378748, 0.12551803097880523, 0.12370395115282709, 0.13149157538092845, 0.12101831789812498, 0.11862153821647942, 0.11293012842010358, 0.10945352799689609, 0.1075385292819346, 0.10753848793444346, 0.10753848793444346, 0.10753847759757068, 0.1075384569238251, 0.10544320382126843, 0.10544314180003173, 0.10544310045254059, 0.11063993223372663, 0.1021747259946799, 0.1021746639734432, 0.10217439521475084, 0.11685381926493439, 0.2010440095056982, 0.09563975502107726, 0.09396279381256961, 0.09396279381256961, 0.09396277313882405, 0.0939627421282057, 0.11109657392580172, 0.12819537406153514, 0.11109649123081945, 0.1250879033654193, 0.11713176743720456, 0.10704924374560984, 0.10399854315481989, 0.10294764498330564, 0.10319936850932458, 0.19969423989315271, 0.22068147473105862, 0.16751528159950027, 0.15327570015111008, 0.1399983775531898, 0.13737372870041517, 0.1306069813690823, 0.13060686165784835, 0.11285157076261328, 0.11285155081074096, 0.11285150093106014, 0.11285144107544315, 0.11012551651873549, 0.11012547661499084, 0.10254913218429984, 0.10254912220836368, 0.10254908230461902, 0.13052100875122427, 0.15572678766651016, 0.12013821400711291, 0.08604098294855905, 0.08577948373390222, 0.08577948373390222, 0.0857794637820299, 0.08577944383015756, 0.08577944383015756, 0.08577941390234907, 0.08577937399860443, 0.08577934407079593, 0.10015210426697038, 0.11239608946925497, 0.10015216412258736, 0.10705627011895703, 0.15051385224827724, 0.11644187028415348, 0.10196610854708972, 0.12232605651902755, 0.10260395992945506, 0.09061267516613099, 0.09063919120445388, 0.22512865287912298, 0.182914236636709, 0.14798585250403656, 0.1448510332031526, 0.1353320910982116, 0.13533205249610344, 0.1273950054826932, 0.12739479317109828, 0.1357858009765241, 0.13578577202494296, 0.1078894760334513, 0.10788942778081609, 0.10788938917870793, 0.10758773300445575, 0.10429417218427196, 0.10429414323269084, 0.10304759430531292, 0.10304755570320476, 0.12245084746897274, 0.09957496795588065, 0.09957490040219136, 0.0979467020819172, 0.08557918495865971, 0.08557917530813267, 0.08557915600707859, 0.08557914635655155, 0.08557912705549746, 0.11253054959491747, 0.08106656956263823, 0.08106655991211119, 0.09910333704885275, 0.09580578091047394, 0.10383484569922152, 0.1038347684950052, 0.11968186999769162, 0.09580567475467648, 0.0958058195125821, 0.10624607813308733, 0.1329749402178844, 0.11059477932731492, 0.11138790789219158, 0.10640283164381667, 0.10379080069380574, 0.19750192379646417, 0.15161445039975818, 0.14728258913509243, 0.126197810721084, 0.1261977217642195, 0.12360748467963363, 0.12066714006346736, 0.10834429255718937, 0.09814829693267302, 0.11130747240047069, 0.08927072210110322, 0.10695748172682151, 0.10481718846283518, 0.07962818050470907, 0.07962818050470907, 0.07962812713059038, 0.07837524975540136, 0.07837523196402847, 0.07837521417265557, 0.07837520527696912, 0.07837520527696912, 0.07837519638128267, 0.07837519638128267, 0.07837516969422333, 0.07837513411147752, 0.08625112581436122, 0.07399033906459593, 0.07122483026990185, 0.0712248213742154, 0.07122480803068573, 0.16747430289940832, 0.07964457525483491, 0.11394072012903836, 0.12303403314837368, 0.09358937327139194, 0.12466331370428685, 0.1005969235846744, 0.09162202994335057, 0.10467172619801818, 0.09494949704241226, 0.09348777563645586, 0.10621066216235348, 0.089419724849127, 0.0833231106196135, 0.09669435925235964, 0.08782636507509561, 0.08777268850306126, 0.0943716866247922], \"Total\": [0.0, 0.0, 0.0, 0.0, 0.0, 0.0, 0.0, 1.0, 0.0, 0.0, 0.0, 0.0, 0.0, 0.0, 0.0, 0.0, 0.0, 1.0, 0.0, 1.0, 0.0, 0.0, 1.0, 0.0, 0.0, 0.0, 0.0, 0.0, 1.0, 0.0, 0.5948315841475421, 0.5742897607532559, 0.5137839466406561, 0.4989614354872731, 0.6021679810405509, 0.492897526717449, 0.4715481851539993, 0.45139236363710944, 0.43966368289377555, 0.4812362896722033, 0.43150252447128656, 0.6272419796253695, 0.4204552611519239, 0.4204552412651265, 0.42045502802713053, 0.4944053160221092, 0.4877469416741584, 0.41169073451862775, 0.41169068866228953, 0.41169060265629975, 0.5786411111816666, 0.40753293385931183, 0.6709118946846939, 0.394684449707406, 0.39468443937091774, 0.46223506257856756, 0.3853407693948852, 0.38534075846815513, 0.3853406829914924, 0.38534069386985104, 0.8248850858196942, 1.2734006966499423, 1.004290189408773, 0.6165952048973934, 0.5215441783676633, 0.8754695222179812, 0.7141484409587797, 1.3192039861735412, 0.7036173026940118, 0.8867847636800481, 0.6704179490768922, 1.3564613461942188, 0.829058291332952, 0.5068956658333035, 0.503617216477765, 0.48311744849377586, 0.4578677059795145, 0.4542928626565514, 0.4358174720228931, 0.5518744010484828, 0.4149146666115629, 0.414638250883435, 0.40626783944276734, 0.4062675645302053, 0.39423996014742524, 0.3942398603005196, 0.4917097061406626, 0.39282087794735554, 0.38364140570448374, 0.3836412827063855, 0.38364118785978624, 0.3836411946394717, 0.38064051052043796, 0.37510336482482504, 0.3751033400031606, 0.375103278826404, 0.44637180797677306, 0.36640413430953434, 0.3664040812678648, 0.36640403387165144, 0.3664040354399147, 0.3664039477135604, 0.366403914340476, 0.5748885038597886, 0.5004537938709386, 0.5492019564276125, 0.6023031962751249, 0.7538628829962559, 0.47217032420184957, 0.4946725164914059, 0.757071719634516, 1.004290189408773, 0.9222494623015687, 0.9435560880168126, 1.3564613461942188, 0.5133673927177062, 0.5237849340510201, 0.5776480577246756, 0.678979783202697, 0.5804947971357639, 0.8996144427140588, 0.8188220994805461, 1.0160996524847434, 0.505639860396881, 0.4561676505296671, 0.4561675114023656, 0.45478666387951283, 0.4413219947326057, 0.4379370681620082, 0.8252815826196697, 0.43465452953243383, 0.42964623468503116, 0.4700554172563068, 0.48620791158678084, 0.42117252285062695, 0.4211722302413378, 0.41242190855056665, 0.4124219019676301, 0.40352657579468343, 0.40352628463220597, 0.3978715896177508, 0.39744893705213313, 0.3957497483160202, 0.4297512864199559, 0.3944359919111734, 0.3930663647074433, 0.39306633507732675, 0.3930663072669499, 0.6146555076849629, 0.5350752520712533, 0.38027802967265356, 0.3802779293270877, 0.4233252465707128, 0.530541914832019, 0.6588249464697926, 1.0178898438598727, 0.7397736395964988, 0.7284017069218556, 0.5553074461869388, 0.6370059601113359, 0.5120724560722236, 0.5379599517659085, 1.0160996524847434, 0.7237508605779086, 0.5322043481238471, 0.6682349135283697, 0.48562844125569404, 0.47248835480234486, 0.47208653178385973, 0.47208650022071, 0.44845337604263114, 0.5905952893265424, 0.4423663606746033, 0.4009596408973078, 0.40060004742388894, 0.4002788889676263, 0.40027868803231004, 0.4000219792111715, 0.3884577108787057, 0.38845768399797714, 0.38845764690303547, 0.3820843978756056, 0.38208437877782947, 0.3820843181817869, 0.4120470052114507, 0.36738429023192415, 0.3608002912576766, 0.36011056645873607, 0.5826877800596714, 0.3766521499195308, 0.4134738927501961, 0.3958616304809236, 0.35074347961481983, 0.4851206279125058, 0.7264009369184924, 1.0178898438598727, 0.47152912815698517, 0.5024184409284197, 0.9503025950857913, 1.3564613461942188, 1.2734006966499423, 1.059335368985383, 0.9435560880168126, 0.9229940465219154, 1.3192039861735412, 0.4846283752237246, 0.4646390688231549, 0.45701365275812506, 0.42265693035610574, 0.4157409762921019, 0.47478110171314425, 0.4020830943127409, 0.3985255224126671, 0.3943712033903456, 0.3943711665677066, 0.3943711088134287, 0.38372197543415937, 0.38372190879386514, 0.38372188957377107, 0.3837218790378633, 0.3807594687779673, 0.3807594439600343, 0.3807593842787326, 0.3807593389780668, 0.3777206499629284, 0.37772062709810683, 0.4030299333177058, 0.40439804209513763, 0.36734355092516136, 0.40089841934609827, 0.49607808123651603, 0.5740353115474025, 0.450208496742315, 0.39059497557271206, 0.3548329738064964, 0.6660633026016605, 0.4962406638932617, 0.6704179490768922, 0.5088406471847037, 0.8026459182542082, 0.8996144427140588, 0.5305761147903114, 0.7856408358134792, 0.5176110645103329, 0.5909862947516092, 0.8367731175696476, 0.678979783202697, 0.5687919693976252, 0.9222494623015687, 0.5989112811816696, 0.8620137997950656, 0.7005423759212104, 0.504461122505129, 0.47737137230420096, 0.4729420701275687, 0.4695067005971361, 0.44738473764322934, 0.4252141353774958, 0.40262326736424564, 0.40262310041145644, 0.6231950127714112, 0.39750362337297046, 0.5565540692832277, 0.3875007269675265, 0.38148528310235696, 0.3814852591459995, 0.3814850762857574, 0.5501685018950512, 0.37953480898208525, 0.37953479194668294, 0.3795347159469972, 0.3775243280585631, 0.37752427491390084, 0.3753104249694868, 0.6040204560891032, 0.416411119179645, 0.5666026022945133, 0.37225854047894513, 0.3722585336391544, 0.5061126759721186, 0.3668767280699144, 0.36687666876770164, 0.8252815826196697, 1.3192039861735412, 0.8867847636800481, 0.8184914636654719, 0.7159406000328556, 1.059335368985383, 0.8367731175696476, 0.8268374458286697, 0.5364531025012998, 0.9503025950857913, 1.0160996524847434, 0.8620137997950656, 0.6345830270449417, 0.8188220994805461, 0.9827076471011997, 1.2734006966499423, 1.3564613461942188, 0.7681585559063546, 0.43384521948011373, 0.41178339868315905, 0.3923340540153041, 0.3787931502081397, 0.37879307703417536, 0.3769789742072332, 0.40431931813023403, 0.374293318745687, 0.3831572486091676, 0.3662051240248408, 0.3627285318344305, 0.36081353235341823, 0.36081349646972866, 0.36081349770426036, 0.3608134866407972, 0.360813472241022, 0.35871819451938985, 0.3587181583791584, 0.3587181206447325, 0.3789464654300178, 0.3554497345777906, 0.3554496800199932, 0.355449467402529, 0.4097134939544064, 0.719035277313117, 0.3489147390108455, 0.34723776707846343, 0.3472377708262847, 0.3472377482946353, 0.34723772810842146, 0.4298372019784929, 0.5740353115474025, 0.4710370047503191, 0.8026459182542082, 0.6816128801276207, 0.8184914636654719, 0.5859363965052761, 0.4977043948668483, 0.8367731175696476, 0.45355729628496, 0.5098239928533335, 0.4213783877749155, 0.40713875696510166, 0.3938614808755845, 0.3912367957988454, 0.3844699974998341, 0.3844698869998192, 0.3667146100063141, 0.36671459785492533, 0.3667145625703152, 0.3667145104262908, 0.3639885713422796, 0.36398853040242174, 0.35641215687061234, 0.3564121451377028, 0.3564121171452406, 0.4710370047503191, 0.5764725861437253, 0.46909420811136104, 0.3399040315447315, 0.33964249836925015, 0.33964249909011035, 0.33964248462219443, 0.33964246417527844, 0.33964246851647006, 0.3396424432252149, 0.3396424041688733, 0.3396423758795533, 0.4104475492218338, 0.47063709537872844, 0.4300375961659524, 0.49633183648280704, 1.059335368985383, 0.6660633026016605, 0.5364531025012998, 0.9229940465219154, 0.9503025950857913, 0.47733678515492606, 0.5989631733351917, 0.479636657517417, 0.43742225292973574, 0.4024937943598735, 0.39935893357009683, 0.38983998744727205, 0.3898399560849652, 0.38190293919390755, 0.3819027841872741, 0.42722641769644387, 0.42722641620856266, 0.36239737115757076, 0.36239732335852226, 0.36239728605980076, 0.3620956343111127, 0.35880205597279274, 0.35880204432815277, 0.35755550111054785, 0.35755547033548263, 0.4325415468795743, 0.35408284702649584, 0.3540827882483923, 0.3524545983934446, 0.3400870544733539, 0.34008704555983754, 0.340087030599975, 0.3400870193570972, 0.3400870033772719, 0.45495816491673263, 0.33557442430583223, 0.3355744216631613, 0.4150512300316905, 0.40657178054900306, 0.44687552171594697, 0.4534507373472718, 0.5638409015033207, 0.4096794819784329, 0.42472424188212055, 0.5224101678256762, 0.8754695222179812, 0.588603786284448, 0.6169284865433826, 0.5639953338517794, 0.6315593051070121, 0.45339322984735286, 0.4075056872062699, 0.4031738172667054, 0.38208902881382567, 0.3820889621397047, 0.3795076913185161, 0.37655831932795203, 0.3642354566918136, 0.35405141382312183, 0.4222429852577336, 0.345161880255892, 0.42250818808487184, 0.42036794752223156, 0.33551933232745834, 0.33551933408483214, 0.33551929283347787, 0.3342663991305911, 0.3342663875345991, 0.3342663737241212, 0.33426636084753975, 0.3342663694115934, 0.3342663559327483, 0.3342663578503364, 0.33426633772839026, 0.3342663111032633, 0.36798773631068443, 0.3298815090977033, 0.32711597061298864, 0.32711596203350224, 0.3271159552438415, 0.829058291332952, 0.3880183972599517, 0.709588734033906, 0.8867847636800481, 0.5274582914766944, 0.9503025950857913, 0.6130261013535859, 0.5168623903884675, 0.8184914636654719, 0.6099040649369087, 0.5848639267148839, 0.8876064631982785, 0.5325947235485372, 0.45184094300856953, 0.9827076471011997, 0.7036173026940118, 0.7237508605779086, 1.3564613461942188], \"Category\": [\"Default\", \"Default\", \"Default\", \"Default\", \"Default\", \"Default\", \"Default\", \"Default\", \"Default\", \"Default\", \"Default\", \"Default\", \"Default\", \"Default\", \"Default\", \"Default\", \"Default\", \"Default\", \"Default\", \"Default\", \"Default\", \"Default\", \"Default\", \"Default\", \"Default\", \"Default\", \"Default\", \"Default\", \"Default\", \"Default\", \"Topic1\", \"Topic1\", \"Topic1\", \"Topic1\", \"Topic1\", \"Topic1\", \"Topic1\", \"Topic1\", \"Topic1\", \"Topic1\", \"Topic1\", \"Topic1\", \"Topic1\", \"Topic1\", \"Topic1\", \"Topic1\", \"Topic1\", \"Topic1\", \"Topic1\", \"Topic1\", \"Topic1\", \"Topic1\", \"Topic1\", \"Topic1\", \"Topic1\", \"Topic1\", \"Topic1\", \"Topic1\", \"Topic1\", \"Topic1\", \"Topic1\", \"Topic1\", \"Topic1\", \"Topic1\", \"Topic1\", \"Topic1\", \"Topic1\", \"Topic1\", \"Topic1\", \"Topic1\", \"Topic1\", \"Topic1\", \"Topic1\", \"Topic2\", \"Topic2\", \"Topic2\", \"Topic2\", \"Topic2\", \"Topic2\", \"Topic2\", \"Topic2\", \"Topic2\", \"Topic2\", \"Topic2\", \"Topic2\", \"Topic2\", \"Topic2\", \"Topic2\", \"Topic2\", \"Topic2\", \"Topic2\", \"Topic2\", \"Topic2\", \"Topic2\", \"Topic2\", \"Topic2\", \"Topic2\", \"Topic2\", \"Topic2\", \"Topic2\", \"Topic2\", \"Topic2\", \"Topic2\", \"Topic2\", \"Topic2\", \"Topic2\", \"Topic2\", \"Topic2\", \"Topic2\", \"Topic2\", \"Topic2\", \"Topic2\", \"Topic2\", \"Topic2\", \"Topic2\", \"Topic2\", \"Topic2\", \"Topic2\", \"Topic2\", \"Topic2\", \"Topic2\", \"Topic2\", \"Topic2\", \"Topic3\", \"Topic3\", \"Topic3\", \"Topic3\", \"Topic3\", \"Topic3\", \"Topic3\", \"Topic3\", \"Topic3\", \"Topic3\", \"Topic3\", \"Topic3\", \"Topic3\", \"Topic3\", \"Topic3\", \"Topic3\", \"Topic3\", \"Topic3\", \"Topic3\", \"Topic3\", \"Topic3\", \"Topic3\", \"Topic3\", \"Topic3\", \"Topic3\", \"Topic3\", \"Topic3\", \"Topic3\", \"Topic3\", \"Topic3\", \"Topic3\", \"Topic3\", \"Topic3\", \"Topic3\", \"Topic3\", \"Topic3\", \"Topic3\", \"Topic3\", \"Topic3\", \"Topic3\", \"Topic3\", \"Topic4\", \"Topic4\", \"Topic4\", \"Topic4\", \"Topic4\", \"Topic4\", \"Topic4\", \"Topic4\", \"Topic4\", \"Topic4\", \"Topic4\", \"Topic4\", \"Topic4\", \"Topic4\", \"Topic4\", \"Topic4\", \"Topic4\", \"Topic4\", \"Topic4\", \"Topic4\", \"Topic4\", \"Topic4\", \"Topic4\", \"Topic4\", \"Topic4\", \"Topic4\", \"Topic4\", \"Topic4\", \"Topic4\", \"Topic4\", \"Topic4\", \"Topic4\", \"Topic4\", \"Topic4\", \"Topic4\", \"Topic4\", \"Topic4\", \"Topic4\", \"Topic4\", \"Topic4\", \"Topic4\", \"Topic5\", \"Topic5\", \"Topic5\", \"Topic5\", \"Topic5\", \"Topic5\", \"Topic5\", \"Topic5\", \"Topic5\", \"Topic5\", \"Topic5\", \"Topic5\", \"Topic5\", \"Topic5\", \"Topic5\", \"Topic5\", \"Topic5\", \"Topic5\", \"Topic5\", \"Topic5\", \"Topic5\", \"Topic5\", \"Topic5\", \"Topic5\", \"Topic5\", \"Topic5\", \"Topic5\", \"Topic5\", \"Topic5\", \"Topic5\", \"Topic5\", \"Topic5\", \"Topic5\", \"Topic5\", \"Topic5\", \"Topic5\", \"Topic5\", \"Topic5\", \"Topic5\", \"Topic5\", \"Topic5\", \"Topic5\", \"Topic5\", \"Topic5\", \"Topic5\", \"Topic5\", \"Topic5\", \"Topic6\", \"Topic6\", \"Topic6\", \"Topic6\", \"Topic6\", \"Topic6\", \"Topic6\", \"Topic6\", \"Topic6\", \"Topic6\", \"Topic6\", \"Topic6\", \"Topic6\", \"Topic6\", \"Topic6\", \"Topic6\", \"Topic6\", \"Topic6\", \"Topic6\", \"Topic6\", \"Topic6\", \"Topic6\", \"Topic6\", \"Topic6\", \"Topic6\", \"Topic6\", \"Topic6\", \"Topic6\", \"Topic6\", \"Topic6\", \"Topic6\", \"Topic6\", \"Topic6\", \"Topic6\", \"Topic6\", \"Topic6\", \"Topic6\", \"Topic6\", \"Topic6\", \"Topic6\", \"Topic6\", \"Topic6\", \"Topic6\", \"Topic6\", \"Topic6\", \"Topic6\", \"Topic6\", \"Topic6\", \"Topic7\", \"Topic7\", \"Topic7\", \"Topic7\", \"Topic7\", \"Topic7\", \"Topic7\", \"Topic7\", \"Topic7\", \"Topic7\", \"Topic7\", \"Topic7\", \"Topic7\", \"Topic7\", \"Topic7\", \"Topic7\", \"Topic7\", \"Topic7\", \"Topic7\", \"Topic7\", \"Topic7\", \"Topic7\", \"Topic7\", \"Topic7\", \"Topic7\", \"Topic7\", \"Topic7\", \"Topic7\", \"Topic7\", \"Topic7\", \"Topic7\", \"Topic7\", \"Topic7\", \"Topic7\", \"Topic7\", \"Topic7\", \"Topic7\", \"Topic7\", \"Topic7\", \"Topic8\", \"Topic8\", \"Topic8\", \"Topic8\", \"Topic8\", \"Topic8\", \"Topic8\", \"Topic8\", \"Topic8\", \"Topic8\", \"Topic8\", \"Topic8\", \"Topic8\", \"Topic8\", \"Topic8\", \"Topic8\", \"Topic8\", \"Topic8\", \"Topic8\", \"Topic8\", \"Topic8\", \"Topic8\", \"Topic8\", \"Topic8\", \"Topic8\", \"Topic8\", \"Topic8\", \"Topic8\", \"Topic8\", \"Topic8\", \"Topic8\", \"Topic8\", \"Topic8\", \"Topic8\", \"Topic8\", \"Topic8\", \"Topic8\", \"Topic8\", \"Topic8\", \"Topic8\", \"Topic9\", \"Topic9\", \"Topic9\", \"Topic9\", \"Topic9\", \"Topic9\", \"Topic9\", \"Topic9\", \"Topic9\", \"Topic9\", \"Topic9\", \"Topic9\", \"Topic9\", \"Topic9\", \"Topic9\", \"Topic9\", \"Topic9\", \"Topic9\", \"Topic9\", \"Topic9\", \"Topic9\", \"Topic9\", \"Topic9\", \"Topic9\", \"Topic9\", \"Topic9\", \"Topic9\", \"Topic9\", \"Topic9\", \"Topic9\", \"Topic9\", \"Topic9\", \"Topic9\", \"Topic9\", \"Topic9\", \"Topic9\", \"Topic9\", \"Topic9\", \"Topic9\", \"Topic9\", \"Topic9\", \"Topic9\", \"Topic9\", \"Topic10\", \"Topic10\", \"Topic10\", \"Topic10\", \"Topic10\", \"Topic10\", \"Topic10\", \"Topic10\", \"Topic10\", \"Topic10\", \"Topic10\", \"Topic10\", \"Topic10\", \"Topic10\", \"Topic10\", \"Topic10\", \"Topic10\", \"Topic10\", \"Topic10\", \"Topic10\", \"Topic10\", \"Topic10\", \"Topic10\", \"Topic10\", \"Topic10\", \"Topic10\", \"Topic10\", \"Topic10\", \"Topic10\", \"Topic10\", \"Topic10\", \"Topic10\", \"Topic10\", \"Topic10\", \"Topic10\", \"Topic10\", \"Topic10\", \"Topic10\", \"Topic10\", \"Topic10\", \"Topic10\", \"Topic10\", \"Topic10\", \"Topic10\", \"Topic10\", \"Topic10\", \"Topic10\", \"Topic10\"], \"logprob\": [30.0, 29.0, 28.0, 27.0, 26.0, 25.0, 24.0, 23.0, 22.0, 21.0, 20.0, 19.0, 18.0, 17.0, 16.0, 15.0, 14.0, 13.0, 12.0, 11.0, 10.0, 9.0, 8.0, 7.0, 6.0, 5.0, 4.0, 3.0, 2.0, 1.0, -5.2744, -5.3348, -5.5385, -5.5942, -5.4116, -5.6183, -5.7082, -5.8012, -5.8596, -5.7929, -5.9023, -5.534, -5.9632, -5.9632, -5.9632, -5.8054, -5.8386, -6.0144, -6.0144, -6.0144, -5.6771, -6.0396, -5.5817, -6.1217, -6.1217, -5.9745, -6.186, -6.186, -6.186, -6.186, -5.4285, -5.0602, -5.3139, -5.7655, -5.9202, -5.6084, -5.7994, -5.5858, -5.8379, -5.7699, -5.8997, -5.7793, -5.9166, -5.5175, -5.5301, -5.613, -5.7255, -5.7425, -5.8354, -5.6009, -5.952, -5.9536, -6.0045, -6.0045, -6.0825, -6.0825, -5.8674, -6.0921, -6.1566, -6.1566, -6.1566, -6.1566, -6.1786, -6.2206, -6.2206, -6.2206, -6.0871, -6.2903, -6.2903, -6.2903, -6.2903, -6.2903, -6.2903, -5.855, -5.9979, -5.9191, -5.8387, -5.6516, -6.0751, -6.0376, -5.6974, -5.5006, -5.5639, -5.6228, -5.5573, -6.0289, -6.0223, -5.9937, -5.934, -6.0311, -5.989, -6.0024, -6.0332, -5.5139, -5.7253, -5.7253, -5.7319, -5.7986, -5.8161, -5.1843, -5.8334, -5.8603, -5.7774, -5.7618, -5.9076, -5.9076, -5.9588, -5.9588, -6.0138, -6.0138, -6.0504, -6.0548, -6.0645, -5.9858, -6.0733, -6.0826, -6.0826, -6.0826, -5.6866, -5.8298, -6.1736, -6.1736, -6.0817, -5.8659, -5.7067, -5.4471, -5.7062, -5.7426, -5.9161, -5.9415, -6.0087, -6.0171, -5.9561, -6.0001, -5.3487, -5.1966, -5.5273, -5.5841, -5.5859, -5.5859, -5.6971, -5.5155, -5.8544, -5.9667, -5.969, -5.9711, -5.9711, -5.9728, -6.0516, -6.0516, -6.0516, -6.0979, -6.0979, -6.0979, -6.0884, -6.2136, -6.27, -6.2761, -5.8004, -6.2496, -6.1713, -6.2152, -6.363, -6.0486, -5.6791, -5.4048, -6.0943, -6.1021, -5.8384, -5.7087, -5.8506, -5.9328, -5.9987, -6.0087, -6.055, -5.4801, -5.5686, -5.6046, -5.7849, -5.8254, -5.7432, -5.9107, -5.9342, -5.9623, -5.9623, -5.9623, -6.0383, -6.0383, -6.0383, -6.0383, -6.0604, -6.0604, -6.0604, -6.0604, -6.0837, -6.0837, -6.0673, -6.0673, -6.1676, -6.0837, -5.8743, -5.7865, -6.0337, -6.1785, -6.279, -5.6619, -5.9573, -5.7336, -5.9439, -5.6924, -5.6688, -5.9532, -5.811, -5.9661, -5.924, -5.83, -5.8961, -5.9553, -5.8742, -5.9865, -5.9532, -6.0189, -5.3906, -5.5028, -5.5224, -5.5379, -5.6521, -5.7622, -5.8995, -5.8995, -5.4739, -5.9334, -5.6258, -6.0032, -6.0477, -6.0477, -6.0477, -5.6823, -6.0625, -6.0625, -6.0625, -6.0781, -6.0781, -6.0954, -5.6212, -5.9976, -5.6938, -6.1199, -6.1199, -5.8418, -6.1646, -6.1646, -5.4241, -5.0261, -5.3836, -5.4817, -5.6279, -5.371, -5.5428, -5.6022, -5.8873, -5.6381, -5.6395, -5.7249, -5.8489, -5.7676, -5.7098, -5.6939, -5.6802, -5.8281, -5.5048, -5.6351, -5.766, -5.8685, -5.8685, -5.883, -5.822, -5.905, -5.925, -5.9741, -6.0054, -6.0231, -6.0231, -6.0231, -6.0231, -6.0231, -6.0427, -6.0427, -6.0427, -5.9946, -6.0742, -6.0742, -6.0742, -5.94, -5.3974, -6.1403, -6.158, -6.158, -6.158, -6.158, -5.9905, -5.8474, -5.9905, -5.8719, -5.9376, -6.0276, -6.0565, -6.0667, -6.0643, -5.3686, -5.2687, -5.5443, -5.6331, -5.7237, -5.7427, -5.7932, -5.7932, -5.9393, -5.9393, -5.9393, -5.9393, -5.9638, -5.9638, -6.035, -6.035, -6.035, -5.7938, -5.6173, -5.8767, -6.2106, -6.2136, -6.2136, -6.2136, -6.2136, -6.2136, -6.2136, -6.2136, -6.2136, -6.0587, -5.9433, -6.0587, -5.992, -5.6513, -5.908, -6.0407, -5.8587, -6.0345, -6.1588, -6.1585, -5.2155, -5.4232, -5.6351, -5.6565, -5.7245, -5.7245, -5.7849, -5.7849, -5.7211, -5.7211, -5.9511, -5.9511, -5.9511, -5.9539, -5.985, -5.985, -5.997, -5.997, -5.8245, -6.0313, -6.0313, -6.0478, -6.1828, -6.1828, -6.1828, -6.1828, -6.1828, -5.909, -6.2369, -6.2369, -6.036, -6.0699, -5.9894, -5.9894, -5.8474, -6.0699, -6.0699, -5.9665, -5.7421, -5.9263, -5.9192, -5.965, -5.9898, -5.265, -5.5294, -5.5584, -5.7129, -5.7129, -5.7337, -5.7577, -5.8655, -5.9643, -5.8385, -6.0591, -5.8783, -5.8985, -6.1734, -6.1734, -6.1734, -6.1893, -6.1893, -6.1893, -6.1893, -6.1893, -6.1893, -6.1893, -6.1893, -6.1893, -6.0935, -6.2468, -6.2849, -6.2849, -6.2849, -5.4299, -6.1732, -5.8151, -5.7383, -6.0118, -5.7251, -5.9396, -6.0331, -5.8999, -5.9974, -6.0129, -5.8853, -6.0574, -6.128, -5.9792, -6.0754, -6.076, -6.0035], \"loglift\": [30.0, 29.0, 28.0, 27.0, 26.0, 25.0, 24.0, 23.0, 22.0, 21.0, 20.0, 19.0, 18.0, 17.0, 16.0, 15.0, 14.0, 13.0, 12.0, 11.0, 10.0, 9.0, 8.0, 7.0, 6.0, 5.0, 4.0, 3.0, 2.0, 1.0, 1.5314, 1.5061, 1.4137, 1.3873, 1.3818, 1.3754, 1.3298, 1.2805, 1.2484, 1.2247, 1.2244, 1.2187, 1.1894, 1.1894, 1.1894, 1.1852, 1.1656, 1.1594, 1.1594, 1.1594, 1.1563, 1.1443, 1.1037, 1.0942, 1.0942, 1.0834, 1.0539, 1.0539, 1.0539, 1.0539, 1.0503, 0.9843, 0.9681, 1.0043, 1.017, 0.8109, 0.8236, 0.4234, 0.7999, 0.6365, 0.7865, 0.2021, 0.5571, 1.4483, 1.4421, 1.4008, 1.3419, 1.3327, 1.2814, 1.2798, 1.214, 1.213, 1.1825, 1.1825, 1.1346, 1.1346, 1.1288, 1.1286, 1.0877, 1.0877, 1.0877, 1.0877, 1.0735, 1.0462, 1.0462, 1.0462, 1.0058, 1.0, 1.0, 1.0, 1.0, 1.0, 1.0, 0.9848, 0.9806, 0.9665, 0.9545, 0.9172, 0.9616, 0.9525, 0.8671, 0.7814, 0.8033, 0.7216, 0.4241, 0.9241, 0.9107, 0.8413, 0.7395, 0.7991, 0.4031, 0.4838, 0.2371, 1.4543, 1.3458, 1.3458, 1.3423, 1.3056, 1.2958, 1.294, 1.2861, 1.2707, 1.2638, 1.2455, 1.2434, 1.2434, 1.2131, 1.2131, 1.18, 1.18, 1.1575, 1.1541, 1.1488, 1.145, 1.1433, 1.1375, 1.1375, 1.1375, 1.0863, 1.0819, 1.0795, 1.0795, 1.0642, 1.0542, 0.9968, 0.8214, 0.8815, 0.8606, 0.9584, 0.7957, 0.9468, 0.8891, 0.3142, 0.6094, 1.5683, 1.4928, 1.4812, 1.4519, 1.451, 1.451, 1.3912, 1.2974, 1.2475, 1.2335, 1.232, 1.2307, 1.2307, 1.2297, 1.1802, 1.1802, 1.1802, 1.1505, 1.1505, 1.1505, 1.0845, 1.0741, 1.0357, 1.0315, 1.026, 1.0131, 0.9981, 0.9978, 0.971, 0.961, 0.9268, 0.8638, 0.9437, 0.8724, 0.4989, 0.2727, 0.194, 0.2959, 0.3457, 0.3577, -0.0458, 1.5305, 1.4841, 1.4647, 1.3626, 1.3385, 1.288, 1.2866, 1.272, 1.2544, 1.2544, 1.2544, 1.2058, 1.2058, 1.2058, 1.2058, 1.1914, 1.1914, 1.1914, 1.1914, 1.1761, 1.1761, 1.1277, 1.1243, 1.1201, 1.1166, 1.113, 1.0549, 1.0506, 1.0478, 1.0433, 1.0307, 1.0297, 0.9525, 1.018, 0.8137, 0.7232, 0.9669, 0.7165, 0.9787, 0.8882, 0.6344, 0.7774, 0.8952, 0.493, 0.8124, 0.4816, 0.6233, 1.5799, 1.5229, 1.5127, 1.5045, 1.4385, 1.3792, 1.2965, 1.2965, 1.2852, 1.2754, 1.2464, 1.2311, 1.2023, 1.2023, 1.2023, 1.2015, 1.1926, 1.1926, 1.1926, 1.1823, 1.1823, 1.1708, 1.1692, 1.1648, 1.1606, 1.1545, 1.1545, 1.1255, 1.1244, 1.1244, 1.0542, 0.9831, 1.0229, 1.0049, 0.9926, 0.8577, 0.9216, 0.8743, 1.0218, 0.6992, 0.6308, 0.7099, 0.8922, 0.7186, 0.5939, 0.3506, 0.3011, 0.722, 1.6165, 1.5384, 1.4559, 1.3886, 1.3886, 1.3788, 1.3698, 1.364, 1.3206, 1.3167, 1.295, 1.2826, 1.2826, 1.2826, 1.2826, 1.2826, 1.2687, 1.2687, 1.2687, 1.262, 1.2464, 1.2464, 1.2464, 1.2386, 1.2187, 1.1989, 1.186, 1.186, 1.186, 1.186, 1.1401, 0.994, 1.0486, 0.6342, 0.7319, 0.4589, 0.7643, 0.9173, 0.4002, 1.7083, 1.6913, 1.6062, 1.5517, 1.4943, 1.482, 1.449, 1.449, 1.3501, 1.3501, 1.3501, 1.3501, 1.3331, 1.3331, 1.2829, 1.2829, 1.2829, 1.2452, 1.2198, 1.1665, 1.1548, 1.1525, 1.1525, 1.1525, 1.1525, 1.1525, 1.1525, 1.1525, 1.1525, 1.1181, 1.0966, 1.0715, 0.9948, 0.5773, 0.7847, 0.8683, 0.5077, 0.3027, 0.867, 0.6403, 1.8055, 1.6899, 1.5612, 1.5477, 1.5038, 1.5038, 1.4639, 1.4639, 1.4156, 1.4156, 1.3502, 1.3502, 1.3502, 1.3482, 1.3263, 1.3263, 1.3177, 1.3177, 1.2998, 1.2932, 1.2932, 1.2813, 1.1821, 1.1821, 1.1821, 1.1821, 1.1821, 1.1648, 1.1412, 1.1412, 1.1296, 1.1164, 1.1023, 1.0877, 1.0119, 1.1088, 1.0727, 0.9691, 0.6772, 0.8899, 0.8501, 0.894, 0.756, 1.8122, 1.6545, 1.6362, 1.5355, 1.5355, 1.5215, 1.5052, 1.4308, 1.3603, 1.31, 1.2909, 1.2695, 1.2543, 1.2049, 1.2049, 1.2049, 1.1928, 1.1928, 1.1928, 1.1928, 1.1928, 1.1928, 1.1928, 1.1928, 1.1928, 1.1925, 1.1485, 1.1188, 1.1188, 1.1188, 1.0438, 1.0598, 0.8142, 0.6681, 0.9141, 0.6121, 0.836, 0.9132, 0.5866, 0.7833, 0.8097, 0.5202, 0.8588, 0.9527, 0.3245, 0.5624, 0.5336, -0.0221]}, \"token.table\": {\"Topic\": [], \"Freq\": [], \"Term\": []}, \"R\": 30, \"lambda.step\": 0.01, \"plot.opts\": {\"xlab\": \"PC1\", \"ylab\": \"PC2\"}, \"topic.order\": [4, 2, 5, 1, 10, 9, 7, 3, 8, 6]};\n",
              "\n",
              "function LDAvis_load_lib(url, callback){\n",
              "  var s = document.createElement('script');\n",
              "  s.src = url;\n",
              "  s.async = true;\n",
              "  s.onreadystatechange = s.onload = callback;\n",
              "  s.onerror = function(){console.warn(\"failed to load library \" + url);};\n",
              "  document.getElementsByTagName(\"head\")[0].appendChild(s);\n",
              "}\n",
              "\n",
              "if(typeof(LDAvis) !== \"undefined\"){\n",
              "   // already loaded: just create the visualization\n",
              "   !function(LDAvis){\n",
              "       new LDAvis(\"#\" + \"ldavis_el91571397699704640169945972137\", ldavis_el91571397699704640169945972137_data);\n",
              "   }(LDAvis);\n",
              "}else if(typeof define === \"function\" && define.amd){\n",
              "   // require.js is available: use it to load d3/LDAvis\n",
              "   require.config({paths: {d3: \"https://d3js.org/d3.v5\"}});\n",
              "   require([\"d3\"], function(d3){\n",
              "      window.d3 = d3;\n",
              "      LDAvis_load_lib(\"https://cdn.jsdelivr.net/gh/bmabey/pyLDAvis@3.4.0/pyLDAvis/js/ldavis.v3.0.0.js\", function(){\n",
              "        new LDAvis(\"#\" + \"ldavis_el91571397699704640169945972137\", ldavis_el91571397699704640169945972137_data);\n",
              "      });\n",
              "    });\n",
              "}else{\n",
              "    // require.js not available: dynamically load d3 & LDAvis\n",
              "    LDAvis_load_lib(\"https://d3js.org/d3.v5.js\", function(){\n",
              "         LDAvis_load_lib(\"https://cdn.jsdelivr.net/gh/bmabey/pyLDAvis@3.4.0/pyLDAvis/js/ldavis.v3.0.0.js\", function(){\n",
              "                 new LDAvis(\"#\" + \"ldavis_el91571397699704640169945972137\", ldavis_el91571397699704640169945972137_data);\n",
              "            })\n",
              "         });\n",
              "}\n",
              "</script>"
            ]
          },
          "metadata": {},
          "execution_count": 22
        }
      ]
    },
    {
      "cell_type": "code",
      "source": [
        "lda_model2 = gensim.models.ldamodel.LdaModel(corpus=corpus_tfidf,\n",
        "                                           id2word=dictionary,\n",
        "                                           num_topics=10, \n",
        "                                           random_state=100,\n",
        "                                           update_every=1,\n",
        "                                           passes=10,\n",
        "                                           alpha='auto',\n",
        "                                           per_word_topics=True,\n",
        "                                            )"
      ],
      "metadata": {
        "colab": {
          "base_uri": "https://localhost:8080/"
        },
        "id": "ImL2F7NVIVIC",
        "outputId": "c81a7b5a-7c0b-4f72-e0c3-ac336046b043"
      },
      "execution_count": 20,
      "outputs": [
        {
          "output_type": "stream",
          "name": "stderr",
          "text": [
            "/usr/local/lib/python3.9/dist-packages/ipykernel/ipkernel.py:283: DeprecationWarning: `should_run_async` will not call `transform_cell` automatically in the future. Please pass the result to `transformed_cell` argument and any exception that happen during thetransform in `preprocessing_exc_tuple` in IPython 7.17 and above.\n",
            "  and should_run_async(code)\n"
          ]
        }
      ]
    },
    {
      "cell_type": "code",
      "source": [
        "pprint(lda_model2.print_topics())\n",
        "doc_lda = lda_model2[corpus_tfidf]\n",
        "## topic modeling new improved cleaning 30 topics"
      ],
      "metadata": {
        "colab": {
          "base_uri": "https://localhost:8080/"
        },
        "id": "pbRj6tXBIVFx",
        "outputId": "c6aa3ec2-e67c-49f1-bd6a-61ec57387c88"
      },
      "execution_count": 21,
      "outputs": [
        {
          "output_type": "stream",
          "name": "stdout",
          "text": [
            "[(0,\n",
            "  '0.005*\"mirna\" + 0.005*\"breast\" + 0.004*\"survivorship\" + 0.004*\"endpoint\" + '\n",
            "  '0.004*\"neck\" + 0.003*\"association\" + 0.003*\"prognosis\" + 0.003*\"implant\" + '\n",
            "  '0.003*\"colorectal\" + 0.003*\"pancreatic\"'),\n",
            " (1,\n",
            "  '0.004*\"ki\" + 0.004*\"intervention\" + 0.004*\"immune\" + 0.004*\"colorectal\" + '\n",
            "  '0.004*\"system\" + 0.004*\"tobacco\" + 0.004*\"packaging\" + '\n",
            "  '0.004*\"prognostication\" + 0.003*\"subtypes\" + 0.003*\"sitting\"'),\n",
            " (2,\n",
            "  '0.004*\"advanced\" + 0.004*\"radiotherapy\" + 0.004*\"extensivestage\" + '\n",
            "  '0.004*\"hepatocellular\" + 0.004*\"benefit\" + 0.003*\"caribbean\" + '\n",
            "  '0.003*\"ligation\" + 0.003*\"subsub\" + 0.003*\"gastric\" + 0.003*\"licensed\"'),\n",
            " (3,\n",
            "  '0.004*\"apps\" + 0.004*\"haemoglobin\" + 0.004*\"mir\" + 0.003*\"epithelial\" + '\n",
            "  '0.003*\"progression\" + 0.003*\"anastomotic\" + 0.003*\"esophagectomy\" + '\n",
            "  '0.003*\"leakage\" + 0.003*\"decreased\" + 0.003*\"category\"'),\n",
            " (4,\n",
            "  '0.005*\"chemotherapy\" + 0.004*\"gene\" + 0.004*\"renal\" + 0.004*\"ccrcc\" + '\n",
            "  '0.004*\"radiotherapy\" + 0.003*\"receptor\" + 0.003*\"rapidly\" + '\n",
            "  '0.003*\"advantage\" + 0.003*\"ageing\" + 0.003*\"small\"'),\n",
            " (5,\n",
            "  '0.005*\"pembrolizumab\" + 0.005*\"tumor\" + 0.004*\"beclin\" + '\n",
            "  '0.004*\"transfusion\" + 0.004*\"bone\" + 0.003*\"prognosis\" + 0.003*\"variety\" + '\n",
            "  '0.003*\"sorafenib\" + 0.003*\"carcinoma\" + 0.003*\"order\"'),\n",
            " (6,\n",
            "  '0.011*\"ovarian\" + 0.005*\"prognostic\" + 0.005*\"controversial\" + '\n",
            "  '0.005*\"transformation\" + 0.004*\"yielded\" + 0.004*\"nonsmallcell\" + '\n",
            "  '0.004*\"brain\" + 0.004*\"ligand\" + 0.004*\"colorectal\" + 0.004*\"impact\"'),\n",
            " (7,\n",
            "  '0.005*\"fluid\" + 0.005*\"dosedense\" + 0.005*\"influence\" + 0.004*\"reported\" + '\n",
            "  '0.004*\"peripheral\" + 0.004*\"breast\" + 0.004*\"ill\" + 0.004*\"critically\" + '\n",
            "  '0.004*\"unclear\" + 0.003*\"initial\"'),\n",
            " (8,\n",
            "  '0.005*\"oral\" + 0.004*\"metformin\" + 0.004*\"rebiopsy\" + 0.004*\"treating\" + '\n",
            "  '0.004*\"firstline\" + 0.004*\"prognosis\" + 0.003*\"atlas\" + 0.003*\"prominins\" + '\n",
            "  '0.003*\"postoperative\" + 0.003*\"gastrectomy\"'),\n",
            " (9,\n",
            "  '0.005*\"thrombocytosis\" + 0.004*\"adenoma\" + 0.004*\"gemcitabine\" + '\n",
            "  '0.004*\"efficacy\" + 0.004*\"reactive\" + 0.004*\"monotherapy\" + 0.003*\"protein\" '\n",
            "  '+ 0.003*\"secondline\" + 0.003*\"lung\" + 0.003*\"prostate\"')]\n"
          ]
        },
        {
          "output_type": "stream",
          "name": "stderr",
          "text": [
            "/usr/local/lib/python3.9/dist-packages/ipykernel/ipkernel.py:283: DeprecationWarning: `should_run_async` will not call `transform_cell` automatically in the future. Please pass the result to `transformed_cell` argument and any exception that happen during thetransform in `preprocessing_exc_tuple` in IPython 7.17 and above.\n",
            "  and should_run_async(code)\n"
          ]
        }
      ]
    },
    {
      "cell_type": "code",
      "source": [
        "# Compute Perplexity\n",
        "print('\\nPerplexity: ', lda_model2.log_perplexity(corpus_tfidf))  # a measure of how good the model is. lower the better.\n",
        "\n",
        "# Compute Coherence Score\n",
        "coherence_model_lda = CoherenceModel(model=lda_model2, texts=data_words, dictionary=dictionary, coherence='c_v')\n",
        "coherence_lda = coherence_model_lda.get_coherence()\n",
        "print('\\nCoherence Score: ', coherence_lda)"
      ],
      "metadata": {
        "colab": {
          "base_uri": "https://localhost:8080/"
        },
        "id": "mVn4-ACJIVDd",
        "outputId": "ba93017c-5f6a-4924-8c92-61cfd38b538b"
      },
      "execution_count": 22,
      "outputs": [
        {
          "output_type": "stream",
          "name": "stderr",
          "text": [
            "/usr/local/lib/python3.9/dist-packages/ipykernel/ipkernel.py:283: DeprecationWarning: `should_run_async` will not call `transform_cell` automatically in the future. Please pass the result to `transformed_cell` argument and any exception that happen during thetransform in `preprocessing_exc_tuple` in IPython 7.17 and above.\n",
            "  and should_run_async(code)\n"
          ]
        },
        {
          "output_type": "stream",
          "name": "stdout",
          "text": [
            "\n",
            "Perplexity:  -11.070228335381456\n",
            "\n",
            "Coherence Score:  0.5871538870649095\n"
          ]
        }
      ]
    },
    {
      "cell_type": "code",
      "source": [
        "import pyLDAvis\n",
        "import pyLDAvis.gensim_models\n",
        "pyLDAvis.enable_notebook()\n",
        "vis = pyLDAvis.gensim_models.prepare(lda_model2, corpus_tfidf, dictionary)\n",
        "vis\n",
        "## number of topics 30 // with improved cleaning"
      ],
      "metadata": {
        "colab": {
          "base_uri": "https://localhost:8080/",
          "height": 951
        },
        "id": "HJv3N5l1IVA7",
        "outputId": "e7642daf-50d4-4a36-d72b-0b57f0832866"
      },
      "execution_count": 23,
      "outputs": [
        {
          "output_type": "stream",
          "name": "stderr",
          "text": [
            "/usr/local/lib/python3.9/dist-packages/ipykernel/ipkernel.py:283: DeprecationWarning: `should_run_async` will not call `transform_cell` automatically in the future. Please pass the result to `transformed_cell` argument and any exception that happen during thetransform in `preprocessing_exc_tuple` in IPython 7.17 and above.\n",
            "  and should_run_async(code)\n",
            "/usr/local/lib/python3.9/dist-packages/pyLDAvis/_prepare.py:243: FutureWarning: In a future version of pandas all arguments of DataFrame.drop except for the argument 'labels' will be keyword-only.\n",
            "  default_term_info = default_term_info.sort_values(\n"
          ]
        },
        {
          "output_type": "execute_result",
          "data": {
            "text/plain": [
              "PreparedData(topic_coordinates=              x         y  topics  cluster       Freq\n",
              "topic                                                \n",
              "4     -0.020582  0.031301       1        1  12.595630\n",
              "0      0.050442 -0.002598       2        1  11.935765\n",
              "2     -0.015535 -0.034969       3        1  11.382337\n",
              "9     -0.010644 -0.013632       4        1  10.838870\n",
              "3      0.002054  0.020998       5        1  10.454121\n",
              "5     -0.003530 -0.005439       6        1  10.001938\n",
              "1     -0.004087 -0.001394       7        1   9.623472\n",
              "8     -0.004168 -0.000193       8        1   9.339032\n",
              "6      0.004198  0.003064       9        1   8.260727\n",
              "7      0.001851  0.002861      10        1   5.568110, topic_info=                Term      Freq     Total Category  logprob  loglift\n",
              "211          ovarian  0.000000  0.000000  Default  30.0000  30.0000\n",
              "2             breast  0.000000  0.000000  Default  29.0000  29.0000\n",
              "1340           fluid  0.000000  0.000000  Default  28.0000  28.0000\n",
              "1224  transformation  0.000000  0.000000  Default  27.0000  27.0000\n",
              "181        dosedense  0.000000  0.000000  Default  26.0000  26.0000\n",
              "...              ...       ...       ...      ...      ...      ...\n",
              "513          present  0.072307  0.504299  Topic10  -5.9963   0.9459\n",
              "292             head  0.074280  0.565823  Topic10  -5.9693   0.8577\n",
              "13        prognostic  0.086085  1.295821  Topic10  -5.8218   0.1766\n",
              "179     chemotherapy  0.077156  0.920189  Topic10  -5.9314   0.4094\n",
              "30         prognosis  0.073465  1.233668  Topic10  -5.9804   0.0672\n",
              "\n",
              "[457 rows x 6 columns], token_table=Empty DataFrame\n",
              "Columns: [Topic, Freq, Term]\n",
              "Index: [], R=30, lambda_step=0.01, plot_opts={'xlab': 'PC1', 'ylab': 'PC2'}, topic_order=[5, 1, 3, 10, 4, 6, 2, 9, 7, 8])"
            ],
            "text/html": [
              "\n",
              "<link rel=\"stylesheet\" type=\"text/css\" href=\"https://cdn.jsdelivr.net/gh/bmabey/pyLDAvis@3.4.0/pyLDAvis/js/ldavis.v1.0.0.css\">\n",
              "\n",
              "\n",
              "<div id=\"ldavis_el1301404308983466887507221310\" style=\"background-color:white;\"></div>\n",
              "<script type=\"text/javascript\">\n",
              "\n",
              "var ldavis_el1301404308983466887507221310_data = {\"mdsDat\": {\"x\": [-0.02058184159088563, 0.050442499822434844, -0.015534708220305157, -0.010643638009293825, 0.002053845535476381, -0.0035297111154356272, -0.004087300509391417, -0.004168309009272596, 0.0041979027830995825, 0.001851260313573374], \"y\": [0.03130118907067062, -0.002598363803333997, -0.03496864505065597, -0.013631772577380824, 0.020997688374856147, -0.0054394393969884715, -0.0013935861185115756, -0.00019260195695912675, 0.0030641826376176327, 0.0028613488206855704], \"topics\": [1, 2, 3, 4, 5, 6, 7, 8, 9, 10], \"cluster\": [1, 1, 1, 1, 1, 1, 1, 1, 1, 1], \"Freq\": [12.595629513868655, 11.935764627582188, 11.38233650932879, 10.838870208485709, 10.45412059766664, 10.0019377478867, 9.62347206489826, 9.339032038665083, 8.260727156863636, 5.568109534754349]}, \"tinfo\": {\"Term\": [\"ovarian\", \"breast\", \"fluid\", \"transformation\", \"dosedense\", \"pembrolizumab\", \"influence\", \"reported\", \"mir\", \"colorectal\", \"mirna\", \"unclear\", \"yielded\", \"esophagectomy\", \"thrombocytosis\", \"ki\", \"oral\", \"radiotherapy\", \"peripheral\", \"chemotherapy\", \"metformin\", \"ligand\", \"rebiopsy\", \"apps\", \"nonsmallcell\", \"beclin\", \"intervention\", \"controversial\", \"haemoglobin\", \"ill\", \"ccrcc\", \"rapidly\", \"advantage\", \"ageing\", \"rank\", \"combining\", \"phyllode\", \"renal\", \"minimal\", \"lymphoblastic\", \"residual\", \"recognized\", \"predisposing\", \"relapsed\", \"chimeric\", \"antigen\", \"agerelated\", \"methylation\", \"pivotal\", \"cancerrelated\", \"contradictory\", \"reached\", \"retrieving\", \"consensus\", \"receptor\", \"oxidase\", \"lysine\", \"unsatisfactory\", \"kidney\", \"hub\", \"chemotherapy\", \"small\", \"gene\", \"platinum\", \"radiotherapy\", \"unclear\", \"regimen\", \"human\", \"population\", \"evidence\", \"firstline\", \"recent\", \"breast\", \"performed\", \"effect\", \"carcinoma\", \"mirna\", \"survivorship\", \"endpoint\", \"implant\", \"sex\", \"defined\", \"definition\", \"accumulating\", \"lower\", \"ipsilateral\", \"organise\", \"supportive\", \"world\", \"surrogate\", \"mets\", \"nucleatum\", \"fusobacterium\", \"infection\", \"erythematosus\", \"lupus\", \"theoretically\", \"understand\", \"heterogeneity\", \"intratumoral\", \"fiveyear\", \"pose\", \"oncological\", \"autogenous\", \"event\", \"great\", \"breast\", \"neck\", \"pancreatic\", \"systemic\", \"uncertain\", \"association\", \"molecular\", \"colorectal\", \"identify\", \"prognosis\", \"effectiveness\", \"age\", \"gastric\", \"relationship\", \"surgery\", \"early\", \"caribbean\", \"ligation\", \"subsub\", \"licensed\", \"extensivestage\", \"qol\", \"hepatocellular\", \"harm\", \"lymphadenectomy\", \"mrcc\", \"performance\", \"receiving\", \"address\", \"concurrently\", \"thoracic\", \"preferable\", \"sigmoid\", \"rectal\", \"executor\", \"necroptosis\", \"serve\", \"far\", \"heretofore\", \"homeobox\", \"class\", \"disputable\", \"pou\", \"social\", \"conformal\", \"twodimensional\", \"radiotherapy\", \"benefit\", \"advanced\", \"gastric\", \"nonsmall\", \"prostate\", \"carcinoma\", \"association\", \"recent\", \"potential\", \"evaluate\", \"exist\", \"effective\", \"lung\", \"high\", \"thrombocytosis\", \"adenoma\", \"gemcitabine\", \"reactive\", \"monotherapy\", \"doublet\", \"secondline\", \"inpatient\", \"outpatient\", \"barrier\", \"protein\", \"polymorphism\", \"behaviour\", \"cytokine\", \"feasibility\", \"reevaluate\", \"presentation\", \"complete\", \"irinotecan\", \"histology\", \"progressed\", \"docetaxel\", \"controversy\", \"myeloma\", \"enrolled\", \"precise\", \"conduce\", \"casecontrol\", \"summit\\u03b1\", \"obtain\", \"component\", \"physical\", \"prostate\", \"demonstrated\", \"biomarker\", \"efficacy\", \"pancreatic\", \"regimen\", \"benefit\", \"lung\", \"associated\", \"growth\", \"chemotherapy\", \"factor\", \"important\", \"investigate\", \"prognosis\", \"apps\", \"haemoglobin\", \"epithelial\", \"decreased\", \"telomere\", \"bladder\", \"mir\", \"significantly\", \"anastomotic\", \"leakage\", \"competing\", \"decision\", \"esophagectomy\", \"category\", \"alternative\", \"periampullary\", \"pancreatichead\", \"shortterm\", \"progression\", \"neoplasm\", \"overlapped\", \"viewed\", \"curve\", \"revision\", \"staging\", \"station\", \"severe\", \"precursor\", \"adjacent\", \"core\", \"tissue\", \"enrichment\", \"individual\", \"malignancy\", \"adult\", \"gene\", \"analysis\", \"remains\", \"early\", \"prognostic\", \"pembrolizumab\", \"beclin\", \"transfusion\", \"sorafenib\", \"order\", \"smoking\", \"cessation\", \"variety\", \"last\", \"general\", \"coal\", \"aged\", \"proposed\", \"bone\", \"neuroendocrine\", \"cervix\", \"variant\", \"standardized\", \"independently\", \"cutoff\", \"consistently\", \"differentiate\", \"oncogene\", \"tet\", \"perioperative\", \"intriguing\", \"carry\", \"inconclusive\", \"mining\", \"promising\", \"score\", \"squamous\", \"tumor\", \"recently\", \"mutation\", \"prognosis\", \"carcinoma\", \"head\", \"malignancy\", \"clarify\", \"prognostic\", \"reduce\", \"neck\", \"tobacco\", \"packaging\", \"prognostication\", \"sitting\", \"check\", \"point\", \"subtypes\", \"ki\", \"intervention\", \"vaccination\", \"ascertain\", \"tokuhashi\", \"workplace\", \"system\", \"routinely\", \"tract\", \"upper\", \"urothelial\", \"translate\", \"melanoma\", \"commonly\", \"pain\", \"inertia\", \"noncancer\", \"adherence\", \"immune\", \"key\", \"topmost\", \"plasma\", \"dissection\", \"present\", \"colorectal\", \"lymph\", \"improved\", \"inhibitor\", \"prognostic\", \"controversial\", \"metformin\", \"rebiopsy\", \"oral\", \"prominins\", \"atlas\", \"prognosticator\", \"candidate\", \"leukaemia\", \"wildtype\", \"mcrc\", \"biologic\", \"postoperative\", \"treating\", \"prominin\", \"nonstandard\", \"dosing\", \"preventing\", \"diffuse\", \"hematologic\", \"interest\", \"specific\", \"area\", \"gastrectomy\", \"stem\", \"gefitinib\", \"east\", \"asian\", \"firstgeneration\", \"alteration\", \"functional\", \"toxicity\", \"complication\", \"firstline\", \"improved\", \"associated\", \"prognosis\", \"surgery\", \"radical\", \"performed\", \"receptor\", \"small\", \"ovarian\", \"transformation\", \"yielded\", \"nonsmallcell\", \"brain\", \"lynch\", \"amyloidosis\", \"participant\", \"diseasefree\", \"dehydrogenase\", \"aldehyde\", \"magnitude\", \"surgically\", \"cardiac\", \"elevated\", \"ligand\", \"analyze\", \"inflammatory\", \"remained\", \"mutational\", \"syndrome\", \"search\", \"ductal\", \"adenocarcinoma\", \"treated\", \"predictive\", \"emerging\", \"controversial\", \"impact\", \"comprehensive\", \"known\", \"prognostic\", \"colorectal\", \"evaluate\", \"lung\", \"metastasis\", \"factor\", \"remains\", \"carcinoma\", \"fluid\", \"dosedense\", \"ill\", \"critically\", \"peripheral\", \"influence\", \"initial\", \"resectable\", \"pure\", \"necrosis\", \"correlate\", \"cancerspecific\", \"blood\", \"neutropenia\", \"pretreatment\", \"reported\", \"definitive\", \"numerous\", \"prespecified\", \"goaldirected\", \"responsiveness\", \"dynamic\", \"potentially\", \"esophageal\", \"unclear\", \"esophagectomy\", \"nervous\", \"demyelinating\", \"myc\", \"physiology\", \"assessed\", \"mir\", \"microrna\", \"recurrencefree\", \"breast\", \"recently\", \"feature\", \"human\", \"present\", \"head\", \"prognostic\", \"chemotherapy\", \"prognosis\"], \"Freq\": [0.0, 0.0, 0.0, 0.0, 0.0, 0.0, 0.0, 0.0, 0.0, 0.0, 0.0, 0.0, 0.0, 0.0, 0.0, 0.0, 0.0, 0.0, 0.0, 0.0, 0.0, 0.0, 0.0, 0.0, 0.0, 0.0, 0.0, 0.0, 0.0, 0.0, 0.2517674648081593, 0.21209997074771839, 0.20894568779242587, 0.20464387799904876, 0.18797799842550533, 0.1842039713839489, 0.17724416065036822, 0.2552142239915714, 0.1649995579499838, 0.16499946611110122, 0.16499946611110122, 0.1635926474944765, 0.16359261688151563, 0.15423740318604506, 0.15423735726660376, 0.15423731134716245, 0.14729816436216672, 0.14729793476496023, 0.14458328454067298, 0.15500955389798338, 0.13553551681118567, 0.13553550150470525, 0.13553550150470525, 0.13553540966582264, 0.2291913092513858, 0.1238504884224819, 0.12385045780952103, 0.12385045015628082, 0.12385039658359931, 0.13506006691596648, 0.3006056835554083, 0.2037874498058447, 0.26505935220627064, 0.16258182283314174, 0.2393617001752927, 0.1740431010908715, 0.18469561553546654, 0.15625444525810417, 0.17121749418992327, 0.19370064757158406, 0.17610215945172003, 0.1694962039327964, 0.17816971290920905, 0.17572770171439978, 0.16722019151828627, 0.15693449687727531, 0.3163012842125686, 0.25088740200473164, 0.2214833610214985, 0.21120939135786587, 0.1989266073384435, 0.19355730960630946, 0.1830473936404592, 0.17822254051397102, 0.1741273412101335, 0.17412718165955107, 0.16911382677222067, 0.16911373974463026, 0.18815533301397397, 0.1581208061473698, 0.15320138303929565, 0.14617055455092903, 0.1461705255417322, 0.14617049653253542, 0.1452574755768771, 0.14525734503549148, 0.14113756043736128, 0.14113745890517246, 0.16572752521071948, 0.1399448037969074, 0.1399447602831122, 0.13994461523712817, 0.15786107230377164, 0.1341431820047808, 0.13052873761500264, 0.16247814705814034, 0.2938072339084087, 0.22137591095653086, 0.20741616328817536, 0.1902237467646007, 0.1610529687328807, 0.21697115451358173, 0.17125785299432095, 0.21014595771677097, 0.17443743501938605, 0.2139366619863394, 0.16105327332944713, 0.16105327332944713, 0.17186282528910155, 0.16445801023551823, 0.1673765965169241, 0.16211831698096477, 0.19931747619343226, 0.19627992801572244, 0.19258221708048967, 0.18467554841720651, 0.23073520373874035, 0.17840096608343092, 0.22726130937650565, 0.15646600134949729, 0.15646589069301226, 0.14190414737223858, 0.14190406437987482, 0.14190398138751106, 0.14185573516004568, 0.14185570749592444, 0.14185570749592444, 0.14185544468677252, 0.140996224744773, 0.14099604492798487, 0.13418758655020663, 0.13418754505402475, 0.13418750355784287, 0.13418744822960035, 0.13405288994382536, 0.13405277928734033, 0.13405276545527972, 0.13405275162321909, 0.13405269629497657, 0.13902927805955753, 0.12936253500978945, 0.1293624105212438, 0.24256985948256696, 0.22071213297517192, 0.24742947734248985, 0.18702816061681124, 0.15653830153039222, 0.16113975781078135, 0.18200010975463896, 0.16904879175643164, 0.16151488329497315, 0.16013892523208728, 0.16588681036132544, 0.1432789297099712, 0.1457320733262096, 0.1448577349419453, 0.14204115393274447, 0.26579087439340454, 0.24342845205066918, 0.220156410203921, 0.21957942701022742, 0.20142759237463095, 0.1563075197994224, 0.18861342853945412, 0.15123428261609193, 0.1512342562728346, 0.14970400279773058, 0.19644742591945114, 0.15701450696804475, 0.13223343113997268, 0.12812215751297193, 0.1281220916548286, 0.12334422824432267, 0.13255144694247326, 0.11697232116108557, 0.13821349544203893, 0.10824123049593659, 0.10824116463779326, 0.10824113829453594, 0.10822375833051176, 0.13386335432918878, 0.10383420111888002, 0.10383420111888002, 0.10383420111888002, 0.10383417477562268, 0.10383412867492235, 0.10383410233166503, 0.12385584064494923, 0.13191528362118546, 0.17659998118248357, 0.17081261780779403, 0.17348477245842758, 0.21970096162792427, 0.1657588614632599, 0.16699781119879706, 0.16712036003190114, 0.1810925471160941, 0.14344273739528393, 0.13585971222787993, 0.14543008589996786, 0.13640343705919303, 0.13453965160302045, 0.1336163731200814, 0.1337962448811379, 0.24241357526933435, 0.23825731086222834, 0.17679902188427798, 0.1684471739652243, 0.1679449184531356, 0.15952483695989633, 0.19275510845527022, 0.1646166419807806, 0.1688140040628988, 0.1688139786547535, 0.1411371654761736, 0.14113698761915655, 0.1688140040628988, 0.16827707913655715, 0.1573331303468815, 0.12530556611304672, 0.12530556611304672, 0.12530545177639288, 0.17630616738594787, 0.11561641128276177, 0.11014193418561254, 0.11014193418561254, 0.1101419214815399, 0.1101419214815399, 0.1101418960733946, 0.11014188336932194, 0.14005555343510318, 0.10529647383742112, 0.10529642302113053, 0.10280068254153403, 0.1479247609302347, 0.12407512586091979, 0.13970224047072483, 0.1611031528333088, 0.12402983584193417, 0.15154761943912223, 0.13556101768563253, 0.135191888150809, 0.12685287134512852, 0.13018565776327312, 0.26406489500388336, 0.22817174393492248, 0.21985274276436195, 0.16054917217274636, 0.15776537447260727, 0.14678866711422792, 0.1467885941868061, 0.16127885964629887, 0.14220588361815598, 0.1422058471544451, 0.14220576207245297, 0.13347462373206836, 0.1515134281460057, 0.18821761722755506, 0.12816810850189225, 0.12816810850189225, 0.12816802341990013, 0.12816797480161893, 0.12815757048943982, 0.1281575097165883, 0.1281574854074477, 0.12815735170717438, 0.1274912569454456, 0.1274911597088832, 0.12383522297124393, 0.12383521081667362, 0.12135863203550568, 0.12135853479894325, 0.1258897586077911, 0.11840343058495786, 0.1473285852816443, 0.1483024337634375, 0.24049042524585304, 0.14241211021248196, 0.14734574753491173, 0.1799965211207828, 0.16054258439564228, 0.14056216030326987, 0.14567834711707595, 0.13505006267099387, 0.14755368792365037, 0.13150952142380848, 0.12889047892412253, 0.1809953130642911, 0.18099524289638722, 0.17921215951202063, 0.1684237975102387, 0.15912298337628675, 0.15912283134582833, 0.1721863642419616, 0.21891307767076612, 0.21613739911796317, 0.1418620181640686, 0.13900162356196838, 0.13724059628872476, 0.13311702738613537, 0.19955861796202004, 0.12965807717454708, 0.12965803039594448, 0.1296580070066432, 0.1296579602280406, 0.1266787479753523, 0.11514466488032239, 0.10758205006154835, 0.10467290046089482, 0.10467288876624417, 0.10467286537694288, 0.10467285368229223, 0.20942480998157045, 0.10945339297435863, 0.09899304253396393, 0.09899301914466263, 0.11504170517601359, 0.13267979948234243, 0.20418375873627007, 0.11504178703856813, 0.12162133782918427, 0.1272374599100812, 0.13237465096297285, 0.11402485530213236, 0.21143382777854697, 0.21075754128576066, 0.22302913932118404, 0.15284274479247364, 0.16870430168918477, 0.13994756498774943, 0.13994740610184744, 0.1326839711397953, 0.12399916559661305, 0.12399914289862705, 0.12399902940869707, 0.1466215219044615, 0.19671270849027872, 0.12127137838443561, 0.12020759187470526, 0.12020748973376827, 0.11899584854325221, 0.11593277803091727, 0.11593277803091727, 0.11593270993695928, 0.12377409236746491, 0.12132167712140539, 0.14662151055546851, 0.1301676383651677, 0.09936716365555227, 0.09936711825958028, 0.09936710691058728, 0.09936709556159427, 0.0991163849572623, 0.13864395155797274, 0.13142046505127566, 0.1349376655184494, 0.1802232685559203, 0.12899849915343137, 0.1384149629262401, 0.17154553343537615, 0.1392051479127603, 0.1266476573947093, 0.1372883483912695, 0.12380548368209902, 0.1209054641521749, 0.46982057139128647, 0.2198031960643292, 0.1885656805244144, 0.17859364294254557, 0.1747009697206165, 0.16147897111828025, 0.16040732903202454, 0.14694752571051384, 0.1313312073236777, 0.1313312073236777, 0.13133104670585902, 0.1290496211706662, 0.12280276254168071, 0.1150259388808264, 0.12798013738634906, 0.17143908282711182, 0.1601824239314131, 0.12798025784971306, 0.1138469037055535, 0.09947933866591253, 0.1456313831497673, 0.08559954986438573, 0.10874706711285458, 0.10874700688117257, 0.10874699684255891, 0.11788669281078294, 0.10535979793464016, 0.22214504401518795, 0.1625717143704655, 0.10712520861147151, 0.10802186762288532, 0.22967866218271457, 0.16558719345288248, 0.1508465935293493, 0.15426541407032132, 0.11923660526790765, 0.12885824503970492, 0.1188366869766133, 0.11704179289143987, 0.14774053981753002, 0.1348676642519277, 0.10607116815850962, 0.1060711410925628, 0.11275290461733324, 0.13127620257064693, 0.0983837490802115, 0.09838369494831786, 0.09588098127729973, 0.08238391761263959, 0.08238391761263959, 0.08238390407966618, 0.09017428201966456, 0.09349586237872433, 0.09017438351696513, 0.13001265590933914, 0.08690468857795777, 0.07318602247371539, 0.06198137007328817, 0.061177707680872224, 0.06117770091438551, 0.06117765354897858, 0.08018938357859162, 0.0801893565126448, 0.10545693356139459, 0.08690451264930345, 0.05615717415726748, 0.05615714709132066, 0.05615714709132066, 0.05615714709132066, 0.07604250160263396, 0.08764551060834623, 0.07604247453668712, 0.06780490625685515, 0.11210176560173021, 0.07604250836912066, 0.07230679872426693, 0.07230680549075363, 0.07230681902372704, 0.07427973708521936, 0.08608539560125372, 0.07715575106125468, 0.07346518064920868], \"Total\": [0.0, 0.0, 0.0, 0.0, 0.0, 0.0, 0.0, 0.0, 0.0, 0.0, 0.0, 0.0, 0.0, 0.0, 0.0, 0.0, 0.0, 0.0, 0.0, 0.0, 0.0, 0.0, 0.0, 0.0, 0.0, 0.0, 0.0, 0.0, 0.0, 0.0, 0.4959139875363853, 0.4562465734166274, 0.4530922369064362, 0.448790401256264, 0.43212453102198983, 0.42835054063133615, 0.4213907745729464, 0.616965677570527, 0.40914609611179664, 0.40914602514116116, 0.4091460392993838, 0.40773917646783786, 0.40773915245307235, 0.3983839178742315, 0.39838387587777574, 0.39838383806239286, 0.39144465945997164, 0.3914444715171484, 0.38872978577428097, 0.4220851120745764, 0.3796820159933767, 0.3796820106445956, 0.3796820106445956, 0.379681928882879, 0.6627681518890546, 0.3679969740972243, 0.36799694792279714, 0.3679969419611786, 0.36799689142713965, 0.4068638890649969, 0.9201888234329242, 0.6381888501145222, 0.8697431746921132, 0.4999833544495219, 0.8377979632614139, 0.5845394830320586, 0.6668495166492787, 0.49694805737508113, 0.6112298212062418, 0.837954006596095, 0.7217022827628371, 0.729042783878035, 0.9329689086776096, 0.9092768922781439, 0.736301040126889, 0.9746119312186567, 0.5616682706159559, 0.4962545224915699, 0.4668503479234004, 0.45657636940576324, 0.4442936679917319, 0.43892436391958, 0.4284143851934834, 0.42358955302114565, 0.41949437433573, 0.41949423377171796, 0.41448082445476075, 0.41448074645396804, 0.4713702315894077, 0.4034877672807644, 0.39856835734485907, 0.39153751568432366, 0.3915374845401284, 0.39153746528980277, 0.390624440627228, 0.39062433160398685, 0.38650458092146983, 0.3865045027084075, 0.45560683448057665, 0.38531177007993883, 0.3853117307620555, 0.3853116097941908, 0.4459135570870889, 0.37951013092601105, 0.37589568006730756, 0.48288563016918906, 0.9329689086776096, 0.7017274234642593, 0.6594491172313861, 0.6178347036323071, 0.4853821565906075, 0.8506592173837331, 0.5683294757612483, 0.9677479308195712, 0.6642428076079969, 1.2336676358070744, 0.5260614559360095, 0.538512767182176, 0.6840525364828338, 0.5897490766020022, 0.7291773498587997, 0.7017787765137983, 0.4456474085632905, 0.44260986882208614, 0.4389121338995878, 0.4310054774493928, 0.5419788667988791, 0.42473091409573627, 0.5835587483602469, 0.4027959475027511, 0.40279586843595905, 0.38823406534261085, 0.3882340013943849, 0.38823392161243564, 0.38818567085610034, 0.3881856380125072, 0.3881856407687401, 0.38818541988489486, 0.38732615126730585, 0.38732599623319736, 0.38051750907193493, 0.3805174666334413, 0.38051743345686445, 0.38051739624190567, 0.3803828088988457, 0.3803827225169315, 0.38038269895862015, 0.38038269387461354, 0.38038264781654246, 0.40270034460760157, 0.375692474782005, 0.3756923803630153, 0.8377979632614139, 0.7507026472163274, 0.9359489206272076, 0.6840525364828338, 0.5180910704017452, 0.6109167892759865, 0.9746119312186567, 0.8506592173837331, 0.729042783878035, 0.7121117574466878, 0.8411807646476931, 0.4962871242096372, 0.7421037538559241, 0.9045527688658543, 0.4941359723899304, 0.5131015585573449, 0.4907390429873637, 0.4674670047600104, 0.46689012404015046, 0.4818666243019889, 0.4036181223843308, 0.4955477494050269, 0.3985448453386445, 0.39854482670107727, 0.39701457243799576, 0.5363415218256762, 0.44975828185476313, 0.3795439713834232, 0.3754327358474971, 0.3754326791218654, 0.3706547730166432, 0.4105335087307061, 0.3642828722706034, 0.45043804182222796, 0.35555176103687625, 0.3555517061710007, 0.35555167529887344, 0.35553433415538344, 0.4426908012908954, 0.3511447344970679, 0.35114473733431617, 0.35114473767308607, 0.35114471177996015, 0.35114467423614415, 0.3511446598738219, 0.4189892740854596, 0.44868462961832667, 0.6109167892759865, 0.6105462501580774, 0.6245003888519021, 0.8896458385202375, 0.6594491172313861, 0.6668495166492787, 0.7507026472163274, 0.9045527688658543, 0.638028196321198, 0.5850598577379945, 0.9201888234329242, 0.791347069586522, 0.7017370477072621, 0.6922339245736364, 1.2336676358070744, 0.49035766709275347, 0.48620147320895163, 0.4247431057703753, 0.41639131603789864, 0.41588900904451376, 0.4074688901778102, 0.5104198933630599, 0.44535769686006926, 0.4640696059165559, 0.46406966706963987, 0.38908120038089805, 0.3890810644210891, 0.48573789854263066, 0.4842308223532056, 0.46620404100561613, 0.373249638298771, 0.3732496441470202, 0.3732495385357404, 0.5298104761781821, 0.363560460874526, 0.35808597744582704, 0.35808597995075664, 0.35808596975633744, 0.3580859735829576, 0.35808594637305624, 0.35808594789667986, 0.45620625146793203, 0.3532404996883275, 0.353240453396985, 0.3507447260860673, 0.5101629673630806, 0.429143840407054, 0.5271737273082729, 0.7200264044466546, 0.49006832782083154, 0.8697431746921132, 0.8201288158704595, 0.8641946302008113, 0.7017787765137983, 1.2958210537985484, 0.5130101946179364, 0.4771170317155152, 0.4687980323770683, 0.4094943387990577, 0.421635112228019, 0.39573385910713454, 0.3957338010000893, 0.4400902037279319, 0.39115109108776225, 0.3911510654211825, 0.3911509961432912, 0.3824198276570515, 0.4395935855212009, 0.5472422602451765, 0.377113289584014, 0.3771132934425975, 0.3771132266070337, 0.37711319577848024, 0.3771027462056915, 0.37710268247305506, 0.3771026687468675, 0.37710256053176056, 0.3764364289186587, 0.3764363537939798, 0.3727804422564836, 0.3727804298723124, 0.370303828841601, 0.3703037413958731, 0.40763198354443647, 0.38907182744085833, 0.5021455160276024, 0.5061051088352031, 1.0514083707758972, 0.5133118712150253, 0.5869620134702153, 1.2336676358070744, 0.9746119312186567, 0.565823028677188, 0.7200264044466546, 0.4990219895369165, 1.2958210537985484, 0.5081210345770967, 0.7017274234642593, 0.4305662132164716, 0.4305661512487269, 0.4287830530001136, 0.4179946381327431, 0.4086938448216339, 0.4086937232615829, 0.444686335651256, 0.5908391846955099, 0.5852946080464203, 0.3914328721275157, 0.3885725315816599, 0.38681144037547643, 0.38268786599053034, 0.5755879334014413, 0.3792289304408706, 0.37922889387168324, 0.37922887739841227, 0.37922883514867956, 0.37624956958352457, 0.3647155121789773, 0.3571528770166223, 0.35424371259778553, 0.35424370362349406, 0.3542436852934934, 0.35424367529046447, 0.7118497958074059, 0.38297005171878473, 0.34856384968632576, 0.3485638291342727, 0.41825311776800134, 0.5042986999612005, 0.9677479308195712, 0.4342926276217543, 0.5477109792600316, 0.7321293802970743, 1.2958210537985484, 0.9527386357108915, 0.46164206754217435, 0.46096574296159576, 0.4927664639252363, 0.403050874632333, 0.44591272703613716, 0.39015576070127933, 0.3901556361988457, 0.38289211831655645, 0.3742073465290036, 0.37420732737796253, 0.37420724405081995, 0.44414126144450927, 0.600858187209939, 0.3714795127492432, 0.3704157380262094, 0.37041564523082104, 0.3692040401002717, 0.36614093566296846, 0.36614093876012893, 0.3661408827966153, 0.4075614301541876, 0.4046452668422469, 0.5048471367113712, 0.4517203713874434, 0.34957529971198154, 0.3495752656368119, 0.34957525359580444, 0.3495752440553221, 0.34932452101369155, 0.49016851052847976, 0.48360100527556593, 0.5054688393206686, 0.7217022827628371, 0.5477109792600316, 0.638028196321198, 1.2336676358070744, 0.7291773498587997, 0.5487036385707791, 0.9092768922781439, 0.6627681518890546, 0.6381888501145222, 0.8555014673855132, 0.47231186325576185, 0.44107441922810897, 0.43110228984652704, 0.42720961499367105, 0.41398755429752776, 0.41291595863591324, 0.39945609797897647, 0.3838398300691008, 0.3838398373594147, 0.383839709143497, 0.38155825902170987, 0.37531137767338496, 0.3675345226836301, 0.41325882080619847, 0.554004758855502, 0.5320265291977213, 0.4447534165125844, 0.39912557614557814, 0.3519879230024292, 0.5622480440923463, 0.33810808644018586, 0.45428020852472567, 0.4542801666249017, 0.456786912335932, 0.4970830451170252, 0.45013011615416876, 0.9527386357108915, 0.698830648090758, 0.46932368753108666, 0.47357084293820084, 1.2958210537985484, 0.9677479308195712, 0.8411807646476931, 0.9045527688658543, 0.5897515156540594, 0.791347069586522, 0.8641946302008113, 0.9746119312186567, 0.40661654437871286, 0.3937436173526042, 0.3649471034963897, 0.3649470764106676, 0.3959583857991825, 0.46899194368222447, 0.3572596931468178, 0.3572596605414584, 0.3547569026226575, 0.34125981032223485, 0.3412598141494945, 0.34125980365452413, 0.3760504943796036, 0.40450849090762353, 0.4088477970528138, 0.6341040135229687, 0.4305566381047953, 0.3754357171679642, 0.3208572790738299, 0.32005358692159847, 0.3200535845645151, 0.3200535561678425, 0.4269370767818515, 0.44295412405442264, 0.5845394830320586, 0.48573789854263066, 0.31503302232195984, 0.31503299854892014, 0.3150330013556938, 0.31503300430983106, 0.4269242595363496, 0.5104198933630599, 0.44121228826278114, 0.40734768700507634, 0.9329689086776096, 0.5133118712150253, 0.4722392996418726, 0.49694805737508113, 0.5042986999612005, 0.565823028677188, 1.2958210537985484, 0.9201888234329242, 1.2336676358070744], \"Category\": [\"Default\", \"Default\", \"Default\", \"Default\", \"Default\", \"Default\", \"Default\", \"Default\", \"Default\", \"Default\", \"Default\", \"Default\", \"Default\", \"Default\", \"Default\", \"Default\", \"Default\", \"Default\", \"Default\", \"Default\", \"Default\", \"Default\", \"Default\", \"Default\", \"Default\", \"Default\", \"Default\", \"Default\", \"Default\", \"Default\", \"Topic1\", \"Topic1\", \"Topic1\", \"Topic1\", \"Topic1\", \"Topic1\", \"Topic1\", \"Topic1\", \"Topic1\", \"Topic1\", \"Topic1\", \"Topic1\", \"Topic1\", \"Topic1\", \"Topic1\", \"Topic1\", \"Topic1\", \"Topic1\", \"Topic1\", \"Topic1\", \"Topic1\", \"Topic1\", \"Topic1\", \"Topic1\", \"Topic1\", \"Topic1\", \"Topic1\", \"Topic1\", \"Topic1\", \"Topic1\", \"Topic1\", \"Topic1\", \"Topic1\", \"Topic1\", \"Topic1\", \"Topic1\", \"Topic1\", \"Topic1\", \"Topic1\", \"Topic1\", \"Topic1\", \"Topic1\", \"Topic1\", \"Topic1\", \"Topic1\", \"Topic1\", \"Topic2\", \"Topic2\", \"Topic2\", \"Topic2\", \"Topic2\", \"Topic2\", \"Topic2\", \"Topic2\", \"Topic2\", \"Topic2\", \"Topic2\", \"Topic2\", \"Topic2\", \"Topic2\", \"Topic2\", \"Topic2\", \"Topic2\", \"Topic2\", \"Topic2\", \"Topic2\", \"Topic2\", \"Topic2\", \"Topic2\", \"Topic2\", \"Topic2\", \"Topic2\", \"Topic2\", \"Topic2\", \"Topic2\", \"Topic2\", \"Topic2\", \"Topic2\", \"Topic2\", \"Topic2\", \"Topic2\", \"Topic2\", \"Topic2\", \"Topic2\", \"Topic2\", \"Topic2\", \"Topic2\", \"Topic2\", \"Topic2\", \"Topic2\", \"Topic2\", \"Topic2\", \"Topic3\", \"Topic3\", \"Topic3\", \"Topic3\", \"Topic3\", \"Topic3\", \"Topic3\", \"Topic3\", \"Topic3\", \"Topic3\", \"Topic3\", \"Topic3\", \"Topic3\", \"Topic3\", \"Topic3\", \"Topic3\", \"Topic3\", \"Topic3\", \"Topic3\", \"Topic3\", \"Topic3\", \"Topic3\", \"Topic3\", \"Topic3\", \"Topic3\", \"Topic3\", \"Topic3\", \"Topic3\", \"Topic3\", \"Topic3\", \"Topic3\", \"Topic3\", \"Topic3\", \"Topic3\", \"Topic3\", \"Topic3\", \"Topic3\", \"Topic3\", \"Topic3\", \"Topic3\", \"Topic3\", \"Topic3\", \"Topic3\", \"Topic3\", \"Topic3\", \"Topic4\", \"Topic4\", \"Topic4\", \"Topic4\", \"Topic4\", \"Topic4\", \"Topic4\", \"Topic4\", \"Topic4\", \"Topic4\", \"Topic4\", \"Topic4\", \"Topic4\", \"Topic4\", \"Topic4\", \"Topic4\", \"Topic4\", \"Topic4\", \"Topic4\", \"Topic4\", \"Topic4\", \"Topic4\", \"Topic4\", \"Topic4\", \"Topic4\", \"Topic4\", \"Topic4\", \"Topic4\", \"Topic4\", \"Topic4\", \"Topic4\", \"Topic4\", \"Topic4\", \"Topic4\", \"Topic4\", \"Topic4\", \"Topic4\", \"Topic4\", \"Topic4\", \"Topic4\", \"Topic4\", \"Topic4\", \"Topic4\", \"Topic4\", \"Topic4\", \"Topic4\", \"Topic4\", \"Topic5\", \"Topic5\", \"Topic5\", \"Topic5\", \"Topic5\", \"Topic5\", \"Topic5\", \"Topic5\", \"Topic5\", \"Topic5\", \"Topic5\", \"Topic5\", \"Topic5\", \"Topic5\", \"Topic5\", \"Topic5\", \"Topic5\", \"Topic5\", \"Topic5\", \"Topic5\", \"Topic5\", \"Topic5\", \"Topic5\", \"Topic5\", \"Topic5\", \"Topic5\", \"Topic5\", \"Topic5\", \"Topic5\", \"Topic5\", \"Topic5\", \"Topic5\", \"Topic5\", \"Topic5\", \"Topic5\", \"Topic5\", \"Topic5\", \"Topic5\", \"Topic5\", \"Topic5\", \"Topic6\", \"Topic6\", \"Topic6\", \"Topic6\", \"Topic6\", \"Topic6\", \"Topic6\", \"Topic6\", \"Topic6\", \"Topic6\", \"Topic6\", \"Topic6\", \"Topic6\", \"Topic6\", \"Topic6\", \"Topic6\", \"Topic6\", \"Topic6\", \"Topic6\", \"Topic6\", \"Topic6\", \"Topic6\", \"Topic6\", \"Topic6\", \"Topic6\", \"Topic6\", \"Topic6\", \"Topic6\", \"Topic6\", \"Topic6\", \"Topic6\", \"Topic6\", \"Topic6\", \"Topic6\", \"Topic6\", \"Topic6\", \"Topic6\", \"Topic6\", \"Topic6\", \"Topic6\", \"Topic6\", \"Topic6\", \"Topic6\", \"Topic7\", \"Topic7\", \"Topic7\", \"Topic7\", \"Topic7\", \"Topic7\", \"Topic7\", \"Topic7\", \"Topic7\", \"Topic7\", \"Topic7\", \"Topic7\", \"Topic7\", \"Topic7\", \"Topic7\", \"Topic7\", \"Topic7\", \"Topic7\", \"Topic7\", \"Topic7\", \"Topic7\", \"Topic7\", \"Topic7\", \"Topic7\", \"Topic7\", \"Topic7\", \"Topic7\", \"Topic7\", \"Topic7\", \"Topic7\", \"Topic7\", \"Topic7\", \"Topic7\", \"Topic7\", \"Topic7\", \"Topic7\", \"Topic7\", \"Topic8\", \"Topic8\", \"Topic8\", \"Topic8\", \"Topic8\", \"Topic8\", \"Topic8\", \"Topic8\", \"Topic8\", \"Topic8\", \"Topic8\", \"Topic8\", \"Topic8\", \"Topic8\", \"Topic8\", \"Topic8\", \"Topic8\", \"Topic8\", \"Topic8\", \"Topic8\", \"Topic8\", \"Topic8\", \"Topic8\", \"Topic8\", \"Topic8\", \"Topic8\", \"Topic8\", \"Topic8\", \"Topic8\", \"Topic8\", \"Topic8\", \"Topic8\", \"Topic8\", \"Topic8\", \"Topic8\", \"Topic8\", \"Topic8\", \"Topic8\", \"Topic8\", \"Topic8\", \"Topic8\", \"Topic9\", \"Topic9\", \"Topic9\", \"Topic9\", \"Topic9\", \"Topic9\", \"Topic9\", \"Topic9\", \"Topic9\", \"Topic9\", \"Topic9\", \"Topic9\", \"Topic9\", \"Topic9\", \"Topic9\", \"Topic9\", \"Topic9\", \"Topic9\", \"Topic9\", \"Topic9\", \"Topic9\", \"Topic9\", \"Topic9\", \"Topic9\", \"Topic9\", \"Topic9\", \"Topic9\", \"Topic9\", \"Topic9\", \"Topic9\", \"Topic9\", \"Topic9\", \"Topic9\", \"Topic9\", \"Topic9\", \"Topic9\", \"Topic9\", \"Topic9\", \"Topic9\", \"Topic10\", \"Topic10\", \"Topic10\", \"Topic10\", \"Topic10\", \"Topic10\", \"Topic10\", \"Topic10\", \"Topic10\", \"Topic10\", \"Topic10\", \"Topic10\", \"Topic10\", \"Topic10\", \"Topic10\", \"Topic10\", \"Topic10\", \"Topic10\", \"Topic10\", \"Topic10\", \"Topic10\", \"Topic10\", \"Topic10\", \"Topic10\", \"Topic10\", \"Topic10\", \"Topic10\", \"Topic10\", \"Topic10\", \"Topic10\", \"Topic10\", \"Topic10\", \"Topic10\", \"Topic10\", \"Topic10\", \"Topic10\", \"Topic10\", \"Topic10\", \"Topic10\", \"Topic10\", \"Topic10\", \"Topic10\", \"Topic10\"], \"logprob\": [30.0, 29.0, 28.0, 27.0, 26.0, 25.0, 24.0, 23.0, 22.0, 21.0, 20.0, 19.0, 18.0, 17.0, 16.0, 15.0, 14.0, 13.0, 12.0, 11.0, 10.0, 9.0, 8.0, 7.0, 6.0, 5.0, 4.0, 3.0, 2.0, 1.0, -5.565, -5.7364, -5.7514, -5.7722, -5.8572, -5.8774, -5.9159, -5.5514, -5.9875, -5.9875, -5.9875, -5.9961, -5.9961, -6.055, -6.055, -6.055, -6.101, -6.101, -6.1196, -6.05, -6.1842, -6.1842, -6.1842, -6.1842, -5.6589, -6.2744, -6.2744, -6.2744, -6.2744, -6.1878, -5.3877, -5.7764, -5.5135, -6.0023, -5.6155, -5.9342, -5.8748, -6.042, -5.9505, -5.8272, -5.9224, -5.9606, -5.9107, -5.9245, -5.9742, -6.0376, -5.283, -5.5147, -5.6393, -5.6868, -5.7467, -5.7741, -5.8299, -5.8566, -5.8799, -5.8799, -5.9091, -5.9091, -5.8024, -5.9763, -6.0079, -6.0549, -6.0549, -6.0549, -6.0612, -6.0612, -6.0899, -6.0899, -5.9293, -6.0984, -6.0984, -6.0984, -5.9779, -6.1408, -6.1681, -5.9491, -5.3567, -5.6398, -5.7049, -5.7915, -5.9579, -5.6599, -5.8965, -5.6919, -5.8781, -5.674, -5.9579, -5.9579, -5.893, -5.937, -5.9194, -5.9513, -5.6973, -5.7126, -5.7317, -5.7736, -5.5509, -5.8082, -5.5661, -5.9393, -5.9394, -6.037, -6.037, -6.037, -6.0374, -6.0374, -6.0374, -6.0374, -6.0435, -6.0435, -6.0929, -6.0929, -6.093, -6.093, -6.094, -6.094, -6.094, -6.094, -6.094, -6.0575, -6.1296, -6.1296, -5.5009, -5.5953, -5.4811, -5.7609, -5.9389, -5.9099, -5.7882, -5.862, -5.9076, -5.9161, -5.8809, -6.0274, -6.0104, -6.0164, -6.0361, -5.3606, -5.4484, -5.5489, -5.5516, -5.6378, -5.8914, -5.7036, -5.9244, -5.9244, -5.9346, -5.6629, -5.8869, -6.0587, -6.0903, -6.0903, -6.1283, -6.0563, -6.1813, -6.0145, -6.2589, -6.2589, -6.2589, -6.2591, -6.0464, -6.3005, -6.3005, -6.3005, -6.3005, -6.3005, -6.3005, -6.1241, -6.0611, -5.7694, -5.8027, -5.7872, -5.551, -5.8327, -5.8253, -5.8246, -5.7443, -5.9773, -6.0316, -5.9636, -6.0276, -6.0414, -6.0483, -6.0469, -5.4165, -5.4338, -5.7321, -5.7805, -5.7835, -5.8349, -5.6457, -5.8035, -5.7783, -5.7783, -5.9574, -5.9574, -5.7783, -5.7815, -5.8488, -6.0764, -6.0764, -6.0764, -5.7349, -6.1568, -6.2054, -6.2054, -6.2054, -6.2054, -6.2054, -6.2054, -5.9651, -6.2503, -6.2503, -6.2743, -5.9104, -6.0862, -5.9676, -5.8251, -6.0866, -5.8862, -5.9977, -6.0004, -6.0641, -6.0382, -5.2867, -5.4328, -5.4699, -5.7843, -5.8018, -5.8739, -5.8739, -5.7798, -5.9056, -5.9056, -5.9056, -5.969, -5.8422, -5.6253, -6.0096, -6.0096, -6.0096, -6.0096, -6.0096, -6.0096, -6.0096, -6.0096, -6.0149, -6.0149, -6.044, -6.044, -6.0642, -6.0642, -6.0275, -6.0888, -5.8702, -5.8637, -5.3802, -5.9042, -5.8701, -5.67, -5.7843, -5.9173, -5.8815, -5.9573, -5.8687, -5.9838, -6.0039, -5.6259, -5.6259, -5.6358, -5.6978, -5.7547, -5.7547, -5.6758, -5.4357, -5.4484, -5.8695, -5.8898, -5.9026, -5.9331, -5.5282, -5.9594, -5.9594, -5.9594, -5.9594, -5.9827, -6.0781, -6.1461, -6.1735, -6.1735, -6.1735, -6.1735, -5.48, -6.1288, -6.2293, -6.2293, -6.079, -5.9364, -5.5053, -6.079, -6.0234, -5.9783, -5.9387, -6.0879, -5.4404, -5.4436, -5.387, -5.7649, -5.6662, -5.8531, -5.8531, -5.9064, -5.9741, -5.9741, -5.9741, -5.8065, -5.5126, -5.9963, -6.0051, -6.0051, -6.0152, -6.0413, -6.0413, -6.0413, -5.9759, -5.9959, -5.8065, -5.9255, -6.1955, -6.1955, -6.1955, -6.1955, -6.198, -5.8624, -5.9159, -5.8895, -5.6001, -5.9345, -5.8641, -5.6495, -5.8584, -5.9529, -5.8722, -5.9756, -5.9993, -4.5193, -5.2789, -5.4322, -5.4865, -5.5086, -5.5873, -5.5939, -5.6816, -5.7939, -5.7939, -5.7939, -5.8114, -5.8611, -5.9265, -5.8198, -5.5274, -5.5953, -5.8198, -5.9368, -6.0717, -5.6906, -6.222, -5.9826, -5.9826, -5.9826, -5.9019, -6.0143, -5.2683, -5.5805, -5.9976, -5.9893, -5.235, -5.5621, -5.6554, -5.633, -5.8905, -5.8129, -5.8939, -5.9091, -5.2817, -5.3729, -5.6131, -5.6131, -5.552, -5.3999, -5.6883, -5.6883, -5.7141, -5.8658, -5.8658, -5.8658, -5.7754, -5.7393, -5.7754, -5.4095, -5.8124, -5.9842, -6.1503, -6.1634, -6.1634, -6.1634, -5.8928, -5.8928, -5.6189, -5.8124, -6.249, -6.249, -6.249, -6.249, -5.9459, -5.8039, -5.9459, -6.0605, -5.5578, -5.9459, -5.9963, -5.9963, -5.9963, -5.9693, -5.8218, -5.9314, -5.9804], \"loglift\": [30.0, 29.0, 28.0, 27.0, 26.0, 25.0, 24.0, 23.0, 22.0, 21.0, 20.0, 19.0, 18.0, 17.0, 16.0, 15.0, 14.0, 13.0, 12.0, 11.0, 10.0, 9.0, 8.0, 7.0, 6.0, 5.0, 4.0, 3.0, 2.0, 1.0, 1.3939, 1.3058, 1.2978, 1.2865, 1.2394, 1.2279, 1.2058, 1.1891, 1.1637, 1.1637, 1.1637, 1.1586, 1.1586, 1.1229, 1.1229, 1.1229, 1.0944, 1.0944, 1.0828, 1.0701, 1.0417, 1.0417, 1.0417, 1.0417, 1.01, 0.9828, 0.9828, 0.9828, 0.9828, 0.9691, 0.953, 0.9303, 0.8836, 0.9484, 0.819, 0.8603, 0.788, 0.9148, 0.7993, 0.6072, 0.6613, 0.6129, 0.4162, 0.4281, 0.5895, 0.2456, 1.5514, 1.4435, 1.38, 1.3547, 1.3221, 1.3069, 1.2753, 1.2599, 1.2464, 1.2464, 1.2292, 1.2292, 1.2073, 1.1888, 1.1695, 1.1403, 1.1403, 1.1403, 1.1364, 1.1364, 1.1182, 1.1182, 1.1143, 1.1128, 1.1128, 1.1128, 1.0872, 1.0857, 1.0679, 1.0364, 0.9702, 0.9719, 0.969, 0.9476, 1.0224, 0.7594, 0.9261, 0.5985, 0.7885, 0.3736, 0.9419, 0.9186, 0.7443, 0.8486, 0.654, 0.6603, 1.3685, 1.36, 1.3493, 1.3256, 1.3192, 1.3057, 1.2301, 1.2275, 1.2275, 1.1667, 1.1667, 1.1667, 1.1664, 1.1664, 1.1664, 1.1664, 1.1626, 1.1626, 1.1308, 1.1308, 1.1308, 1.1308, 1.1302, 1.1302, 1.1302, 1.1302, 1.1302, 1.1096, 1.107, 1.107, 0.9336, 0.949, 0.8427, 0.8763, 0.9763, 0.8404, 0.4951, 0.5573, 0.666, 0.6809, 0.5496, 0.9307, 0.5454, 0.3414, 0.9264, 1.5643, 1.5209, 1.469, 1.4677, 1.3498, 1.2734, 1.2561, 1.253, 1.253, 1.2467, 1.2177, 1.1697, 1.1676, 1.1469, 1.1469, 1.1217, 1.0915, 1.086, 1.0406, 1.0327, 1.0327, 1.0327, 1.0326, 1.026, 1.0036, 1.0036, 1.0036, 1.0036, 1.0036, 1.0036, 1.0033, 0.9979, 0.981, 0.9482, 0.9412, 0.8235, 0.8412, 0.8374, 0.7197, 0.6136, 0.7296, 0.7619, 0.3771, 0.4639, 0.5703, 0.5771, 0.0006, 1.5537, 1.5449, 1.3817, 1.3532, 1.3514, 1.3204, 1.2844, 1.2629, 1.2469, 1.2469, 1.2441, 1.2441, 1.2013, 1.2012, 1.1719, 1.1667, 1.1667, 1.1667, 1.1579, 1.1125, 1.0792, 1.0792, 1.0792, 1.0792, 1.0792, 1.0792, 1.0773, 1.0478, 1.0478, 1.0309, 1.0201, 1.0173, 0.9302, 0.7609, 0.8842, 0.5109, 0.4581, 0.4031, 0.5476, -0.0398, 1.6383, 1.5647, 1.5452, 1.3661, 1.3194, 1.3106, 1.3106, 1.2985, 1.2906, 1.2906, 1.2906, 1.2498, 1.2372, 1.2351, 1.2232, 1.2232, 1.2232, 1.2232, 1.2231, 1.2231, 1.2231, 1.2231, 1.2197, 1.2197, 1.2004, 1.2004, 1.1868, 1.1868, 1.1274, 1.1127, 1.0762, 1.0749, 0.8272, 1.0202, 0.9202, 0.3776, 0.4989, 0.9098, 0.7045, 0.9954, 0.1297, 0.9508, 0.6078, 1.4743, 1.4743, 1.4686, 1.432, 1.3977, 1.3977, 1.3922, 1.3481, 1.3448, 1.326, 1.313, 1.3048, 1.285, 1.2817, 1.2677, 1.2677, 1.2677, 1.2677, 1.2524, 1.188, 1.1411, 1.1218, 1.1218, 1.1218, 1.1218, 1.1175, 1.0885, 1.0822, 1.0822, 1.0502, 1.0057, 0.785, 1.0125, 0.8361, 0.5911, 0.0597, 0.218, 1.5901, 1.5884, 1.5782, 1.4013, 1.399, 1.3457, 1.3457, 1.3112, 1.2664, 1.2664, 1.2664, 1.2627, 1.2544, 1.2515, 1.2456, 1.2456, 1.2387, 1.221, 1.221, 1.221, 1.1792, 1.1664, 1.1346, 1.1267, 1.1131, 1.1131, 1.1131, 1.1131, 1.1113, 1.1081, 1.0681, 1.0503, 0.9836, 0.925, 0.8428, 0.3981, 0.715, 0.9048, 0.4804, 0.6933, 0.7073, 1.8943, 1.7288, 1.6439, 1.6124, 1.5995, 1.5522, 1.5481, 1.4936, 1.4212, 1.4212, 1.4212, 1.4096, 1.3765, 1.332, 1.3215, 1.3207, 1.2933, 1.248, 1.2392, 1.23, 1.1428, 1.12, 1.064, 1.064, 1.0585, 1.0546, 1.0415, 1.0376, 1.0354, 1.0164, 1.0157, 0.7634, 0.7282, 0.7751, 0.7249, 0.8951, 0.6786, 0.5096, 0.3741, 1.8757, 1.8167, 1.6525, 1.6525, 1.632, 1.6148, 1.5985, 1.5985, 1.5798, 1.4669, 1.4669, 1.4669, 1.4601, 1.4234, 1.3765, 1.3035, 1.2878, 1.253, 1.244, 1.2334, 1.2334, 1.2334, 1.2159, 1.179, 1.1756, 1.1673, 1.1636, 1.1636, 1.1636, 1.1636, 1.1628, 1.1262, 1.1299, 1.0951, 0.7691, 0.9785, 1.0115, 0.9605, 0.9459, 0.8577, 0.1766, 0.4094, 0.0672]}, \"token.table\": {\"Topic\": [], \"Freq\": [], \"Term\": []}, \"R\": 30, \"lambda.step\": 0.01, \"plot.opts\": {\"xlab\": \"PC1\", \"ylab\": \"PC2\"}, \"topic.order\": [5, 1, 3, 10, 4, 6, 2, 9, 7, 8]};\n",
              "\n",
              "function LDAvis_load_lib(url, callback){\n",
              "  var s = document.createElement('script');\n",
              "  s.src = url;\n",
              "  s.async = true;\n",
              "  s.onreadystatechange = s.onload = callback;\n",
              "  s.onerror = function(){console.warn(\"failed to load library \" + url);};\n",
              "  document.getElementsByTagName(\"head\")[0].appendChild(s);\n",
              "}\n",
              "\n",
              "if(typeof(LDAvis) !== \"undefined\"){\n",
              "   // already loaded: just create the visualization\n",
              "   !function(LDAvis){\n",
              "       new LDAvis(\"#\" + \"ldavis_el1301404308983466887507221310\", ldavis_el1301404308983466887507221310_data);\n",
              "   }(LDAvis);\n",
              "}else if(typeof define === \"function\" && define.amd){\n",
              "   // require.js is available: use it to load d3/LDAvis\n",
              "   require.config({paths: {d3: \"https://d3js.org/d3.v5\"}});\n",
              "   require([\"d3\"], function(d3){\n",
              "      window.d3 = d3;\n",
              "      LDAvis_load_lib(\"https://cdn.jsdelivr.net/gh/bmabey/pyLDAvis@3.4.0/pyLDAvis/js/ldavis.v3.0.0.js\", function(){\n",
              "        new LDAvis(\"#\" + \"ldavis_el1301404308983466887507221310\", ldavis_el1301404308983466887507221310_data);\n",
              "      });\n",
              "    });\n",
              "}else{\n",
              "    // require.js not available: dynamically load d3 & LDAvis\n",
              "    LDAvis_load_lib(\"https://d3js.org/d3.v5.js\", function(){\n",
              "         LDAvis_load_lib(\"https://cdn.jsdelivr.net/gh/bmabey/pyLDAvis@3.4.0/pyLDAvis/js/ldavis.v3.0.0.js\", function(){\n",
              "                 new LDAvis(\"#\" + \"ldavis_el1301404308983466887507221310\", ldavis_el1301404308983466887507221310_data);\n",
              "            })\n",
              "         });\n",
              "}\n",
              "</script>"
            ]
          },
          "metadata": {},
          "execution_count": 23
        }
      ]
    },
    {
      "cell_type": "code",
      "source": [
        "lda_model3 = gensim.models.ldamodel.LdaModel(corpus=corpus_tfidf,\n",
        "                                           id2word=dictionary,\n",
        "                                           num_topics=70, \n",
        "                                           random_state=100,\n",
        "                                           update_every=1,\n",
        "                                           passes=10,\n",
        "                                           alpha='auto',\n",
        "                                           per_word_topics=True,\n",
        "                                            )"
      ],
      "metadata": {
        "colab": {
          "base_uri": "https://localhost:8080/"
        },
        "id": "1T2lIvxjzLQX",
        "outputId": "96a331d8-4023-4490-e2d1-190b57a8825b"
      },
      "execution_count": 24,
      "outputs": [
        {
          "output_type": "stream",
          "name": "stderr",
          "text": [
            "/usr/local/lib/python3.9/dist-packages/ipykernel/ipkernel.py:283: DeprecationWarning: `should_run_async` will not call `transform_cell` automatically in the future. Please pass the result to `transformed_cell` argument and any exception that happen during thetransform in `preprocessing_exc_tuple` in IPython 7.17 and above.\n",
            "  and should_run_async(code)\n"
          ]
        }
      ]
    },
    {
      "cell_type": "code",
      "source": [
        "pprint(lda_model3.print_topics())\n",
        "doc_lda = lda_model3[corpus_tfidf]"
      ],
      "metadata": {
        "colab": {
          "base_uri": "https://localhost:8080/"
        },
        "id": "7ma7i_oTzRl1",
        "outputId": "be1b5f7e-a958-48f4-f0d7-5a912b4812d0"
      },
      "execution_count": 26,
      "outputs": [
        {
          "output_type": "stream",
          "name": "stdout",
          "text": [
            "[(68,\n",
            "  '0.001*\"highgrade\" + 0.001*\"delayed\" + 0.001*\"superficial\" + '\n",
            "  '0.001*\"selection\" + 0.001*\"selecting\" + 0.001*\"proper\" + '\n",
            "  '0.001*\"preservation\" + 0.001*\"optimal\" + 0.001*\"nonetheless\" + '\n",
            "  '0.001*\"assessed\"'),\n",
            " (32,\n",
            "  '0.001*\"highgrade\" + 0.001*\"delayed\" + 0.001*\"superficial\" + '\n",
            "  '0.001*\"selection\" + 0.001*\"selecting\" + 0.001*\"proper\" + '\n",
            "  '0.001*\"preservation\" + 0.001*\"optimal\" + 0.001*\"nonetheless\" + '\n",
            "  '0.001*\"assessed\"'),\n",
            " (7,\n",
            "  '0.001*\"highgrade\" + 0.001*\"delayed\" + 0.001*\"superficial\" + '\n",
            "  '0.001*\"selection\" + 0.001*\"selecting\" + 0.001*\"proper\" + '\n",
            "  '0.001*\"preservation\" + 0.001*\"optimal\" + 0.001*\"nonetheless\" + '\n",
            "  '0.001*\"assessed\"'),\n",
            " (16,\n",
            "  '0.001*\"highgrade\" + 0.001*\"delayed\" + 0.001*\"superficial\" + '\n",
            "  '0.001*\"selection\" + 0.001*\"selecting\" + 0.001*\"proper\" + '\n",
            "  '0.001*\"preservation\" + 0.001*\"optimal\" + 0.001*\"nonetheless\" + '\n",
            "  '0.001*\"assessed\"'),\n",
            " (64,\n",
            "  '0.001*\"highgrade\" + 0.001*\"delayed\" + 0.001*\"superficial\" + '\n",
            "  '0.001*\"selection\" + 0.001*\"selecting\" + 0.001*\"proper\" + '\n",
            "  '0.001*\"preservation\" + 0.001*\"optimal\" + 0.001*\"nonetheless\" + '\n",
            "  '0.001*\"assessed\"'),\n",
            " (36,\n",
            "  '0.001*\"highgrade\" + 0.001*\"delayed\" + 0.001*\"superficial\" + '\n",
            "  '0.001*\"selection\" + 0.001*\"selecting\" + 0.001*\"proper\" + '\n",
            "  '0.001*\"preservation\" + 0.001*\"optimal\" + 0.001*\"nonetheless\" + '\n",
            "  '0.001*\"assessed\"'),\n",
            " (60,\n",
            "  '0.001*\"highgrade\" + 0.001*\"delayed\" + 0.001*\"superficial\" + '\n",
            "  '0.001*\"selection\" + 0.001*\"selecting\" + 0.001*\"proper\" + '\n",
            "  '0.001*\"preservation\" + 0.001*\"optimal\" + 0.001*\"nonetheless\" + '\n",
            "  '0.001*\"assessed\"'),\n",
            " (56,\n",
            "  '0.001*\"highgrade\" + 0.001*\"delayed\" + 0.001*\"superficial\" + '\n",
            "  '0.001*\"selection\" + 0.001*\"selecting\" + 0.001*\"proper\" + '\n",
            "  '0.001*\"preservation\" + 0.001*\"optimal\" + 0.001*\"nonetheless\" + '\n",
            "  '0.001*\"assessed\"'),\n",
            " (23,\n",
            "  '0.001*\"highgrade\" + 0.001*\"delayed\" + 0.001*\"superficial\" + '\n",
            "  '0.001*\"selection\" + 0.001*\"selecting\" + 0.001*\"proper\" + '\n",
            "  '0.001*\"preservation\" + 0.001*\"optimal\" + 0.001*\"nonetheless\" + '\n",
            "  '0.001*\"assessed\"'),\n",
            " (5,\n",
            "  '0.001*\"highgrade\" + 0.001*\"delayed\" + 0.001*\"superficial\" + '\n",
            "  '0.001*\"selection\" + 0.001*\"selecting\" + 0.001*\"proper\" + '\n",
            "  '0.001*\"preservation\" + 0.001*\"optimal\" + 0.001*\"nonetheless\" + '\n",
            "  '0.001*\"assessed\"'),\n",
            " (54,\n",
            "  '0.040*\"surgery\" + 0.030*\"relationship\" + 0.023*\"liver\" + 0.022*\"functional\" '\n",
            "  '+ 0.017*\"dissection\" + 0.017*\"radiation\" + 0.016*\"improved\" + 0.013*\"mets\" '\n",
            "  '+ 0.012*\"accepted\" + 0.009*\"objective\"'),\n",
            " (17,\n",
            "  '0.042*\"inhibitor\" + 0.031*\"receptor\" + 0.030*\"growth\" + 0.030*\"treating\" + '\n",
            "  '0.026*\"advanced\" + 0.025*\"kinase\" + 0.025*\"epidermal\" + 0.021*\"especially\" '\n",
            "  '+ 0.021*\"tyrosine\" + 0.019*\"factor\"'),\n",
            " (34,\n",
            "  '0.060*\"colorectal\" + 0.027*\"syndrome\" + 0.026*\"endometrial\" + 0.023*\"woman\" '\n",
            "  '+ 0.021*\"epidemiological\" + 0.019*\"lynch\" + 0.016*\"accumulating\" + '\n",
            "  '0.014*\"development\" + 0.014*\"colon\" + 0.013*\"identification\"'),\n",
            " (46,\n",
            "  '0.065*\"association\" + 0.034*\"determine\" + 0.027*\"population\" + '\n",
            "  '0.025*\"secondary\" + 0.025*\"objective\" + 0.018*\"examine\" + 0.016*\"exist\" + '\n",
            "  '0.014*\"subgroup\" + 0.010*\"domain\" + 0.010*\"prediagnosis\"'),\n",
            " (67,\n",
            "  '0.026*\"increased\" + 0.026*\"metastasis\" + 0.024*\"effectiveness\" + '\n",
            "  '0.020*\"health\" + 0.020*\"longterm\" + 0.019*\"intervention\" + 0.019*\"reduce\" + '\n",
            "  '0.018*\"activity\" + 0.014*\"explores\" + 0.012*\"effect\"'),\n",
            " (48,\n",
            "  '0.056*\"efficacy\" + 0.029*\"small\" + 0.029*\"purpose\" + 0.028*\"irradiation\" + '\n",
            "  '0.022*\"prophylactic\" + 0.021*\"demonstrated\" + 0.020*\"recent\" + '\n",
            "  '0.019*\"associated\" + 0.018*\"cranial\" + 0.017*\"conflicting\"'),\n",
            " (9,\n",
            "  '0.052*\"tumor\" + 0.045*\"reported\" + 0.042*\"previous\" + 0.036*\"potential\" + '\n",
            "  '0.031*\"prognostic\" + 0.030*\"significance\" + 0.027*\"biomarker\" + '\n",
            "  '0.024*\"solid\" + 0.015*\"evaluate\" + 0.012*\"found\"'),\n",
            " (2,\n",
            "  '0.039*\"evaluate\" + 0.036*\"prognosis\" + 0.034*\"conducted\" + 0.030*\"gastric\" '\n",
            "  '+ 0.023*\"issue\" + 0.023*\"effect\" + 0.022*\"safety\" + 0.018*\"esophageal\" + '\n",
            "  '0.016*\"cetuximab\" + 0.016*\"combined\"'),\n",
            " (69,\n",
            "  '0.059*\"controversial\" + 0.058*\"carcinoma\" + 0.046*\"remains\" + '\n",
            "  '0.037*\"malignancy\" + 0.026*\"unclear\" + 0.026*\"renal\" + 0.018*\"remain\" + '\n",
            "  '0.017*\"prognostic\" + 0.013*\"prognosis\" + 0.012*\"pathological\"'),\n",
            " (1,\n",
            "  '0.031*\"performed\" + 0.027*\"regimen\" + 0.025*\"benefit\" + 0.023*\"mutation\" + '\n",
            "  '0.022*\"advanced\" + 0.022*\"lung\" + 0.022*\"ligand\" + 0.017*\"firstline\" + '\n",
            "  '0.016*\"complication\" + 0.015*\"prognosis\"')]\n"
          ]
        },
        {
          "output_type": "stream",
          "name": "stderr",
          "text": [
            "/usr/local/lib/python3.9/dist-packages/ipykernel/ipkernel.py:283: DeprecationWarning: `should_run_async` will not call `transform_cell` automatically in the future. Please pass the result to `transformed_cell` argument and any exception that happen during thetransform in `preprocessing_exc_tuple` in IPython 7.17 and above.\n",
            "  and should_run_async(code)\n"
          ]
        }
      ]
    },
    {
      "cell_type": "code",
      "source": [
        "import pyLDAvis\n",
        "import pyLDAvis.gensim_models\n",
        "pyLDAvis.enable_notebook()\n",
        "vis = pyLDAvis.gensim_models.prepare(lda_model3, corpus_tfidf, dictionary)\n",
        "vis"
      ],
      "metadata": {
        "colab": {
          "base_uri": "https://localhost:8080/",
          "height": 1000
        },
        "id": "cqeM-U1HzYUJ",
        "outputId": "5e04a196-f36f-4256-87b9-3e5dc86fc56b"
      },
      "execution_count": 28,
      "outputs": [
        {
          "output_type": "stream",
          "name": "stderr",
          "text": [
            "/usr/local/lib/python3.9/dist-packages/ipykernel/ipkernel.py:283: DeprecationWarning: `should_run_async` will not call `transform_cell` automatically in the future. Please pass the result to `transformed_cell` argument and any exception that happen during thetransform in `preprocessing_exc_tuple` in IPython 7.17 and above.\n",
            "  and should_run_async(code)\n",
            "/usr/local/lib/python3.9/dist-packages/pyLDAvis/_prepare.py:243: FutureWarning: In a future version of pandas all arguments of DataFrame.drop except for the argument 'labels' will be keyword-only.\n",
            "  default_term_info = default_term_info.sort_values(\n"
          ]
        },
        {
          "output_type": "error",
          "ename": "TypeError",
          "evalue": "ignored",
          "traceback": [
            "\u001b[0;31m---------------------------------------------------------------------------\u001b[0m",
            "\u001b[0;31mTypeError\u001b[0m                                 Traceback (most recent call last)",
            "\u001b[0;32m/usr/local/lib/python3.9/dist-packages/IPython/core/formatters.py\u001b[0m in \u001b[0;36m__call__\u001b[0;34m(self, obj)\u001b[0m\n\u001b[1;32m    339\u001b[0m                 \u001b[0;32mpass\u001b[0m\u001b[0;34m\u001b[0m\u001b[0;34m\u001b[0m\u001b[0m\n\u001b[1;32m    340\u001b[0m             \u001b[0;32melse\u001b[0m\u001b[0;34m:\u001b[0m\u001b[0;34m\u001b[0m\u001b[0;34m\u001b[0m\u001b[0m\n\u001b[0;32m--> 341\u001b[0;31m                 \u001b[0;32mreturn\u001b[0m \u001b[0mprinter\u001b[0m\u001b[0;34m(\u001b[0m\u001b[0mobj\u001b[0m\u001b[0;34m)\u001b[0m\u001b[0;34m\u001b[0m\u001b[0;34m\u001b[0m\u001b[0m\n\u001b[0m\u001b[1;32m    342\u001b[0m             \u001b[0;31m# Finally look for special method names\u001b[0m\u001b[0;34m\u001b[0m\u001b[0;34m\u001b[0m\u001b[0m\n\u001b[1;32m    343\u001b[0m             \u001b[0mmethod\u001b[0m \u001b[0;34m=\u001b[0m \u001b[0mget_real_method\u001b[0m\u001b[0;34m(\u001b[0m\u001b[0mobj\u001b[0m\u001b[0;34m,\u001b[0m \u001b[0mself\u001b[0m\u001b[0;34m.\u001b[0m\u001b[0mprint_method\u001b[0m\u001b[0;34m)\u001b[0m\u001b[0;34m\u001b[0m\u001b[0;34m\u001b[0m\u001b[0m\n",
            "\u001b[0;32m/usr/local/lib/python3.9/dist-packages/pyLDAvis/_display.py\u001b[0m in \u001b[0;36m<lambda>\u001b[0;34m(data, kwds)\u001b[0m\n\u001b[1;32m    306\u001b[0m     \u001b[0mformatter\u001b[0m \u001b[0;34m=\u001b[0m \u001b[0mip\u001b[0m\u001b[0;34m.\u001b[0m\u001b[0mdisplay_formatter\u001b[0m\u001b[0;34m.\u001b[0m\u001b[0mformatters\u001b[0m\u001b[0;34m[\u001b[0m\u001b[0;34m'text/html'\u001b[0m\u001b[0;34m]\u001b[0m\u001b[0;34m\u001b[0m\u001b[0;34m\u001b[0m\u001b[0m\n\u001b[1;32m    307\u001b[0m     formatter.for_type(PreparedData,\n\u001b[0;32m--> 308\u001b[0;31m                        lambda data, kwds=kwargs: prepared_data_to_html(data, **kwds))\n\u001b[0m\u001b[1;32m    309\u001b[0m \u001b[0;34m\u001b[0m\u001b[0m\n\u001b[1;32m    310\u001b[0m \u001b[0;34m\u001b[0m\u001b[0m\n",
            "\u001b[0;32m/usr/local/lib/python3.9/dist-packages/pyLDAvis/_display.py\u001b[0m in \u001b[0;36mprepared_data_to_html\u001b[0;34m(data, d3_url, ldavis_url, ldavis_css_url, template_type, visid, use_http)\u001b[0m\n\u001b[1;32m    175\u001b[0m                            \u001b[0md3_url\u001b[0m\u001b[0;34m=\u001b[0m\u001b[0md3_url\u001b[0m\u001b[0;34m,\u001b[0m\u001b[0;34m\u001b[0m\u001b[0;34m\u001b[0m\u001b[0m\n\u001b[1;32m    176\u001b[0m                            \u001b[0mldavis_url\u001b[0m\u001b[0;34m=\u001b[0m\u001b[0mldavis_url\u001b[0m\u001b[0;34m,\u001b[0m\u001b[0;34m\u001b[0m\u001b[0;34m\u001b[0m\u001b[0m\n\u001b[0;32m--> 177\u001b[0;31m                            \u001b[0mvis_json\u001b[0m\u001b[0;34m=\u001b[0m\u001b[0mdata\u001b[0m\u001b[0;34m.\u001b[0m\u001b[0mto_json\u001b[0m\u001b[0;34m(\u001b[0m\u001b[0;34m)\u001b[0m\u001b[0;34m,\u001b[0m\u001b[0;34m\u001b[0m\u001b[0;34m\u001b[0m\u001b[0m\n\u001b[0m\u001b[1;32m    178\u001b[0m                            ldavis_css_url=ldavis_css_url)\n\u001b[1;32m    179\u001b[0m \u001b[0;34m\u001b[0m\u001b[0m\n",
            "\u001b[0;32m/usr/local/lib/python3.9/dist-packages/pyLDAvis/_prepare.py\u001b[0m in \u001b[0;36mto_json\u001b[0;34m(self)\u001b[0m\n\u001b[1;32m    462\u001b[0m \u001b[0;34m\u001b[0m\u001b[0m\n\u001b[1;32m    463\u001b[0m     \u001b[0;32mdef\u001b[0m \u001b[0mto_json\u001b[0m\u001b[0;34m(\u001b[0m\u001b[0mself\u001b[0m\u001b[0;34m)\u001b[0m\u001b[0;34m:\u001b[0m\u001b[0;34m\u001b[0m\u001b[0;34m\u001b[0m\u001b[0m\n\u001b[0;32m--> 464\u001b[0;31m         \u001b[0;32mreturn\u001b[0m \u001b[0mjson\u001b[0m\u001b[0;34m.\u001b[0m\u001b[0mdumps\u001b[0m\u001b[0;34m(\u001b[0m\u001b[0mself\u001b[0m\u001b[0;34m.\u001b[0m\u001b[0mto_dict\u001b[0m\u001b[0;34m(\u001b[0m\u001b[0;34m)\u001b[0m\u001b[0;34m,\u001b[0m \u001b[0mcls\u001b[0m\u001b[0;34m=\u001b[0m\u001b[0mNumPyEncoder\u001b[0m\u001b[0;34m)\u001b[0m\u001b[0;34m\u001b[0m\u001b[0;34m\u001b[0m\u001b[0m\n\u001b[0m",
            "\u001b[0;32m/usr/lib/python3.9/json/__init__.py\u001b[0m in \u001b[0;36mdumps\u001b[0;34m(obj, skipkeys, ensure_ascii, check_circular, allow_nan, cls, indent, separators, default, sort_keys, **kw)\u001b[0m\n\u001b[1;32m    232\u001b[0m     \u001b[0;32mif\u001b[0m \u001b[0mcls\u001b[0m \u001b[0;32mis\u001b[0m \u001b[0;32mNone\u001b[0m\u001b[0;34m:\u001b[0m\u001b[0;34m\u001b[0m\u001b[0;34m\u001b[0m\u001b[0m\n\u001b[1;32m    233\u001b[0m         \u001b[0mcls\u001b[0m \u001b[0;34m=\u001b[0m \u001b[0mJSONEncoder\u001b[0m\u001b[0;34m\u001b[0m\u001b[0;34m\u001b[0m\u001b[0m\n\u001b[0;32m--> 234\u001b[0;31m     return cls(\n\u001b[0m\u001b[1;32m    235\u001b[0m         \u001b[0mskipkeys\u001b[0m\u001b[0;34m=\u001b[0m\u001b[0mskipkeys\u001b[0m\u001b[0;34m,\u001b[0m \u001b[0mensure_ascii\u001b[0m\u001b[0;34m=\u001b[0m\u001b[0mensure_ascii\u001b[0m\u001b[0;34m,\u001b[0m\u001b[0;34m\u001b[0m\u001b[0;34m\u001b[0m\u001b[0m\n\u001b[1;32m    236\u001b[0m         \u001b[0mcheck_circular\u001b[0m\u001b[0;34m=\u001b[0m\u001b[0mcheck_circular\u001b[0m\u001b[0;34m,\u001b[0m \u001b[0mallow_nan\u001b[0m\u001b[0;34m=\u001b[0m\u001b[0mallow_nan\u001b[0m\u001b[0;34m,\u001b[0m \u001b[0mindent\u001b[0m\u001b[0;34m=\u001b[0m\u001b[0mindent\u001b[0m\u001b[0;34m,\u001b[0m\u001b[0;34m\u001b[0m\u001b[0;34m\u001b[0m\u001b[0m\n",
            "\u001b[0;32m/usr/lib/python3.9/json/encoder.py\u001b[0m in \u001b[0;36mencode\u001b[0;34m(self, o)\u001b[0m\n\u001b[1;32m    197\u001b[0m         \u001b[0;31m# exceptions aren't as detailed.  The list call should be roughly\u001b[0m\u001b[0;34m\u001b[0m\u001b[0;34m\u001b[0m\u001b[0m\n\u001b[1;32m    198\u001b[0m         \u001b[0;31m# equivalent to the PySequence_Fast that ''.join() would do.\u001b[0m\u001b[0;34m\u001b[0m\u001b[0;34m\u001b[0m\u001b[0m\n\u001b[0;32m--> 199\u001b[0;31m         \u001b[0mchunks\u001b[0m \u001b[0;34m=\u001b[0m \u001b[0mself\u001b[0m\u001b[0;34m.\u001b[0m\u001b[0miterencode\u001b[0m\u001b[0;34m(\u001b[0m\u001b[0mo\u001b[0m\u001b[0;34m,\u001b[0m \u001b[0m_one_shot\u001b[0m\u001b[0;34m=\u001b[0m\u001b[0;32mTrue\u001b[0m\u001b[0;34m)\u001b[0m\u001b[0;34m\u001b[0m\u001b[0;34m\u001b[0m\u001b[0m\n\u001b[0m\u001b[1;32m    200\u001b[0m         \u001b[0;32mif\u001b[0m \u001b[0;32mnot\u001b[0m \u001b[0misinstance\u001b[0m\u001b[0;34m(\u001b[0m\u001b[0mchunks\u001b[0m\u001b[0;34m,\u001b[0m \u001b[0;34m(\u001b[0m\u001b[0mlist\u001b[0m\u001b[0;34m,\u001b[0m \u001b[0mtuple\u001b[0m\u001b[0;34m)\u001b[0m\u001b[0;34m)\u001b[0m\u001b[0;34m:\u001b[0m\u001b[0;34m\u001b[0m\u001b[0;34m\u001b[0m\u001b[0m\n\u001b[1;32m    201\u001b[0m             \u001b[0mchunks\u001b[0m \u001b[0;34m=\u001b[0m \u001b[0mlist\u001b[0m\u001b[0;34m(\u001b[0m\u001b[0mchunks\u001b[0m\u001b[0;34m)\u001b[0m\u001b[0;34m\u001b[0m\u001b[0;34m\u001b[0m\u001b[0m\n",
            "\u001b[0;32m/usr/lib/python3.9/json/encoder.py\u001b[0m in \u001b[0;36miterencode\u001b[0;34m(self, o, _one_shot)\u001b[0m\n\u001b[1;32m    255\u001b[0m                 \u001b[0mself\u001b[0m\u001b[0;34m.\u001b[0m\u001b[0mkey_separator\u001b[0m\u001b[0;34m,\u001b[0m \u001b[0mself\u001b[0m\u001b[0;34m.\u001b[0m\u001b[0mitem_separator\u001b[0m\u001b[0;34m,\u001b[0m \u001b[0mself\u001b[0m\u001b[0;34m.\u001b[0m\u001b[0msort_keys\u001b[0m\u001b[0;34m,\u001b[0m\u001b[0;34m\u001b[0m\u001b[0;34m\u001b[0m\u001b[0m\n\u001b[1;32m    256\u001b[0m                 self.skipkeys, _one_shot)\n\u001b[0;32m--> 257\u001b[0;31m         \u001b[0;32mreturn\u001b[0m \u001b[0m_iterencode\u001b[0m\u001b[0;34m(\u001b[0m\u001b[0mo\u001b[0m\u001b[0;34m,\u001b[0m \u001b[0;36m0\u001b[0m\u001b[0;34m)\u001b[0m\u001b[0;34m\u001b[0m\u001b[0;34m\u001b[0m\u001b[0m\n\u001b[0m\u001b[1;32m    258\u001b[0m \u001b[0;34m\u001b[0m\u001b[0m\n\u001b[1;32m    259\u001b[0m def _make_iterencode(markers, _default, _encoder, _indent, _floatstr,\n",
            "\u001b[0;32m/usr/local/lib/python3.9/dist-packages/pyLDAvis/utils.py\u001b[0m in \u001b[0;36mdefault\u001b[0;34m(self, obj)\u001b[0m\n\u001b[1;32m    148\u001b[0m         \u001b[0;32mif\u001b[0m \u001b[0misinstance\u001b[0m\u001b[0;34m(\u001b[0m\u001b[0mobj\u001b[0m\u001b[0;34m,\u001b[0m \u001b[0mnp\u001b[0m\u001b[0;34m.\u001b[0m\u001b[0mfloat64\u001b[0m\u001b[0;34m)\u001b[0m \u001b[0;32mor\u001b[0m \u001b[0misinstance\u001b[0m\u001b[0;34m(\u001b[0m\u001b[0mobj\u001b[0m\u001b[0;34m,\u001b[0m \u001b[0mnp\u001b[0m\u001b[0;34m.\u001b[0m\u001b[0mfloat32\u001b[0m\u001b[0;34m)\u001b[0m\u001b[0;34m:\u001b[0m\u001b[0;34m\u001b[0m\u001b[0;34m\u001b[0m\u001b[0m\n\u001b[1;32m    149\u001b[0m             \u001b[0;32mreturn\u001b[0m \u001b[0mfloat\u001b[0m\u001b[0;34m(\u001b[0m\u001b[0mobj\u001b[0m\u001b[0;34m)\u001b[0m\u001b[0;34m\u001b[0m\u001b[0;34m\u001b[0m\u001b[0m\n\u001b[0;32m--> 150\u001b[0;31m         \u001b[0;32mreturn\u001b[0m \u001b[0mjson\u001b[0m\u001b[0;34m.\u001b[0m\u001b[0mJSONEncoder\u001b[0m\u001b[0;34m.\u001b[0m\u001b[0mdefault\u001b[0m\u001b[0;34m(\u001b[0m\u001b[0mself\u001b[0m\u001b[0;34m,\u001b[0m \u001b[0mobj\u001b[0m\u001b[0;34m)\u001b[0m\u001b[0;34m\u001b[0m\u001b[0;34m\u001b[0m\u001b[0m\n\u001b[0m",
            "\u001b[0;32m/usr/lib/python3.9/json/encoder.py\u001b[0m in \u001b[0;36mdefault\u001b[0;34m(self, o)\u001b[0m\n\u001b[1;32m    177\u001b[0m \u001b[0;34m\u001b[0m\u001b[0m\n\u001b[1;32m    178\u001b[0m         \"\"\"\n\u001b[0;32m--> 179\u001b[0;31m         raise TypeError(f'Object of type {o.__class__.__name__} '\n\u001b[0m\u001b[1;32m    180\u001b[0m                         f'is not JSON serializable')\n\u001b[1;32m    181\u001b[0m \u001b[0;34m\u001b[0m\u001b[0m\n",
            "\u001b[0;31mTypeError\u001b[0m: Object of type complex is not JSON serializable"
          ]
        },
        {
          "output_type": "execute_result",
          "data": {
            "text/plain": [
              "PreparedData(topic_coordinates=                        x                   y  topics  cluster      Freq\n",
              "topic                                                                   \n",
              "1     -0.223296+0.000000j -0.023810+0.000000j       1        1  6.803256\n",
              "69    -0.008506+0.000000j  0.180090+0.000000j       2        1  4.620852\n",
              "2     -0.030634+0.000000j  0.026586+0.000000j       3        1  4.245356\n",
              "9      0.012515+0.000000j  0.052791+0.000000j       4        1  3.732603\n",
              "67     0.017917+0.000000j -0.055329+0.000000j       5        1  3.679012\n",
              "...                   ...                 ...     ...      ...       ...\n",
              "43    -0.001762+0.000000j  0.001303+0.000000j      66        1  0.364792\n",
              "44    -0.001762+0.000000j  0.001303+0.000000j      67        1  0.364792\n",
              "45    -0.001762+0.000000j  0.001303+0.000000j      68        1  0.364792\n",
              "19    -0.001762+0.000000j  0.001303+0.000000j      69        1  0.364792\n",
              "35    -0.001762+0.000000j  0.001303+0.000000j      70        1  0.364792\n",
              "\n",
              "[70 rows x 5 columns], topic_info=              Term      Freq     Total Category  logprob  loglift\n",
              "13      prognostic  2.000000  2.000000  Default  30.0000  30.0000\n",
              "211        ovarian  1.000000  1.000000  Default  29.0000  29.0000\n",
              "441     colorectal  1.000000  1.000000  Default  28.0000  28.0000\n",
              "213  controversial  1.000000  1.000000  Default  27.0000  27.0000\n",
              "23       carcinoma  1.000000  1.000000  Default  26.0000  26.0000\n",
              "..             ...       ...       ...      ...      ...      ...\n",
              "22           based  0.001411  0.539940  Topic70  -7.2071  -0.3333\n",
              "23       carcinoma  0.001411  1.683314  Topic70  -7.2071  -1.4703\n",
              "26      controlled  0.001411  0.459916  Topic70  -7.2071  -0.1729\n",
              "27      malignancy  0.001411  1.159689  Topic70  -7.2071  -1.0977\n",
              "29            poor  0.001411  0.717138  Topic70  -7.2071  -0.6171\n",
              "\n",
              "[3084 rows x 6 columns], token_table=      Topic      Freq           Term\n",
              "term                                \n",
              "394       1  0.642786       advanced\n",
              "146      13  0.936143    association\n",
              "178       1  0.775018        benefit\n",
              "520       4  1.173635      biomarker\n",
              "23        2  0.594066      carcinoma\n",
              "179      39  1.168009   chemotherapy\n",
              "441       7  0.708243     colorectal\n",
              "1169      1  1.186356   complication\n",
              "162       3  0.910875      conducted\n",
              "213       2  0.562881  controversial\n",
              "50       10  0.822527       efficacy\n",
              "286       3  0.699453       evaluate\n",
              "195       1  0.921179      firstline\n",
              "59        3  1.004421        gastric\n",
              "510       8  0.967344      inhibitor\n",
              "424       3  1.292245          issue\n",
              "909       1  0.975383         ligand\n",
              "167       1  0.677024           lung\n",
              "27        2  0.862300     malignancy\n",
              "82        1  0.935118       mutation\n",
              "211      14  0.827140        ovarian\n",
              "589      15  1.243567     pancreatic\n",
              "453       1  0.620805      performed\n",
              "87        4  0.998747      potential\n",
              "389       4  0.928258       previous\n",
              "30        1  0.475187      prognosis\n",
              "30        3  0.475187      prognosis\n",
              "13        4  0.494105     prognostic\n",
              "13       14  0.494105     prognostic\n",
              "799       6  1.313088        radical\n",
              "863      20  1.097842   radiotherapy\n",
              "184       1  0.832731        regimen\n",
              "220       2  0.711831        remains\n",
              "205       2  1.065559          renal\n",
              "185       4  0.884796       reported\n",
              "143       4  1.128187   significance\n",
              "277       9  1.001253        surgery\n",
              "108       4  0.568451          tumor\n",
              "133       2  0.970633        unclear, R=30, lambda_step=0.01, plot_opts={'xlab': 'PC1', 'ylab': 'PC2'}, topic_order=[2, 70, 3, 10, 68, 34, 35, 18, 55, 49, 16, 51, 47, 28, 32, 19, 9, 22, 5, 13, 56, 66, 62, 21, 11, 67, 1, 26, 54, 23, 50, 64, 27, 52, 30, 59, 15, 60, 31, 29, 12, 58, 14, 57, 6, 4, 61, 8, 69, 65, 7, 63, 17, 53, 40, 33, 25, 24, 37, 38, 39, 41, 48, 42, 43, 44, 45, 46, 20, 36])"
            ]
          },
          "metadata": {},
          "execution_count": 28
        }
      ]
    }
  ]
}